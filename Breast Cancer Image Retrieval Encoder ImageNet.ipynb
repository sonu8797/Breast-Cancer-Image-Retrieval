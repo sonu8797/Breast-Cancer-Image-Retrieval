{
 "cells": [
  {
   "cell_type": "markdown",
   "id": "59ab5dc0",
   "metadata": {
    "id": "-fJ7pPoz2opO",
    "papermill": {
     "duration": 0.010726,
     "end_time": "2023-04-09T18:13:13.034105",
     "exception": false,
     "start_time": "2023-04-09T18:13:13.023379",
     "status": "completed"
    },
    "tags": []
   },
   "source": [
    "## Depedency Library"
   ]
  },
  {
   "cell_type": "code",
   "execution_count": 1,
   "id": "42cfbab4",
   "metadata": {
    "execution": {
     "iopub.execute_input": "2023-04-09T18:13:13.054633Z",
     "iopub.status.busy": "2023-04-09T18:13:13.054034Z",
     "iopub.status.idle": "2023-04-09T18:13:28.785104Z",
     "shell.execute_reply": "2023-04-09T18:13:28.783907Z"
    },
    "executionInfo": {
     "elapsed": 4794,
     "status": "ok",
     "timestamp": 1634454562134,
     "user": {
      "displayName": "Kharisma Muzaki Ghufron",
      "photoUrl": "https://lh3.googleusercontent.com/a/default-user=s64",
      "userId": "14730718725881384856"
     },
     "user_tz": -420
    },
    "id": "SowRlZK22ryn",
    "papermill": {
     "duration": 15.744991,
     "end_time": "2023-04-09T18:13:28.788333",
     "exception": false,
     "start_time": "2023-04-09T18:13:13.043342",
     "status": "completed"
    },
    "tags": []
   },
   "outputs": [],
   "source": [
    "import numpy as np\n",
    "import json\n",
    "import os\n",
    "import glob\n",
    "import cv2\n",
    "import copy\n",
    "import sklearn.metrics as metric\n",
    "from sklearn.model_selection import train_test_split\n",
    "import pandas as pd\n",
    "\n",
    "import tensorflow as tf\n",
    "tf.compat.v1.disable_eager_execution()\n",
    "from tensorflow.keras import layers\n",
    "from tensorflow.keras.models import Model\n",
    "from tensorflow.keras import backend as K\n",
    "from tensorflow.keras.optimizers import Adam\n",
    "from tensorflow.keras.callbacks import ModelCheckpoint \n",
    "\n",
    "import matplotlib.pyplot as plt\n",
    "import matplotlib"
   ]
  },
  {
   "cell_type": "markdown",
   "id": "4b49053f",
   "metadata": {
    "id": "iOFbuzHJ0mf2",
    "papermill": {
     "duration": 0.008365,
     "end_time": "2023-04-09T18:13:28.805826",
     "exception": false,
     "start_time": "2023-04-09T18:13:28.797461",
     "status": "completed"
    },
    "tags": []
   },
   "source": [
    "## Definition of hyperparameter\n"
   ]
  },
  {
   "cell_type": "code",
   "execution_count": 2,
   "id": "0321f5bb",
   "metadata": {
    "execution": {
     "iopub.execute_input": "2023-04-09T18:13:28.825879Z",
     "iopub.status.busy": "2023-04-09T18:13:28.825185Z",
     "iopub.status.idle": "2023-04-09T18:13:28.832221Z",
     "shell.execute_reply": "2023-04-09T18:13:28.831111Z"
    },
    "executionInfo": {
     "elapsed": 3,
     "status": "ok",
     "timestamp": 1634454562135,
     "user": {
      "displayName": "Kharisma Muzaki Ghufron",
      "photoUrl": "https://lh3.googleusercontent.com/a/default-user=s64",
      "userId": "14730718725881384856"
     },
     "user_tz": -420
    },
    "id": "C8IXMoVG0xB9",
    "papermill": {
     "duration": 0.020728,
     "end_time": "2023-04-09T18:13:28.835058",
     "exception": false,
     "start_time": "2023-04-09T18:13:28.814330",
     "status": "completed"
    },
    "tags": []
   },
   "outputs": [],
   "source": [
    "EPOCHS = 30\n",
    "INIT_LR = 2e-5\n",
    "BS = 8\n",
    "IMAGE_SIZE = (256, 256)\n",
    "\n",
    "magnification = \"40X\" # 40, 100, 200, 400\n",
    "class_type = \"binary\" #multiclass\n",
    "if class_type == \"binary\":\n",
    "    class_dir = ['benign', 'malignant']\n",
    "else:\n",
    "    class_dir = ['tubular_adenoma', 'phyllodes_tumor', 'papillary_carcinoma',\n",
    "              'mucinous_carcinoma', 'lobular_carcinoma', 'fibroadenoma',\n",
    "              'ductal_carcinoma', 'adenosis']\n",
    "    \n",
    "checkpoint_path = \"training_1_40_binary_cp/cp.ckpt\"\n",
    "feature_path = \"training_1_40_binary_feature.json\"\n",
    "model_path = \"training_1_40_binary_model.h5\"\n",
    "history_path = \"training_1_40_binary_history.json\""
   ]
  },
  {
   "cell_type": "code",
   "execution_count": 3,
   "id": "31074841",
   "metadata": {
    "execution": {
     "iopub.execute_input": "2023-04-09T18:13:28.853846Z",
     "iopub.status.busy": "2023-04-09T18:13:28.853305Z",
     "iopub.status.idle": "2023-04-09T18:13:29.727969Z",
     "shell.execute_reply": "2023-04-09T18:13:29.726788Z"
    },
    "papermill": {
     "duration": 0.887116,
     "end_time": "2023-04-09T18:13:29.730901",
     "exception": false,
     "start_time": "2023-04-09T18:13:28.843785",
     "status": "completed"
    },
    "tags": []
   },
   "outputs": [],
   "source": [
    "paths, labels = [], []\n",
    "\n",
    "# /kaggle/input/breakhis/BreaKHis_v1/BreaKHis_v1/histology_slides/breast/benign/SOB/adenosis/SOB_B_A_14-22549AB/100X/SOB_B_A-14-22549AB-100-001.png\n",
    "\n",
    "if class_type == \"binary\":\n",
    "    for class_ in class_dir:\n",
    "        ls = glob.glob(f\"/kaggle/input/breakhis/BreaKHis_v1/BreaKHis_v1/histology_slides/breast/{class_}/SOB/*/*/{magnification}/*\")\n",
    "        paths.extend(ls)\n",
    "        labels.extend([class_]*len(ls))\n",
    "else:\n",
    "    for class_ in class_dir:\n",
    "        ls = glob.glob(f\"/kaggle/input/breakhis/BreaKHis_v1/BreaKHis_v1/histology_slides/breast/*/SOB/{class_}/*/{magnification}/*\")\n",
    "        paths.extend(ls)\n",
    "        labels.extend([class_]*len(ls))"
   ]
  },
  {
   "cell_type": "markdown",
   "id": "175f48e6",
   "metadata": {
    "id": "uT5Eja5J0_uW",
    "papermill": {
     "duration": 0.009148,
     "end_time": "2023-04-09T18:13:29.749676",
     "exception": false,
     "start_time": "2023-04-09T18:13:29.740528",
     "status": "completed"
    },
    "tags": []
   },
   "source": [
    "## Data Split"
   ]
  },
  {
   "cell_type": "code",
   "execution_count": 4,
   "id": "2590b5a8",
   "metadata": {
    "execution": {
     "iopub.execute_input": "2023-04-09T18:13:29.769791Z",
     "iopub.status.busy": "2023-04-09T18:13:29.769387Z",
     "iopub.status.idle": "2023-04-09T18:13:29.775709Z",
     "shell.execute_reply": "2023-04-09T18:13:29.774438Z"
    },
    "papermill": {
     "duration": 0.019435,
     "end_time": "2023-04-09T18:13:29.778311",
     "exception": false,
     "start_time": "2023-04-09T18:13:29.758876",
     "status": "completed"
    },
    "tags": []
   },
   "outputs": [],
   "source": [
    "def get_array(paths):\n",
    "    images = []\n",
    "    for path in paths:\n",
    "        image = cv2.imread(path)\n",
    "        image = cv2.resize(image, IMAGE_SIZE)\n",
    "        images.append(image)\n",
    "    images = np.array(images).astype(\"float32\") / 255.0\n",
    "    return images"
   ]
  },
  {
   "cell_type": "code",
   "execution_count": 5,
   "id": "6c4a1022",
   "metadata": {
    "execution": {
     "iopub.execute_input": "2023-04-09T18:13:29.799518Z",
     "iopub.status.busy": "2023-04-09T18:13:29.798647Z",
     "iopub.status.idle": "2023-04-09T18:14:18.938909Z",
     "shell.execute_reply": "2023-04-09T18:14:18.937681Z"
    },
    "papermill": {
     "duration": 49.154095,
     "end_time": "2023-04-09T18:14:18.941885",
     "exception": false,
     "start_time": "2023-04-09T18:13:29.787790",
     "status": "completed"
    },
    "tags": []
   },
   "outputs": [],
   "source": [
    "train_paths, val_paths, train_labels, val_labels = train_test_split(paths, labels, test_size=0.2, stratify=labels)\n",
    "val_paths, test_paths, val_labels, test_labels = train_test_split(val_paths, val_labels, test_size=0.5, stratify=val_labels)\n",
    "\n",
    "train_images = get_array(train_paths)\n",
    "val_images = get_array(val_paths)\n",
    "test_images = get_array(test_paths)"
   ]
  },
  {
   "cell_type": "markdown",
   "id": "b83fb925",
   "metadata": {
    "papermill": {
     "duration": 0.009321,
     "end_time": "2023-04-09T18:14:18.960748",
     "exception": false,
     "start_time": "2023-04-09T18:14:18.951427",
     "status": "completed"
    },
    "tags": []
   },
   "source": [
    "## Model"
   ]
  },
  {
   "cell_type": "code",
   "execution_count": 6,
   "id": "389d59f6",
   "metadata": {
    "execution": {
     "iopub.execute_input": "2023-04-09T18:14:18.981609Z",
     "iopub.status.busy": "2023-04-09T18:14:18.981198Z",
     "iopub.status.idle": "2023-04-09T18:14:18.987695Z",
     "shell.execute_reply": "2023-04-09T18:14:18.986437Z"
    },
    "papermill": {
     "duration": 0.019733,
     "end_time": "2023-04-09T18:14:18.990149",
     "exception": false,
     "start_time": "2023-04-09T18:14:18.970416",
     "status": "completed"
    },
    "tags": []
   },
   "outputs": [],
   "source": [
    "######################\n",
    "## Latent Distribution\n",
    "######################\n",
    "\n",
    "def sample_latent_features(distribution):\n",
    "    distribution_mean, distribution_variance = distribution\n",
    "    batch_size = tf.shape(distribution_variance)[0]\n",
    "    random = tf.keras.backend.random_normal(shape=(batch_size, tf.shape(distribution_variance)[1]))\n",
    "    return distribution_mean + tf.exp(0.5 * distribution_variance) * random"
   ]
  },
  {
   "cell_type": "code",
   "execution_count": 7,
   "id": "b765949c",
   "metadata": {
    "execution": {
     "iopub.execute_input": "2023-04-09T18:14:19.010331Z",
     "iopub.status.busy": "2023-04-09T18:14:19.009965Z",
     "iopub.status.idle": "2023-04-09T18:14:19.682861Z",
     "shell.execute_reply": "2023-04-09T18:14:19.681667Z"
    },
    "papermill": {
     "duration": 0.686398,
     "end_time": "2023-04-09T18:14:19.685698",
     "exception": false,
     "start_time": "2023-04-09T18:14:18.999300",
     "status": "completed"
    },
    "tags": []
   },
   "outputs": [],
   "source": [
    "##########\n",
    "## Encoder\n",
    "##########\n",
    "\n",
    "input_data = tf.keras.layers.Input(shape=(IMAGE_SIZE[0], IMAGE_SIZE[1], 3))\n",
    "\n",
    "# resnet50.ResNet50\n",
    "imnet_model = tf.keras.applications.vgg16.VGG16(\n",
    "    include_top=True,\n",
    "    weights=None,\n",
    "    input_shape=(IMAGE_SIZE[0], IMAGE_SIZE[1], 3),\n",
    "    classes=1000,\n",
    ")\n",
    "\n",
    "imnet_model = tf.keras.Model(imnet_model.input, imnet_model.layers[-2].output)\n",
    "encoder = imnet_model(input_data)\n",
    "encoder = tf.keras.layers.Dense(48, name=\"encoded\")(encoder)\n",
    "\n",
    "distribution_mean = tf.keras.layers.Dense(2, name='mean')(encoder)\n",
    "distribution_variance = tf.keras.layers.Dense(2, name='log_variance')(encoder)\n",
    "latent_encoding = tf.keras.layers.Lambda(sample_latent_features)([distribution_mean, distribution_variance])\n",
    "\n",
    "encoder_model = tf.keras.Model(input_data, latent_encoding, name=\"encoder_model\")"
   ]
  },
  {
   "cell_type": "code",
   "execution_count": 8,
   "id": "7caf7e91",
   "metadata": {
    "execution": {
     "iopub.execute_input": "2023-04-09T18:14:19.705553Z",
     "iopub.status.busy": "2023-04-09T18:14:19.703901Z",
     "iopub.status.idle": "2023-04-09T18:14:19.948670Z",
     "shell.execute_reply": "2023-04-09T18:14:19.947538Z"
    },
    "papermill": {
     "duration": 0.257237,
     "end_time": "2023-04-09T18:14:19.951386",
     "exception": false,
     "start_time": "2023-04-09T18:14:19.694149",
     "status": "completed"
    },
    "tags": []
   },
   "outputs": [],
   "source": [
    "decoder_input = tf.keras.layers.Input(shape=(2))\n",
    "decoder = tf.keras.layers.Dense(64*4*4)(decoder_input)\n",
    "decoder = tf.keras.layers.Reshape((4, 4, 64))(decoder)\n",
    "\n",
    "decoder = tf.keras.layers.Conv2DTranspose(128, (3,3), activation='relu', padding=\"same\")(decoder)\n",
    "decoder = tf.keras.layers.UpSampling2D((2,2))(decoder)\n",
    "\n",
    "decoder = tf.keras.layers.Conv2DTranspose(128, (3,3), activation='relu', padding=\"same\")(decoder)\n",
    "decoder = tf.keras.layers.UpSampling2D((2,2))(decoder)\n",
    "\n",
    "decoder = tf.keras.layers.Conv2DTranspose(64, (3,3), activation='relu', padding=\"same\")(decoder)\n",
    "decoder = tf.keras.layers.UpSampling2D((2,2))(decoder)\n",
    "\n",
    "decoder = tf.keras.layers.Conv2DTranspose(64, (3,3), activation='relu', padding=\"same\")(decoder)\n",
    "decoder = tf.keras.layers.UpSampling2D((2,2))(decoder)\n",
    "\n",
    "decoder = tf.keras.layers.Conv2DTranspose(64, (3,3), activation='relu', padding=\"same\")(decoder)\n",
    "decoder = tf.keras.layers.UpSampling2D((2,2))(decoder)\n",
    "\n",
    "decoder = tf.keras.layers.Conv2DTranspose(3, (3,3), activation='relu', padding=\"same\")(decoder)\n",
    "decoder_output = tf.keras.layers.UpSampling2D((2,2))(decoder)\n",
    "\n",
    "decoder_model = tf.keras.Model(decoder_input, decoder_output, name=\"decoder_model\")"
   ]
  },
  {
   "cell_type": "code",
   "execution_count": 9,
   "id": "90ff2f65",
   "metadata": {
    "execution": {
     "iopub.execute_input": "2023-04-09T18:14:19.972713Z",
     "iopub.status.busy": "2023-04-09T18:14:19.971803Z",
     "iopub.status.idle": "2023-04-09T18:14:20.132680Z",
     "shell.execute_reply": "2023-04-09T18:14:20.131460Z"
    },
    "papermill": {
     "duration": 0.175143,
     "end_time": "2023-04-09T18:14:20.135608",
     "exception": false,
     "start_time": "2023-04-09T18:14:19.960465",
     "status": "completed"
    },
    "tags": []
   },
   "outputs": [],
   "source": [
    "encoded = encoder_model(input_data)\n",
    "decoded = decoder_model(encoded)\n",
    "\n",
    "vae = tf.keras.models.Model(input_data, decoded)"
   ]
  },
  {
   "cell_type": "code",
   "execution_count": 10,
   "id": "88364473",
   "metadata": {
    "execution": {
     "iopub.execute_input": "2023-04-09T18:14:20.155916Z",
     "iopub.status.busy": "2023-04-09T18:14:20.155233Z",
     "iopub.status.idle": "2023-04-09T18:14:20.180736Z",
     "shell.execute_reply": "2023-04-09T18:14:20.179760Z"
    },
    "papermill": {
     "duration": 0.043388,
     "end_time": "2023-04-09T18:14:20.188665",
     "exception": false,
     "start_time": "2023-04-09T18:14:20.145277",
     "status": "completed"
    },
    "tags": []
   },
   "outputs": [
    {
     "name": "stdout",
     "output_type": "stream",
     "text": [
      "Model: \"model_1\"\n",
      "_________________________________________________________________\n",
      " Layer (type)                Output Shape              Param #   \n",
      "=================================================================\n",
      " input_1 (InputLayer)        [(None, 256, 256, 3)]     0         \n",
      "                                                                 \n",
      " encoder_model (Functional)  (None, 2)                 165914676 \n",
      "                                                                 \n",
      " decoder_model (Functional)  (None, 256, 256, 3)       373891    \n",
      "                                                                 \n",
      "=================================================================\n",
      "Total params: 166,288,567\n",
      "Trainable params: 166,288,567\n",
      "Non-trainable params: 0\n",
      "_________________________________________________________________\n"
     ]
    }
   ],
   "source": [
    "vae.summary()"
   ]
  },
  {
   "cell_type": "markdown",
   "id": "624221a9",
   "metadata": {
    "id": "ahHRLqBo11pO",
    "papermill": {
     "duration": 0.009364,
     "end_time": "2023-04-09T18:14:20.208017",
     "exception": false,
     "start_time": "2023-04-09T18:14:20.198653",
     "status": "completed"
    },
    "tags": []
   },
   "source": [
    "## Buiding Model based ConvAutoEncoder Class"
   ]
  },
  {
   "cell_type": "code",
   "execution_count": 11,
   "id": "0ef28d93",
   "metadata": {
    "execution": {
     "iopub.execute_input": "2023-04-09T18:14:20.228585Z",
     "iopub.status.busy": "2023-04-09T18:14:20.228210Z",
     "iopub.status.idle": "2023-04-09T18:14:20.235853Z",
     "shell.execute_reply": "2023-04-09T18:14:20.234713Z"
    },
    "papermill": {
     "duration": 0.020754,
     "end_time": "2023-04-09T18:14:20.238351",
     "exception": false,
     "start_time": "2023-04-09T18:14:20.217597",
     "status": "completed"
    },
    "tags": []
   },
   "outputs": [],
   "source": [
    "################\n",
    "## Loss Function\n",
    "################\n",
    "\n",
    "def get_loss(distribution_mean, distribution_variance):\n",
    "    \n",
    "    def get_reconstruction_loss(y_true, y_pred):\n",
    "        reconstruction_loss = tf.keras.losses.mse(y_true, y_pred)\n",
    "        reconstruction_loss_batch = tf.reduce_mean(reconstruction_loss)\n",
    "        return reconstruction_loss_batch*IMAGE_SIZE[0]*IMAGE_SIZE[1]*3\n",
    "    \n",
    "    def get_kl_loss(distribution_mean, distribution_variance):\n",
    "        kl_loss = 1 + distribution_variance - tf.square(distribution_mean) - tf.exp(distribution_variance)\n",
    "        kl_loss_batch = tf.reduce_mean(kl_loss)\n",
    "        return kl_loss_batch*(-0.5)\n",
    "    \n",
    "    def total_loss(y_true, y_pred):\n",
    "        reconstruction_loss_batch = get_reconstruction_loss(y_true, y_pred)\n",
    "        kl_loss_batch = get_kl_loss(distribution_mean, distribution_variance)\n",
    "        return reconstruction_loss_batch + kl_loss_batch\n",
    "    \n",
    "    return total_loss"
   ]
  },
  {
   "cell_type": "code",
   "execution_count": 12,
   "id": "8f9331a5",
   "metadata": {
    "execution": {
     "iopub.execute_input": "2023-04-09T18:14:20.258748Z",
     "iopub.status.busy": "2023-04-09T18:14:20.258351Z",
     "iopub.status.idle": "2023-04-09T18:14:20.417463Z",
     "shell.execute_reply": "2023-04-09T18:14:20.416390Z"
    },
    "executionInfo": {
     "elapsed": 5625,
     "status": "ok",
     "timestamp": 1634455930569,
     "user": {
      "displayName": "Kharisma Muzaki Ghufron",
      "photoUrl": "https://lh3.googleusercontent.com/a/default-user=s64",
      "userId": "14730718725881384856"
     },
     "user_tz": -420
    },
    "id": "aFgpsuG814_2",
    "outputId": "bbe01b32-a8b0-4013-85d9-12a2c2fafbc9",
    "papermill": {
     "duration": 0.172545,
     "end_time": "2023-04-09T18:14:20.420311",
     "exception": false,
     "start_time": "2023-04-09T18:14:20.247766",
     "status": "completed"
    },
    "tags": []
   },
   "outputs": [],
   "source": [
    "opt = tf.keras.optimizers.legacy.Adam(learning_rate=INIT_LR)\n",
    "checkpoint_callback = ModelCheckpoint(\n",
    "    filepath=checkpoint_path,\n",
    "    save_weights_only=True,\n",
    "    monitor=\"val_loss\",\n",
    "    verbose = 1,\n",
    "    mode='min',\n",
    "    save_best_only=True)\n",
    "vae.compile(loss=get_loss(distribution_mean, distribution_variance), optimizer=opt)"
   ]
  },
  {
   "cell_type": "markdown",
   "id": "efae4de3",
   "metadata": {
    "id": "AHk07pZL2DdQ",
    "papermill": {
     "duration": 0.009064,
     "end_time": "2023-04-09T18:14:20.438916",
     "exception": false,
     "start_time": "2023-04-09T18:14:20.429852",
     "status": "completed"
    },
    "tags": []
   },
   "source": [
    "## Training The Model"
   ]
  },
  {
   "cell_type": "code",
   "execution_count": 13,
   "id": "b517691b",
   "metadata": {
    "_kg_hide-output": true,
    "execution": {
     "iopub.execute_input": "2023-04-09T18:14:20.459105Z",
     "iopub.status.busy": "2023-04-09T18:14:20.458745Z",
     "iopub.status.idle": "2023-04-09T18:58:21.154849Z",
     "shell.execute_reply": "2023-04-09T18:58:21.153644Z"
    },
    "executionInfo": {
     "elapsed": 3926380,
     "status": "ok",
     "timestamp": 1634459856945,
     "user": {
      "displayName": "Kharisma Muzaki Ghufron",
      "photoUrl": "https://lh3.googleusercontent.com/a/default-user=s64",
      "userId": "14730718725881384856"
     },
     "user_tz": -420
    },
    "id": "iR1qEEyX2J8-",
    "outputId": "e21d3490-9768-4944-e2a5-ddbe49f975c7",
    "papermill": {
     "duration": 2645.145008,
     "end_time": "2023-04-09T18:58:25.593324",
     "exception": false,
     "start_time": "2023-04-09T18:14:20.448316",
     "status": "completed"
    },
    "scrolled": true,
    "tags": []
   },
   "outputs": [
    {
     "name": "stdout",
     "output_type": "stream",
     "text": [
      "Train on 1596 samples, validate on 199 samples\n",
      "Epoch 1/30\n",
      "1596/1596 [==============================] - ETA: 0s - loss: 38427.5768"
     ]
    },
    {
     "name": "stderr",
     "output_type": "stream",
     "text": [
      "/opt/conda/lib/python3.7/site-packages/keras/engine/training_v1.py:2333: UserWarning: `Model.state_updates` will be removed in a future version. This property should not be used in TensorFlow 2.0, as `updates` are applied automatically.\n",
      "  updates = self.state_updates\n"
     ]
    },
    {
     "name": "stdout",
     "output_type": "stream",
     "text": [
      "\n",
      "Epoch 1: val_loss improved from inf to 5044.58346, saving model to training_1_40_binary_cp/cp.ckpt\n",
      "1596/1596 [==============================] - 118s 74ms/sample - loss: 38427.5768 - val_loss: 5044.5835\n",
      "Epoch 2/30\n",
      "1596/1596 [==============================] - ETA: 0s - loss: 4114.5588\n",
      "Epoch 2: val_loss improved from 5044.58346 to 3475.53094, saving model to training_1_40_binary_cp/cp.ckpt\n",
      "1596/1596 [==============================] - 88s 55ms/sample - loss: 4114.5588 - val_loss: 3475.5309\n",
      "Epoch 3/30\n",
      "1596/1596 [==============================] - ETA: 0s - loss: 3322.4558\n",
      "Epoch 3: val_loss improved from 3475.53094 to 3039.47092, saving model to training_1_40_binary_cp/cp.ckpt\n",
      "1596/1596 [==============================] - 88s 55ms/sample - loss: 3322.4558 - val_loss: 3039.4709\n",
      "Epoch 4/30\n",
      "1596/1596 [==============================] - ETA: 0s - loss: 3031.0959\n",
      "Epoch 4: val_loss improved from 3039.47092 to 2836.41060, saving model to training_1_40_binary_cp/cp.ckpt\n",
      "1596/1596 [==============================] - 88s 55ms/sample - loss: 3031.0959 - val_loss: 2836.4106\n",
      "Epoch 5/30\n",
      "1596/1596 [==============================] - ETA: 0s - loss: 2888.2935\n",
      "Epoch 5: val_loss improved from 2836.41060 to 2736.59443, saving model to training_1_40_binary_cp/cp.ckpt\n",
      "1596/1596 [==============================] - 87s 55ms/sample - loss: 2888.2935 - val_loss: 2736.5944\n",
      "Epoch 6/30\n",
      "1596/1596 [==============================] - ETA: 0s - loss: 2811.3662\n",
      "Epoch 6: val_loss improved from 2736.59443 to 2684.00464, saving model to training_1_40_binary_cp/cp.ckpt\n",
      "1596/1596 [==============================] - 88s 55ms/sample - loss: 2811.3662 - val_loss: 2684.0046\n",
      "Epoch 7/30\n",
      "1596/1596 [==============================] - ETA: 0s - loss: 2757.3217\n",
      "Epoch 7: val_loss improved from 2684.00464 to 2631.60010, saving model to training_1_40_binary_cp/cp.ckpt\n",
      "1596/1596 [==============================] - 88s 55ms/sample - loss: 2757.3217 - val_loss: 2631.6001\n",
      "Epoch 8/30\n",
      "1596/1596 [==============================] - ETA: 0s - loss: 2732.1370\n",
      "Epoch 8: val_loss improved from 2631.60010 to 2618.29587, saving model to training_1_40_binary_cp/cp.ckpt\n",
      "1596/1596 [==============================] - 88s 55ms/sample - loss: 2732.1370 - val_loss: 2618.2959\n",
      "Epoch 9/30\n",
      "1596/1596 [==============================] - ETA: 0s - loss: 2710.9410\n",
      "Epoch 9: val_loss improved from 2618.29587 to 2598.45872, saving model to training_1_40_binary_cp/cp.ckpt\n",
      "1596/1596 [==============================] - 88s 55ms/sample - loss: 2710.9410 - val_loss: 2598.4587\n",
      "Epoch 10/30\n",
      "1596/1596 [==============================] - ETA: 0s - loss: 2700.0744\n",
      "Epoch 10: val_loss improved from 2598.45872 to 2581.34023, saving model to training_1_40_binary_cp/cp.ckpt\n",
      "1596/1596 [==============================] - 88s 55ms/sample - loss: 2700.0744 - val_loss: 2581.3402\n",
      "Epoch 11/30\n",
      "1596/1596 [==============================] - ETA: 0s - loss: 2685.4481\n",
      "Epoch 11: val_loss improved from 2581.34023 to 2555.75965, saving model to training_1_40_binary_cp/cp.ckpt\n",
      "1596/1596 [==============================] - 87s 55ms/sample - loss: 2685.4481 - val_loss: 2555.7596\n",
      "Epoch 12/30\n",
      "1596/1596 [==============================] - ETA: 0s - loss: 2671.5869\n",
      "Epoch 12: val_loss did not improve from 2555.75965\n",
      "1596/1596 [==============================] - 83s 52ms/sample - loss: 2671.5869 - val_loss: 2605.4440\n",
      "Epoch 13/30\n",
      "1596/1596 [==============================] - ETA: 0s - loss: 2666.8437\n",
      "Epoch 13: val_loss did not improve from 2555.75965\n",
      "1596/1596 [==============================] - 83s 52ms/sample - loss: 2666.8437 - val_loss: 2557.6958\n",
      "Epoch 14/30\n",
      "1596/1596 [==============================] - ETA: 0s - loss: 2666.2806\n",
      "Epoch 14: val_loss improved from 2555.75965 to 2545.58104, saving model to training_1_40_binary_cp/cp.ckpt\n",
      "1596/1596 [==============================] - 88s 55ms/sample - loss: 2666.2806 - val_loss: 2545.5810\n",
      "Epoch 15/30\n",
      "1596/1596 [==============================] - ETA: 0s - loss: 2653.4752\n",
      "Epoch 15: val_loss did not improve from 2545.58104\n",
      "1596/1596 [==============================] - 83s 52ms/sample - loss: 2653.4752 - val_loss: 2604.1468\n",
      "Epoch 16/30\n",
      "1596/1596 [==============================] - ETA: 0s - loss: 2649.0852\n",
      "Epoch 16: val_loss improved from 2545.58104 to 2542.88846, saving model to training_1_40_binary_cp/cp.ckpt\n",
      "1596/1596 [==============================] - 88s 55ms/sample - loss: 2649.0852 - val_loss: 2542.8885\n",
      "Epoch 17/30\n",
      "1596/1596 [==============================] - ETA: 0s - loss: 2644.6885\n",
      "Epoch 17: val_loss did not improve from 2542.88846\n",
      "1596/1596 [==============================] - 83s 52ms/sample - loss: 2644.6885 - val_loss: 2562.5459\n",
      "Epoch 18/30\n",
      "1596/1596 [==============================] - ETA: 0s - loss: 2640.0259\n",
      "Epoch 18: val_loss improved from 2542.88846 to 2505.32394, saving model to training_1_40_binary_cp/cp.ckpt\n",
      "1596/1596 [==============================] - 87s 55ms/sample - loss: 2640.0259 - val_loss: 2505.3239\n",
      "Epoch 19/30\n",
      "1596/1596 [==============================] - ETA: 0s - loss: 2627.8138\n",
      "Epoch 19: val_loss improved from 2505.32394 to 2492.96545, saving model to training_1_40_binary_cp/cp.ckpt\n",
      "1596/1596 [==============================] - 88s 55ms/sample - loss: 2627.8138 - val_loss: 2492.9655\n",
      "Epoch 20/30\n",
      "1596/1596 [==============================] - ETA: 0s - loss: 2581.7818\n",
      "Epoch 20: val_loss did not improve from 2492.96545\n",
      "1596/1596 [==============================] - 83s 52ms/sample - loss: 2581.7818 - val_loss: 2621.8162\n",
      "Epoch 21/30\n",
      "1596/1596 [==============================] - ETA: 0s - loss: 2553.1648\n",
      "Epoch 21: val_loss improved from 2492.96545 to 2448.17164, saving model to training_1_40_binary_cp/cp.ckpt\n",
      "1596/1596 [==============================] - 88s 55ms/sample - loss: 2553.1648 - val_loss: 2448.1716\n",
      "Epoch 22/30\n",
      "1596/1596 [==============================] - ETA: 0s - loss: 2532.0988\n",
      "Epoch 22: val_loss improved from 2448.17164 to 2431.89524, saving model to training_1_40_binary_cp/cp.ckpt\n",
      "1596/1596 [==============================] - 93s 58ms/sample - loss: 2532.0988 - val_loss: 2431.8952\n",
      "Epoch 23/30\n",
      "1596/1596 [==============================] - ETA: 0s - loss: 2531.4344\n",
      "Epoch 23: val_loss improved from 2431.89524 to 2415.45437, saving model to training_1_40_binary_cp/cp.ckpt\n",
      "1596/1596 [==============================] - 88s 55ms/sample - loss: 2531.4344 - val_loss: 2415.4544\n",
      "Epoch 24/30\n",
      "1596/1596 [==============================] - ETA: 0s - loss: 2521.6613\n",
      "Epoch 24: val_loss did not improve from 2415.45437\n",
      "1596/1596 [==============================] - 83s 52ms/sample - loss: 2521.6613 - val_loss: 2443.9287\n",
      "Epoch 25/30\n",
      "1596/1596 [==============================] - ETA: 0s - loss: 2525.3313\n",
      "Epoch 25: val_loss improved from 2415.45437 to 2415.13978, saving model to training_1_40_binary_cp/cp.ckpt\n",
      "1596/1596 [==============================] - 88s 55ms/sample - loss: 2525.3313 - val_loss: 2415.1398\n",
      "Epoch 26/30\n",
      "1596/1596 [==============================] - ETA: 0s - loss: 2511.5780\n",
      "Epoch 26: val_loss did not improve from 2415.13978\n",
      "1596/1596 [==============================] - 83s 52ms/sample - loss: 2511.5780 - val_loss: 2442.1276\n",
      "Epoch 27/30\n",
      "1596/1596 [==============================] - ETA: 0s - loss: 2515.4484\n",
      "Epoch 27: val_loss improved from 2415.13978 to 2412.21418, saving model to training_1_40_binary_cp/cp.ckpt\n",
      "1596/1596 [==============================] - 88s 55ms/sample - loss: 2515.4484 - val_loss: 2412.2142\n",
      "Epoch 28/30\n",
      "1596/1596 [==============================] - ETA: 0s - loss: 2531.5419\n",
      "Epoch 28: val_loss improved from 2412.21418 to 2406.12049, saving model to training_1_40_binary_cp/cp.ckpt\n",
      "1596/1596 [==============================] - 88s 55ms/sample - loss: 2531.5419 - val_loss: 2406.1205\n",
      "Epoch 29/30\n",
      "1596/1596 [==============================] - ETA: 0s - loss: 2504.4076\n",
      "Epoch 29: val_loss improved from 2406.12049 to 2397.14944, saving model to training_1_40_binary_cp/cp.ckpt\n",
      "1596/1596 [==============================] - 89s 55ms/sample - loss: 2504.4076 - val_loss: 2397.1494\n",
      "Epoch 30/30\n",
      "1596/1596 [==============================] - ETA: 0s - loss: 2497.9215\n",
      "Epoch 30: val_loss improved from 2397.14944 to 2379.91813, saving model to training_1_40_binary_cp/cp.ckpt\n",
      "1596/1596 [==============================] - 88s 55ms/sample - loss: 2497.9215 - val_loss: 2379.9181\n"
     ]
    }
   ],
   "source": [
    "with tf.device(\"/GPU:0\"):\n",
    "    H = vae.fit(\n",
    "        train_images, train_images,\n",
    "        shuffle=True,\n",
    "        validation_data=(val_images, val_images),\n",
    "        epochs=EPOCHS,\n",
    "        callbacks = [checkpoint_callback], batch_size=BS) "
   ]
  },
  {
   "cell_type": "markdown",
   "id": "071e4437",
   "metadata": {
    "id": "NGP0dXvg2Lze",
    "papermill": {
     "duration": 0.380467,
     "end_time": "2023-04-09T18:58:26.346084",
     "exception": false,
     "start_time": "2023-04-09T18:58:25.965617",
     "status": "completed"
    },
    "tags": []
   },
   "source": [
    "## Saved Result Graphic (.json) and Model Trained (h5)"
   ]
  },
  {
   "cell_type": "code",
   "execution_count": 14,
   "id": "b76fb24c",
   "metadata": {
    "execution": {
     "iopub.execute_input": "2023-04-09T18:58:27.103581Z",
     "iopub.status.busy": "2023-04-09T18:58:27.102542Z",
     "iopub.status.idle": "2023-04-09T18:58:32.705710Z",
     "shell.execute_reply": "2023-04-09T18:58:32.703539Z"
    },
    "executionInfo": {
     "elapsed": 29984,
     "status": "ok",
     "timestamp": 1634459886922,
     "user": {
      "displayName": "Kharisma Muzaki Ghufron",
      "photoUrl": "https://lh3.googleusercontent.com/a/default-user=s64",
      "userId": "14730718725881384856"
     },
     "user_tz": -420
    },
    "id": "4W49P0jq2Zt-",
    "papermill": {
     "duration": 5.984061,
     "end_time": "2023-04-09T18:58:32.708718",
     "exception": false,
     "start_time": "2023-04-09T18:58:26.724657",
     "status": "completed"
    },
    "tags": []
   },
   "outputs": [],
   "source": [
    "with open(history_path, 'w') as f:\n",
    "    json.dump(H.history, f)\n",
    "vae.save(model_path)"
   ]
  },
  {
   "cell_type": "markdown",
   "id": "f81df6f0",
   "metadata": {
    "id": "YiaL-r9o3wMW",
    "papermill": {
     "duration": 0.594547,
     "end_time": "2023-04-09T18:58:36.960675",
     "exception": false,
     "start_time": "2023-04-09T18:58:36.366128",
     "status": "completed"
    },
    "tags": []
   },
   "source": [
    "# Extract Feature Stage"
   ]
  },
  {
   "cell_type": "markdown",
   "id": "1b11296c",
   "metadata": {
    "id": "WDJy4NT43-tO",
    "papermill": {
     "duration": 0.382755,
     "end_time": "2023-04-09T18:58:37.714501",
     "exception": false,
     "start_time": "2023-04-09T18:58:37.331746",
     "status": "completed"
    },
    "tags": []
   },
   "source": [
    "## Load already trained model and extracting feature\n"
   ]
  },
  {
   "cell_type": "code",
   "execution_count": 15,
   "id": "81d0d108",
   "metadata": {
    "execution": {
     "iopub.execute_input": "2023-04-09T18:58:38.528521Z",
     "iopub.status.busy": "2023-04-09T18:58:38.528114Z",
     "iopub.status.idle": "2023-04-09T18:59:09.722166Z",
     "shell.execute_reply": "2023-04-09T18:59:09.721043Z"
    },
    "executionInfo": {
     "elapsed": 30833,
     "status": "ok",
     "timestamp": 1634459917745,
     "user": {
      "displayName": "Kharisma Muzaki Ghufron",
      "photoUrl": "https://lh3.googleusercontent.com/a/default-user=s64",
      "userId": "14730718725881384856"
     },
     "user_tz": -420
    },
    "id": "eN11l1iF4DUW",
    "outputId": "c1b5cd23-5746-4e86-b1c5-5e1abc415979",
    "papermill": {
     "duration": 31.57578,
     "end_time": "2023-04-09T18:59:09.724980",
     "exception": false,
     "start_time": "2023-04-09T18:58:38.149200",
     "status": "completed"
    },
    "tags": []
   },
   "outputs": [
    {
     "name": "stdout",
     "output_type": "stream",
     "text": [
      "[INFO] loading auto encoder model...\n",
      "[INFO] encoding images...\n"
     ]
    },
    {
     "name": "stderr",
     "output_type": "stream",
     "text": [
      "/opt/conda/lib/python3.7/site-packages/keras/engine/training_v1.py:2357: UserWarning: `Model.state_updates` will be removed in a future version. This property should not be used in TensorFlow 2.0, as `updates` are applied automatically.\n",
      "  updates=self.state_updates,\n"
     ]
    }
   ],
   "source": [
    "# auto_encoder = ConvAutoEncoder.build(IMAGE_SIZE[0], IMAGE_SIZE[1], 3)\n",
    "# load our auto_encoder from disk\n",
    "print(\"[INFO] loading auto encoder model...\")\n",
    "vae.load_weights(checkpoint_path)\n",
    "\n",
    "encoder = Model(inputs=vae.input, outputs=vae.get_layer(\"encoder_model\").get_layer(\"encoded\").output)\n",
    "\n",
    "# quantify the contents of our input images using the encoder\n",
    "print(\"[INFO] encoding images...\")\n",
    "features = encoder.predict(train_images)"
   ]
  },
  {
   "cell_type": "markdown",
   "id": "1efa01ad",
   "metadata": {
    "id": "RwRiJP-84VaP",
    "papermill": {
     "duration": 0.36268,
     "end_time": "2023-04-09T18:59:10.447324",
     "exception": false,
     "start_time": "2023-04-09T18:59:10.084644",
     "status": "completed"
    },
    "tags": []
   },
   "source": [
    "## Create mapping feature included location images, label, feature and indexing number"
   ]
  },
  {
   "cell_type": "code",
   "execution_count": 16,
   "id": "91d7e543",
   "metadata": {
    "execution": {
     "iopub.execute_input": "2023-04-09T18:59:11.217344Z",
     "iopub.status.busy": "2023-04-09T18:59:11.216945Z",
     "iopub.status.idle": "2023-04-09T18:59:11.241122Z",
     "shell.execute_reply": "2023-04-09T18:59:11.240102Z"
    },
    "executionInfo": {
     "elapsed": 8,
     "status": "ok",
     "timestamp": 1634459917745,
     "user": {
      "displayName": "Kharisma Muzaki Ghufron",
      "photoUrl": "https://lh3.googleusercontent.com/a/default-user=s64",
      "userId": "14730718725881384856"
     },
     "user_tz": -420
    },
    "id": "ItHAs9Aj4fm_",
    "papermill": {
     "duration": 0.384478,
     "end_time": "2023-04-09T18:59:11.243281",
     "exception": false,
     "start_time": "2023-04-09T18:59:10.858803",
     "status": "completed"
    },
    "tags": []
   },
   "outputs": [],
   "source": [
    "train_indexes = list(range(0, train_images.shape[0]))\n",
    "train_features_array = [[float(x) for x in y] for y in features]\n",
    "data = {\"indexes\": train_indexes, \"features\": train_features_array, \"locations\": train_paths, \"labels\":train_labels}"
   ]
  },
  {
   "cell_type": "markdown",
   "id": "3b95375c",
   "metadata": {
    "id": "-Hb3KBS-4hS3",
    "papermill": {
     "duration": 0.354987,
     "end_time": "2023-04-09T18:59:11.959963",
     "exception": false,
     "start_time": "2023-04-09T18:59:11.604976",
     "status": "completed"
    },
    "tags": []
   },
   "source": [
    "## Saved model feature (already mapped) as json"
   ]
  },
  {
   "cell_type": "code",
   "execution_count": 17,
   "id": "89881cb7",
   "metadata": {
    "execution": {
     "iopub.execute_input": "2023-04-09T18:59:12.670905Z",
     "iopub.status.busy": "2023-04-09T18:59:12.670227Z",
     "iopub.status.idle": "2023-04-09T18:59:12.821234Z",
     "shell.execute_reply": "2023-04-09T18:59:12.820155Z"
    },
    "executionInfo": {
     "elapsed": 446,
     "status": "ok",
     "timestamp": 1634459918184,
     "user": {
      "displayName": "Kharisma Muzaki Ghufron",
      "photoUrl": "https://lh3.googleusercontent.com/a/default-user=s64",
      "userId": "14730718725881384856"
     },
     "user_tz": -420
    },
    "id": "gHqqNqSV4mun",
    "papermill": {
     "duration": 0.507514,
     "end_time": "2023-04-09T18:59:12.824084",
     "exception": false,
     "start_time": "2023-04-09T18:59:12.316570",
     "status": "completed"
    },
    "tags": []
   },
   "outputs": [],
   "source": [
    "with open(feature_path, 'w') as f:\n",
    "    json.dump(data, f)"
   ]
  },
  {
   "cell_type": "markdown",
   "id": "9cbc0223",
   "metadata": {
    "id": "mEKpKr-G6VAO",
    "papermill": {
     "duration": 0.362386,
     "end_time": "2023-04-09T18:59:13.603488",
     "exception": false,
     "start_time": "2023-04-09T18:59:13.241102",
     "status": "completed"
    },
    "tags": []
   },
   "source": [
    "# Retrieval Test Stage"
   ]
  },
  {
   "cell_type": "markdown",
   "id": "b0791275",
   "metadata": {
    "id": "JtD8TrpR7cVe",
    "papermill": {
     "duration": 0.358343,
     "end_time": "2023-04-09T18:59:14.316669",
     "exception": false,
     "start_time": "2023-04-09T18:59:13.958326",
     "status": "completed"
    },
    "tags": []
   },
   "source": [
    "## Euclidean function"
   ]
  },
  {
   "cell_type": "code",
   "execution_count": 18,
   "id": "a36435ff",
   "metadata": {
    "execution": {
     "iopub.execute_input": "2023-04-09T18:59:15.105345Z",
     "iopub.status.busy": "2023-04-09T18:59:15.103345Z",
     "iopub.status.idle": "2023-04-09T18:59:15.110836Z",
     "shell.execute_reply": "2023-04-09T18:59:15.109696Z"
    },
    "executionInfo": {
     "elapsed": 23,
     "status": "ok",
     "timestamp": 1634459918185,
     "user": {
      "displayName": "Kharisma Muzaki Ghufron",
      "photoUrl": "https://lh3.googleusercontent.com/a/default-user=s64",
      "userId": "14730718725881384856"
     },
     "user_tz": -420
    },
    "id": "GZq6CCE77XHA",
    "papermill": {
     "duration": 0.426287,
     "end_time": "2023-04-09T18:59:15.113023",
     "exception": false,
     "start_time": "2023-04-09T18:59:14.686736",
     "status": "completed"
    },
    "tags": []
   },
   "outputs": [],
   "source": [
    "def euclidean(a, b):\n",
    "    # compute and return the euclidean distance between two vectors\n",
    "    return np.linalg.norm(a - b)"
   ]
  },
  {
   "cell_type": "markdown",
   "id": "27236b94",
   "metadata": {
    "id": "bac1xbma7ew-",
    "papermill": {
     "duration": 0.393106,
     "end_time": "2023-04-09T18:59:15.861869",
     "exception": false,
     "start_time": "2023-04-09T18:59:15.468763",
     "status": "completed"
    },
    "tags": []
   },
   "source": [
    "## Perform search function\n",
    "```\n",
    "Default max result from search is 5\n",
    "```\n",
    "\n",
    "\n"
   ]
  },
  {
   "cell_type": "code",
   "execution_count": 19,
   "id": "f844f034",
   "metadata": {
    "execution": {
     "iopub.execute_input": "2023-04-09T18:59:16.745480Z",
     "iopub.status.busy": "2023-04-09T18:59:16.745058Z",
     "iopub.status.idle": "2023-04-09T18:59:16.751504Z",
     "shell.execute_reply": "2023-04-09T18:59:16.750367Z"
    },
    "executionInfo": {
     "elapsed": 23,
     "status": "ok",
     "timestamp": 1634459918185,
     "user": {
      "displayName": "Kharisma Muzaki Ghufron",
      "photoUrl": "https://lh3.googleusercontent.com/a/default-user=s64",
      "userId": "14730718725881384856"
     },
     "user_tz": -420
    },
    "id": "H_aMevGo7g--",
    "papermill": {
     "duration": 0.447071,
     "end_time": "2023-04-09T18:59:16.753811",
     "exception": false,
     "start_time": "2023-04-09T18:59:16.306740",
     "status": "completed"
    },
    "tags": []
   },
   "outputs": [],
   "source": [
    "def perform_search(query_features, indexed_train, max_results=5):\n",
    "    retrieved = []\n",
    "    for idx in range(0, len(indexed_train[\"features\"])):\n",
    "        distance = euclidean(query_features, indexed_train[\"features\"][idx])\n",
    "        retrieved.append((distance, idx))\n",
    "    retrieved = sorted(retrieved)[:max_results]\n",
    "    return retrieved"
   ]
  },
  {
   "cell_type": "markdown",
   "id": "e8ea9a3f",
   "metadata": {
    "id": "zWU1LO2L725_",
    "papermill": {
     "duration": 0.364512,
     "end_time": "2023-04-09T18:59:17.470906",
     "exception": false,
     "start_time": "2023-04-09T18:59:17.106394",
     "status": "completed"
    },
    "tags": []
   },
   "source": [
    "## Load the model and feature already extracted"
   ]
  },
  {
   "cell_type": "code",
   "execution_count": 20,
   "id": "27b2bdaa",
   "metadata": {
    "execution": {
     "iopub.execute_input": "2023-04-09T18:59:18.240700Z",
     "iopub.status.busy": "2023-04-09T18:59:18.240170Z",
     "iopub.status.idle": "2023-04-09T18:59:20.302513Z",
     "shell.execute_reply": "2023-04-09T18:59:20.301391Z"
    },
    "executionInfo": {
     "elapsed": 21348,
     "status": "ok",
     "timestamp": 1634460095599,
     "user": {
      "displayName": "Kharisma Muzaki Ghufron",
      "photoUrl": "https://lh3.googleusercontent.com/a/default-user=s64",
      "userId": "14730718725881384856"
     },
     "user_tz": -420
    },
    "id": "l0yvC_Fm8Bo_",
    "outputId": "046dc82a-7970-4f8f-982c-7f1fe4454023",
    "papermill": {
     "duration": 2.472089,
     "end_time": "2023-04-09T18:59:20.305621",
     "exception": false,
     "start_time": "2023-04-09T18:59:17.833532",
     "status": "completed"
    },
    "tags": []
   },
   "outputs": [
    {
     "name": "stdout",
     "output_type": "stream",
     "text": [
      "[INFO] loading auto encoder model...\n",
      "[INFO] encoding images...\n"
     ]
    }
   ],
   "source": [
    "# auto_encoder = ConvAutoEncoder.build(IMAGE_SIZE[0], IMAGE_SIZE[1], 3)\n",
    "# load our auto_encoder from disk\n",
    "print(\"[INFO] loading auto encoder model...\")\n",
    "vae.load_weights(checkpoint_path)\n",
    "with open(feature_path) as f:\n",
    "    training_indexed = json.load(f)\n",
    "\n",
    "# create the encoder model which consists of *just* the encoder\n",
    "# portion of the auto encoder\n",
    "encoder = Model(inputs=vae.input, outputs=vae.get_layer(\"encoder_model\").get_layer(\"encoded\").output)\n",
    "\n",
    "# quantify the contents of our input images using the encoder\n",
    "print(\"[INFO] encoding images...\")\n",
    "features_retrieved = encoder.predict(test_images)"
   ]
  },
  {
   "cell_type": "markdown",
   "id": "28f3812c",
   "metadata": {
    "id": "VFt2q2eg8KkO",
    "papermill": {
     "duration": 0.367752,
     "end_time": "2023-04-09T18:59:21.029724",
     "exception": false,
     "start_time": "2023-04-09T18:59:20.661972",
     "status": "completed"
    },
    "tags": []
   },
   "source": [
    "## Perform search and retrieval based test images"
   ]
  },
  {
   "cell_type": "code",
   "execution_count": 21,
   "id": "25bd5c8d",
   "metadata": {
    "_kg_hide-output": true,
    "execution": {
     "iopub.execute_input": "2023-04-09T18:59:21.756469Z",
     "iopub.status.busy": "2023-04-09T18:59:21.755311Z",
     "iopub.status.idle": "2023-04-09T18:59:27.343374Z",
     "shell.execute_reply": "2023-04-09T18:59:27.342171Z"
    },
    "executionInfo": {
     "elapsed": 6060,
     "status": "ok",
     "timestamp": 1634460101650,
     "user": {
      "displayName": "Kharisma Muzaki Ghufron",
      "photoUrl": "https://lh3.googleusercontent.com/a/default-user=s64",
      "userId": "14730718725881384856"
     },
     "user_tz": -420
    },
    "id": "SDoI3M9P8QXu",
    "outputId": "93e9ebef-40f4-4c55-c387-64f557f24995",
    "papermill": {
     "duration": 5.959763,
     "end_time": "2023-04-09T18:59:27.345961",
     "exception": false,
     "start_time": "2023-04-09T18:59:21.386198",
     "status": "completed"
    },
    "scrolled": true,
    "tags": []
   },
   "outputs": [
    {
     "name": "stderr",
     "output_type": "stream",
     "text": [
      "/opt/conda/lib/python3.7/site-packages/sklearn/metrics/_classification.py:1318: UndefinedMetricWarning: Recall is ill-defined and being set to 0.0 in labels with no true samples. Use `zero_division` parameter to control this behavior.\n",
      "  _warn_prf(average, modifier, msg_start, len(result))\n",
      "/opt/conda/lib/python3.7/site-packages/sklearn/metrics/_classification.py:1318: UndefinedMetricWarning: Recall is ill-defined and being set to 0.0 in labels with no true samples. Use `zero_division` parameter to control this behavior.\n",
      "  _warn_prf(average, modifier, msg_start, len(result))\n",
      "/opt/conda/lib/python3.7/site-packages/sklearn/metrics/_classification.py:1318: UndefinedMetricWarning: Recall is ill-defined and being set to 0.0 in labels with no true samples. Use `zero_division` parameter to control this behavior.\n",
      "  _warn_prf(average, modifier, msg_start, len(result))\n",
      "/opt/conda/lib/python3.7/site-packages/sklearn/metrics/_classification.py:1318: UndefinedMetricWarning: Recall is ill-defined and being set to 0.0 in labels with no true samples. Use `zero_division` parameter to control this behavior.\n",
      "  _warn_prf(average, modifier, msg_start, len(result))\n",
      "/opt/conda/lib/python3.7/site-packages/sklearn/metrics/_classification.py:1318: UndefinedMetricWarning: Recall is ill-defined and being set to 0.0 in labels with no true samples. Use `zero_division` parameter to control this behavior.\n",
      "  _warn_prf(average, modifier, msg_start, len(result))\n",
      "/opt/conda/lib/python3.7/site-packages/sklearn/metrics/_classification.py:1318: UndefinedMetricWarning: Recall is ill-defined and being set to 0.0 in labels with no true samples. Use `zero_division` parameter to control this behavior.\n",
      "  _warn_prf(average, modifier, msg_start, len(result))\n",
      "/opt/conda/lib/python3.7/site-packages/sklearn/metrics/_classification.py:1318: UndefinedMetricWarning: Recall is ill-defined and being set to 0.0 in labels with no true samples. Use `zero_division` parameter to control this behavior.\n",
      "  _warn_prf(average, modifier, msg_start, len(result))\n",
      "/opt/conda/lib/python3.7/site-packages/sklearn/metrics/_classification.py:1318: UndefinedMetricWarning: Recall is ill-defined and being set to 0.0 in labels with no true samples. Use `zero_division` parameter to control this behavior.\n",
      "  _warn_prf(average, modifier, msg_start, len(result))\n",
      "/opt/conda/lib/python3.7/site-packages/sklearn/metrics/_classification.py:1318: UndefinedMetricWarning: Recall is ill-defined and being set to 0.0 in labels with no true samples. Use `zero_division` parameter to control this behavior.\n",
      "  _warn_prf(average, modifier, msg_start, len(result))\n",
      "/opt/conda/lib/python3.7/site-packages/sklearn/metrics/_classification.py:1318: UndefinedMetricWarning: Recall is ill-defined and being set to 0.0 in labels with no true samples. Use `zero_division` parameter to control this behavior.\n",
      "  _warn_prf(average, modifier, msg_start, len(result))\n",
      "/opt/conda/lib/python3.7/site-packages/sklearn/metrics/_classification.py:1318: UndefinedMetricWarning: Precision is ill-defined and being set to 0.0 in labels with no predicted samples. Use `zero_division` parameter to control this behavior.\n",
      "  _warn_prf(average, modifier, msg_start, len(result))\n",
      "/opt/conda/lib/python3.7/site-packages/sklearn/metrics/_classification.py:1318: UndefinedMetricWarning: Recall is ill-defined and being set to 0.0 in labels with no true samples. Use `zero_division` parameter to control this behavior.\n",
      "  _warn_prf(average, modifier, msg_start, len(result))\n",
      "/opt/conda/lib/python3.7/site-packages/sklearn/metrics/_classification.py:1318: UndefinedMetricWarning: Recall is ill-defined and being set to 0.0 in labels with no true samples. Use `zero_division` parameter to control this behavior.\n",
      "  _warn_prf(average, modifier, msg_start, len(result))\n",
      "/opt/conda/lib/python3.7/site-packages/sklearn/metrics/_classification.py:1318: UndefinedMetricWarning: Recall is ill-defined and being set to 0.0 in labels with no true samples. Use `zero_division` parameter to control this behavior.\n",
      "  _warn_prf(average, modifier, msg_start, len(result))\n",
      "/opt/conda/lib/python3.7/site-packages/sklearn/metrics/_classification.py:1318: UndefinedMetricWarning: Recall is ill-defined and being set to 0.0 in labels with no true samples. Use `zero_division` parameter to control this behavior.\n",
      "  _warn_prf(average, modifier, msg_start, len(result))\n",
      "/opt/conda/lib/python3.7/site-packages/sklearn/metrics/_classification.py:1318: UndefinedMetricWarning: Recall is ill-defined and being set to 0.0 in labels with no true samples. Use `zero_division` parameter to control this behavior.\n",
      "  _warn_prf(average, modifier, msg_start, len(result))\n",
      "/opt/conda/lib/python3.7/site-packages/sklearn/metrics/_classification.py:1318: UndefinedMetricWarning: Recall is ill-defined and being set to 0.0 in labels with no true samples. Use `zero_division` parameter to control this behavior.\n",
      "  _warn_prf(average, modifier, msg_start, len(result))\n",
      "/opt/conda/lib/python3.7/site-packages/sklearn/metrics/_classification.py:1318: UndefinedMetricWarning: Recall is ill-defined and being set to 0.0 in labels with no true samples. Use `zero_division` parameter to control this behavior.\n",
      "  _warn_prf(average, modifier, msg_start, len(result))\n",
      "/opt/conda/lib/python3.7/site-packages/sklearn/metrics/_classification.py:1318: UndefinedMetricWarning: Recall is ill-defined and being set to 0.0 in labels with no true samples. Use `zero_division` parameter to control this behavior.\n",
      "  _warn_prf(average, modifier, msg_start, len(result))\n",
      "/opt/conda/lib/python3.7/site-packages/sklearn/metrics/_classification.py:1318: UndefinedMetricWarning: Recall is ill-defined and being set to 0.0 in labels with no true samples. Use `zero_division` parameter to control this behavior.\n",
      "  _warn_prf(average, modifier, msg_start, len(result))\n",
      "/opt/conda/lib/python3.7/site-packages/sklearn/metrics/_classification.py:1318: UndefinedMetricWarning: Recall is ill-defined and being set to 0.0 in labels with no true samples. Use `zero_division` parameter to control this behavior.\n",
      "  _warn_prf(average, modifier, msg_start, len(result))\n",
      "/opt/conda/lib/python3.7/site-packages/sklearn/metrics/_classification.py:1318: UndefinedMetricWarning: Recall is ill-defined and being set to 0.0 in labels with no true samples. Use `zero_division` parameter to control this behavior.\n",
      "  _warn_prf(average, modifier, msg_start, len(result))\n",
      "/opt/conda/lib/python3.7/site-packages/sklearn/metrics/_classification.py:1318: UndefinedMetricWarning: Recall is ill-defined and being set to 0.0 in labels with no true samples. Use `zero_division` parameter to control this behavior.\n",
      "  _warn_prf(average, modifier, msg_start, len(result))\n",
      "/opt/conda/lib/python3.7/site-packages/sklearn/metrics/_classification.py:1318: UndefinedMetricWarning: Recall is ill-defined and being set to 0.0 in labels with no true samples. Use `zero_division` parameter to control this behavior.\n",
      "  _warn_prf(average, modifier, msg_start, len(result))\n",
      "/opt/conda/lib/python3.7/site-packages/sklearn/metrics/_classification.py:1318: UndefinedMetricWarning: Recall is ill-defined and being set to 0.0 in labels with no true samples. Use `zero_division` parameter to control this behavior.\n",
      "  _warn_prf(average, modifier, msg_start, len(result))\n",
      "/opt/conda/lib/python3.7/site-packages/sklearn/metrics/_classification.py:1318: UndefinedMetricWarning: Recall is ill-defined and being set to 0.0 in labels with no true samples. Use `zero_division` parameter to control this behavior.\n",
      "  _warn_prf(average, modifier, msg_start, len(result))\n",
      "/opt/conda/lib/python3.7/site-packages/sklearn/metrics/_classification.py:1318: UndefinedMetricWarning: Recall is ill-defined and being set to 0.0 in labels with no true samples. Use `zero_division` parameter to control this behavior.\n",
      "  _warn_prf(average, modifier, msg_start, len(result))\n",
      "/opt/conda/lib/python3.7/site-packages/sklearn/metrics/_classification.py:1318: UndefinedMetricWarning: Recall is ill-defined and being set to 0.0 in labels with no true samples. Use `zero_division` parameter to control this behavior.\n",
      "  _warn_prf(average, modifier, msg_start, len(result))\n",
      "/opt/conda/lib/python3.7/site-packages/sklearn/metrics/_classification.py:1318: UndefinedMetricWarning: Precision is ill-defined and being set to 0.0 in labels with no predicted samples. Use `zero_division` parameter to control this behavior.\n",
      "  _warn_prf(average, modifier, msg_start, len(result))\n",
      "/opt/conda/lib/python3.7/site-packages/sklearn/metrics/_classification.py:1318: UndefinedMetricWarning: Recall is ill-defined and being set to 0.0 in labels with no true samples. Use `zero_division` parameter to control this behavior.\n",
      "  _warn_prf(average, modifier, msg_start, len(result))\n",
      "/opt/conda/lib/python3.7/site-packages/sklearn/metrics/_classification.py:1318: UndefinedMetricWarning: Recall is ill-defined and being set to 0.0 in labels with no true samples. Use `zero_division` parameter to control this behavior.\n",
      "  _warn_prf(average, modifier, msg_start, len(result))\n",
      "/opt/conda/lib/python3.7/site-packages/sklearn/metrics/_classification.py:1318: UndefinedMetricWarning: Recall is ill-defined and being set to 0.0 in labels with no true samples. Use `zero_division` parameter to control this behavior.\n",
      "  _warn_prf(average, modifier, msg_start, len(result))\n",
      "/opt/conda/lib/python3.7/site-packages/sklearn/metrics/_classification.py:1318: UndefinedMetricWarning: Recall is ill-defined and being set to 0.0 in labels with no true samples. Use `zero_division` parameter to control this behavior.\n",
      "  _warn_prf(average, modifier, msg_start, len(result))\n",
      "/opt/conda/lib/python3.7/site-packages/sklearn/metrics/_classification.py:1318: UndefinedMetricWarning: Recall is ill-defined and being set to 0.0 in labels with no true samples. Use `zero_division` parameter to control this behavior.\n",
      "  _warn_prf(average, modifier, msg_start, len(result))\n",
      "/opt/conda/lib/python3.7/site-packages/sklearn/metrics/_classification.py:1318: UndefinedMetricWarning: Recall is ill-defined and being set to 0.0 in labels with no true samples. Use `zero_division` parameter to control this behavior.\n",
      "  _warn_prf(average, modifier, msg_start, len(result))\n",
      "/opt/conda/lib/python3.7/site-packages/sklearn/metrics/_classification.py:1318: UndefinedMetricWarning: Recall is ill-defined and being set to 0.0 in labels with no true samples. Use `zero_division` parameter to control this behavior.\n",
      "  _warn_prf(average, modifier, msg_start, len(result))\n",
      "/opt/conda/lib/python3.7/site-packages/sklearn/metrics/_classification.py:1318: UndefinedMetricWarning: Recall is ill-defined and being set to 0.0 in labels with no true samples. Use `zero_division` parameter to control this behavior.\n",
      "  _warn_prf(average, modifier, msg_start, len(result))\n",
      "/opt/conda/lib/python3.7/site-packages/sklearn/metrics/_classification.py:1318: UndefinedMetricWarning: Recall is ill-defined and being set to 0.0 in labels with no true samples. Use `zero_division` parameter to control this behavior.\n",
      "  _warn_prf(average, modifier, msg_start, len(result))\n",
      "/opt/conda/lib/python3.7/site-packages/sklearn/metrics/_classification.py:1318: UndefinedMetricWarning: Recall is ill-defined and being set to 0.0 in labels with no true samples. Use `zero_division` parameter to control this behavior.\n",
      "  _warn_prf(average, modifier, msg_start, len(result))\n",
      "/opt/conda/lib/python3.7/site-packages/sklearn/metrics/_classification.py:1318: UndefinedMetricWarning: Recall is ill-defined and being set to 0.0 in labels with no true samples. Use `zero_division` parameter to control this behavior.\n",
      "  _warn_prf(average, modifier, msg_start, len(result))\n",
      "/opt/conda/lib/python3.7/site-packages/sklearn/metrics/_classification.py:1318: UndefinedMetricWarning: Recall is ill-defined and being set to 0.0 in labels with no true samples. Use `zero_division` parameter to control this behavior.\n",
      "  _warn_prf(average, modifier, msg_start, len(result))\n",
      "/opt/conda/lib/python3.7/site-packages/sklearn/metrics/_classification.py:1318: UndefinedMetricWarning: Recall is ill-defined and being set to 0.0 in labels with no true samples. Use `zero_division` parameter to control this behavior.\n",
      "  _warn_prf(average, modifier, msg_start, len(result))\n",
      "/opt/conda/lib/python3.7/site-packages/sklearn/metrics/_classification.py:1318: UndefinedMetricWarning: Recall is ill-defined and being set to 0.0 in labels with no true samples. Use `zero_division` parameter to control this behavior.\n",
      "  _warn_prf(average, modifier, msg_start, len(result))\n",
      "/opt/conda/lib/python3.7/site-packages/sklearn/metrics/_classification.py:1318: UndefinedMetricWarning: Recall is ill-defined and being set to 0.0 in labels with no true samples. Use `zero_division` parameter to control this behavior.\n",
      "  _warn_prf(average, modifier, msg_start, len(result))\n",
      "/opt/conda/lib/python3.7/site-packages/sklearn/metrics/_classification.py:1318: UndefinedMetricWarning: Recall is ill-defined and being set to 0.0 in labels with no true samples. Use `zero_division` parameter to control this behavior.\n",
      "  _warn_prf(average, modifier, msg_start, len(result))\n",
      "/opt/conda/lib/python3.7/site-packages/sklearn/metrics/_classification.py:1318: UndefinedMetricWarning: Recall is ill-defined and being set to 0.0 in labels with no true samples. Use `zero_division` parameter to control this behavior.\n",
      "  _warn_prf(average, modifier, msg_start, len(result))\n",
      "/opt/conda/lib/python3.7/site-packages/sklearn/metrics/_classification.py:1318: UndefinedMetricWarning: Recall is ill-defined and being set to 0.0 in labels with no true samples. Use `zero_division` parameter to control this behavior.\n",
      "  _warn_prf(average, modifier, msg_start, len(result))\n",
      "/opt/conda/lib/python3.7/site-packages/sklearn/metrics/_classification.py:1318: UndefinedMetricWarning: Recall is ill-defined and being set to 0.0 in labels with no true samples. Use `zero_division` parameter to control this behavior.\n",
      "  _warn_prf(average, modifier, msg_start, len(result))\n",
      "/opt/conda/lib/python3.7/site-packages/sklearn/metrics/_classification.py:1318: UndefinedMetricWarning: Recall is ill-defined and being set to 0.0 in labels with no true samples. Use `zero_division` parameter to control this behavior.\n",
      "  _warn_prf(average, modifier, msg_start, len(result))\n",
      "/opt/conda/lib/python3.7/site-packages/sklearn/metrics/_classification.py:1318: UndefinedMetricWarning: Recall is ill-defined and being set to 0.0 in labels with no true samples. Use `zero_division` parameter to control this behavior.\n",
      "  _warn_prf(average, modifier, msg_start, len(result))\n",
      "/opt/conda/lib/python3.7/site-packages/sklearn/metrics/_classification.py:1318: UndefinedMetricWarning: Recall is ill-defined and being set to 0.0 in labels with no true samples. Use `zero_division` parameter to control this behavior.\n",
      "  _warn_prf(average, modifier, msg_start, len(result))\n",
      "/opt/conda/lib/python3.7/site-packages/sklearn/metrics/_classification.py:1318: UndefinedMetricWarning: Recall is ill-defined and being set to 0.0 in labels with no true samples. Use `zero_division` parameter to control this behavior.\n",
      "  _warn_prf(average, modifier, msg_start, len(result))\n",
      "/opt/conda/lib/python3.7/site-packages/sklearn/metrics/_classification.py:1318: UndefinedMetricWarning: Recall is ill-defined and being set to 0.0 in labels with no true samples. Use `zero_division` parameter to control this behavior.\n",
      "  _warn_prf(average, modifier, msg_start, len(result))\n",
      "/opt/conda/lib/python3.7/site-packages/sklearn/metrics/_classification.py:1318: UndefinedMetricWarning: Recall is ill-defined and being set to 0.0 in labels with no true samples. Use `zero_division` parameter to control this behavior.\n",
      "  _warn_prf(average, modifier, msg_start, len(result))\n",
      "/opt/conda/lib/python3.7/site-packages/sklearn/metrics/_classification.py:1318: UndefinedMetricWarning: Recall is ill-defined and being set to 0.0 in labels with no true samples. Use `zero_division` parameter to control this behavior.\n",
      "  _warn_prf(average, modifier, msg_start, len(result))\n",
      "/opt/conda/lib/python3.7/site-packages/sklearn/metrics/_classification.py:1318: UndefinedMetricWarning: Recall is ill-defined and being set to 0.0 in labels with no true samples. Use `zero_division` parameter to control this behavior.\n",
      "  _warn_prf(average, modifier, msg_start, len(result))\n",
      "/opt/conda/lib/python3.7/site-packages/sklearn/metrics/_classification.py:1318: UndefinedMetricWarning: Recall is ill-defined and being set to 0.0 in labels with no true samples. Use `zero_division` parameter to control this behavior.\n",
      "  _warn_prf(average, modifier, msg_start, len(result))\n",
      "/opt/conda/lib/python3.7/site-packages/sklearn/metrics/_classification.py:1318: UndefinedMetricWarning: Recall is ill-defined and being set to 0.0 in labels with no true samples. Use `zero_division` parameter to control this behavior.\n",
      "  _warn_prf(average, modifier, msg_start, len(result))\n",
      "/opt/conda/lib/python3.7/site-packages/sklearn/metrics/_classification.py:1318: UndefinedMetricWarning: Recall is ill-defined and being set to 0.0 in labels with no true samples. Use `zero_division` parameter to control this behavior.\n",
      "  _warn_prf(average, modifier, msg_start, len(result))\n",
      "/opt/conda/lib/python3.7/site-packages/sklearn/metrics/_classification.py:1318: UndefinedMetricWarning: Recall is ill-defined and being set to 0.0 in labels with no true samples. Use `zero_division` parameter to control this behavior.\n",
      "  _warn_prf(average, modifier, msg_start, len(result))\n",
      "/opt/conda/lib/python3.7/site-packages/sklearn/metrics/_classification.py:1318: UndefinedMetricWarning: Recall is ill-defined and being set to 0.0 in labels with no true samples. Use `zero_division` parameter to control this behavior.\n",
      "  _warn_prf(average, modifier, msg_start, len(result))\n",
      "/opt/conda/lib/python3.7/site-packages/sklearn/metrics/_classification.py:1318: UndefinedMetricWarning: Recall is ill-defined and being set to 0.0 in labels with no true samples. Use `zero_division` parameter to control this behavior.\n",
      "  _warn_prf(average, modifier, msg_start, len(result))\n",
      "/opt/conda/lib/python3.7/site-packages/sklearn/metrics/_classification.py:1318: UndefinedMetricWarning: Recall is ill-defined and being set to 0.0 in labels with no true samples. Use `zero_division` parameter to control this behavior.\n",
      "  _warn_prf(average, modifier, msg_start, len(result))\n",
      "/opt/conda/lib/python3.7/site-packages/sklearn/metrics/_classification.py:1318: UndefinedMetricWarning: Recall is ill-defined and being set to 0.0 in labels with no true samples. Use `zero_division` parameter to control this behavior.\n",
      "  _warn_prf(average, modifier, msg_start, len(result))\n",
      "/opt/conda/lib/python3.7/site-packages/sklearn/metrics/_classification.py:1318: UndefinedMetricWarning: Recall is ill-defined and being set to 0.0 in labels with no true samples. Use `zero_division` parameter to control this behavior.\n",
      "  _warn_prf(average, modifier, msg_start, len(result))\n",
      "/opt/conda/lib/python3.7/site-packages/sklearn/metrics/_classification.py:1318: UndefinedMetricWarning: Recall is ill-defined and being set to 0.0 in labels with no true samples. Use `zero_division` parameter to control this behavior.\n",
      "  _warn_prf(average, modifier, msg_start, len(result))\n",
      "/opt/conda/lib/python3.7/site-packages/sklearn/metrics/_classification.py:1318: UndefinedMetricWarning: Recall is ill-defined and being set to 0.0 in labels with no true samples. Use `zero_division` parameter to control this behavior.\n",
      "  _warn_prf(average, modifier, msg_start, len(result))\n",
      "/opt/conda/lib/python3.7/site-packages/sklearn/metrics/_classification.py:1318: UndefinedMetricWarning: Recall is ill-defined and being set to 0.0 in labels with no true samples. Use `zero_division` parameter to control this behavior.\n",
      "  _warn_prf(average, modifier, msg_start, len(result))\n",
      "/opt/conda/lib/python3.7/site-packages/sklearn/metrics/_classification.py:1318: UndefinedMetricWarning: Recall is ill-defined and being set to 0.0 in labels with no true samples. Use `zero_division` parameter to control this behavior.\n",
      "  _warn_prf(average, modifier, msg_start, len(result))\n",
      "/opt/conda/lib/python3.7/site-packages/sklearn/metrics/_classification.py:1318: UndefinedMetricWarning: Recall is ill-defined and being set to 0.0 in labels with no true samples. Use `zero_division` parameter to control this behavior.\n",
      "  _warn_prf(average, modifier, msg_start, len(result))\n",
      "/opt/conda/lib/python3.7/site-packages/sklearn/metrics/_classification.py:1318: UndefinedMetricWarning: Recall is ill-defined and being set to 0.0 in labels with no true samples. Use `zero_division` parameter to control this behavior.\n",
      "  _warn_prf(average, modifier, msg_start, len(result))\n",
      "/opt/conda/lib/python3.7/site-packages/sklearn/metrics/_classification.py:1318: UndefinedMetricWarning: Recall is ill-defined and being set to 0.0 in labels with no true samples. Use `zero_division` parameter to control this behavior.\n",
      "  _warn_prf(average, modifier, msg_start, len(result))\n",
      "/opt/conda/lib/python3.7/site-packages/sklearn/metrics/_classification.py:1318: UndefinedMetricWarning: Recall is ill-defined and being set to 0.0 in labels with no true samples. Use `zero_division` parameter to control this behavior.\n",
      "  _warn_prf(average, modifier, msg_start, len(result))\n",
      "/opt/conda/lib/python3.7/site-packages/sklearn/metrics/_classification.py:1318: UndefinedMetricWarning: Recall is ill-defined and being set to 0.0 in labels with no true samples. Use `zero_division` parameter to control this behavior.\n",
      "  _warn_prf(average, modifier, msg_start, len(result))\n",
      "/opt/conda/lib/python3.7/site-packages/sklearn/metrics/_classification.py:1318: UndefinedMetricWarning: Precision is ill-defined and being set to 0.0 in labels with no predicted samples. Use `zero_division` parameter to control this behavior.\n",
      "  _warn_prf(average, modifier, msg_start, len(result))\n",
      "/opt/conda/lib/python3.7/site-packages/sklearn/metrics/_classification.py:1318: UndefinedMetricWarning: Recall is ill-defined and being set to 0.0 in labels with no true samples. Use `zero_division` parameter to control this behavior.\n",
      "  _warn_prf(average, modifier, msg_start, len(result))\n",
      "/opt/conda/lib/python3.7/site-packages/sklearn/metrics/_classification.py:1318: UndefinedMetricWarning: Recall is ill-defined and being set to 0.0 in labels with no true samples. Use `zero_division` parameter to control this behavior.\n",
      "  _warn_prf(average, modifier, msg_start, len(result))\n",
      "/opt/conda/lib/python3.7/site-packages/sklearn/metrics/_classification.py:1318: UndefinedMetricWarning: Recall is ill-defined and being set to 0.0 in labels with no true samples. Use `zero_division` parameter to control this behavior.\n",
      "  _warn_prf(average, modifier, msg_start, len(result))\n",
      "/opt/conda/lib/python3.7/site-packages/sklearn/metrics/_classification.py:1318: UndefinedMetricWarning: Recall is ill-defined and being set to 0.0 in labels with no true samples. Use `zero_division` parameter to control this behavior.\n",
      "  _warn_prf(average, modifier, msg_start, len(result))\n",
      "/opt/conda/lib/python3.7/site-packages/sklearn/metrics/_classification.py:1318: UndefinedMetricWarning: Recall is ill-defined and being set to 0.0 in labels with no true samples. Use `zero_division` parameter to control this behavior.\n",
      "  _warn_prf(average, modifier, msg_start, len(result))\n",
      "/opt/conda/lib/python3.7/site-packages/sklearn/metrics/_classification.py:1318: UndefinedMetricWarning: Recall is ill-defined and being set to 0.0 in labels with no true samples. Use `zero_division` parameter to control this behavior.\n",
      "  _warn_prf(average, modifier, msg_start, len(result))\n",
      "/opt/conda/lib/python3.7/site-packages/sklearn/metrics/_classification.py:1318: UndefinedMetricWarning: Recall is ill-defined and being set to 0.0 in labels with no true samples. Use `zero_division` parameter to control this behavior.\n",
      "  _warn_prf(average, modifier, msg_start, len(result))\n",
      "/opt/conda/lib/python3.7/site-packages/sklearn/metrics/_classification.py:1318: UndefinedMetricWarning: Recall is ill-defined and being set to 0.0 in labels with no true samples. Use `zero_division` parameter to control this behavior.\n",
      "  _warn_prf(average, modifier, msg_start, len(result))\n",
      "/opt/conda/lib/python3.7/site-packages/sklearn/metrics/_classification.py:1318: UndefinedMetricWarning: Recall is ill-defined and being set to 0.0 in labels with no true samples. Use `zero_division` parameter to control this behavior.\n",
      "  _warn_prf(average, modifier, msg_start, len(result))\n",
      "/opt/conda/lib/python3.7/site-packages/sklearn/metrics/_classification.py:1318: UndefinedMetricWarning: Recall is ill-defined and being set to 0.0 in labels with no true samples. Use `zero_division` parameter to control this behavior.\n",
      "  _warn_prf(average, modifier, msg_start, len(result))\n",
      "/opt/conda/lib/python3.7/site-packages/sklearn/metrics/_classification.py:1318: UndefinedMetricWarning: Recall is ill-defined and being set to 0.0 in labels with no true samples. Use `zero_division` parameter to control this behavior.\n",
      "  _warn_prf(average, modifier, msg_start, len(result))\n",
      "/opt/conda/lib/python3.7/site-packages/sklearn/metrics/_classification.py:1318: UndefinedMetricWarning: Recall is ill-defined and being set to 0.0 in labels with no true samples. Use `zero_division` parameter to control this behavior.\n",
      "  _warn_prf(average, modifier, msg_start, len(result))\n",
      "/opt/conda/lib/python3.7/site-packages/sklearn/metrics/_classification.py:1318: UndefinedMetricWarning: Recall is ill-defined and being set to 0.0 in labels with no true samples. Use `zero_division` parameter to control this behavior.\n",
      "  _warn_prf(average, modifier, msg_start, len(result))\n",
      "/opt/conda/lib/python3.7/site-packages/sklearn/metrics/_classification.py:1318: UndefinedMetricWarning: Recall is ill-defined and being set to 0.0 in labels with no true samples. Use `zero_division` parameter to control this behavior.\n",
      "  _warn_prf(average, modifier, msg_start, len(result))\n",
      "/opt/conda/lib/python3.7/site-packages/sklearn/metrics/_classification.py:1318: UndefinedMetricWarning: Recall is ill-defined and being set to 0.0 in labels with no true samples. Use `zero_division` parameter to control this behavior.\n",
      "  _warn_prf(average, modifier, msg_start, len(result))\n",
      "/opt/conda/lib/python3.7/site-packages/sklearn/metrics/_classification.py:1318: UndefinedMetricWarning: Recall is ill-defined and being set to 0.0 in labels with no true samples. Use `zero_division` parameter to control this behavior.\n",
      "  _warn_prf(average, modifier, msg_start, len(result))\n",
      "/opt/conda/lib/python3.7/site-packages/sklearn/metrics/_classification.py:1318: UndefinedMetricWarning: Recall is ill-defined and being set to 0.0 in labels with no true samples. Use `zero_division` parameter to control this behavior.\n",
      "  _warn_prf(average, modifier, msg_start, len(result))\n",
      "/opt/conda/lib/python3.7/site-packages/sklearn/metrics/_classification.py:1318: UndefinedMetricWarning: Precision is ill-defined and being set to 0.0 in labels with no predicted samples. Use `zero_division` parameter to control this behavior.\n",
      "  _warn_prf(average, modifier, msg_start, len(result))\n",
      "/opt/conda/lib/python3.7/site-packages/sklearn/metrics/_classification.py:1318: UndefinedMetricWarning: Recall is ill-defined and being set to 0.0 in labels with no true samples. Use `zero_division` parameter to control this behavior.\n",
      "  _warn_prf(average, modifier, msg_start, len(result))\n",
      "/opt/conda/lib/python3.7/site-packages/sklearn/metrics/_classification.py:1318: UndefinedMetricWarning: Recall is ill-defined and being set to 0.0 in labels with no true samples. Use `zero_division` parameter to control this behavior.\n",
      "  _warn_prf(average, modifier, msg_start, len(result))\n",
      "/opt/conda/lib/python3.7/site-packages/sklearn/metrics/_classification.py:1318: UndefinedMetricWarning: Recall is ill-defined and being set to 0.0 in labels with no true samples. Use `zero_division` parameter to control this behavior.\n",
      "  _warn_prf(average, modifier, msg_start, len(result))\n",
      "/opt/conda/lib/python3.7/site-packages/sklearn/metrics/_classification.py:1318: UndefinedMetricWarning: Recall is ill-defined and being set to 0.0 in labels with no true samples. Use `zero_division` parameter to control this behavior.\n",
      "  _warn_prf(average, modifier, msg_start, len(result))\n",
      "/opt/conda/lib/python3.7/site-packages/sklearn/metrics/_classification.py:1318: UndefinedMetricWarning: Precision is ill-defined and being set to 0.0 in labels with no predicted samples. Use `zero_division` parameter to control this behavior.\n",
      "  _warn_prf(average, modifier, msg_start, len(result))\n",
      "/opt/conda/lib/python3.7/site-packages/sklearn/metrics/_classification.py:1318: UndefinedMetricWarning: Recall is ill-defined and being set to 0.0 in labels with no true samples. Use `zero_division` parameter to control this behavior.\n",
      "  _warn_prf(average, modifier, msg_start, len(result))\n",
      "/opt/conda/lib/python3.7/site-packages/sklearn/metrics/_classification.py:1318: UndefinedMetricWarning: Recall is ill-defined and being set to 0.0 in labels with no true samples. Use `zero_division` parameter to control this behavior.\n",
      "  _warn_prf(average, modifier, msg_start, len(result))\n",
      "/opt/conda/lib/python3.7/site-packages/sklearn/metrics/_classification.py:1318: UndefinedMetricWarning: Recall is ill-defined and being set to 0.0 in labels with no true samples. Use `zero_division` parameter to control this behavior.\n",
      "  _warn_prf(average, modifier, msg_start, len(result))\n",
      "/opt/conda/lib/python3.7/site-packages/sklearn/metrics/_classification.py:1318: UndefinedMetricWarning: Recall is ill-defined and being set to 0.0 in labels with no true samples. Use `zero_division` parameter to control this behavior.\n",
      "  _warn_prf(average, modifier, msg_start, len(result))\n",
      "/opt/conda/lib/python3.7/site-packages/sklearn/metrics/_classification.py:1318: UndefinedMetricWarning: Precision is ill-defined and being set to 0.0 in labels with no predicted samples. Use `zero_division` parameter to control this behavior.\n",
      "  _warn_prf(average, modifier, msg_start, len(result))\n",
      "/opt/conda/lib/python3.7/site-packages/sklearn/metrics/_classification.py:1318: UndefinedMetricWarning: Recall is ill-defined and being set to 0.0 in labels with no true samples. Use `zero_division` parameter to control this behavior.\n",
      "  _warn_prf(average, modifier, msg_start, len(result))\n",
      "/opt/conda/lib/python3.7/site-packages/sklearn/metrics/_classification.py:1318: UndefinedMetricWarning: Recall is ill-defined and being set to 0.0 in labels with no true samples. Use `zero_division` parameter to control this behavior.\n",
      "  _warn_prf(average, modifier, msg_start, len(result))\n",
      "/opt/conda/lib/python3.7/site-packages/sklearn/metrics/_classification.py:1318: UndefinedMetricWarning: Recall is ill-defined and being set to 0.0 in labels with no true samples. Use `zero_division` parameter to control this behavior.\n",
      "  _warn_prf(average, modifier, msg_start, len(result))\n",
      "/opt/conda/lib/python3.7/site-packages/sklearn/metrics/_classification.py:1318: UndefinedMetricWarning: Recall is ill-defined and being set to 0.0 in labels with no true samples. Use `zero_division` parameter to control this behavior.\n",
      "  _warn_prf(average, modifier, msg_start, len(result))\n",
      "/opt/conda/lib/python3.7/site-packages/sklearn/metrics/_classification.py:1318: UndefinedMetricWarning: Recall is ill-defined and being set to 0.0 in labels with no true samples. Use `zero_division` parameter to control this behavior.\n",
      "  _warn_prf(average, modifier, msg_start, len(result))\n",
      "/opt/conda/lib/python3.7/site-packages/sklearn/metrics/_classification.py:1318: UndefinedMetricWarning: Recall is ill-defined and being set to 0.0 in labels with no true samples. Use `zero_division` parameter to control this behavior.\n",
      "  _warn_prf(average, modifier, msg_start, len(result))\n",
      "/opt/conda/lib/python3.7/site-packages/sklearn/metrics/_classification.py:1318: UndefinedMetricWarning: Recall is ill-defined and being set to 0.0 in labels with no true samples. Use `zero_division` parameter to control this behavior.\n",
      "  _warn_prf(average, modifier, msg_start, len(result))\n",
      "/opt/conda/lib/python3.7/site-packages/sklearn/metrics/_classification.py:1318: UndefinedMetricWarning: Recall is ill-defined and being set to 0.0 in labels with no true samples. Use `zero_division` parameter to control this behavior.\n",
      "  _warn_prf(average, modifier, msg_start, len(result))\n",
      "/opt/conda/lib/python3.7/site-packages/sklearn/metrics/_classification.py:1318: UndefinedMetricWarning: Recall is ill-defined and being set to 0.0 in labels with no true samples. Use `zero_division` parameter to control this behavior.\n",
      "  _warn_prf(average, modifier, msg_start, len(result))\n",
      "/opt/conda/lib/python3.7/site-packages/sklearn/metrics/_classification.py:1318: UndefinedMetricWarning: Recall is ill-defined and being set to 0.0 in labels with no true samples. Use `zero_division` parameter to control this behavior.\n",
      "  _warn_prf(average, modifier, msg_start, len(result))\n",
      "/opt/conda/lib/python3.7/site-packages/sklearn/metrics/_classification.py:1318: UndefinedMetricWarning: Recall is ill-defined and being set to 0.0 in labels with no true samples. Use `zero_division` parameter to control this behavior.\n",
      "  _warn_prf(average, modifier, msg_start, len(result))\n",
      "/opt/conda/lib/python3.7/site-packages/sklearn/metrics/_classification.py:1318: UndefinedMetricWarning: Recall is ill-defined and being set to 0.0 in labels with no true samples. Use `zero_division` parameter to control this behavior.\n",
      "  _warn_prf(average, modifier, msg_start, len(result))\n",
      "/opt/conda/lib/python3.7/site-packages/sklearn/metrics/_classification.py:1318: UndefinedMetricWarning: Recall is ill-defined and being set to 0.0 in labels with no true samples. Use `zero_division` parameter to control this behavior.\n",
      "  _warn_prf(average, modifier, msg_start, len(result))\n",
      "/opt/conda/lib/python3.7/site-packages/sklearn/metrics/_classification.py:1318: UndefinedMetricWarning: Recall is ill-defined and being set to 0.0 in labels with no true samples. Use `zero_division` parameter to control this behavior.\n",
      "  _warn_prf(average, modifier, msg_start, len(result))\n",
      "/opt/conda/lib/python3.7/site-packages/sklearn/metrics/_classification.py:1318: UndefinedMetricWarning: Recall is ill-defined and being set to 0.0 in labels with no true samples. Use `zero_division` parameter to control this behavior.\n",
      "  _warn_prf(average, modifier, msg_start, len(result))\n",
      "/opt/conda/lib/python3.7/site-packages/sklearn/metrics/_classification.py:1318: UndefinedMetricWarning: Recall is ill-defined and being set to 0.0 in labels with no true samples. Use `zero_division` parameter to control this behavior.\n",
      "  _warn_prf(average, modifier, msg_start, len(result))\n",
      "/opt/conda/lib/python3.7/site-packages/sklearn/metrics/_classification.py:1318: UndefinedMetricWarning: Precision is ill-defined and being set to 0.0 in labels with no predicted samples. Use `zero_division` parameter to control this behavior.\n",
      "  _warn_prf(average, modifier, msg_start, len(result))\n",
      "/opt/conda/lib/python3.7/site-packages/sklearn/metrics/_classification.py:1318: UndefinedMetricWarning: Recall is ill-defined and being set to 0.0 in labels with no true samples. Use `zero_division` parameter to control this behavior.\n",
      "  _warn_prf(average, modifier, msg_start, len(result))\n",
      "/opt/conda/lib/python3.7/site-packages/sklearn/metrics/_classification.py:1318: UndefinedMetricWarning: Recall is ill-defined and being set to 0.0 in labels with no true samples. Use `zero_division` parameter to control this behavior.\n",
      "  _warn_prf(average, modifier, msg_start, len(result))\n",
      "/opt/conda/lib/python3.7/site-packages/sklearn/metrics/_classification.py:1318: UndefinedMetricWarning: Recall is ill-defined and being set to 0.0 in labels with no true samples. Use `zero_division` parameter to control this behavior.\n",
      "  _warn_prf(average, modifier, msg_start, len(result))\n",
      "/opt/conda/lib/python3.7/site-packages/sklearn/metrics/_classification.py:1318: UndefinedMetricWarning: Recall is ill-defined and being set to 0.0 in labels with no true samples. Use `zero_division` parameter to control this behavior.\n",
      "  _warn_prf(average, modifier, msg_start, len(result))\n",
      "/opt/conda/lib/python3.7/site-packages/sklearn/metrics/_classification.py:1318: UndefinedMetricWarning: Recall is ill-defined and being set to 0.0 in labels with no true samples. Use `zero_division` parameter to control this behavior.\n",
      "  _warn_prf(average, modifier, msg_start, len(result))\n",
      "/opt/conda/lib/python3.7/site-packages/sklearn/metrics/_classification.py:1318: UndefinedMetricWarning: Recall is ill-defined and being set to 0.0 in labels with no true samples. Use `zero_division` parameter to control this behavior.\n",
      "  _warn_prf(average, modifier, msg_start, len(result))\n",
      "/opt/conda/lib/python3.7/site-packages/sklearn/metrics/_classification.py:1318: UndefinedMetricWarning: Recall is ill-defined and being set to 0.0 in labels with no true samples. Use `zero_division` parameter to control this behavior.\n",
      "  _warn_prf(average, modifier, msg_start, len(result))\n",
      "/opt/conda/lib/python3.7/site-packages/sklearn/metrics/_classification.py:1318: UndefinedMetricWarning: Recall is ill-defined and being set to 0.0 in labels with no true samples. Use `zero_division` parameter to control this behavior.\n",
      "  _warn_prf(average, modifier, msg_start, len(result))\n",
      "/opt/conda/lib/python3.7/site-packages/sklearn/metrics/_classification.py:1318: UndefinedMetricWarning: Recall is ill-defined and being set to 0.0 in labels with no true samples. Use `zero_division` parameter to control this behavior.\n",
      "  _warn_prf(average, modifier, msg_start, len(result))\n",
      "/opt/conda/lib/python3.7/site-packages/sklearn/metrics/_classification.py:1318: UndefinedMetricWarning: Recall is ill-defined and being set to 0.0 in labels with no true samples. Use `zero_division` parameter to control this behavior.\n",
      "  _warn_prf(average, modifier, msg_start, len(result))\n",
      "/opt/conda/lib/python3.7/site-packages/sklearn/metrics/_classification.py:1318: UndefinedMetricWarning: Recall is ill-defined and being set to 0.0 in labels with no true samples. Use `zero_division` parameter to control this behavior.\n",
      "  _warn_prf(average, modifier, msg_start, len(result))\n",
      "/opt/conda/lib/python3.7/site-packages/sklearn/metrics/_classification.py:1318: UndefinedMetricWarning: Recall is ill-defined and being set to 0.0 in labels with no true samples. Use `zero_division` parameter to control this behavior.\n",
      "  _warn_prf(average, modifier, msg_start, len(result))\n",
      "/opt/conda/lib/python3.7/site-packages/sklearn/metrics/_classification.py:1318: UndefinedMetricWarning: Recall is ill-defined and being set to 0.0 in labels with no true samples. Use `zero_division` parameter to control this behavior.\n",
      "  _warn_prf(average, modifier, msg_start, len(result))\n",
      "/opt/conda/lib/python3.7/site-packages/sklearn/metrics/_classification.py:1318: UndefinedMetricWarning: Recall is ill-defined and being set to 0.0 in labels with no true samples. Use `zero_division` parameter to control this behavior.\n",
      "  _warn_prf(average, modifier, msg_start, len(result))\n",
      "/opt/conda/lib/python3.7/site-packages/sklearn/metrics/_classification.py:1318: UndefinedMetricWarning: Recall is ill-defined and being set to 0.0 in labels with no true samples. Use `zero_division` parameter to control this behavior.\n",
      "  _warn_prf(average, modifier, msg_start, len(result))\n",
      "/opt/conda/lib/python3.7/site-packages/sklearn/metrics/_classification.py:1318: UndefinedMetricWarning: Recall is ill-defined and being set to 0.0 in labels with no true samples. Use `zero_division` parameter to control this behavior.\n",
      "  _warn_prf(average, modifier, msg_start, len(result))\n",
      "/opt/conda/lib/python3.7/site-packages/sklearn/metrics/_classification.py:1318: UndefinedMetricWarning: Recall is ill-defined and being set to 0.0 in labels with no true samples. Use `zero_division` parameter to control this behavior.\n",
      "  _warn_prf(average, modifier, msg_start, len(result))\n",
      "/opt/conda/lib/python3.7/site-packages/sklearn/metrics/_classification.py:1318: UndefinedMetricWarning: Recall is ill-defined and being set to 0.0 in labels with no true samples. Use `zero_division` parameter to control this behavior.\n",
      "  _warn_prf(average, modifier, msg_start, len(result))\n",
      "/opt/conda/lib/python3.7/site-packages/sklearn/metrics/_classification.py:1318: UndefinedMetricWarning: Recall is ill-defined and being set to 0.0 in labels with no true samples. Use `zero_division` parameter to control this behavior.\n",
      "  _warn_prf(average, modifier, msg_start, len(result))\n",
      "/opt/conda/lib/python3.7/site-packages/sklearn/metrics/_classification.py:1318: UndefinedMetricWarning: Recall is ill-defined and being set to 0.0 in labels with no true samples. Use `zero_division` parameter to control this behavior.\n",
      "  _warn_prf(average, modifier, msg_start, len(result))\n",
      "/opt/conda/lib/python3.7/site-packages/sklearn/metrics/_classification.py:1318: UndefinedMetricWarning: Recall is ill-defined and being set to 0.0 in labels with no true samples. Use `zero_division` parameter to control this behavior.\n",
      "  _warn_prf(average, modifier, msg_start, len(result))\n",
      "/opt/conda/lib/python3.7/site-packages/sklearn/metrics/_classification.py:1318: UndefinedMetricWarning: Recall is ill-defined and being set to 0.0 in labels with no true samples. Use `zero_division` parameter to control this behavior.\n",
      "  _warn_prf(average, modifier, msg_start, len(result))\n",
      "/opt/conda/lib/python3.7/site-packages/sklearn/metrics/_classification.py:1318: UndefinedMetricWarning: Recall is ill-defined and being set to 0.0 in labels with no true samples. Use `zero_division` parameter to control this behavior.\n",
      "  _warn_prf(average, modifier, msg_start, len(result))\n",
      "/opt/conda/lib/python3.7/site-packages/sklearn/metrics/_classification.py:1318: UndefinedMetricWarning: Recall is ill-defined and being set to 0.0 in labels with no true samples. Use `zero_division` parameter to control this behavior.\n",
      "  _warn_prf(average, modifier, msg_start, len(result))\n",
      "/opt/conda/lib/python3.7/site-packages/sklearn/metrics/_classification.py:1318: UndefinedMetricWarning: Recall is ill-defined and being set to 0.0 in labels with no true samples. Use `zero_division` parameter to control this behavior.\n",
      "  _warn_prf(average, modifier, msg_start, len(result))\n",
      "/opt/conda/lib/python3.7/site-packages/sklearn/metrics/_classification.py:1318: UndefinedMetricWarning: Recall is ill-defined and being set to 0.0 in labels with no true samples. Use `zero_division` parameter to control this behavior.\n",
      "  _warn_prf(average, modifier, msg_start, len(result))\n",
      "/opt/conda/lib/python3.7/site-packages/sklearn/metrics/_classification.py:1318: UndefinedMetricWarning: Recall is ill-defined and being set to 0.0 in labels with no true samples. Use `zero_division` parameter to control this behavior.\n",
      "  _warn_prf(average, modifier, msg_start, len(result))\n",
      "/opt/conda/lib/python3.7/site-packages/sklearn/metrics/_classification.py:1318: UndefinedMetricWarning: Recall is ill-defined and being set to 0.0 in labels with no true samples. Use `zero_division` parameter to control this behavior.\n",
      "  _warn_prf(average, modifier, msg_start, len(result))\n",
      "/opt/conda/lib/python3.7/site-packages/sklearn/metrics/_classification.py:1318: UndefinedMetricWarning: Recall is ill-defined and being set to 0.0 in labels with no true samples. Use `zero_division` parameter to control this behavior.\n",
      "  _warn_prf(average, modifier, msg_start, len(result))\n",
      "/opt/conda/lib/python3.7/site-packages/sklearn/metrics/_classification.py:1318: UndefinedMetricWarning: Recall is ill-defined and being set to 0.0 in labels with no true samples. Use `zero_division` parameter to control this behavior.\n",
      "  _warn_prf(average, modifier, msg_start, len(result))\n",
      "/opt/conda/lib/python3.7/site-packages/sklearn/metrics/_classification.py:1318: UndefinedMetricWarning: Recall is ill-defined and being set to 0.0 in labels with no true samples. Use `zero_division` parameter to control this behavior.\n",
      "  _warn_prf(average, modifier, msg_start, len(result))\n",
      "/opt/conda/lib/python3.7/site-packages/sklearn/metrics/_classification.py:1318: UndefinedMetricWarning: Recall is ill-defined and being set to 0.0 in labels with no true samples. Use `zero_division` parameter to control this behavior.\n",
      "  _warn_prf(average, modifier, msg_start, len(result))\n",
      "/opt/conda/lib/python3.7/site-packages/sklearn/metrics/_classification.py:1318: UndefinedMetricWarning: Recall is ill-defined and being set to 0.0 in labels with no true samples. Use `zero_division` parameter to control this behavior.\n",
      "  _warn_prf(average, modifier, msg_start, len(result))\n",
      "/opt/conda/lib/python3.7/site-packages/sklearn/metrics/_classification.py:1318: UndefinedMetricWarning: Recall is ill-defined and being set to 0.0 in labels with no true samples. Use `zero_division` parameter to control this behavior.\n",
      "  _warn_prf(average, modifier, msg_start, len(result))\n"
     ]
    }
   ],
   "source": [
    "query_indexes = list(range(0, test_images.shape[0]))\n",
    "class_builder = {label_unique:[] for label_unique in labels}\n",
    "recalls = copy.deepcopy(class_builder)\n",
    "precisions = copy.deepcopy(class_builder)\n",
    "# loop over the testing indexes\n",
    "for i in query_indexes:\n",
    "    queryFeatures = features_retrieved[i]\n",
    "    results = perform_search(queryFeatures, training_indexed, max_results=5)\n",
    "    labels_ret = [training_indexed[\"labels\"][r[1]] for r in results]\n",
    "    label_true = test_labels[i]\n",
    "    label_trues = [label_true for _ in labels_ret]\n",
    "    recall = metric.recall_score(label_trues, labels_ret, average='weighted')\n",
    "    precision = metric.precision_score(label_trues, labels_ret, average='weighted')\n",
    "    recalls[label_true].append(recall)\n",
    "    precisions[label_true].append(precision)"
   ]
  },
  {
   "cell_type": "markdown",
   "id": "c4e70d38",
   "metadata": {
    "id": "UA6W88ki8SLP",
    "papermill": {
     "duration": 0.35343,
     "end_time": "2023-04-09T18:59:28.131267",
     "exception": false,
     "start_time": "2023-04-09T18:59:27.777837",
     "status": "completed"
    },
    "tags": []
   },
   "source": [
    "## Print the recall and precision values"
   ]
  },
  {
   "cell_type": "code",
   "execution_count": 22,
   "id": "5dbc0fcb",
   "metadata": {
    "execution": {
     "iopub.execute_input": "2023-04-09T18:59:28.883175Z",
     "iopub.status.busy": "2023-04-09T18:59:28.882785Z",
     "iopub.status.idle": "2023-04-09T18:59:28.892643Z",
     "shell.execute_reply": "2023-04-09T18:59:28.891378Z"
    },
    "executionInfo": {
     "elapsed": 14,
     "status": "ok",
     "timestamp": 1634460101651,
     "user": {
      "displayName": "Kharisma Muzaki Ghufron",
      "photoUrl": "https://lh3.googleusercontent.com/a/default-user=s64",
      "userId": "14730718725881384856"
     },
     "user_tz": -420
    },
    "id": "1ViD6suW8WnW",
    "outputId": "46c8b7ff-e926-43eb-f7a3-77752c4dedbb",
    "papermill": {
     "duration": 0.400137,
     "end_time": "2023-04-09T18:59:28.895013",
     "exception": false,
     "start_time": "2023-04-09T18:59:28.494876",
     "status": "completed"
    },
    "tags": []
   },
   "outputs": [
    {
     "name": "stdout",
     "output_type": "stream",
     "text": [
      "recall values:\n",
      "benign 0.4539682539682539\n",
      "malignant 0.7503649635036496\n",
      "combined recall 0.6021666087359517\n",
      "\n",
      "precision values:\n",
      "benign 0.9206349206349206\n",
      "malignant 0.9854014598540146\n",
      "combined precision 0.9530181902444677\n"
     ]
    }
   ],
   "source": [
    "print(\"recall values:\")\n",
    "comb_recall, comb_precision = [], []\n",
    "for key in recalls.keys():\n",
    "    average_val = np.average(recalls[key])\n",
    "    print(key, average_val)\n",
    "    comb_recall.append(average_val)\n",
    "print(\"combined recall\", np.average(comb_recall))\n",
    "\n",
    "print(\"\\nprecision values:\")\n",
    "for key in precisions.keys():\n",
    "    average_val = np.average(precisions[key])\n",
    "    print(key, average_val)\n",
    "    comb_precision.append(average_val)\n",
    "print(\"combined precision\", np.average(comb_precision))"
   ]
  },
  {
   "cell_type": "code",
   "execution_count": null,
   "id": "7cc3cdd6",
   "metadata": {
    "executionInfo": {
     "elapsed": 25,
     "status": "ok",
     "timestamp": 1634460101665,
     "user": {
      "displayName": "Kharisma Muzaki Ghufron",
      "photoUrl": "https://lh3.googleusercontent.com/a/default-user=s64",
      "userId": "14730718725881384856"
     },
     "user_tz": -420
    },
    "id": "sCxOAAUTwG7D",
    "papermill": {
     "duration": 0.44679,
     "end_time": "2023-04-09T18:59:29.726079",
     "exception": false,
     "start_time": "2023-04-09T18:59:29.279289",
     "status": "completed"
    },
    "tags": []
   },
   "outputs": [],
   "source": []
  }
 ],
 "metadata": {
  "kernelspec": {
   "display_name": "Python 3",
   "language": "python",
   "name": "python3"
  },
  "language_info": {
   "codemirror_mode": {
    "name": "ipython",
    "version": 3
   },
   "file_extension": ".py",
   "mimetype": "text/x-python",
   "name": "python",
   "nbconvert_exporter": "python",
   "pygments_lexer": "ipython3",
   "version": "3.7.12"
  },
  "papermill": {
   "default_parameters": {},
   "duration": 2794.05795,
   "end_time": "2023-04-09T18:59:33.709085",
   "environment_variables": {},
   "exception": null,
   "input_path": "__notebook__.ipynb",
   "output_path": "__notebook__.ipynb",
   "parameters": {},
   "start_time": "2023-04-09T18:12:59.651135",
   "version": "2.4.0"
  }
 },
 "nbformat": 4,
 "nbformat_minor": 5
}
