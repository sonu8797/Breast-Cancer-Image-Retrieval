{
 "cells": [
  {
   "cell_type": "markdown",
   "id": "47789ea2",
   "metadata": {
    "id": "-fJ7pPoz2opO",
    "papermill": {
     "duration": 0.008145,
     "end_time": "2023-03-18T14:18:26.458406",
     "exception": false,
     "start_time": "2023-03-18T14:18:26.450261",
     "status": "completed"
    },
    "tags": []
   },
   "source": [
    "## Depedency Library"
   ]
  },
  {
   "cell_type": "code",
   "execution_count": 1,
   "id": "a8d5c524",
   "metadata": {
    "execution": {
     "iopub.execute_input": "2023-03-18T14:18:26.474651Z",
     "iopub.status.busy": "2023-03-18T14:18:26.473972Z",
     "iopub.status.idle": "2023-03-18T14:18:34.945633Z",
     "shell.execute_reply": "2023-03-18T14:18:34.944500Z"
    },
    "executionInfo": {
     "elapsed": 4794,
     "status": "ok",
     "timestamp": 1634454562134,
     "user": {
      "displayName": "Kharisma Muzaki Ghufron",
      "photoUrl": "https://lh3.googleusercontent.com/a/default-user=s64",
      "userId": "14730718725881384856"
     },
     "user_tz": -420
    },
    "id": "SowRlZK22ryn",
    "papermill": {
     "duration": 8.482588,
     "end_time": "2023-03-18T14:18:34.948375",
     "exception": false,
     "start_time": "2023-03-18T14:18:26.465787",
     "status": "completed"
    },
    "tags": []
   },
   "outputs": [],
   "source": [
    "import numpy as np\n",
    "import json\n",
    "import os\n",
    "import glob\n",
    "import cv2\n",
    "import copy\n",
    "import sklearn.metrics as metric\n",
    "from sklearn.model_selection import train_test_split\n",
    "import pandas as pd\n",
    "\n",
    "import tensorflow as tf\n",
    "from tensorflow.keras import layers\n",
    "from tensorflow.keras.models import Model\n",
    "from tensorflow.keras import backend as K\n",
    "from tensorflow.keras.optimizers import Adam\n",
    "from tensorflow.keras.callbacks import ModelCheckpoint \n",
    "\n",
    "import matplotlib.pyplot as plt\n",
    "import matplotlib"
   ]
  },
  {
   "cell_type": "markdown",
   "id": "74df7e19",
   "metadata": {
    "id": "iOFbuzHJ0mf2",
    "papermill": {
     "duration": 0.007297,
     "end_time": "2023-03-18T14:18:34.963578",
     "exception": false,
     "start_time": "2023-03-18T14:18:34.956281",
     "status": "completed"
    },
    "tags": []
   },
   "source": [
    "## Definition of hyperparameter\n"
   ]
  },
  {
   "cell_type": "code",
   "execution_count": 2,
   "id": "312e71bc",
   "metadata": {
    "execution": {
     "iopub.execute_input": "2023-03-18T14:18:34.980765Z",
     "iopub.status.busy": "2023-03-18T14:18:34.979525Z",
     "iopub.status.idle": "2023-03-18T14:18:34.986994Z",
     "shell.execute_reply": "2023-03-18T14:18:34.986029Z"
    },
    "executionInfo": {
     "elapsed": 3,
     "status": "ok",
     "timestamp": 1634454562135,
     "user": {
      "displayName": "Kharisma Muzaki Ghufron",
      "photoUrl": "https://lh3.googleusercontent.com/a/default-user=s64",
      "userId": "14730718725881384856"
     },
     "user_tz": -420
    },
    "id": "C8IXMoVG0xB9",
    "papermill": {
     "duration": 0.018403,
     "end_time": "2023-03-18T14:18:34.989088",
     "exception": false,
     "start_time": "2023-03-18T14:18:34.970685",
     "status": "completed"
    },
    "tags": []
   },
   "outputs": [],
   "source": [
    "EPOCHS = 20\n",
    "INIT_LR = 1e-3\n",
    "BS = 16\n",
    "IMAGE_SIZE = (256, 256)\n",
    "\n",
    "magnification = \"400X\"\n",
    "class_type = \"binary\" #multiclass\n",
    "if class_type == \"binary\":\n",
    "    class_dir = ['benign', 'malignant']\n",
    "else:\n",
    "    class_dir = ['tubular_adenoma', 'phyllodes_tumor', 'papillary_carcinoma',\n",
    "              'mucinous_carcinoma', 'lobular_carcinoma', 'fibroadenoma',\n",
    "              'ductal_carcinoma', 'adenosis']\n",
    "    \n",
    "checkpoint_path = \"training_1_40_binary_cp/cp.ckpt\"\n",
    "feature_path = \"training_1_40_binary_feature.json\"\n",
    "model_path = \"training_1_40_binary_model.h5\"\n",
    "history_path = \"training_1_40_binary_history.json\""
   ]
  },
  {
   "cell_type": "code",
   "execution_count": 3,
   "id": "f0384705",
   "metadata": {
    "execution": {
     "iopub.execute_input": "2023-03-18T14:18:35.004955Z",
     "iopub.status.busy": "2023-03-18T14:18:35.004396Z",
     "iopub.status.idle": "2023-03-18T14:18:36.053527Z",
     "shell.execute_reply": "2023-03-18T14:18:36.052239Z"
    },
    "papermill": {
     "duration": 1.059895,
     "end_time": "2023-03-18T14:18:36.056385",
     "exception": false,
     "start_time": "2023-03-18T14:18:34.996490",
     "status": "completed"
    },
    "tags": []
   },
   "outputs": [],
   "source": [
    "paths, labels = [], []\n",
    "\n",
    "# /kaggle/input/breakhis/BreaKHis_v1/BreaKHis_v1/histology_slides/breast/benign/SOB/adenosis/SOB_B_A_14-22549AB/100X/SOB_B_A-14-22549AB-100-001.png\n",
    "\n",
    "if class_type == \"binary\":\n",
    "    for class_ in class_dir:\n",
    "        ls = glob.glob(f\"/kaggle/input/breakhis/BreaKHis_v1/BreaKHis_v1/histology_slides/breast/{class_}/SOB/*/*/{magnification}/*\")\n",
    "        paths.extend(ls)\n",
    "        labels.extend([class_]*len(ls))\n",
    "else:\n",
    "    for class_ in class_dir:\n",
    "        ls = glob.glob(f\"/kaggle/input/breakhis/BreaKHis_v1/BreaKHis_v1/histology_slides/breast/*/SOB/{class_}/*/{magnification}/*\")\n",
    "        paths.extend(ls)\n",
    "        labels.extend([class_]*len(ls))"
   ]
  },
  {
   "cell_type": "markdown",
   "id": "cf01b8df",
   "metadata": {
    "id": "uT5Eja5J0_uW",
    "papermill": {
     "duration": 0.007322,
     "end_time": "2023-03-18T14:18:36.071191",
     "exception": false,
     "start_time": "2023-03-18T14:18:36.063869",
     "status": "completed"
    },
    "tags": []
   },
   "source": [
    "## Data Split"
   ]
  },
  {
   "cell_type": "code",
   "execution_count": 4,
   "id": "c3d2f4e3",
   "metadata": {
    "execution": {
     "iopub.execute_input": "2023-03-18T14:18:36.087034Z",
     "iopub.status.busy": "2023-03-18T14:18:36.086712Z",
     "iopub.status.idle": "2023-03-18T14:18:36.092130Z",
     "shell.execute_reply": "2023-03-18T14:18:36.091105Z"
    },
    "papermill": {
     "duration": 0.016112,
     "end_time": "2023-03-18T14:18:36.094502",
     "exception": false,
     "start_time": "2023-03-18T14:18:36.078390",
     "status": "completed"
    },
    "tags": []
   },
   "outputs": [],
   "source": [
    "def get_array(paths):\n",
    "    images = []\n",
    "    for path in paths:\n",
    "        image = cv2.imread(path)\n",
    "        image = cv2.resize(image, IMAGE_SIZE)\n",
    "        images.append(image)\n",
    "    images = np.array(images).astype(\"float32\") / 255.0\n",
    "    return images"
   ]
  },
  {
   "cell_type": "code",
   "execution_count": 5,
   "id": "57b5a56c",
   "metadata": {
    "execution": {
     "iopub.execute_input": "2023-03-18T14:18:36.111302Z",
     "iopub.status.busy": "2023-03-18T14:18:36.110774Z",
     "iopub.status.idle": "2023-03-18T14:19:13.749711Z",
     "shell.execute_reply": "2023-03-18T14:19:13.748675Z"
    },
    "papermill": {
     "duration": 37.649987,
     "end_time": "2023-03-18T14:19:13.752300",
     "exception": false,
     "start_time": "2023-03-18T14:18:36.102313",
     "status": "completed"
    },
    "tags": []
   },
   "outputs": [],
   "source": [
    "train_paths, val_paths, train_labels, val_labels = train_test_split(paths, labels, test_size=0.2, stratify=labels)\n",
    "val_paths, test_paths, val_labels, test_labels = train_test_split(val_paths, val_labels, test_size=0.5, stratify=val_labels)\n",
    "\n",
    "train_images = get_array(train_paths)\n",
    "val_images = get_array(val_paths)\n",
    "test_images = get_array(test_paths)"
   ]
  },
  {
   "cell_type": "markdown",
   "id": "9253306f",
   "metadata": {
    "papermill": {
     "duration": 0.006894,
     "end_time": "2023-03-18T14:19:13.767123",
     "exception": false,
     "start_time": "2023-03-18T14:19:13.760229",
     "status": "completed"
    },
    "tags": []
   },
   "source": [
    "## Model"
   ]
  },
  {
   "cell_type": "code",
   "execution_count": 6,
   "id": "84298087",
   "metadata": {
    "execution": {
     "iopub.execute_input": "2023-03-18T14:19:13.783583Z",
     "iopub.status.busy": "2023-03-18T14:19:13.783252Z",
     "iopub.status.idle": "2023-03-18T14:19:13.794092Z",
     "shell.execute_reply": "2023-03-18T14:19:13.792870Z"
    },
    "papermill": {
     "duration": 0.021995,
     "end_time": "2023-03-18T14:19:13.796603",
     "exception": false,
     "start_time": "2023-03-18T14:19:13.774608",
     "status": "completed"
    },
    "tags": []
   },
   "outputs": [],
   "source": [
    "class ConvAutoEncoder:\n",
    "    \"\"\"\n",
    "    Core Convolutional AutoEncoder\n",
    "    This class included with build method you can adjust of width height and depth of image\n",
    "    default filters 128, and latent dimension 48\n",
    "    \"\"\"\n",
    "    @staticmethod\n",
    "    def build(width, height, depth, filters=(128,), latent_dim=48):\n",
    "        input_shape = (height, width, depth)\n",
    "        channel_dim = -1\n",
    "        inputs = layers.Input(shape=input_shape)\n",
    "        x = inputs\n",
    "        # Encoder layer\n",
    "        for f in filters:\n",
    "            x = layers.Conv2D(f, (3, 3), strides=2, padding='same')(x)\n",
    "            x = layers.LeakyReLU(alpha=0.2)(x)\n",
    "            x = layers.BatchNormalization(axis=channel_dim, name='enc_filter_' + str(f))(x)\n",
    "        volume_size = K.int_shape(x)\n",
    "        x = layers.Flatten()(x)\n",
    "        # Latent layer\n",
    "        latent = layers.Dense(latent_dim, name=\"encoded\")(x)\n",
    "        # Decoder layer\n",
    "        x = layers.Dense(np.prod(volume_size[1:]))(latent)\n",
    "        x = layers.Reshape((volume_size[1], volume_size[2], volume_size[3]))(x)\n",
    "        # Reverse on decoder\n",
    "        for f in filters[::-1]:\n",
    "            x = layers.Conv2DTranspose(f, (3, 3), strides=2, padding='same')(x)\n",
    "            x = layers.LeakyReLU(alpha=0.2)(x)\n",
    "            x = layers.BatchNormalization(axis=channel_dim, name='dec_filter_' + str(f))(x)\n",
    "        x = layers.Conv2DTranspose(depth, (3, 3), padding=\"same\")(x)\n",
    "        outputs = layers.Activation(\"sigmoid\", name=\"decoded\")(x)\n",
    "        auto_encoder = Model(inputs, outputs, name=\"auto_encoder\")\n",
    "        return auto_encoder"
   ]
  },
  {
   "cell_type": "markdown",
   "id": "56f96cba",
   "metadata": {
    "id": "ahHRLqBo11pO",
    "papermill": {
     "duration": 0.007228,
     "end_time": "2023-03-18T14:19:13.810984",
     "exception": false,
     "start_time": "2023-03-18T14:19:13.803756",
     "status": "completed"
    },
    "tags": []
   },
   "source": [
    "## Buiding Model based ConvAutoEncoder Class"
   ]
  },
  {
   "cell_type": "code",
   "execution_count": 7,
   "id": "799e841e",
   "metadata": {
    "execution": {
     "iopub.execute_input": "2023-03-18T14:19:13.826898Z",
     "iopub.status.busy": "2023-03-18T14:19:13.826601Z",
     "iopub.status.idle": "2023-03-18T14:19:17.786103Z",
     "shell.execute_reply": "2023-03-18T14:19:17.785322Z"
    },
    "executionInfo": {
     "elapsed": 5625,
     "status": "ok",
     "timestamp": 1634455930569,
     "user": {
      "displayName": "Kharisma Muzaki Ghufron",
      "photoUrl": "https://lh3.googleusercontent.com/a/default-user=s64",
      "userId": "14730718725881384856"
     },
     "user_tz": -420
    },
    "id": "aFgpsuG814_2",
    "outputId": "bbe01b32-a8b0-4013-85d9-12a2c2fafbc9",
    "papermill": {
     "duration": 3.994189,
     "end_time": "2023-03-18T14:19:17.812646",
     "exception": false,
     "start_time": "2023-03-18T14:19:13.818457",
     "status": "completed"
    },
    "tags": []
   },
   "outputs": [
    {
     "name": "stdout",
     "output_type": "stream",
     "text": [
      "[INFO] building auto encoder...\n",
      "Model: \"auto_encoder\"\n",
      "_________________________________________________________________\n",
      " Layer (type)                Output Shape              Param #   \n",
      "=================================================================\n",
      " input_1 (InputLayer)        [(None, 256, 256, 3)]     0         \n",
      "                                                                 \n",
      " conv2d (Conv2D)             (None, 128, 128, 128)     3584      \n",
      "                                                                 \n",
      " leaky_re_lu (LeakyReLU)     (None, 128, 128, 128)     0         \n",
      "                                                                 \n",
      " enc_filter_128 (BatchNormal  (None, 128, 128, 128)    512       \n",
      " ization)                                                        \n",
      "                                                                 \n",
      " flatten (Flatten)           (None, 2097152)           0         \n",
      "                                                                 \n",
      " encoded (Dense)             (None, 48)                100663344 \n",
      "                                                                 \n",
      " dense (Dense)               (None, 2097152)           102760448 \n",
      "                                                                 \n",
      " reshape (Reshape)           (None, 128, 128, 128)     0         \n",
      "                                                                 \n",
      " conv2d_transpose (Conv2DTra  (None, 256, 256, 128)    147584    \n",
      " nspose)                                                         \n",
      "                                                                 \n",
      " leaky_re_lu_1 (LeakyReLU)   (None, 256, 256, 128)     0         \n",
      "                                                                 \n",
      " dec_filter_128 (BatchNormal  (None, 256, 256, 128)    512       \n",
      " ization)                                                        \n",
      "                                                                 \n",
      " conv2d_transpose_1 (Conv2DT  (None, 256, 256, 3)      3459      \n",
      " ranspose)                                                       \n",
      "                                                                 \n",
      " decoded (Activation)        (None, 256, 256, 3)       0         \n",
      "                                                                 \n",
      "=================================================================\n",
      "Total params: 203,579,443\n",
      "Trainable params: 203,578,931\n",
      "Non-trainable params: 512\n",
      "_________________________________________________________________\n"
     ]
    }
   ],
   "source": [
    "print(\"[INFO] building auto encoder...\")\n",
    "auto_encoder = ConvAutoEncoder.build(IMAGE_SIZE[0], IMAGE_SIZE[1], 3)\n",
    "opt = Adam(learning_rate=INIT_LR)\n",
    "checkpoint_callback = ModelCheckpoint(\n",
    "    filepath=checkpoint_path,\n",
    "    save_weights_only=True,\n",
    "    monitor=\"val_loss\",\n",
    "    verbose = 1,\n",
    "    mode='min',\n",
    "    save_best_only=True)\n",
    "auto_encoder.compile(loss=\"mse\", optimizer=opt)\n",
    "auto_encoder.summary()"
   ]
  },
  {
   "cell_type": "markdown",
   "id": "76483b85",
   "metadata": {
    "id": "AHk07pZL2DdQ",
    "papermill": {
     "duration": 0.008992,
     "end_time": "2023-03-18T14:19:17.831407",
     "exception": false,
     "start_time": "2023-03-18T14:19:17.822415",
     "status": "completed"
    },
    "tags": []
   },
   "source": [
    "## Training The Model"
   ]
  },
  {
   "cell_type": "code",
   "execution_count": 8,
   "id": "ae0e9342",
   "metadata": {
    "execution": {
     "iopub.execute_input": "2023-03-18T14:19:17.852360Z",
     "iopub.status.busy": "2023-03-18T14:19:17.852014Z",
     "iopub.status.idle": "2023-03-18T14:29:45.613622Z",
     "shell.execute_reply": "2023-03-18T14:29:45.612270Z"
    },
    "executionInfo": {
     "elapsed": 3926380,
     "status": "ok",
     "timestamp": 1634459856945,
     "user": {
      "displayName": "Kharisma Muzaki Ghufron",
      "photoUrl": "https://lh3.googleusercontent.com/a/default-user=s64",
      "userId": "14730718725881384856"
     },
     "user_tz": -420
    },
    "id": "iR1qEEyX2J8-",
    "outputId": "e21d3490-9768-4944-e2a5-ddbe49f975c7",
    "papermill": {
     "duration": 627.77606,
     "end_time": "2023-03-18T14:29:45.616707",
     "exception": false,
     "start_time": "2023-03-18T14:19:17.840647",
     "status": "completed"
    },
    "tags": []
   },
   "outputs": [
    {
     "name": "stdout",
     "output_type": "stream",
     "text": [
      "[INFO] training auto encoder...\n",
      "Epoch 1/20\n",
      "91/91 [==============================] - ETA: 0s - loss: 0.0436\n",
      "Epoch 1: val_loss improved from inf to 0.02464, saving model to training_1_40_binary_cp/cp.ckpt\n",
      "91/91 [==============================] - 46s 386ms/step - loss: 0.0436 - val_loss: 0.0246\n",
      "Epoch 2/20\n",
      "91/91 [==============================] - ETA: 0s - loss: 0.0193\n",
      "Epoch 2: val_loss improved from 0.02464 to 0.02237, saving model to training_1_40_binary_cp/cp.ckpt\n",
      "91/91 [==============================] - 37s 403ms/step - loss: 0.0193 - val_loss: 0.0224\n",
      "Epoch 3/20\n",
      "91/91 [==============================] - ETA: 0s - loss: 0.0186\n",
      "Epoch 3: val_loss improved from 0.02237 to 0.02142, saving model to training_1_40_binary_cp/cp.ckpt\n",
      "91/91 [==============================] - 39s 428ms/step - loss: 0.0186 - val_loss: 0.0214\n",
      "Epoch 4/20\n",
      "91/91 [==============================] - ETA: 0s - loss: 0.0176\n",
      "Epoch 4: val_loss improved from 0.02142 to 0.02082, saving model to training_1_40_binary_cp/cp.ckpt\n",
      "91/91 [==============================] - 39s 429ms/step - loss: 0.0176 - val_loss: 0.0208\n",
      "Epoch 5/20\n",
      "91/91 [==============================] - ETA: 0s - loss: 0.0167\n",
      "Epoch 5: val_loss did not improve from 0.02082\n",
      "91/91 [==============================] - 23s 252ms/step - loss: 0.0167 - val_loss: 0.0302\n",
      "Epoch 6/20\n",
      "91/91 [==============================] - ETA: 0s - loss: 0.0158\n",
      "Epoch 6: val_loss did not improve from 0.02082\n",
      "91/91 [==============================] - 23s 252ms/step - loss: 0.0158 - val_loss: 0.0226\n",
      "Epoch 7/20\n",
      "91/91 [==============================] - ETA: 0s - loss: 0.0153\n",
      "Epoch 7: val_loss improved from 0.02082 to 0.01539, saving model to training_1_40_binary_cp/cp.ckpt\n",
      "91/91 [==============================] - 34s 375ms/step - loss: 0.0153 - val_loss: 0.0154\n",
      "Epoch 8/20\n",
      "91/91 [==============================] - ETA: 0s - loss: 0.0145\n",
      "Epoch 8: val_loss improved from 0.01539 to 0.01453, saving model to training_1_40_binary_cp/cp.ckpt\n",
      "91/91 [==============================] - 40s 436ms/step - loss: 0.0145 - val_loss: 0.0145\n",
      "Epoch 9/20\n",
      "91/91 [==============================] - ETA: 0s - loss: 0.0139\n",
      "Epoch 9: val_loss did not improve from 0.01453\n",
      "91/91 [==============================] - 23s 253ms/step - loss: 0.0139 - val_loss: 0.0148\n",
      "Epoch 10/20\n",
      "91/91 [==============================] - ETA: 0s - loss: 0.0134\n",
      "Epoch 10: val_loss did not improve from 0.01453\n",
      "91/91 [==============================] - 23s 252ms/step - loss: 0.0134 - val_loss: 0.0175\n",
      "Epoch 11/20\n",
      "91/91 [==============================] - ETA: 0s - loss: 0.0129\n",
      "Epoch 11: val_loss did not improve from 0.01453\n",
      "91/91 [==============================] - 22s 247ms/step - loss: 0.0129 - val_loss: 0.0188\n",
      "Epoch 12/20\n",
      "91/91 [==============================] - ETA: 0s - loss: 0.0127\n",
      "Epoch 12: val_loss did not improve from 0.01453\n",
      "91/91 [==============================] - 23s 248ms/step - loss: 0.0127 - val_loss: 0.0182\n",
      "Epoch 13/20\n",
      "91/91 [==============================] - ETA: 0s - loss: 0.0124\n",
      "Epoch 13: val_loss did not improve from 0.01453\n",
      "91/91 [==============================] - 23s 249ms/step - loss: 0.0124 - val_loss: 0.0215\n",
      "Epoch 14/20\n",
      "91/91 [==============================] - ETA: 0s - loss: 0.0118\n",
      "Epoch 14: val_loss did not improve from 0.01453\n",
      "91/91 [==============================] - 23s 249ms/step - loss: 0.0118 - val_loss: 0.0165\n",
      "Epoch 15/20\n",
      "91/91 [==============================] - ETA: 0s - loss: 0.0114\n",
      "Epoch 15: val_loss improved from 0.01453 to 0.01446, saving model to training_1_40_binary_cp/cp.ckpt\n",
      "91/91 [==============================] - 37s 412ms/step - loss: 0.0114 - val_loss: 0.0145\n",
      "Epoch 16/20\n",
      "91/91 [==============================] - ETA: 0s - loss: 0.0110\n",
      "Epoch 16: val_loss improved from 0.01446 to 0.01443, saving model to training_1_40_binary_cp/cp.ckpt\n",
      "91/91 [==============================] - 38s 418ms/step - loss: 0.0110 - val_loss: 0.0144\n",
      "Epoch 17/20\n",
      "91/91 [==============================] - ETA: 0s - loss: 0.0106\n",
      "Epoch 17: val_loss did not improve from 0.01443\n",
      "91/91 [==============================] - 23s 253ms/step - loss: 0.0106 - val_loss: 0.0146\n",
      "Epoch 18/20\n",
      "91/91 [==============================] - ETA: 0s - loss: 0.0099\n",
      "Epoch 18: val_loss did not improve from 0.01443\n",
      "91/91 [==============================] - 23s 250ms/step - loss: 0.0099 - val_loss: 0.0150\n",
      "Epoch 19/20\n",
      "91/91 [==============================] - ETA: 0s - loss: 0.0094\n",
      "Epoch 19: val_loss did not improve from 0.01443\n",
      "91/91 [==============================] - 22s 246ms/step - loss: 0.0094 - val_loss: 0.0154\n",
      "Epoch 20/20\n",
      "91/91 [==============================] - ETA: 0s - loss: 0.0090\n",
      "Epoch 20: val_loss did not improve from 0.01443\n",
      "91/91 [==============================] - 22s 247ms/step - loss: 0.0090 - val_loss: 0.0158\n"
     ]
    }
   ],
   "source": [
    "# train the convolutional auto encoder\n",
    "print(\"[INFO] training auto encoder...\")\n",
    "\n",
    "with tf.device(\"/GPU:0\"):\n",
    "    H = auto_encoder.fit(\n",
    "        train_images, train_images,\n",
    "        shuffle=True,\n",
    "        validation_data=(val_images, val_images),\n",
    "        epochs=EPOCHS,\n",
    "        callbacks = [checkpoint_callback], batch_size=BS)"
   ]
  },
  {
   "cell_type": "markdown",
   "id": "b6afd122",
   "metadata": {
    "id": "NGP0dXvg2Lze",
    "papermill": {
     "duration": 0.115667,
     "end_time": "2023-03-18T14:29:45.856971",
     "exception": false,
     "start_time": "2023-03-18T14:29:45.741304",
     "status": "completed"
    },
    "tags": []
   },
   "source": [
    "## Saved Result Graphic (.json) and Model Trained (h5)"
   ]
  },
  {
   "cell_type": "code",
   "execution_count": 9,
   "id": "0f2ba972",
   "metadata": {
    "execution": {
     "iopub.execute_input": "2023-03-18T14:29:46.090618Z",
     "iopub.status.busy": "2023-03-18T14:29:46.090250Z",
     "iopub.status.idle": "2023-03-18T14:29:58.371400Z",
     "shell.execute_reply": "2023-03-18T14:29:58.370326Z"
    },
    "executionInfo": {
     "elapsed": 29984,
     "status": "ok",
     "timestamp": 1634459886922,
     "user": {
      "displayName": "Kharisma Muzaki Ghufron",
      "photoUrl": "https://lh3.googleusercontent.com/a/default-user=s64",
      "userId": "14730718725881384856"
     },
     "user_tz": -420
    },
    "id": "4W49P0jq2Zt-",
    "papermill": {
     "duration": 12.401649,
     "end_time": "2023-03-18T14:29:58.374165",
     "exception": false,
     "start_time": "2023-03-18T14:29:45.972516",
     "status": "completed"
    },
    "tags": []
   },
   "outputs": [],
   "source": [
    "with open(history_path, 'w') as f:\n",
    "    json.dump(H.history, f)\n",
    "auto_encoder.save(model_path)"
   ]
  },
  {
   "cell_type": "markdown",
   "id": "b307caef",
   "metadata": {
    "id": "YiaL-r9o3wMW",
    "papermill": {
     "duration": 0.222567,
     "end_time": "2023-03-18T14:30:00.475354",
     "exception": false,
     "start_time": "2023-03-18T14:30:00.252787",
     "status": "completed"
    },
    "tags": []
   },
   "source": [
    "# Extract Feature Stage"
   ]
  },
  {
   "cell_type": "markdown",
   "id": "204893e8",
   "metadata": {
    "id": "WDJy4NT43-tO",
    "papermill": {
     "duration": 0.119492,
     "end_time": "2023-03-18T14:30:00.701777",
     "exception": false,
     "start_time": "2023-03-18T14:30:00.582285",
     "status": "completed"
    },
    "tags": []
   },
   "source": [
    "## Load already trained model and extracting feature\n"
   ]
  },
  {
   "cell_type": "code",
   "execution_count": 10,
   "id": "4f20a1d0",
   "metadata": {
    "execution": {
     "iopub.execute_input": "2023-03-18T14:30:00.922754Z",
     "iopub.status.busy": "2023-03-18T14:30:00.921742Z",
     "iopub.status.idle": "2023-03-18T14:30:09.481934Z",
     "shell.execute_reply": "2023-03-18T14:30:09.479844Z"
    },
    "executionInfo": {
     "elapsed": 30833,
     "status": "ok",
     "timestamp": 1634459917745,
     "user": {
      "displayName": "Kharisma Muzaki Ghufron",
      "photoUrl": "https://lh3.googleusercontent.com/a/default-user=s64",
      "userId": "14730718725881384856"
     },
     "user_tz": -420
    },
    "id": "eN11l1iF4DUW",
    "outputId": "c1b5cd23-5746-4e86-b1c5-5e1abc415979",
    "papermill": {
     "duration": 8.677499,
     "end_time": "2023-03-18T14:30:09.485828",
     "exception": false,
     "start_time": "2023-03-18T14:30:00.808329",
     "status": "completed"
    },
    "tags": []
   },
   "outputs": [
    {
     "name": "stdout",
     "output_type": "stream",
     "text": [
      "[INFO] loading auto encoder model...\n",
      "[INFO] encoding images...\n",
      "46/46 [==============================] - 1s 23ms/step\n"
     ]
    }
   ],
   "source": [
    "auto_encoder = ConvAutoEncoder.build(IMAGE_SIZE[0], IMAGE_SIZE[1], 3)\n",
    "# load our auto_encoder from disk\n",
    "print(\"[INFO] loading auto encoder model...\")\n",
    "auto_encoder.load_weights(checkpoint_path)\n",
    "\n",
    "# create the encoder model which consists of *just* the encoder\n",
    "# portion of the auto encoder\n",
    "encoder = Model(inputs=auto_encoder.input, outputs=auto_encoder.get_layer(\"encoded\").output)\n",
    "\n",
    "# quantify the contents of our input images using the encoder\n",
    "print(\"[INFO] encoding images...\")\n",
    "features = encoder.predict(train_images)"
   ]
  },
  {
   "cell_type": "markdown",
   "id": "dc26c4d3",
   "metadata": {
    "id": "RwRiJP-84VaP",
    "papermill": {
     "duration": 0.108311,
     "end_time": "2023-03-18T14:30:09.715127",
     "exception": false,
     "start_time": "2023-03-18T14:30:09.606816",
     "status": "completed"
    },
    "tags": []
   },
   "source": [
    "## Create mapping feature included location images, label, feature and indexing number"
   ]
  },
  {
   "cell_type": "code",
   "execution_count": 11,
   "id": "a815768f",
   "metadata": {
    "execution": {
     "iopub.execute_input": "2023-03-18T14:30:09.934277Z",
     "iopub.status.busy": "2023-03-18T14:30:09.933912Z",
     "iopub.status.idle": "2023-03-18T14:30:09.955678Z",
     "shell.execute_reply": "2023-03-18T14:30:09.954697Z"
    },
    "executionInfo": {
     "elapsed": 8,
     "status": "ok",
     "timestamp": 1634459917745,
     "user": {
      "displayName": "Kharisma Muzaki Ghufron",
      "photoUrl": "https://lh3.googleusercontent.com/a/default-user=s64",
      "userId": "14730718725881384856"
     },
     "user_tz": -420
    },
    "id": "ItHAs9Aj4fm_",
    "papermill": {
     "duration": 0.135762,
     "end_time": "2023-03-18T14:30:09.958103",
     "exception": false,
     "start_time": "2023-03-18T14:30:09.822341",
     "status": "completed"
    },
    "tags": []
   },
   "outputs": [],
   "source": [
    "train_indexes = list(range(0, train_images.shape[0]))\n",
    "train_features_array = [[float(x) for x in y] for y in features]\n",
    "data = {\"indexes\": train_indexes, \"features\": train_features_array, \"locations\": train_paths, \"labels\":train_labels}"
   ]
  },
  {
   "cell_type": "markdown",
   "id": "28a212c7",
   "metadata": {
    "id": "-Hb3KBS-4hS3",
    "papermill": {
     "duration": 0.107175,
     "end_time": "2023-03-18T14:30:10.173396",
     "exception": false,
     "start_time": "2023-03-18T14:30:10.066221",
     "status": "completed"
    },
    "tags": []
   },
   "source": [
    "## Saved model feature (already mapped) as json"
   ]
  },
  {
   "cell_type": "code",
   "execution_count": 12,
   "id": "c4188bfd",
   "metadata": {
    "execution": {
     "iopub.execute_input": "2023-03-18T14:30:10.391336Z",
     "iopub.status.busy": "2023-03-18T14:30:10.390975Z",
     "iopub.status.idle": "2023-03-18T14:30:10.521402Z",
     "shell.execute_reply": "2023-03-18T14:30:10.520425Z"
    },
    "executionInfo": {
     "elapsed": 446,
     "status": "ok",
     "timestamp": 1634459918184,
     "user": {
      "displayName": "Kharisma Muzaki Ghufron",
      "photoUrl": "https://lh3.googleusercontent.com/a/default-user=s64",
      "userId": "14730718725881384856"
     },
     "user_tz": -420
    },
    "id": "gHqqNqSV4mun",
    "papermill": {
     "duration": 0.241288,
     "end_time": "2023-03-18T14:30:10.523914",
     "exception": false,
     "start_time": "2023-03-18T14:30:10.282626",
     "status": "completed"
    },
    "tags": []
   },
   "outputs": [],
   "source": [
    "with open(feature_path, 'w') as f:\n",
    "    json.dump(data, f)"
   ]
  },
  {
   "cell_type": "markdown",
   "id": "a737b5d8",
   "metadata": {
    "id": "mEKpKr-G6VAO",
    "papermill": {
     "duration": 0.106913,
     "end_time": "2023-03-18T14:30:10.739893",
     "exception": false,
     "start_time": "2023-03-18T14:30:10.632980",
     "status": "completed"
    },
    "tags": []
   },
   "source": [
    "# Retrieval Test Stage"
   ]
  },
  {
   "cell_type": "markdown",
   "id": "c4f7f7cc",
   "metadata": {
    "id": "JtD8TrpR7cVe",
    "papermill": {
     "duration": 0.115528,
     "end_time": "2023-03-18T14:30:10.974625",
     "exception": false,
     "start_time": "2023-03-18T14:30:10.859097",
     "status": "completed"
    },
    "tags": []
   },
   "source": [
    "## Euclidean function"
   ]
  },
  {
   "cell_type": "code",
   "execution_count": 13,
   "id": "d7630187",
   "metadata": {
    "execution": {
     "iopub.execute_input": "2023-03-18T14:30:11.206272Z",
     "iopub.status.busy": "2023-03-18T14:30:11.205598Z",
     "iopub.status.idle": "2023-03-18T14:30:11.210350Z",
     "shell.execute_reply": "2023-03-18T14:30:11.209340Z"
    },
    "executionInfo": {
     "elapsed": 23,
     "status": "ok",
     "timestamp": 1634459918185,
     "user": {
      "displayName": "Kharisma Muzaki Ghufron",
      "photoUrl": "https://lh3.googleusercontent.com/a/default-user=s64",
      "userId": "14730718725881384856"
     },
     "user_tz": -420
    },
    "id": "GZq6CCE77XHA",
    "papermill": {
     "duration": 0.119669,
     "end_time": "2023-03-18T14:30:11.212760",
     "exception": false,
     "start_time": "2023-03-18T14:30:11.093091",
     "status": "completed"
    },
    "tags": []
   },
   "outputs": [],
   "source": [
    "def euclidean(a, b):\n",
    "    # compute and return the euclidean distance between two vectors\n",
    "    return np.linalg.norm(a - b)"
   ]
  },
  {
   "cell_type": "markdown",
   "id": "d32634d2",
   "metadata": {
    "id": "bac1xbma7ew-",
    "papermill": {
     "duration": 0.107883,
     "end_time": "2023-03-18T14:30:11.428549",
     "exception": false,
     "start_time": "2023-03-18T14:30:11.320666",
     "status": "completed"
    },
    "tags": []
   },
   "source": [
    "## Perform search function\n",
    "```\n",
    "Default max result from search is 5\n",
    "```\n",
    "\n",
    "\n"
   ]
  },
  {
   "cell_type": "code",
   "execution_count": 14,
   "id": "4e28c6cb",
   "metadata": {
    "execution": {
     "iopub.execute_input": "2023-03-18T14:30:11.658643Z",
     "iopub.status.busy": "2023-03-18T14:30:11.657639Z",
     "iopub.status.idle": "2023-03-18T14:30:11.664025Z",
     "shell.execute_reply": "2023-03-18T14:30:11.663018Z"
    },
    "executionInfo": {
     "elapsed": 23,
     "status": "ok",
     "timestamp": 1634459918185,
     "user": {
      "displayName": "Kharisma Muzaki Ghufron",
      "photoUrl": "https://lh3.googleusercontent.com/a/default-user=s64",
      "userId": "14730718725881384856"
     },
     "user_tz": -420
    },
    "id": "H_aMevGo7g--",
    "papermill": {
     "duration": 0.120358,
     "end_time": "2023-03-18T14:30:11.666261",
     "exception": false,
     "start_time": "2023-03-18T14:30:11.545903",
     "status": "completed"
    },
    "tags": []
   },
   "outputs": [],
   "source": [
    "def perform_search(query_features, indexed_train, max_results=5):\n",
    "    retrieved = []\n",
    "    for idx in range(0, len(indexed_train[\"features\"])):\n",
    "        distance = euclidean(query_features, indexed_train[\"features\"][idx])\n",
    "        retrieved.append((distance, idx))\n",
    "    retrieved = sorted(retrieved)[:max_results]\n",
    "    return retrieved"
   ]
  },
  {
   "cell_type": "markdown",
   "id": "61849595",
   "metadata": {
    "id": "zWU1LO2L725_",
    "papermill": {
     "duration": 0.107752,
     "end_time": "2023-03-18T14:30:11.923499",
     "exception": false,
     "start_time": "2023-03-18T14:30:11.815747",
     "status": "completed"
    },
    "tags": []
   },
   "source": [
    "## Load the model and feature already extracted"
   ]
  },
  {
   "cell_type": "code",
   "execution_count": 15,
   "id": "31ea3e7b",
   "metadata": {
    "execution": {
     "iopub.execute_input": "2023-03-18T14:30:12.144326Z",
     "iopub.status.busy": "2023-03-18T14:30:12.143974Z",
     "iopub.status.idle": "2023-03-18T14:30:13.727111Z",
     "shell.execute_reply": "2023-03-18T14:30:13.726068Z"
    },
    "executionInfo": {
     "elapsed": 21348,
     "status": "ok",
     "timestamp": 1634460095599,
     "user": {
      "displayName": "Kharisma Muzaki Ghufron",
      "photoUrl": "https://lh3.googleusercontent.com/a/default-user=s64",
      "userId": "14730718725881384856"
     },
     "user_tz": -420
    },
    "id": "l0yvC_Fm8Bo_",
    "outputId": "046dc82a-7970-4f8f-982c-7f1fe4454023",
    "papermill": {
     "duration": 1.694571,
     "end_time": "2023-03-18T14:30:13.729558",
     "exception": false,
     "start_time": "2023-03-18T14:30:12.034987",
     "status": "completed"
    },
    "tags": []
   },
   "outputs": [
    {
     "name": "stdout",
     "output_type": "stream",
     "text": [
      "[INFO] loading auto encoder model...\n",
      "[INFO] encoding images...\n",
      "6/6 [==============================] - 0s 37ms/step\n"
     ]
    }
   ],
   "source": [
    "auto_encoder = ConvAutoEncoder.build(IMAGE_SIZE[0], IMAGE_SIZE[1], 3)\n",
    "# load our auto_encoder from disk\n",
    "print(\"[INFO] loading auto encoder model...\")\n",
    "auto_encoder.load_weights(checkpoint_path)\n",
    "with open(feature_path) as f:\n",
    "    training_indexed = json.load(f)\n",
    "\n",
    "# create the encoder model which consists of *just* the encoder\n",
    "# portion of the auto encoder\n",
    "encoder = Model(inputs=auto_encoder.input, outputs=auto_encoder.get_layer(\"encoded\").output)\n",
    "\n",
    "# quantify the contents of our input images using the encoder\n",
    "print(\"[INFO] encoding images...\")\n",
    "features_retrieved = encoder.predict(test_images)"
   ]
  },
  {
   "cell_type": "markdown",
   "id": "eaa31727",
   "metadata": {
    "id": "VFt2q2eg8KkO",
    "papermill": {
     "duration": 0.11329,
     "end_time": "2023-03-18T14:30:13.954173",
     "exception": false,
     "start_time": "2023-03-18T14:30:13.840883",
     "status": "completed"
    },
    "tags": []
   },
   "source": [
    "## Perform search and retrieval based test images"
   ]
  },
  {
   "cell_type": "code",
   "execution_count": 16,
   "id": "80258b46",
   "metadata": {
    "_kg_hide-output": true,
    "execution": {
     "iopub.execute_input": "2023-03-18T14:30:14.178899Z",
     "iopub.status.busy": "2023-03-18T14:30:14.178554Z",
     "iopub.status.idle": "2023-03-18T14:30:17.611943Z",
     "shell.execute_reply": "2023-03-18T14:30:17.610729Z"
    },
    "executionInfo": {
     "elapsed": 6060,
     "status": "ok",
     "timestamp": 1634460101650,
     "user": {
      "displayName": "Kharisma Muzaki Ghufron",
      "photoUrl": "https://lh3.googleusercontent.com/a/default-user=s64",
      "userId": "14730718725881384856"
     },
     "user_tz": -420
    },
    "id": "SDoI3M9P8QXu",
    "outputId": "93e9ebef-40f4-4c55-c387-64f557f24995",
    "papermill": {
     "duration": 3.5479,
     "end_time": "2023-03-18T14:30:17.615175",
     "exception": false,
     "start_time": "2023-03-18T14:30:14.067275",
     "status": "completed"
    },
    "scrolled": true,
    "tags": []
   },
   "outputs": [
    {
     "name": "stderr",
     "output_type": "stream",
     "text": [
      "/opt/conda/lib/python3.7/site-packages/sklearn/metrics/_classification.py:1318: UndefinedMetricWarning: Recall is ill-defined and being set to 0.0 in labels with no true samples. Use `zero_division` parameter to control this behavior.\n",
      "  _warn_prf(average, modifier, msg_start, len(result))\n",
      "/opt/conda/lib/python3.7/site-packages/sklearn/metrics/_classification.py:1318: UndefinedMetricWarning: Recall is ill-defined and being set to 0.0 in labels with no true samples. Use `zero_division` parameter to control this behavior.\n",
      "  _warn_prf(average, modifier, msg_start, len(result))\n",
      "/opt/conda/lib/python3.7/site-packages/sklearn/metrics/_classification.py:1318: UndefinedMetricWarning: Recall is ill-defined and being set to 0.0 in labels with no true samples. Use `zero_division` parameter to control this behavior.\n",
      "  _warn_prf(average, modifier, msg_start, len(result))\n",
      "/opt/conda/lib/python3.7/site-packages/sklearn/metrics/_classification.py:1318: UndefinedMetricWarning: Recall is ill-defined and being set to 0.0 in labels with no true samples. Use `zero_division` parameter to control this behavior.\n",
      "  _warn_prf(average, modifier, msg_start, len(result))\n",
      "/opt/conda/lib/python3.7/site-packages/sklearn/metrics/_classification.py:1318: UndefinedMetricWarning: Recall is ill-defined and being set to 0.0 in labels with no true samples. Use `zero_division` parameter to control this behavior.\n",
      "  _warn_prf(average, modifier, msg_start, len(result))\n",
      "/opt/conda/lib/python3.7/site-packages/sklearn/metrics/_classification.py:1318: UndefinedMetricWarning: Recall is ill-defined and being set to 0.0 in labels with no true samples. Use `zero_division` parameter to control this behavior.\n",
      "  _warn_prf(average, modifier, msg_start, len(result))\n",
      "/opt/conda/lib/python3.7/site-packages/sklearn/metrics/_classification.py:1318: UndefinedMetricWarning: Recall is ill-defined and being set to 0.0 in labels with no true samples. Use `zero_division` parameter to control this behavior.\n",
      "  _warn_prf(average, modifier, msg_start, len(result))\n",
      "/opt/conda/lib/python3.7/site-packages/sklearn/metrics/_classification.py:1318: UndefinedMetricWarning: Recall is ill-defined and being set to 0.0 in labels with no true samples. Use `zero_division` parameter to control this behavior.\n",
      "  _warn_prf(average, modifier, msg_start, len(result))\n",
      "/opt/conda/lib/python3.7/site-packages/sklearn/metrics/_classification.py:1318: UndefinedMetricWarning: Recall is ill-defined and being set to 0.0 in labels with no true samples. Use `zero_division` parameter to control this behavior.\n",
      "  _warn_prf(average, modifier, msg_start, len(result))\n",
      "/opt/conda/lib/python3.7/site-packages/sklearn/metrics/_classification.py:1318: UndefinedMetricWarning: Recall is ill-defined and being set to 0.0 in labels with no true samples. Use `zero_division` parameter to control this behavior.\n",
      "  _warn_prf(average, modifier, msg_start, len(result))\n",
      "/opt/conda/lib/python3.7/site-packages/sklearn/metrics/_classification.py:1318: UndefinedMetricWarning: Recall is ill-defined and being set to 0.0 in labels with no true samples. Use `zero_division` parameter to control this behavior.\n",
      "  _warn_prf(average, modifier, msg_start, len(result))\n",
      "/opt/conda/lib/python3.7/site-packages/sklearn/metrics/_classification.py:1318: UndefinedMetricWarning: Recall is ill-defined and being set to 0.0 in labels with no true samples. Use `zero_division` parameter to control this behavior.\n",
      "  _warn_prf(average, modifier, msg_start, len(result))\n",
      "/opt/conda/lib/python3.7/site-packages/sklearn/metrics/_classification.py:1318: UndefinedMetricWarning: Recall is ill-defined and being set to 0.0 in labels with no true samples. Use `zero_division` parameter to control this behavior.\n",
      "  _warn_prf(average, modifier, msg_start, len(result))\n",
      "/opt/conda/lib/python3.7/site-packages/sklearn/metrics/_classification.py:1318: UndefinedMetricWarning: Recall is ill-defined and being set to 0.0 in labels with no true samples. Use `zero_division` parameter to control this behavior.\n",
      "  _warn_prf(average, modifier, msg_start, len(result))\n",
      "/opt/conda/lib/python3.7/site-packages/sklearn/metrics/_classification.py:1318: UndefinedMetricWarning: Recall is ill-defined and being set to 0.0 in labels with no true samples. Use `zero_division` parameter to control this behavior.\n",
      "  _warn_prf(average, modifier, msg_start, len(result))\n",
      "/opt/conda/lib/python3.7/site-packages/sklearn/metrics/_classification.py:1318: UndefinedMetricWarning: Precision is ill-defined and being set to 0.0 in labels with no predicted samples. Use `zero_division` parameter to control this behavior.\n",
      "  _warn_prf(average, modifier, msg_start, len(result))\n",
      "/opt/conda/lib/python3.7/site-packages/sklearn/metrics/_classification.py:1318: UndefinedMetricWarning: Recall is ill-defined and being set to 0.0 in labels with no true samples. Use `zero_division` parameter to control this behavior.\n",
      "  _warn_prf(average, modifier, msg_start, len(result))\n",
      "/opt/conda/lib/python3.7/site-packages/sklearn/metrics/_classification.py:1318: UndefinedMetricWarning: Recall is ill-defined and being set to 0.0 in labels with no true samples. Use `zero_division` parameter to control this behavior.\n",
      "  _warn_prf(average, modifier, msg_start, len(result))\n",
      "/opt/conda/lib/python3.7/site-packages/sklearn/metrics/_classification.py:1318: UndefinedMetricWarning: Recall is ill-defined and being set to 0.0 in labels with no true samples. Use `zero_division` parameter to control this behavior.\n",
      "  _warn_prf(average, modifier, msg_start, len(result))\n",
      "/opt/conda/lib/python3.7/site-packages/sklearn/metrics/_classification.py:1318: UndefinedMetricWarning: Recall is ill-defined and being set to 0.0 in labels with no true samples. Use `zero_division` parameter to control this behavior.\n",
      "  _warn_prf(average, modifier, msg_start, len(result))\n",
      "/opt/conda/lib/python3.7/site-packages/sklearn/metrics/_classification.py:1318: UndefinedMetricWarning: Recall is ill-defined and being set to 0.0 in labels with no true samples. Use `zero_division` parameter to control this behavior.\n",
      "  _warn_prf(average, modifier, msg_start, len(result))\n",
      "/opt/conda/lib/python3.7/site-packages/sklearn/metrics/_classification.py:1318: UndefinedMetricWarning: Recall is ill-defined and being set to 0.0 in labels with no true samples. Use `zero_division` parameter to control this behavior.\n",
      "  _warn_prf(average, modifier, msg_start, len(result))\n",
      "/opt/conda/lib/python3.7/site-packages/sklearn/metrics/_classification.py:1318: UndefinedMetricWarning: Recall is ill-defined and being set to 0.0 in labels with no true samples. Use `zero_division` parameter to control this behavior.\n",
      "  _warn_prf(average, modifier, msg_start, len(result))\n",
      "/opt/conda/lib/python3.7/site-packages/sklearn/metrics/_classification.py:1318: UndefinedMetricWarning: Recall is ill-defined and being set to 0.0 in labels with no true samples. Use `zero_division` parameter to control this behavior.\n",
      "  _warn_prf(average, modifier, msg_start, len(result))\n",
      "/opt/conda/lib/python3.7/site-packages/sklearn/metrics/_classification.py:1318: UndefinedMetricWarning: Recall is ill-defined and being set to 0.0 in labels with no true samples. Use `zero_division` parameter to control this behavior.\n",
      "  _warn_prf(average, modifier, msg_start, len(result))\n",
      "/opt/conda/lib/python3.7/site-packages/sklearn/metrics/_classification.py:1318: UndefinedMetricWarning: Recall is ill-defined and being set to 0.0 in labels with no true samples. Use `zero_division` parameter to control this behavior.\n",
      "  _warn_prf(average, modifier, msg_start, len(result))\n",
      "/opt/conda/lib/python3.7/site-packages/sklearn/metrics/_classification.py:1318: UndefinedMetricWarning: Recall is ill-defined and being set to 0.0 in labels with no true samples. Use `zero_division` parameter to control this behavior.\n",
      "  _warn_prf(average, modifier, msg_start, len(result))\n",
      "/opt/conda/lib/python3.7/site-packages/sklearn/metrics/_classification.py:1318: UndefinedMetricWarning: Precision is ill-defined and being set to 0.0 in labels with no predicted samples. Use `zero_division` parameter to control this behavior.\n",
      "  _warn_prf(average, modifier, msg_start, len(result))\n",
      "/opt/conda/lib/python3.7/site-packages/sklearn/metrics/_classification.py:1318: UndefinedMetricWarning: Recall is ill-defined and being set to 0.0 in labels with no true samples. Use `zero_division` parameter to control this behavior.\n",
      "  _warn_prf(average, modifier, msg_start, len(result))\n",
      "/opt/conda/lib/python3.7/site-packages/sklearn/metrics/_classification.py:1318: UndefinedMetricWarning: Recall is ill-defined and being set to 0.0 in labels with no true samples. Use `zero_division` parameter to control this behavior.\n",
      "  _warn_prf(average, modifier, msg_start, len(result))\n",
      "/opt/conda/lib/python3.7/site-packages/sklearn/metrics/_classification.py:1318: UndefinedMetricWarning: Recall is ill-defined and being set to 0.0 in labels with no true samples. Use `zero_division` parameter to control this behavior.\n",
      "  _warn_prf(average, modifier, msg_start, len(result))\n",
      "/opt/conda/lib/python3.7/site-packages/sklearn/metrics/_classification.py:1318: UndefinedMetricWarning: Recall is ill-defined and being set to 0.0 in labels with no true samples. Use `zero_division` parameter to control this behavior.\n",
      "  _warn_prf(average, modifier, msg_start, len(result))\n",
      "/opt/conda/lib/python3.7/site-packages/sklearn/metrics/_classification.py:1318: UndefinedMetricWarning: Recall is ill-defined and being set to 0.0 in labels with no true samples. Use `zero_division` parameter to control this behavior.\n",
      "  _warn_prf(average, modifier, msg_start, len(result))\n",
      "/opt/conda/lib/python3.7/site-packages/sklearn/metrics/_classification.py:1318: UndefinedMetricWarning: Recall is ill-defined and being set to 0.0 in labels with no true samples. Use `zero_division` parameter to control this behavior.\n",
      "  _warn_prf(average, modifier, msg_start, len(result))\n",
      "/opt/conda/lib/python3.7/site-packages/sklearn/metrics/_classification.py:1318: UndefinedMetricWarning: Recall is ill-defined and being set to 0.0 in labels with no true samples. Use `zero_division` parameter to control this behavior.\n",
      "  _warn_prf(average, modifier, msg_start, len(result))\n",
      "/opt/conda/lib/python3.7/site-packages/sklearn/metrics/_classification.py:1318: UndefinedMetricWarning: Recall is ill-defined and being set to 0.0 in labels with no true samples. Use `zero_division` parameter to control this behavior.\n",
      "  _warn_prf(average, modifier, msg_start, len(result))\n",
      "/opt/conda/lib/python3.7/site-packages/sklearn/metrics/_classification.py:1318: UndefinedMetricWarning: Recall is ill-defined and being set to 0.0 in labels with no true samples. Use `zero_division` parameter to control this behavior.\n",
      "  _warn_prf(average, modifier, msg_start, len(result))\n",
      "/opt/conda/lib/python3.7/site-packages/sklearn/metrics/_classification.py:1318: UndefinedMetricWarning: Recall is ill-defined and being set to 0.0 in labels with no true samples. Use `zero_division` parameter to control this behavior.\n",
      "  _warn_prf(average, modifier, msg_start, len(result))\n",
      "/opt/conda/lib/python3.7/site-packages/sklearn/metrics/_classification.py:1318: UndefinedMetricWarning: Recall is ill-defined and being set to 0.0 in labels with no true samples. Use `zero_division` parameter to control this behavior.\n",
      "  _warn_prf(average, modifier, msg_start, len(result))\n",
      "/opt/conda/lib/python3.7/site-packages/sklearn/metrics/_classification.py:1318: UndefinedMetricWarning: Recall is ill-defined and being set to 0.0 in labels with no true samples. Use `zero_division` parameter to control this behavior.\n",
      "  _warn_prf(average, modifier, msg_start, len(result))\n",
      "/opt/conda/lib/python3.7/site-packages/sklearn/metrics/_classification.py:1318: UndefinedMetricWarning: Precision is ill-defined and being set to 0.0 in labels with no predicted samples. Use `zero_division` parameter to control this behavior.\n",
      "  _warn_prf(average, modifier, msg_start, len(result))\n",
      "/opt/conda/lib/python3.7/site-packages/sklearn/metrics/_classification.py:1318: UndefinedMetricWarning: Recall is ill-defined and being set to 0.0 in labels with no true samples. Use `zero_division` parameter to control this behavior.\n",
      "  _warn_prf(average, modifier, msg_start, len(result))\n",
      "/opt/conda/lib/python3.7/site-packages/sklearn/metrics/_classification.py:1318: UndefinedMetricWarning: Recall is ill-defined and being set to 0.0 in labels with no true samples. Use `zero_division` parameter to control this behavior.\n",
      "  _warn_prf(average, modifier, msg_start, len(result))\n",
      "/opt/conda/lib/python3.7/site-packages/sklearn/metrics/_classification.py:1318: UndefinedMetricWarning: Recall is ill-defined and being set to 0.0 in labels with no true samples. Use `zero_division` parameter to control this behavior.\n",
      "  _warn_prf(average, modifier, msg_start, len(result))\n",
      "/opt/conda/lib/python3.7/site-packages/sklearn/metrics/_classification.py:1318: UndefinedMetricWarning: Recall is ill-defined and being set to 0.0 in labels with no true samples. Use `zero_division` parameter to control this behavior.\n",
      "  _warn_prf(average, modifier, msg_start, len(result))\n",
      "/opt/conda/lib/python3.7/site-packages/sklearn/metrics/_classification.py:1318: UndefinedMetricWarning: Recall is ill-defined and being set to 0.0 in labels with no true samples. Use `zero_division` parameter to control this behavior.\n",
      "  _warn_prf(average, modifier, msg_start, len(result))\n",
      "/opt/conda/lib/python3.7/site-packages/sklearn/metrics/_classification.py:1318: UndefinedMetricWarning: Recall is ill-defined and being set to 0.0 in labels with no true samples. Use `zero_division` parameter to control this behavior.\n",
      "  _warn_prf(average, modifier, msg_start, len(result))\n",
      "/opt/conda/lib/python3.7/site-packages/sklearn/metrics/_classification.py:1318: UndefinedMetricWarning: Recall is ill-defined and being set to 0.0 in labels with no true samples. Use `zero_division` parameter to control this behavior.\n",
      "  _warn_prf(average, modifier, msg_start, len(result))\n",
      "/opt/conda/lib/python3.7/site-packages/sklearn/metrics/_classification.py:1318: UndefinedMetricWarning: Recall is ill-defined and being set to 0.0 in labels with no true samples. Use `zero_division` parameter to control this behavior.\n",
      "  _warn_prf(average, modifier, msg_start, len(result))\n",
      "/opt/conda/lib/python3.7/site-packages/sklearn/metrics/_classification.py:1318: UndefinedMetricWarning: Recall is ill-defined and being set to 0.0 in labels with no true samples. Use `zero_division` parameter to control this behavior.\n",
      "  _warn_prf(average, modifier, msg_start, len(result))\n",
      "/opt/conda/lib/python3.7/site-packages/sklearn/metrics/_classification.py:1318: UndefinedMetricWarning: Recall is ill-defined and being set to 0.0 in labels with no true samples. Use `zero_division` parameter to control this behavior.\n",
      "  _warn_prf(average, modifier, msg_start, len(result))\n",
      "/opt/conda/lib/python3.7/site-packages/sklearn/metrics/_classification.py:1318: UndefinedMetricWarning: Recall is ill-defined and being set to 0.0 in labels with no true samples. Use `zero_division` parameter to control this behavior.\n",
      "  _warn_prf(average, modifier, msg_start, len(result))\n",
      "/opt/conda/lib/python3.7/site-packages/sklearn/metrics/_classification.py:1318: UndefinedMetricWarning: Recall is ill-defined and being set to 0.0 in labels with no true samples. Use `zero_division` parameter to control this behavior.\n",
      "  _warn_prf(average, modifier, msg_start, len(result))\n",
      "/opt/conda/lib/python3.7/site-packages/sklearn/metrics/_classification.py:1318: UndefinedMetricWarning: Recall is ill-defined and being set to 0.0 in labels with no true samples. Use `zero_division` parameter to control this behavior.\n",
      "  _warn_prf(average, modifier, msg_start, len(result))\n",
      "/opt/conda/lib/python3.7/site-packages/sklearn/metrics/_classification.py:1318: UndefinedMetricWarning: Recall is ill-defined and being set to 0.0 in labels with no true samples. Use `zero_division` parameter to control this behavior.\n",
      "  _warn_prf(average, modifier, msg_start, len(result))\n",
      "/opt/conda/lib/python3.7/site-packages/sklearn/metrics/_classification.py:1318: UndefinedMetricWarning: Recall is ill-defined and being set to 0.0 in labels with no true samples. Use `zero_division` parameter to control this behavior.\n",
      "  _warn_prf(average, modifier, msg_start, len(result))\n",
      "/opt/conda/lib/python3.7/site-packages/sklearn/metrics/_classification.py:1318: UndefinedMetricWarning: Recall is ill-defined and being set to 0.0 in labels with no true samples. Use `zero_division` parameter to control this behavior.\n",
      "  _warn_prf(average, modifier, msg_start, len(result))\n",
      "/opt/conda/lib/python3.7/site-packages/sklearn/metrics/_classification.py:1318: UndefinedMetricWarning: Recall is ill-defined and being set to 0.0 in labels with no true samples. Use `zero_division` parameter to control this behavior.\n",
      "  _warn_prf(average, modifier, msg_start, len(result))\n",
      "/opt/conda/lib/python3.7/site-packages/sklearn/metrics/_classification.py:1318: UndefinedMetricWarning: Precision is ill-defined and being set to 0.0 in labels with no predicted samples. Use `zero_division` parameter to control this behavior.\n",
      "  _warn_prf(average, modifier, msg_start, len(result))\n",
      "/opt/conda/lib/python3.7/site-packages/sklearn/metrics/_classification.py:1318: UndefinedMetricWarning: Recall is ill-defined and being set to 0.0 in labels with no true samples. Use `zero_division` parameter to control this behavior.\n",
      "  _warn_prf(average, modifier, msg_start, len(result))\n",
      "/opt/conda/lib/python3.7/site-packages/sklearn/metrics/_classification.py:1318: UndefinedMetricWarning: Recall is ill-defined and being set to 0.0 in labels with no true samples. Use `zero_division` parameter to control this behavior.\n",
      "  _warn_prf(average, modifier, msg_start, len(result))\n",
      "/opt/conda/lib/python3.7/site-packages/sklearn/metrics/_classification.py:1318: UndefinedMetricWarning: Recall is ill-defined and being set to 0.0 in labels with no true samples. Use `zero_division` parameter to control this behavior.\n",
      "  _warn_prf(average, modifier, msg_start, len(result))\n",
      "/opt/conda/lib/python3.7/site-packages/sklearn/metrics/_classification.py:1318: UndefinedMetricWarning: Recall is ill-defined and being set to 0.0 in labels with no true samples. Use `zero_division` parameter to control this behavior.\n",
      "  _warn_prf(average, modifier, msg_start, len(result))\n",
      "/opt/conda/lib/python3.7/site-packages/sklearn/metrics/_classification.py:1318: UndefinedMetricWarning: Recall is ill-defined and being set to 0.0 in labels with no true samples. Use `zero_division` parameter to control this behavior.\n",
      "  _warn_prf(average, modifier, msg_start, len(result))\n",
      "/opt/conda/lib/python3.7/site-packages/sklearn/metrics/_classification.py:1318: UndefinedMetricWarning: Recall is ill-defined and being set to 0.0 in labels with no true samples. Use `zero_division` parameter to control this behavior.\n",
      "  _warn_prf(average, modifier, msg_start, len(result))\n",
      "/opt/conda/lib/python3.7/site-packages/sklearn/metrics/_classification.py:1318: UndefinedMetricWarning: Recall is ill-defined and being set to 0.0 in labels with no true samples. Use `zero_division` parameter to control this behavior.\n",
      "  _warn_prf(average, modifier, msg_start, len(result))\n",
      "/opt/conda/lib/python3.7/site-packages/sklearn/metrics/_classification.py:1318: UndefinedMetricWarning: Recall is ill-defined and being set to 0.0 in labels with no true samples. Use `zero_division` parameter to control this behavior.\n",
      "  _warn_prf(average, modifier, msg_start, len(result))\n",
      "/opt/conda/lib/python3.7/site-packages/sklearn/metrics/_classification.py:1318: UndefinedMetricWarning: Recall is ill-defined and being set to 0.0 in labels with no true samples. Use `zero_division` parameter to control this behavior.\n",
      "  _warn_prf(average, modifier, msg_start, len(result))\n",
      "/opt/conda/lib/python3.7/site-packages/sklearn/metrics/_classification.py:1318: UndefinedMetricWarning: Recall is ill-defined and being set to 0.0 in labels with no true samples. Use `zero_division` parameter to control this behavior.\n",
      "  _warn_prf(average, modifier, msg_start, len(result))\n",
      "/opt/conda/lib/python3.7/site-packages/sklearn/metrics/_classification.py:1318: UndefinedMetricWarning: Recall is ill-defined and being set to 0.0 in labels with no true samples. Use `zero_division` parameter to control this behavior.\n",
      "  _warn_prf(average, modifier, msg_start, len(result))\n",
      "/opt/conda/lib/python3.7/site-packages/sklearn/metrics/_classification.py:1318: UndefinedMetricWarning: Recall is ill-defined and being set to 0.0 in labels with no true samples. Use `zero_division` parameter to control this behavior.\n",
      "  _warn_prf(average, modifier, msg_start, len(result))\n",
      "/opt/conda/lib/python3.7/site-packages/sklearn/metrics/_classification.py:1318: UndefinedMetricWarning: Recall is ill-defined and being set to 0.0 in labels with no true samples. Use `zero_division` parameter to control this behavior.\n",
      "  _warn_prf(average, modifier, msg_start, len(result))\n",
      "/opt/conda/lib/python3.7/site-packages/sklearn/metrics/_classification.py:1318: UndefinedMetricWarning: Recall is ill-defined and being set to 0.0 in labels with no true samples. Use `zero_division` parameter to control this behavior.\n",
      "  _warn_prf(average, modifier, msg_start, len(result))\n",
      "/opt/conda/lib/python3.7/site-packages/sklearn/metrics/_classification.py:1318: UndefinedMetricWarning: Recall is ill-defined and being set to 0.0 in labels with no true samples. Use `zero_division` parameter to control this behavior.\n",
      "  _warn_prf(average, modifier, msg_start, len(result))\n",
      "/opt/conda/lib/python3.7/site-packages/sklearn/metrics/_classification.py:1318: UndefinedMetricWarning: Recall is ill-defined and being set to 0.0 in labels with no true samples. Use `zero_division` parameter to control this behavior.\n",
      "  _warn_prf(average, modifier, msg_start, len(result))\n",
      "/opt/conda/lib/python3.7/site-packages/sklearn/metrics/_classification.py:1318: UndefinedMetricWarning: Recall is ill-defined and being set to 0.0 in labels with no true samples. Use `zero_division` parameter to control this behavior.\n",
      "  _warn_prf(average, modifier, msg_start, len(result))\n",
      "/opt/conda/lib/python3.7/site-packages/sklearn/metrics/_classification.py:1318: UndefinedMetricWarning: Recall is ill-defined and being set to 0.0 in labels with no true samples. Use `zero_division` parameter to control this behavior.\n",
      "  _warn_prf(average, modifier, msg_start, len(result))\n",
      "/opt/conda/lib/python3.7/site-packages/sklearn/metrics/_classification.py:1318: UndefinedMetricWarning: Recall is ill-defined and being set to 0.0 in labels with no true samples. Use `zero_division` parameter to control this behavior.\n",
      "  _warn_prf(average, modifier, msg_start, len(result))\n",
      "/opt/conda/lib/python3.7/site-packages/sklearn/metrics/_classification.py:1318: UndefinedMetricWarning: Recall is ill-defined and being set to 0.0 in labels with no true samples. Use `zero_division` parameter to control this behavior.\n",
      "  _warn_prf(average, modifier, msg_start, len(result))\n",
      "/opt/conda/lib/python3.7/site-packages/sklearn/metrics/_classification.py:1318: UndefinedMetricWarning: Recall is ill-defined and being set to 0.0 in labels with no true samples. Use `zero_division` parameter to control this behavior.\n",
      "  _warn_prf(average, modifier, msg_start, len(result))\n",
      "/opt/conda/lib/python3.7/site-packages/sklearn/metrics/_classification.py:1318: UndefinedMetricWarning: Recall is ill-defined and being set to 0.0 in labels with no true samples. Use `zero_division` parameter to control this behavior.\n",
      "  _warn_prf(average, modifier, msg_start, len(result))\n",
      "/opt/conda/lib/python3.7/site-packages/sklearn/metrics/_classification.py:1318: UndefinedMetricWarning: Recall is ill-defined and being set to 0.0 in labels with no true samples. Use `zero_division` parameter to control this behavior.\n",
      "  _warn_prf(average, modifier, msg_start, len(result))\n",
      "/opt/conda/lib/python3.7/site-packages/sklearn/metrics/_classification.py:1318: UndefinedMetricWarning: Recall is ill-defined and being set to 0.0 in labels with no true samples. Use `zero_division` parameter to control this behavior.\n",
      "  _warn_prf(average, modifier, msg_start, len(result))\n",
      "/opt/conda/lib/python3.7/site-packages/sklearn/metrics/_classification.py:1318: UndefinedMetricWarning: Recall is ill-defined and being set to 0.0 in labels with no true samples. Use `zero_division` parameter to control this behavior.\n",
      "  _warn_prf(average, modifier, msg_start, len(result))\n",
      "/opt/conda/lib/python3.7/site-packages/sklearn/metrics/_classification.py:1318: UndefinedMetricWarning: Recall is ill-defined and being set to 0.0 in labels with no true samples. Use `zero_division` parameter to control this behavior.\n",
      "  _warn_prf(average, modifier, msg_start, len(result))\n",
      "/opt/conda/lib/python3.7/site-packages/sklearn/metrics/_classification.py:1318: UndefinedMetricWarning: Recall is ill-defined and being set to 0.0 in labels with no true samples. Use `zero_division` parameter to control this behavior.\n",
      "  _warn_prf(average, modifier, msg_start, len(result))\n"
     ]
    }
   ],
   "source": [
    "query_indexes = list(range(0, test_images.shape[0]))\n",
    "class_builder = {label_unique:[] for label_unique in labels}\n",
    "recalls = copy.deepcopy(class_builder)\n",
    "precisions = copy.deepcopy(class_builder)\n",
    "# loop over the testing indexes\n",
    "for i in query_indexes:\n",
    "    queryFeatures = features_retrieved[i]\n",
    "    results = perform_search(queryFeatures, training_indexed, max_results=5)\n",
    "    labels_ret = [training_indexed[\"labels\"][r[1]] for r in results]\n",
    "    label_true = test_labels[i]\n",
    "    label_trues = [label_true for _ in labels_ret]\n",
    "    recall = metric.recall_score(label_trues, labels_ret, average='weighted')\n",
    "    precision = metric.precision_score(label_trues, labels_ret, average='weighted')\n",
    "    recalls[label_true].append(recall)\n",
    "    precisions[label_true].append(precision)"
   ]
  },
  {
   "cell_type": "markdown",
   "id": "aa73b9e9",
   "metadata": {
    "id": "UA6W88ki8SLP",
    "papermill": {
     "duration": 0.108953,
     "end_time": "2023-03-18T14:30:17.836907",
     "exception": false,
     "start_time": "2023-03-18T14:30:17.727954",
     "status": "completed"
    },
    "tags": []
   },
   "source": [
    "## Print the recall and precision values"
   ]
  },
  {
   "cell_type": "code",
   "execution_count": 17,
   "id": "d249c335",
   "metadata": {
    "execution": {
     "iopub.execute_input": "2023-03-18T14:30:18.057350Z",
     "iopub.status.busy": "2023-03-18T14:30:18.056992Z",
     "iopub.status.idle": "2023-03-18T14:30:18.065695Z",
     "shell.execute_reply": "2023-03-18T14:30:18.064119Z"
    },
    "executionInfo": {
     "elapsed": 14,
     "status": "ok",
     "timestamp": 1634460101651,
     "user": {
      "displayName": "Kharisma Muzaki Ghufron",
      "photoUrl": "https://lh3.googleusercontent.com/a/default-user=s64",
      "userId": "14730718725881384856"
     },
     "user_tz": -420
    },
    "id": "1ViD6suW8WnW",
    "outputId": "46c8b7ff-e926-43eb-f7a3-77752c4dedbb",
    "papermill": {
     "duration": 0.121527,
     "end_time": "2023-03-18T14:30:18.067952",
     "exception": false,
     "start_time": "2023-03-18T14:30:17.946425",
     "status": "completed"
    },
    "tags": []
   },
   "outputs": [
    {
     "name": "stdout",
     "output_type": "stream",
     "text": [
      "recall values:\n",
      "benign 0.7389830508474575\n",
      "malignant 0.8504065040650406\n",
      "combined recall 0.7946947774562491\n",
      "\n",
      "precision values:\n",
      "benign 0.9661016949152542\n",
      "malignant 0.983739837398374\n",
      "combined precision 0.9749207661568141\n"
     ]
    }
   ],
   "source": [
    "print(\"recall values:\")\n",
    "comb_recall, comb_precision = [], []\n",
    "for key in recalls.keys():\n",
    "    average_val = np.average(recalls[key])\n",
    "    print(key, average_val)\n",
    "    comb_recall.append(average_val)\n",
    "print(\"combined recall\", np.average(comb_recall))\n",
    "\n",
    "print(\"\\nprecision values:\")\n",
    "for key in precisions.keys():\n",
    "    average_val = np.average(precisions[key])\n",
    "    print(key, average_val)\n",
    "    comb_precision.append(average_val)\n",
    "print(\"combined precision\", np.average(comb_precision))"
   ]
  },
  {
   "cell_type": "code",
   "execution_count": null,
   "id": "fdf929f6",
   "metadata": {
    "executionInfo": {
     "elapsed": 25,
     "status": "ok",
     "timestamp": 1634460101665,
     "user": {
      "displayName": "Kharisma Muzaki Ghufron",
      "photoUrl": "https://lh3.googleusercontent.com/a/default-user=s64",
      "userId": "14730718725881384856"
     },
     "user_tz": -420
    },
    "id": "sCxOAAUTwG7D",
    "papermill": {
     "duration": 0.109618,
     "end_time": "2023-03-18T14:30:18.284873",
     "exception": false,
     "start_time": "2023-03-18T14:30:18.175255",
     "status": "completed"
    },
    "tags": []
   },
   "outputs": [],
   "source": []
  }
 ],
 "metadata": {
  "kernelspec": {
   "display_name": "Python 3",
   "language": "python",
   "name": "python3"
  },
  "language_info": {
   "codemirror_mode": {
    "name": "ipython",
    "version": 3
   },
   "file_extension": ".py",
   "mimetype": "text/x-python",
   "name": "python",
   "nbconvert_exporter": "python",
   "pygments_lexer": "ipython3",
   "version": "3.7.12"
  },
  "papermill": {
   "default_parameters": {},
   "duration": 725.596717,
   "end_time": "2023-03-18T14:30:22.199534",
   "environment_variables": {},
   "exception": null,
   "input_path": "__notebook__.ipynb",
   "output_path": "__notebook__.ipynb",
   "parameters": {},
   "start_time": "2023-03-18T14:18:16.602817",
   "version": "2.4.0"
  }
 },
 "nbformat": 4,
 "nbformat_minor": 5
}
