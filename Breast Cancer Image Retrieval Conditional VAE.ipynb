{
 "cells": [
  {
   "cell_type": "markdown",
   "id": "b56e7e8a",
   "metadata": {
    "id": "-fJ7pPoz2opO",
    "papermill": {
     "duration": 0.010498,
     "end_time": "2023-04-09T14:30:00.213314",
     "exception": false,
     "start_time": "2023-04-09T14:30:00.202816",
     "status": "completed"
    },
    "tags": []
   },
   "source": [
    "## Depedency Library"
   ]
  },
  {
   "cell_type": "code",
   "execution_count": 1,
   "id": "1ad35e6f",
   "metadata": {
    "execution": {
     "iopub.execute_input": "2023-04-09T14:30:00.235150Z",
     "iopub.status.busy": "2023-04-09T14:30:00.234258Z",
     "iopub.status.idle": "2023-04-09T14:30:08.844250Z",
     "shell.execute_reply": "2023-04-09T14:30:08.843056Z"
    },
    "executionInfo": {
     "elapsed": 4794,
     "status": "ok",
     "timestamp": 1634454562134,
     "user": {
      "displayName": "Kharisma Muzaki Ghufron",
      "photoUrl": "https://lh3.googleusercontent.com/a/default-user=s64",
      "userId": "14730718725881384856"
     },
     "user_tz": -420
    },
    "id": "SowRlZK22ryn",
    "papermill": {
     "duration": 8.622503,
     "end_time": "2023-04-09T14:30:08.846857",
     "exception": false,
     "start_time": "2023-04-09T14:30:00.224354",
     "status": "completed"
    },
    "tags": []
   },
   "outputs": [],
   "source": [
    "import numpy as np\n",
    "import json\n",
    "import os\n",
    "import glob\n",
    "import cv2\n",
    "import copy\n",
    "import sklearn.metrics as metric\n",
    "from sklearn.model_selection import train_test_split\n",
    "import pandas as pd\n",
    "\n",
    "import tensorflow as tf\n",
    "tf.compat.v1.disable_eager_execution()\n",
    "from tensorflow.keras import layers\n",
    "from tensorflow.keras.models import Model\n",
    "from tensorflow.keras import backend as K\n",
    "from tensorflow.keras.optimizers import Adam\n",
    "from tensorflow.keras.callbacks import ModelCheckpoint \n",
    "\n",
    "from sklearn.preprocessing import LabelEncoder\n",
    "\n",
    "import matplotlib.pyplot as plt\n",
    "import matplotlib"
   ]
  },
  {
   "cell_type": "markdown",
   "id": "067a94ed",
   "metadata": {
    "id": "iOFbuzHJ0mf2",
    "papermill": {
     "duration": 0.007779,
     "end_time": "2023-04-09T14:30:08.862842",
     "exception": false,
     "start_time": "2023-04-09T14:30:08.855063",
     "status": "completed"
    },
    "tags": []
   },
   "source": [
    "## Definition of hyperparameter\n"
   ]
  },
  {
   "cell_type": "code",
   "execution_count": 2,
   "id": "0eebd8aa",
   "metadata": {
    "execution": {
     "iopub.execute_input": "2023-04-09T14:30:08.880521Z",
     "iopub.status.busy": "2023-04-09T14:30:08.879856Z",
     "iopub.status.idle": "2023-04-09T14:30:08.886724Z",
     "shell.execute_reply": "2023-04-09T14:30:08.885681Z"
    },
    "executionInfo": {
     "elapsed": 3,
     "status": "ok",
     "timestamp": 1634454562135,
     "user": {
      "displayName": "Kharisma Muzaki Ghufron",
      "photoUrl": "https://lh3.googleusercontent.com/a/default-user=s64",
      "userId": "14730718725881384856"
     },
     "user_tz": -420
    },
    "id": "C8IXMoVG0xB9",
    "papermill": {
     "duration": 0.018021,
     "end_time": "2023-04-09T14:30:08.888814",
     "exception": false,
     "start_time": "2023-04-09T14:30:08.870793",
     "status": "completed"
    },
    "tags": []
   },
   "outputs": [],
   "source": [
    "EPOCHS = 40\n",
    "INIT_LR = 1e-3\n",
    "BS = 8\n",
    "IMAGE_SIZE = (256, 256)\n",
    "\n",
    "magnification = \"400X\" #40, 100, 200, 400\n",
    "class_type = \"multiclass\" #multiclass binary\n",
    "if class_type == \"binary\":\n",
    "    class_dir = ['benign', 'malignant']\n",
    "else:\n",
    "    class_dir = ['tubular_adenoma', 'phyllodes_tumor', 'papillary_carcinoma',\n",
    "              'mucinous_carcinoma', 'lobular_carcinoma', 'fibroadenoma',\n",
    "              'ductal_carcinoma', 'adenosis']\n",
    "    \n",
    "num_classes = len(class_dir)\n",
    "label_dim = 48\n",
    "    \n",
    "checkpoint_path = \"training_1_40_binary_cp/cp.ckpt\"\n",
    "feature_path = \"training_1_40_binary_feature.json\"\n",
    "model_path = \"training_1_40_binary_model.h5\"\n",
    "history_path = \"training_1_40_binary_history.json\""
   ]
  },
  {
   "cell_type": "code",
   "execution_count": 3,
   "id": "15f97a08",
   "metadata": {
    "execution": {
     "iopub.execute_input": "2023-04-09T14:30:08.906409Z",
     "iopub.status.busy": "2023-04-09T14:30:08.906133Z",
     "iopub.status.idle": "2023-04-09T14:30:09.272842Z",
     "shell.execute_reply": "2023-04-09T14:30:09.271556Z"
    },
    "papermill": {
     "duration": 0.37832,
     "end_time": "2023-04-09T14:30:09.275741",
     "exception": false,
     "start_time": "2023-04-09T14:30:08.897421",
     "status": "completed"
    },
    "tags": []
   },
   "outputs": [],
   "source": [
    "paths, labels = [], []\n",
    "\n",
    "# /kaggle/input/breakhis/BreaKHis_v1/BreaKHis_v1/histology_slides/breast/benign/SOB/adenosis/SOB_B_A_14-22549AB/100X/SOB_B_A-14-22549AB-100-001.png\n",
    "\n",
    "if class_type == \"binary\":\n",
    "    for class_ in class_dir:\n",
    "        ls = glob.glob(f\"/kaggle/input/breakhis/BreaKHis_v1/BreaKHis_v1/histology_slides/breast/{class_}/SOB/*/*/{magnification}/*\")\n",
    "        paths.extend(ls)\n",
    "        labels.extend([class_]*len(ls))\n",
    "else:\n",
    "    for class_ in class_dir:\n",
    "        ls = glob.glob(f\"/kaggle/input/breakhis/BreaKHis_v1/BreaKHis_v1/histology_slides/breast/*/SOB/{class_}/*/{magnification}/*\")\n",
    "        paths.extend(ls)\n",
    "        labels.extend([class_]*len(ls))"
   ]
  },
  {
   "cell_type": "markdown",
   "id": "1af2da02",
   "metadata": {
    "id": "uT5Eja5J0_uW",
    "papermill": {
     "duration": 0.008007,
     "end_time": "2023-04-09T14:30:09.292474",
     "exception": false,
     "start_time": "2023-04-09T14:30:09.284467",
     "status": "completed"
    },
    "tags": []
   },
   "source": [
    "## Data Split"
   ]
  },
  {
   "cell_type": "code",
   "execution_count": 4,
   "id": "1fc8fe93",
   "metadata": {
    "execution": {
     "iopub.execute_input": "2023-04-09T14:30:09.310525Z",
     "iopub.status.busy": "2023-04-09T14:30:09.310203Z",
     "iopub.status.idle": "2023-04-09T14:30:09.316994Z",
     "shell.execute_reply": "2023-04-09T14:30:09.316058Z"
    },
    "papermill": {
     "duration": 0.018554,
     "end_time": "2023-04-09T14:30:09.319384",
     "exception": false,
     "start_time": "2023-04-09T14:30:09.300830",
     "status": "completed"
    },
    "tags": []
   },
   "outputs": [],
   "source": [
    "def get_array(paths):\n",
    "    images = []\n",
    "    for path in paths:\n",
    "        image = cv2.imread(path)\n",
    "        image = cv2.resize(image, IMAGE_SIZE)\n",
    "        images.append(image)\n",
    "    images = np.array(images).astype(\"float32\") / 255.0\n",
    "    return images"
   ]
  },
  {
   "cell_type": "code",
   "execution_count": 5,
   "id": "74aefc3a",
   "metadata": {
    "execution": {
     "iopub.execute_input": "2023-04-09T14:30:09.336696Z",
     "iopub.status.busy": "2023-04-09T14:30:09.336396Z",
     "iopub.status.idle": "2023-04-09T14:30:41.803951Z",
     "shell.execute_reply": "2023-04-09T14:30:41.802932Z"
    },
    "papermill": {
     "duration": 32.47926,
     "end_time": "2023-04-09T14:30:41.806487",
     "exception": false,
     "start_time": "2023-04-09T14:30:09.327227",
     "status": "completed"
    },
    "tags": []
   },
   "outputs": [],
   "source": [
    "train_paths, val_paths, train_labels, val_labels = train_test_split(paths, labels, test_size=0.2, stratify=labels)\n",
    "val_paths, test_paths, val_labels, test_labels = train_test_split(val_paths, val_labels, test_size=0.5, stratify=val_labels)\n",
    "\n",
    "train_images = get_array(train_paths)\n",
    "val_images = get_array(val_paths)\n",
    "test_images = get_array(test_paths)\n",
    "\n",
    "le = LabelEncoder()\n",
    "\n",
    "train_labels_arr = np.expand_dims(np.array(le.fit_transform(train_labels)), axis=-1)\n",
    "val_labels_arr = np.expand_dims(np.array(le.transform(val_labels)), axis=-1)\n",
    "test_labels_arr = np.expand_dims(np.array(le.transform(test_labels)), axis=-1)"
   ]
  },
  {
   "cell_type": "code",
   "execution_count": 6,
   "id": "abd6fa7e",
   "metadata": {
    "execution": {
     "iopub.execute_input": "2023-04-09T14:30:41.824118Z",
     "iopub.status.busy": "2023-04-09T14:30:41.823771Z",
     "iopub.status.idle": "2023-04-09T14:30:41.829532Z",
     "shell.execute_reply": "2023-04-09T14:30:41.828395Z"
    },
    "papermill": {
     "duration": 0.017641,
     "end_time": "2023-04-09T14:30:41.832272",
     "exception": false,
     "start_time": "2023-04-09T14:30:41.814631",
     "status": "completed"
    },
    "tags": []
   },
   "outputs": [],
   "source": [
    "######################\n",
    "## Latent Distribution\n",
    "######################\n",
    "\n",
    "def sample_latent_features(distribution):\n",
    "    distribution_mean, distribution_variance = distribution\n",
    "    batch_size = tf.shape(distribution_variance)[0]\n",
    "    random = tf.keras.backend.random_normal(shape=(batch_size, tf.shape(distribution_variance)[1]))\n",
    "    return distribution_mean + tf.exp(0.5 * distribution_variance) * random"
   ]
  },
  {
   "cell_type": "code",
   "execution_count": 7,
   "id": "a892ca6e",
   "metadata": {
    "execution": {
     "iopub.execute_input": "2023-04-09T14:30:41.849426Z",
     "iopub.status.busy": "2023-04-09T14:30:41.849148Z",
     "iopub.status.idle": "2023-04-09T14:30:42.288292Z",
     "shell.execute_reply": "2023-04-09T14:30:42.287294Z"
    },
    "papermill": {
     "duration": 0.450752,
     "end_time": "2023-04-09T14:30:42.290895",
     "exception": false,
     "start_time": "2023-04-09T14:30:41.840143",
     "status": "completed"
    },
    "tags": []
   },
   "outputs": [],
   "source": [
    "##########\n",
    "## Encoder\n",
    "##########\n",
    "\n",
    "input_data = tf.keras.layers.Input(shape=(IMAGE_SIZE[0], IMAGE_SIZE[1], 3))\n",
    "label_input = tf.keras.layers.Input(shape=(1,))\n",
    "\n",
    "encoder = tf.keras.layers.Conv2D(64, (5,5), activation='relu')(input_data)\n",
    "encoder = tf.keras.layers.MaxPooling2D((2,2))(encoder)\n",
    "\n",
    "encoder = tf.keras.layers.Conv2D(64, (3,3), activation='relu')(encoder)\n",
    "encoder = tf.keras.layers.MaxPooling2D((2,2))(encoder)\n",
    "\n",
    "encoder = tf.keras.layers.Conv2D(32, (3,3), activation='relu')(encoder)\n",
    "encoder = tf.keras.layers.MaxPooling2D((2,2))(encoder)\n",
    "\n",
    "encoder = tf.keras.layers.Flatten()(encoder)\n",
    "encoder = tf.keras.layers.Dense(48, name=\"encoded\")(encoder)\n",
    "\n",
    "label_embedding = tf.keras.layers.Embedding(num_classes, label_dim, input_length=1)(label_input)\n",
    "label_embedding = tf.keras.layers.Flatten()(label_embedding)\n",
    "\n",
    "concat = tf.keras.layers.concatenate([encoder, label_embedding])\n",
    "\n",
    "distribution_mean = tf.keras.layers.Dense(2, name='mean')(concat) # encoder\n",
    "distribution_variance = tf.keras.layers.Dense(2, name='log_variance')(encoder)\n",
    "latent_encoding = tf.keras.layers.Lambda(sample_latent_features)([distribution_mean, distribution_variance])\n",
    "\n",
    "encoder_model = tf.keras.Model([input_data, label_input], latent_encoding, name=\"encoder_model\")"
   ]
  },
  {
   "cell_type": "code",
   "execution_count": 8,
   "id": "cafff0a2",
   "metadata": {
    "execution": {
     "iopub.execute_input": "2023-04-09T14:30:42.308619Z",
     "iopub.status.busy": "2023-04-09T14:30:42.308317Z",
     "iopub.status.idle": "2023-04-09T14:30:42.491952Z",
     "shell.execute_reply": "2023-04-09T14:30:42.491004Z"
    },
    "papermill": {
     "duration": 0.195093,
     "end_time": "2023-04-09T14:30:42.494417",
     "exception": false,
     "start_time": "2023-04-09T14:30:42.299324",
     "status": "completed"
    },
    "tags": []
   },
   "outputs": [],
   "source": [
    "decoder_input = tf.keras.layers.Input(shape=(2))\n",
    "decoder = tf.keras.layers.Dense(63*16*16)(decoder_input) # 64*64*16\n",
    "\n",
    "label_embedding = tf.keras.layers.Embedding(num_classes, 16*16, input_length=1)(label_input)\n",
    "label_embedding = tf.keras.layers.Flatten()(label_embedding)\n",
    "\n",
    "concat = tf.keras.layers.concatenate([decoder, label_embedding])\n",
    "\n",
    "decoder = tf.keras.layers.Reshape((16, 16, 64))(concat) # decoder\n",
    "\n",
    "decoder = tf.keras.layers.Conv2DTranspose(64, (3,3), activation='relu', padding=\"same\")(decoder)\n",
    "decoder = tf.keras.layers.UpSampling2D((2,2))(decoder)\n",
    "\n",
    "decoder = tf.keras.layers.Conv2DTranspose(64, (3,3), activation='relu', padding=\"same\")(decoder)\n",
    "decoder = tf.keras.layers.UpSampling2D((2,2))(decoder)\n",
    "\n",
    "decoder = tf.keras.layers.Conv2DTranspose(64, (3,3), activation='relu', padding=\"same\")(decoder)\n",
    "decoder = tf.keras.layers.UpSampling2D((2,2))(decoder)\n",
    "\n",
    "decoder = tf.keras.layers.Conv2DTranspose(3, (3,3), activation='relu', padding=\"same\")(decoder)\n",
    "decoder_output = tf.keras.layers.UpSampling2D((2,2))(decoder)\n",
    "\n",
    "decoder_model = tf.keras.Model([decoder_input, label_input], decoder_output, name=\"decoder_model\")"
   ]
  },
  {
   "cell_type": "code",
   "execution_count": 9,
   "id": "2d7b4b33",
   "metadata": {
    "execution": {
     "iopub.execute_input": "2023-04-09T14:30:42.512524Z",
     "iopub.status.busy": "2023-04-09T14:30:42.512240Z",
     "iopub.status.idle": "2023-04-09T14:30:42.614946Z",
     "shell.execute_reply": "2023-04-09T14:30:42.613992Z"
    },
    "papermill": {
     "duration": 0.114757,
     "end_time": "2023-04-09T14:30:42.617350",
     "exception": false,
     "start_time": "2023-04-09T14:30:42.502593",
     "status": "completed"
    },
    "tags": []
   },
   "outputs": [],
   "source": [
    "encoded = encoder_model([input_data, label_input])\n",
    "decoded = decoder_model([encoded, label_input])\n",
    "\n",
    "cvae = tf.keras.models.Model([input_data, label_input], decoded)"
   ]
  },
  {
   "cell_type": "code",
   "execution_count": 10,
   "id": "512b7582",
   "metadata": {
    "execution": {
     "iopub.execute_input": "2023-04-09T14:30:42.634792Z",
     "iopub.status.busy": "2023-04-09T14:30:42.634504Z",
     "iopub.status.idle": "2023-04-09T14:30:42.658817Z",
     "shell.execute_reply": "2023-04-09T14:30:42.658069Z"
    },
    "papermill": {
     "duration": 0.045755,
     "end_time": "2023-04-09T14:30:42.671028",
     "exception": false,
     "start_time": "2023-04-09T14:30:42.625273",
     "status": "completed"
    },
    "tags": []
   },
   "outputs": [
    {
     "name": "stdout",
     "output_type": "stream",
     "text": [
      "Model: \"model\"\n",
      "__________________________________________________________________________________________________\n",
      " Layer (type)                   Output Shape         Param #     Connected to                     \n",
      "==================================================================================================\n",
      " input_1 (InputLayer)           [(None, 256, 256, 3  0           []                               \n",
      "                                )]                                                                \n",
      "                                                                                                  \n",
      " input_2 (InputLayer)           [(None, 1)]          0           []                               \n",
      "                                                                                                  \n",
      " encoder_model (Functional)     (None, 2)            1443380     ['input_1[0][0]',                \n",
      "                                                                  'input_2[0][0]']                \n",
      "                                                                                                  \n",
      " decoder_model (Functional)     (None, 256, 256, 3)  162947      ['encoder_model[0][0]',          \n",
      "                                                                  'input_2[0][0]']                \n",
      "                                                                                                  \n",
      "==================================================================================================\n",
      "Total params: 1,606,327\n",
      "Trainable params: 1,606,327\n",
      "Non-trainable params: 0\n",
      "__________________________________________________________________________________________________\n"
     ]
    }
   ],
   "source": [
    "cvae.summary()"
   ]
  },
  {
   "cell_type": "markdown",
   "id": "bf5af30a",
   "metadata": {
    "id": "ahHRLqBo11pO",
    "papermill": {
     "duration": 0.008705,
     "end_time": "2023-04-09T14:30:42.688661",
     "exception": false,
     "start_time": "2023-04-09T14:30:42.679956",
     "status": "completed"
    },
    "tags": []
   },
   "source": [
    "## Buiding Model based ConvAutoEncoder Class"
   ]
  },
  {
   "cell_type": "code",
   "execution_count": 11,
   "id": "2573ea28",
   "metadata": {
    "execution": {
     "iopub.execute_input": "2023-04-09T14:30:42.708546Z",
     "iopub.status.busy": "2023-04-09T14:30:42.708227Z",
     "iopub.status.idle": "2023-04-09T14:30:42.715235Z",
     "shell.execute_reply": "2023-04-09T14:30:42.714173Z"
    },
    "papermill": {
     "duration": 0.019397,
     "end_time": "2023-04-09T14:30:42.717413",
     "exception": false,
     "start_time": "2023-04-09T14:30:42.698016",
     "status": "completed"
    },
    "tags": []
   },
   "outputs": [],
   "source": [
    "################\n",
    "## Loss Function\n",
    "################\n",
    "\n",
    "def get_loss(distribution_mean, distribution_variance):\n",
    "    \n",
    "    def get_reconstruction_loss(y_true, y_pred):\n",
    "        reconstruction_loss = tf.keras.losses.mse(y_true, y_pred)\n",
    "        reconstruction_loss_batch = tf.reduce_mean(reconstruction_loss)\n",
    "        return reconstruction_loss_batch*IMAGE_SIZE[0]*IMAGE_SIZE[1]*3\n",
    "    \n",
    "    def get_kl_loss(distribution_mean, distribution_variance):\n",
    "        kl_loss = 1 + distribution_variance - tf.square(distribution_mean) - tf.exp(distribution_variance)\n",
    "        kl_loss_batch = tf.reduce_mean(kl_loss)\n",
    "        return kl_loss_batch*(-0.5)\n",
    "    \n",
    "    def total_loss(y_true, y_pred):\n",
    "        reconstruction_loss_batch = get_reconstruction_loss(y_true, y_pred)\n",
    "        kl_loss_batch = get_kl_loss(distribution_mean, distribution_variance)\n",
    "        return reconstruction_loss_batch + kl_loss_batch\n",
    "    \n",
    "    return total_loss"
   ]
  },
  {
   "cell_type": "code",
   "execution_count": 12,
   "id": "dfcf8789",
   "metadata": {
    "execution": {
     "iopub.execute_input": "2023-04-09T14:30:42.736305Z",
     "iopub.status.busy": "2023-04-09T14:30:42.736034Z",
     "iopub.status.idle": "2023-04-09T14:30:42.881790Z",
     "shell.execute_reply": "2023-04-09T14:30:42.880849Z"
    },
    "executionInfo": {
     "elapsed": 5625,
     "status": "ok",
     "timestamp": 1634455930569,
     "user": {
      "displayName": "Kharisma Muzaki Ghufron",
      "photoUrl": "https://lh3.googleusercontent.com/a/default-user=s64",
      "userId": "14730718725881384856"
     },
     "user_tz": -420
    },
    "id": "aFgpsuG814_2",
    "outputId": "bbe01b32-a8b0-4013-85d9-12a2c2fafbc9",
    "papermill": {
     "duration": 0.157898,
     "end_time": "2023-04-09T14:30:42.884238",
     "exception": false,
     "start_time": "2023-04-09T14:30:42.726340",
     "status": "completed"
    },
    "tags": []
   },
   "outputs": [],
   "source": [
    "opt = tf.keras.optimizers.legacy.Adam(learning_rate=INIT_LR)\n",
    "checkpoint_callback = ModelCheckpoint(\n",
    "    filepath=checkpoint_path,\n",
    "    save_weights_only=True,\n",
    "    monitor=\"val_loss\",\n",
    "    verbose = 1,\n",
    "    mode='min',\n",
    "    save_best_only=True)\n",
    "cvae.compile(loss=get_loss(distribution_mean, distribution_variance), optimizer=opt)"
   ]
  },
  {
   "cell_type": "markdown",
   "id": "8b6d44b2",
   "metadata": {
    "id": "AHk07pZL2DdQ",
    "papermill": {
     "duration": 0.008737,
     "end_time": "2023-04-09T14:30:42.902227",
     "exception": false,
     "start_time": "2023-04-09T14:30:42.893490",
     "status": "completed"
    },
    "tags": []
   },
   "source": [
    "## Training The Model"
   ]
  },
  {
   "cell_type": "code",
   "execution_count": 13,
   "id": "a13ffecd",
   "metadata": {
    "_kg_hide-output": true,
    "execution": {
     "iopub.execute_input": "2023-04-09T14:30:42.921569Z",
     "iopub.status.busy": "2023-04-09T14:30:42.920753Z",
     "iopub.status.idle": "2023-04-09T14:37:01.759506Z",
     "shell.execute_reply": "2023-04-09T14:37:01.758136Z"
    },
    "executionInfo": {
     "elapsed": 3926380,
     "status": "ok",
     "timestamp": 1634459856945,
     "user": {
      "displayName": "Kharisma Muzaki Ghufron",
      "photoUrl": "https://lh3.googleusercontent.com/a/default-user=s64",
      "userId": "14730718725881384856"
     },
     "user_tz": -420
    },
    "id": "iR1qEEyX2J8-",
    "outputId": "e21d3490-9768-4944-e2a5-ddbe49f975c7",
    "papermill": {
     "duration": 378.850871,
     "end_time": "2023-04-09T14:37:01.761947",
     "exception": false,
     "start_time": "2023-04-09T14:30:42.911076",
     "status": "completed"
    },
    "scrolled": true,
    "tags": []
   },
   "outputs": [
    {
     "name": "stdout",
     "output_type": "stream",
     "text": [
      "Train on 1456 samples, validate on 182 samples\n",
      "Epoch 1/40\n",
      "1448/1456 [============================>.] - ETA: 0s - loss: 58179.4685"
     ]
    },
    {
     "name": "stderr",
     "output_type": "stream",
     "text": [
      "/opt/conda/lib/python3.7/site-packages/keras/engine/training_v1.py:2333: UserWarning: `Model.state_updates` will be removed in a future version. This property should not be used in TensorFlow 2.0, as `updates` are applied automatically.\n",
      "  updates = self.state_updates\n"
     ]
    },
    {
     "name": "stdout",
     "output_type": "stream",
     "text": [
      "\n",
      "Epoch 1: val_loss improved from inf to 41919.11676, saving model to training_1_40_binary_cp/cp.ckpt\n",
      "1456/1456 [==============================] - 21s 14ms/sample - loss: 58105.5942 - val_loss: 41919.1168\n",
      "Epoch 2/40\n",
      "1448/1456 [============================>.] - ETA: 0s - loss: 41018.2751\n",
      "Epoch 2: val_loss improved from 41919.11676 to 40958.24914, saving model to training_1_40_binary_cp/cp.ckpt\n",
      "1456/1456 [==============================] - 9s 6ms/sample - loss: 41017.0054 - val_loss: 40958.2491\n",
      "Epoch 3/40\n",
      "1448/1456 [============================>.] - ETA: 0s - loss: 40414.7653\n",
      "Epoch 3: val_loss improved from 40958.24914 to 40579.20965, saving model to training_1_40_binary_cp/cp.ckpt\n",
      "1456/1456 [==============================] - 9s 6ms/sample - loss: 40398.8148 - val_loss: 40579.2096\n",
      "Epoch 4/40\n",
      "1448/1456 [============================>.] - ETA: 0s - loss: 40269.8524\n",
      "Epoch 4: val_loss did not improve from 40579.20965\n",
      "1456/1456 [==============================] - 9s 6ms/sample - loss: 40267.9812 - val_loss: 40944.7584\n",
      "Epoch 5/40\n",
      "1448/1456 [============================>.] - ETA: 0s - loss: 40172.3080\n",
      "Epoch 5: val_loss improved from 40579.20965 to 40537.63294, saving model to training_1_40_binary_cp/cp.ckpt\n",
      "1456/1456 [==============================] - 9s 6ms/sample - loss: 40162.8931 - val_loss: 40537.6329\n",
      "Epoch 6/40\n",
      "1456/1456 [==============================] - ETA: 0s - loss: 40094.1185\n",
      "Epoch 6: val_loss improved from 40537.63294 to 40415.57057, saving model to training_1_40_binary_cp/cp.ckpt\n",
      "1456/1456 [==============================] - 9s 6ms/sample - loss: 40094.1185 - val_loss: 40415.5706\n",
      "Epoch 7/40\n",
      "1456/1456 [==============================] - ETA: 0s - loss: 40024.0497\n",
      "Epoch 7: val_loss improved from 40415.57057 to 40308.62212, saving model to training_1_40_binary_cp/cp.ckpt\n",
      "1456/1456 [==============================] - 9s 6ms/sample - loss: 40024.0497 - val_loss: 40308.6221\n",
      "Epoch 8/40\n",
      "1448/1456 [============================>.] - ETA: 0s - loss: 39949.1322\n",
      "Epoch 8: val_loss did not improve from 40308.62212\n",
      "1456/1456 [==============================] - 9s 6ms/sample - loss: 39925.9108 - val_loss: 40330.4641\n",
      "Epoch 9/40\n",
      "1456/1456 [==============================] - ETA: 0s - loss: 39910.2335\n",
      "Epoch 9: val_loss improved from 40308.62212 to 40236.25215, saving model to training_1_40_binary_cp/cp.ckpt\n",
      "1456/1456 [==============================] - 9s 6ms/sample - loss: 39910.2335 - val_loss: 40236.2521\n",
      "Epoch 10/40\n",
      "1456/1456 [==============================] - ETA: 0s - loss: 39898.4870\n",
      "Epoch 10: val_loss did not improve from 40236.25215\n",
      "1456/1456 [==============================] - 9s 6ms/sample - loss: 39898.4870 - val_loss: 40258.4976\n",
      "Epoch 11/40\n",
      "1456/1456 [==============================] - ETA: 0s - loss: 39874.8146\n",
      "Epoch 11: val_loss did not improve from 40236.25215\n",
      "1456/1456 [==============================] - 9s 6ms/sample - loss: 39874.8146 - val_loss: 40273.3609\n",
      "Epoch 12/40\n",
      "1448/1456 [============================>.] - ETA: 0s - loss: 39851.3331\n",
      "Epoch 12: val_loss did not improve from 40236.25215\n",
      "1456/1456 [==============================] - 9s 6ms/sample - loss: 39836.4997 - val_loss: 40399.0432\n",
      "Epoch 13/40\n",
      "1456/1456 [==============================] - ETA: 0s - loss: 39820.2722\n",
      "Epoch 13: val_loss improved from 40236.25215 to 40193.58508, saving model to training_1_40_binary_cp/cp.ckpt\n",
      "1456/1456 [==============================] - 9s 6ms/sample - loss: 39820.2722 - val_loss: 40193.5851\n",
      "Epoch 14/40\n",
      "1456/1456 [==============================] - ETA: 0s - loss: 39815.3602\n",
      "Epoch 14: val_loss did not improve from 40193.58508\n",
      "1456/1456 [==============================] - 9s 6ms/sample - loss: 39815.3602 - val_loss: 40211.4589\n",
      "Epoch 15/40\n",
      "1448/1456 [============================>.] - ETA: 0s - loss: 39845.4204\n",
      "Epoch 15: val_loss did not improve from 40193.58508\n",
      "1456/1456 [==============================] - 9s 6ms/sample - loss: 39839.8304 - val_loss: 40285.8247\n",
      "Epoch 16/40\n",
      "1456/1456 [==============================] - ETA: 0s - loss: 39824.5180\n",
      "Epoch 16: val_loss did not improve from 40193.58508\n",
      "1456/1456 [==============================] - 9s 6ms/sample - loss: 39824.5180 - val_loss: 40198.0387\n",
      "Epoch 17/40\n",
      "1448/1456 [============================>.] - ETA: 0s - loss: 39818.0661\n",
      "Epoch 17: val_loss improved from 40193.58508 to 40175.25009, saving model to training_1_40_binary_cp/cp.ckpt\n",
      "1456/1456 [==============================] - 9s 6ms/sample - loss: 39793.9924 - val_loss: 40175.2501\n",
      "Epoch 18/40\n",
      "1456/1456 [==============================] - ETA: 0s - loss: 39779.6664\n",
      "Epoch 18: val_loss did not improve from 40175.25009\n",
      "1456/1456 [==============================] - 9s 6ms/sample - loss: 39779.6664 - val_loss: 40186.4434\n",
      "Epoch 19/40\n",
      "1456/1456 [==============================] - ETA: 0s - loss: 39810.2371\n",
      "Epoch 19: val_loss did not improve from 40175.25009\n",
      "1456/1456 [==============================] - 9s 6ms/sample - loss: 39810.2371 - val_loss: 40175.6132\n",
      "Epoch 20/40\n",
      "1448/1456 [============================>.] - ETA: 0s - loss: 39797.4453\n",
      "Epoch 20: val_loss improved from 40175.25009 to 40165.67655, saving model to training_1_40_binary_cp/cp.ckpt\n",
      "1456/1456 [==============================] - 9s 6ms/sample - loss: 39801.5049 - val_loss: 40165.6766\n",
      "Epoch 21/40\n",
      "1456/1456 [==============================] - ETA: 0s - loss: 39790.5230\n",
      "Epoch 21: val_loss did not improve from 40165.67655\n",
      "1456/1456 [==============================] - 9s 6ms/sample - loss: 39790.5230 - val_loss: 40166.6035\n",
      "Epoch 22/40\n",
      "1456/1456 [==============================] - ETA: 0s - loss: 39794.8680\n",
      "Epoch 22: val_loss did not improve from 40165.67655\n",
      "1456/1456 [==============================] - 9s 6ms/sample - loss: 39794.8680 - val_loss: 40175.7524\n",
      "Epoch 23/40\n",
      "1456/1456 [==============================] - ETA: 0s - loss: 39780.3290\n",
      "Epoch 23: val_loss did not improve from 40165.67655\n",
      "1456/1456 [==============================] - 9s 6ms/sample - loss: 39780.3290 - val_loss: 40176.4761\n",
      "Epoch 24/40\n",
      "1456/1456 [==============================] - ETA: 0s - loss: 39802.8485\n",
      "Epoch 24: val_loss did not improve from 40165.67655\n",
      "1456/1456 [==============================] - 9s 6ms/sample - loss: 39802.8485 - val_loss: 40246.9437\n",
      "Epoch 25/40\n",
      "1448/1456 [============================>.] - ETA: 0s - loss: 39778.6997\n",
      "Epoch 25: val_loss improved from 40165.67655 to 40161.91810, saving model to training_1_40_binary_cp/cp.ckpt\n",
      "1456/1456 [==============================] - 9s 6ms/sample - loss: 39794.4977 - val_loss: 40161.9181\n",
      "Epoch 26/40\n",
      "1456/1456 [==============================] - ETA: 0s - loss: 39889.9468\n",
      "Epoch 26: val_loss did not improve from 40161.91810\n",
      "1456/1456 [==============================] - 9s 6ms/sample - loss: 39889.9468 - val_loss: 40189.0414\n",
      "Epoch 27/40\n",
      "1456/1456 [==============================] - ETA: 0s - loss: 39792.3654\n",
      "Epoch 27: val_loss did not improve from 40161.91810\n",
      "1456/1456 [==============================] - 9s 6ms/sample - loss: 39792.3654 - val_loss: 40204.1453\n",
      "Epoch 28/40\n",
      "1456/1456 [==============================] - ETA: 0s - loss: 39784.8372\n",
      "Epoch 28: val_loss did not improve from 40161.91810\n",
      "1456/1456 [==============================] - 9s 6ms/sample - loss: 39784.8372 - val_loss: 40238.1308\n",
      "Epoch 29/40\n",
      "1448/1456 [============================>.] - ETA: 0s - loss: 39810.3010\n",
      "Epoch 29: val_loss did not improve from 40161.91810\n",
      "1456/1456 [==============================] - 9s 6ms/sample - loss: 39798.9296 - val_loss: 40163.9629\n",
      "Epoch 30/40\n",
      "1448/1456 [============================>.] - ETA: 0s - loss: 39763.1354\n",
      "Epoch 30: val_loss did not improve from 40161.91810\n",
      "1456/1456 [==============================] - 9s 6ms/sample - loss: 39781.0160 - val_loss: 40162.3756\n",
      "Epoch 31/40\n",
      "1456/1456 [==============================] - ETA: 0s - loss: 39785.1689\n",
      "Epoch 31: val_loss did not improve from 40161.91810\n",
      "1456/1456 [==============================] - 9s 6ms/sample - loss: 39785.1689 - val_loss: 40210.6850\n",
      "Epoch 32/40\n",
      "1448/1456 [============================>.] - ETA: 0s - loss: 39778.5615\n",
      "Epoch 32: val_loss improved from 40161.91810 to 40161.89286, saving model to training_1_40_binary_cp/cp.ckpt\n",
      "1456/1456 [==============================] - 9s 6ms/sample - loss: 39774.0252 - val_loss: 40161.8929\n",
      "Epoch 33/40\n",
      "1456/1456 [==============================] - ETA: 0s - loss: 39770.9879\n",
      "Epoch 33: val_loss did not improve from 40161.89286\n",
      "1456/1456 [==============================] - 9s 6ms/sample - loss: 39770.9879 - val_loss: 40181.2454\n",
      "Epoch 34/40\n",
      "1456/1456 [==============================] - ETA: 0s - loss: 39806.9205\n",
      "Epoch 34: val_loss did not improve from 40161.89286\n",
      "1456/1456 [==============================] - 9s 6ms/sample - loss: 39806.9205 - val_loss: 40234.2666\n",
      "Epoch 35/40\n",
      "1456/1456 [==============================] - ETA: 0s - loss: 39808.3429\n",
      "Epoch 35: val_loss did not improve from 40161.89286\n",
      "1456/1456 [==============================] - 9s 6ms/sample - loss: 39808.3429 - val_loss: 40192.8626\n",
      "Epoch 36/40\n",
      "1448/1456 [============================>.] - ETA: 0s - loss: 39856.2760\n",
      "Epoch 36: val_loss did not improve from 40161.89286\n",
      "1456/1456 [==============================] - 9s 6ms/sample - loss: 39837.2642 - val_loss: 40186.5937\n",
      "Epoch 37/40\n",
      "1456/1456 [==============================] - ETA: 0s - loss: 39780.4709\n",
      "Epoch 37: val_loss did not improve from 40161.89286\n",
      "1456/1456 [==============================] - 9s 6ms/sample - loss: 39780.4709 - val_loss: 40175.8911\n",
      "Epoch 38/40\n",
      "1456/1456 [==============================] - ETA: 0s - loss: 39788.2565\n",
      "Epoch 38: val_loss did not improve from 40161.89286\n",
      "1456/1456 [==============================] - 9s 6ms/sample - loss: 39788.2565 - val_loss: 40212.0965\n",
      "Epoch 39/40\n",
      "1456/1456 [==============================] - ETA: 0s - loss: 39772.0736\n",
      "Epoch 39: val_loss did not improve from 40161.89286\n",
      "1456/1456 [==============================] - 9s 6ms/sample - loss: 39772.0736 - val_loss: 40172.5825\n",
      "Epoch 40/40\n",
      "1456/1456 [==============================] - ETA: 0s - loss: 39792.0674\n",
      "Epoch 40: val_loss did not improve from 40161.89286\n",
      "1456/1456 [==============================] - 9s 6ms/sample - loss: 39792.0674 - val_loss: 40190.7299\n"
     ]
    }
   ],
   "source": [
    "with tf.device(\"/GPU:0\"):\n",
    "    H = cvae.fit(\n",
    "        [train_images, train_labels_arr], train_images,\n",
    "        shuffle=True,\n",
    "        validation_data=([val_images, val_labels_arr], val_images),\n",
    "        epochs=EPOCHS,\n",
    "        callbacks = [checkpoint_callback], batch_size=BS) "
   ]
  },
  {
   "cell_type": "markdown",
   "id": "0b1ab132",
   "metadata": {
    "id": "NGP0dXvg2Lze",
    "papermill": {
     "duration": 0.222545,
     "end_time": "2023-04-09T14:37:02.210116",
     "exception": false,
     "start_time": "2023-04-09T14:37:01.987571",
     "status": "completed"
    },
    "tags": []
   },
   "source": [
    "## Saved Result Graphic (.json) and Model Trained (h5)"
   ]
  },
  {
   "cell_type": "code",
   "execution_count": 14,
   "id": "8496e7fb",
   "metadata": {
    "execution": {
     "iopub.execute_input": "2023-04-09T14:37:02.660562Z",
     "iopub.status.busy": "2023-04-09T14:37:02.659632Z",
     "iopub.status.idle": "2023-04-09T14:37:02.859268Z",
     "shell.execute_reply": "2023-04-09T14:37:02.858231Z"
    },
    "executionInfo": {
     "elapsed": 29984,
     "status": "ok",
     "timestamp": 1634459886922,
     "user": {
      "displayName": "Kharisma Muzaki Ghufron",
      "photoUrl": "https://lh3.googleusercontent.com/a/default-user=s64",
      "userId": "14730718725881384856"
     },
     "user_tz": -420
    },
    "id": "4W49P0jq2Zt-",
    "papermill": {
     "duration": 0.429053,
     "end_time": "2023-04-09T14:37:02.862038",
     "exception": false,
     "start_time": "2023-04-09T14:37:02.432985",
     "status": "completed"
    },
    "tags": []
   },
   "outputs": [],
   "source": [
    "with open(history_path, 'w') as f:\n",
    "    json.dump(H.history, f)\n",
    "cvae.save(model_path)"
   ]
  },
  {
   "cell_type": "markdown",
   "id": "f3f150b8",
   "metadata": {
    "id": "YiaL-r9o3wMW",
    "papermill": {
     "duration": 0.224514,
     "end_time": "2023-04-09T14:37:03.365225",
     "exception": false,
     "start_time": "2023-04-09T14:37:03.140711",
     "status": "completed"
    },
    "tags": []
   },
   "source": [
    "# Extract Feature Stage"
   ]
  },
  {
   "cell_type": "markdown",
   "id": "4292de28",
   "metadata": {
    "id": "WDJy4NT43-tO",
    "papermill": {
     "duration": 0.220237,
     "end_time": "2023-04-09T14:37:03.811186",
     "exception": false,
     "start_time": "2023-04-09T14:37:03.590949",
     "status": "completed"
    },
    "tags": []
   },
   "source": [
    "## Load already trained model and extracting feature\n"
   ]
  },
  {
   "cell_type": "code",
   "execution_count": 15,
   "id": "1f299c34",
   "metadata": {
    "execution": {
     "iopub.execute_input": "2023-04-09T14:37:04.273113Z",
     "iopub.status.busy": "2023-04-09T14:37:04.272723Z",
     "iopub.status.idle": "2023-04-09T14:37:06.899731Z",
     "shell.execute_reply": "2023-04-09T14:37:06.898607Z"
    },
    "executionInfo": {
     "elapsed": 30833,
     "status": "ok",
     "timestamp": 1634459917745,
     "user": {
      "displayName": "Kharisma Muzaki Ghufron",
      "photoUrl": "https://lh3.googleusercontent.com/a/default-user=s64",
      "userId": "14730718725881384856"
     },
     "user_tz": -420
    },
    "id": "eN11l1iF4DUW",
    "outputId": "c1b5cd23-5746-4e86-b1c5-5e1abc415979",
    "papermill": {
     "duration": 2.850051,
     "end_time": "2023-04-09T14:37:06.902451",
     "exception": false,
     "start_time": "2023-04-09T14:37:04.052400",
     "status": "completed"
    },
    "tags": []
   },
   "outputs": [
    {
     "name": "stdout",
     "output_type": "stream",
     "text": [
      "[INFO] loading auto encoder model...\n",
      "[INFO] encoding images...\n"
     ]
    },
    {
     "name": "stderr",
     "output_type": "stream",
     "text": [
      "/opt/conda/lib/python3.7/site-packages/keras/engine/training_v1.py:2357: UserWarning: `Model.state_updates` will be removed in a future version. This property should not be used in TensorFlow 2.0, as `updates` are applied automatically.\n",
      "  updates=self.state_updates,\n"
     ]
    }
   ],
   "source": [
    "# auto_encoder = ConvAutoEncoder.build(IMAGE_SIZE[0], IMAGE_SIZE[1], 3)\n",
    "# load our auto_encoder from disk\n",
    "print(\"[INFO] loading auto encoder model...\")\n",
    "cvae.load_weights(checkpoint_path)\n",
    "\n",
    "encoder = Model(inputs=cvae.input[0], outputs=cvae.get_layer(\"encoder_model\").get_layer(\"encoded\").output)\n",
    "\n",
    "# quantify the contents of our input images using the encoder\n",
    "print(\"[INFO] encoding images...\")\n",
    "features = encoder.predict(train_images)"
   ]
  },
  {
   "cell_type": "markdown",
   "id": "2eca9527",
   "metadata": {
    "id": "RwRiJP-84VaP",
    "papermill": {
     "duration": 0.220752,
     "end_time": "2023-04-09T14:37:07.462305",
     "exception": false,
     "start_time": "2023-04-09T14:37:07.241553",
     "status": "completed"
    },
    "tags": []
   },
   "source": [
    "## Create mapping feature included location images, label, feature and indexing number"
   ]
  },
  {
   "cell_type": "code",
   "execution_count": 16,
   "id": "f2981e34",
   "metadata": {
    "execution": {
     "iopub.execute_input": "2023-04-09T14:37:08.223193Z",
     "iopub.status.busy": "2023-04-09T14:37:08.221960Z",
     "iopub.status.idle": "2023-04-09T14:37:08.256915Z",
     "shell.execute_reply": "2023-04-09T14:37:08.256019Z"
    },
    "executionInfo": {
     "elapsed": 8,
     "status": "ok",
     "timestamp": 1634459917745,
     "user": {
      "displayName": "Kharisma Muzaki Ghufron",
      "photoUrl": "https://lh3.googleusercontent.com/a/default-user=s64",
      "userId": "14730718725881384856"
     },
     "user_tz": -420
    },
    "id": "ItHAs9Aj4fm_",
    "papermill": {
     "duration": 0.377876,
     "end_time": "2023-04-09T14:37:08.259611",
     "exception": false,
     "start_time": "2023-04-09T14:37:07.881735",
     "status": "completed"
    },
    "tags": []
   },
   "outputs": [],
   "source": [
    "train_indexes = list(range(0, train_images.shape[0]))\n",
    "train_features_array = [[float(x) for x in y] for y in features]\n",
    "data = {\"indexes\": train_indexes, \"features\": train_features_array, \"locations\": train_paths, \"labels\":train_labels}"
   ]
  },
  {
   "cell_type": "markdown",
   "id": "82a4db9d",
   "metadata": {
    "id": "-Hb3KBS-4hS3",
    "papermill": {
     "duration": 0.281541,
     "end_time": "2023-04-09T14:37:08.884203",
     "exception": false,
     "start_time": "2023-04-09T14:37:08.602662",
     "status": "completed"
    },
    "tags": []
   },
   "source": [
    "## Saved model feature (already mapped) as json"
   ]
  },
  {
   "cell_type": "code",
   "execution_count": 17,
   "id": "18fd4873",
   "metadata": {
    "execution": {
     "iopub.execute_input": "2023-04-09T14:37:09.331165Z",
     "iopub.status.busy": "2023-04-09T14:37:09.330788Z",
     "iopub.status.idle": "2023-04-09T14:37:09.465573Z",
     "shell.execute_reply": "2023-04-09T14:37:09.464545Z"
    },
    "executionInfo": {
     "elapsed": 446,
     "status": "ok",
     "timestamp": 1634459918184,
     "user": {
      "displayName": "Kharisma Muzaki Ghufron",
      "photoUrl": "https://lh3.googleusercontent.com/a/default-user=s64",
      "userId": "14730718725881384856"
     },
     "user_tz": -420
    },
    "id": "gHqqNqSV4mun",
    "papermill": {
     "duration": 0.361816,
     "end_time": "2023-04-09T14:37:09.467941",
     "exception": false,
     "start_time": "2023-04-09T14:37:09.106125",
     "status": "completed"
    },
    "tags": []
   },
   "outputs": [],
   "source": [
    "with open(feature_path, 'w') as f:\n",
    "    json.dump(data, f)"
   ]
  },
  {
   "cell_type": "markdown",
   "id": "927b85dd",
   "metadata": {
    "id": "mEKpKr-G6VAO",
    "papermill": {
     "duration": 0.290659,
     "end_time": "2023-04-09T14:37:09.985974",
     "exception": false,
     "start_time": "2023-04-09T14:37:09.695315",
     "status": "completed"
    },
    "tags": []
   },
   "source": [
    "# Retrieval Test Stage"
   ]
  },
  {
   "cell_type": "markdown",
   "id": "f9ab7d38",
   "metadata": {
    "id": "JtD8TrpR7cVe",
    "papermill": {
     "duration": 0.222975,
     "end_time": "2023-04-09T14:37:10.436384",
     "exception": false,
     "start_time": "2023-04-09T14:37:10.213409",
     "status": "completed"
    },
    "tags": []
   },
   "source": [
    "## Euclidean function"
   ]
  },
  {
   "cell_type": "code",
   "execution_count": 18,
   "id": "ed063b56",
   "metadata": {
    "execution": {
     "iopub.execute_input": "2023-04-09T14:37:10.889009Z",
     "iopub.status.busy": "2023-04-09T14:37:10.888627Z",
     "iopub.status.idle": "2023-04-09T14:37:10.893576Z",
     "shell.execute_reply": "2023-04-09T14:37:10.892500Z"
    },
    "executionInfo": {
     "elapsed": 23,
     "status": "ok",
     "timestamp": 1634459918185,
     "user": {
      "displayName": "Kharisma Muzaki Ghufron",
      "photoUrl": "https://lh3.googleusercontent.com/a/default-user=s64",
      "userId": "14730718725881384856"
     },
     "user_tz": -420
    },
    "id": "GZq6CCE77XHA",
    "papermill": {
     "duration": 0.229631,
     "end_time": "2023-04-09T14:37:10.895631",
     "exception": false,
     "start_time": "2023-04-09T14:37:10.666000",
     "status": "completed"
    },
    "tags": []
   },
   "outputs": [],
   "source": [
    "def euclidean(a, b):\n",
    "    # compute and return the euclidean distance between two vectors\n",
    "    return np.linalg.norm(a - b)"
   ]
  },
  {
   "cell_type": "markdown",
   "id": "ff0b600b",
   "metadata": {
    "id": "bac1xbma7ew-",
    "papermill": {
     "duration": 0.22269,
     "end_time": "2023-04-09T14:37:11.339566",
     "exception": false,
     "start_time": "2023-04-09T14:37:11.116876",
     "status": "completed"
    },
    "tags": []
   },
   "source": [
    "## Perform search function\n",
    "```\n",
    "Default max result from search is 5\n",
    "```\n",
    "\n",
    "\n"
   ]
  },
  {
   "cell_type": "code",
   "execution_count": 19,
   "id": "91850d44",
   "metadata": {
    "execution": {
     "iopub.execute_input": "2023-04-09T14:37:11.832592Z",
     "iopub.status.busy": "2023-04-09T14:37:11.831465Z",
     "iopub.status.idle": "2023-04-09T14:37:11.837990Z",
     "shell.execute_reply": "2023-04-09T14:37:11.837025Z"
    },
    "executionInfo": {
     "elapsed": 23,
     "status": "ok",
     "timestamp": 1634459918185,
     "user": {
      "displayName": "Kharisma Muzaki Ghufron",
      "photoUrl": "https://lh3.googleusercontent.com/a/default-user=s64",
      "userId": "14730718725881384856"
     },
     "user_tz": -420
    },
    "id": "H_aMevGo7g--",
    "papermill": {
     "duration": 0.232126,
     "end_time": "2023-04-09T14:37:11.840166",
     "exception": false,
     "start_time": "2023-04-09T14:37:11.608040",
     "status": "completed"
    },
    "tags": []
   },
   "outputs": [],
   "source": [
    "def perform_search(query_features, indexed_train, max_results=5):\n",
    "    retrieved = []\n",
    "    for idx in range(0, len(indexed_train[\"features\"])):\n",
    "        distance = euclidean(query_features, indexed_train[\"features\"][idx])\n",
    "        retrieved.append((distance, idx))\n",
    "    retrieved = sorted(retrieved)[:max_results]\n",
    "    return retrieved"
   ]
  },
  {
   "cell_type": "markdown",
   "id": "1c2872b6",
   "metadata": {
    "id": "zWU1LO2L725_",
    "papermill": {
     "duration": 0.217986,
     "end_time": "2023-04-09T14:37:12.277889",
     "exception": false,
     "start_time": "2023-04-09T14:37:12.059903",
     "status": "completed"
    },
    "tags": []
   },
   "source": [
    "## Load the model and feature already extracted"
   ]
  },
  {
   "cell_type": "code",
   "execution_count": 20,
   "id": "dfbf923c",
   "metadata": {
    "execution": {
     "iopub.execute_input": "2023-04-09T14:37:12.721705Z",
     "iopub.status.busy": "2023-04-09T14:37:12.721319Z",
     "iopub.status.idle": "2023-04-09T14:37:13.583754Z",
     "shell.execute_reply": "2023-04-09T14:37:13.582021Z"
    },
    "executionInfo": {
     "elapsed": 21348,
     "status": "ok",
     "timestamp": 1634460095599,
     "user": {
      "displayName": "Kharisma Muzaki Ghufron",
      "photoUrl": "https://lh3.googleusercontent.com/a/default-user=s64",
      "userId": "14730718725881384856"
     },
     "user_tz": -420
    },
    "id": "l0yvC_Fm8Bo_",
    "outputId": "046dc82a-7970-4f8f-982c-7f1fe4454023",
    "papermill": {
     "duration": 1.08518,
     "end_time": "2023-04-09T14:37:13.586823",
     "exception": false,
     "start_time": "2023-04-09T14:37:12.501643",
     "status": "completed"
    },
    "tags": []
   },
   "outputs": [
    {
     "name": "stdout",
     "output_type": "stream",
     "text": [
      "[INFO] loading auto encoder model...\n",
      "[INFO] encoding images...\n"
     ]
    }
   ],
   "source": [
    "# auto_encoder = ConvAutoEncoder.build(IMAGE_SIZE[0], IMAGE_SIZE[1], 3)\n",
    "# load our auto_encoder from disk\n",
    "print(\"[INFO] loading auto encoder model...\")\n",
    "cvae.load_weights(checkpoint_path)\n",
    "with open(feature_path) as f:\n",
    "    training_indexed = json.load(f)\n",
    "\n",
    "# create the encoder model which consists of *just* the encoder\n",
    "# portion of the auto encoder\n",
    "encoder = Model(inputs=cvae.input[0], outputs=cvae.get_layer(\"encoder_model\").get_layer(\"encoded\").output)\n",
    "\n",
    "# quantify the contents of our input images using the encoder\n",
    "print(\"[INFO] encoding images...\")\n",
    "features_retrieved = encoder.predict(test_images)"
   ]
  },
  {
   "cell_type": "markdown",
   "id": "7be29dc4",
   "metadata": {
    "id": "VFt2q2eg8KkO",
    "papermill": {
     "duration": 0.222444,
     "end_time": "2023-04-09T14:37:14.035224",
     "exception": false,
     "start_time": "2023-04-09T14:37:13.812780",
     "status": "completed"
    },
    "tags": []
   },
   "source": [
    "## Perform search and retrieval based test images"
   ]
  },
  {
   "cell_type": "code",
   "execution_count": 21,
   "id": "b577d1eb",
   "metadata": {
    "_kg_hide-output": true,
    "execution": {
     "iopub.execute_input": "2023-04-09T14:37:14.525340Z",
     "iopub.status.busy": "2023-04-09T14:37:14.524937Z",
     "iopub.status.idle": "2023-04-09T14:37:18.317925Z",
     "shell.execute_reply": "2023-04-09T14:37:18.316499Z"
    },
    "executionInfo": {
     "elapsed": 6060,
     "status": "ok",
     "timestamp": 1634460101650,
     "user": {
      "displayName": "Kharisma Muzaki Ghufron",
      "photoUrl": "https://lh3.googleusercontent.com/a/default-user=s64",
      "userId": "14730718725881384856"
     },
     "user_tz": -420
    },
    "id": "SDoI3M9P8QXu",
    "outputId": "93e9ebef-40f4-4c55-c387-64f557f24995",
    "papermill": {
     "duration": 4.060132,
     "end_time": "2023-04-09T14:37:18.320171",
     "exception": false,
     "start_time": "2023-04-09T14:37:14.260039",
     "status": "completed"
    },
    "scrolled": true,
    "tags": []
   },
   "outputs": [
    {
     "name": "stderr",
     "output_type": "stream",
     "text": [
      "/opt/conda/lib/python3.7/site-packages/sklearn/metrics/_classification.py:1318: UndefinedMetricWarning: Recall is ill-defined and being set to 0.0 in labels with no true samples. Use `zero_division` parameter to control this behavior.\n",
      "  _warn_prf(average, modifier, msg_start, len(result))\n",
      "/opt/conda/lib/python3.7/site-packages/sklearn/metrics/_classification.py:1318: UndefinedMetricWarning: Recall is ill-defined and being set to 0.0 in labels with no true samples. Use `zero_division` parameter to control this behavior.\n",
      "  _warn_prf(average, modifier, msg_start, len(result))\n",
      "/opt/conda/lib/python3.7/site-packages/sklearn/metrics/_classification.py:1318: UndefinedMetricWarning: Recall is ill-defined and being set to 0.0 in labels with no true samples. Use `zero_division` parameter to control this behavior.\n",
      "  _warn_prf(average, modifier, msg_start, len(result))\n",
      "/opt/conda/lib/python3.7/site-packages/sklearn/metrics/_classification.py:1318: UndefinedMetricWarning: Recall is ill-defined and being set to 0.0 in labels with no true samples. Use `zero_division` parameter to control this behavior.\n",
      "  _warn_prf(average, modifier, msg_start, len(result))\n",
      "/opt/conda/lib/python3.7/site-packages/sklearn/metrics/_classification.py:1318: UndefinedMetricWarning: Precision is ill-defined and being set to 0.0 in labels with no predicted samples. Use `zero_division` parameter to control this behavior.\n",
      "  _warn_prf(average, modifier, msg_start, len(result))\n",
      "/opt/conda/lib/python3.7/site-packages/sklearn/metrics/_classification.py:1318: UndefinedMetricWarning: Recall is ill-defined and being set to 0.0 in labels with no true samples. Use `zero_division` parameter to control this behavior.\n",
      "  _warn_prf(average, modifier, msg_start, len(result))\n",
      "/opt/conda/lib/python3.7/site-packages/sklearn/metrics/_classification.py:1318: UndefinedMetricWarning: Precision is ill-defined and being set to 0.0 in labels with no predicted samples. Use `zero_division` parameter to control this behavior.\n",
      "  _warn_prf(average, modifier, msg_start, len(result))\n",
      "/opt/conda/lib/python3.7/site-packages/sklearn/metrics/_classification.py:1318: UndefinedMetricWarning: Recall is ill-defined and being set to 0.0 in labels with no true samples. Use `zero_division` parameter to control this behavior.\n",
      "  _warn_prf(average, modifier, msg_start, len(result))\n",
      "/opt/conda/lib/python3.7/site-packages/sklearn/metrics/_classification.py:1318: UndefinedMetricWarning: Recall is ill-defined and being set to 0.0 in labels with no true samples. Use `zero_division` parameter to control this behavior.\n",
      "  _warn_prf(average, modifier, msg_start, len(result))\n",
      "/opt/conda/lib/python3.7/site-packages/sklearn/metrics/_classification.py:1318: UndefinedMetricWarning: Recall is ill-defined and being set to 0.0 in labels with no true samples. Use `zero_division` parameter to control this behavior.\n",
      "  _warn_prf(average, modifier, msg_start, len(result))\n",
      "/opt/conda/lib/python3.7/site-packages/sklearn/metrics/_classification.py:1318: UndefinedMetricWarning: Recall is ill-defined and being set to 0.0 in labels with no true samples. Use `zero_division` parameter to control this behavior.\n",
      "  _warn_prf(average, modifier, msg_start, len(result))\n",
      "/opt/conda/lib/python3.7/site-packages/sklearn/metrics/_classification.py:1318: UndefinedMetricWarning: Precision is ill-defined and being set to 0.0 in labels with no predicted samples. Use `zero_division` parameter to control this behavior.\n",
      "  _warn_prf(average, modifier, msg_start, len(result))\n",
      "/opt/conda/lib/python3.7/site-packages/sklearn/metrics/_classification.py:1318: UndefinedMetricWarning: Recall is ill-defined and being set to 0.0 in labels with no true samples. Use `zero_division` parameter to control this behavior.\n",
      "  _warn_prf(average, modifier, msg_start, len(result))\n",
      "/opt/conda/lib/python3.7/site-packages/sklearn/metrics/_classification.py:1318: UndefinedMetricWarning: Recall is ill-defined and being set to 0.0 in labels with no true samples. Use `zero_division` parameter to control this behavior.\n",
      "  _warn_prf(average, modifier, msg_start, len(result))\n",
      "/opt/conda/lib/python3.7/site-packages/sklearn/metrics/_classification.py:1318: UndefinedMetricWarning: Recall is ill-defined and being set to 0.0 in labels with no true samples. Use `zero_division` parameter to control this behavior.\n",
      "  _warn_prf(average, modifier, msg_start, len(result))\n",
      "/opt/conda/lib/python3.7/site-packages/sklearn/metrics/_classification.py:1318: UndefinedMetricWarning: Recall is ill-defined and being set to 0.0 in labels with no true samples. Use `zero_division` parameter to control this behavior.\n",
      "  _warn_prf(average, modifier, msg_start, len(result))\n",
      "/opt/conda/lib/python3.7/site-packages/sklearn/metrics/_classification.py:1318: UndefinedMetricWarning: Recall is ill-defined and being set to 0.0 in labels with no true samples. Use `zero_division` parameter to control this behavior.\n",
      "  _warn_prf(average, modifier, msg_start, len(result))\n",
      "/opt/conda/lib/python3.7/site-packages/sklearn/metrics/_classification.py:1318: UndefinedMetricWarning: Recall is ill-defined and being set to 0.0 in labels with no true samples. Use `zero_division` parameter to control this behavior.\n",
      "  _warn_prf(average, modifier, msg_start, len(result))\n",
      "/opt/conda/lib/python3.7/site-packages/sklearn/metrics/_classification.py:1318: UndefinedMetricWarning: Recall is ill-defined and being set to 0.0 in labels with no true samples. Use `zero_division` parameter to control this behavior.\n",
      "  _warn_prf(average, modifier, msg_start, len(result))\n",
      "/opt/conda/lib/python3.7/site-packages/sklearn/metrics/_classification.py:1318: UndefinedMetricWarning: Recall is ill-defined and being set to 0.0 in labels with no true samples. Use `zero_division` parameter to control this behavior.\n",
      "  _warn_prf(average, modifier, msg_start, len(result))\n",
      "/opt/conda/lib/python3.7/site-packages/sklearn/metrics/_classification.py:1318: UndefinedMetricWarning: Recall is ill-defined and being set to 0.0 in labels with no true samples. Use `zero_division` parameter to control this behavior.\n",
      "  _warn_prf(average, modifier, msg_start, len(result))\n",
      "/opt/conda/lib/python3.7/site-packages/sklearn/metrics/_classification.py:1318: UndefinedMetricWarning: Recall is ill-defined and being set to 0.0 in labels with no true samples. Use `zero_division` parameter to control this behavior.\n",
      "  _warn_prf(average, modifier, msg_start, len(result))\n",
      "/opt/conda/lib/python3.7/site-packages/sklearn/metrics/_classification.py:1318: UndefinedMetricWarning: Precision is ill-defined and being set to 0.0 in labels with no predicted samples. Use `zero_division` parameter to control this behavior.\n",
      "  _warn_prf(average, modifier, msg_start, len(result))\n",
      "/opt/conda/lib/python3.7/site-packages/sklearn/metrics/_classification.py:1318: UndefinedMetricWarning: Recall is ill-defined and being set to 0.0 in labels with no true samples. Use `zero_division` parameter to control this behavior.\n",
      "  _warn_prf(average, modifier, msg_start, len(result))\n",
      "/opt/conda/lib/python3.7/site-packages/sklearn/metrics/_classification.py:1318: UndefinedMetricWarning: Recall is ill-defined and being set to 0.0 in labels with no true samples. Use `zero_division` parameter to control this behavior.\n",
      "  _warn_prf(average, modifier, msg_start, len(result))\n",
      "/opt/conda/lib/python3.7/site-packages/sklearn/metrics/_classification.py:1318: UndefinedMetricWarning: Recall is ill-defined and being set to 0.0 in labels with no true samples. Use `zero_division` parameter to control this behavior.\n",
      "  _warn_prf(average, modifier, msg_start, len(result))\n",
      "/opt/conda/lib/python3.7/site-packages/sklearn/metrics/_classification.py:1318: UndefinedMetricWarning: Recall is ill-defined and being set to 0.0 in labels with no true samples. Use `zero_division` parameter to control this behavior.\n",
      "  _warn_prf(average, modifier, msg_start, len(result))\n",
      "/opt/conda/lib/python3.7/site-packages/sklearn/metrics/_classification.py:1318: UndefinedMetricWarning: Recall is ill-defined and being set to 0.0 in labels with no true samples. Use `zero_division` parameter to control this behavior.\n",
      "  _warn_prf(average, modifier, msg_start, len(result))\n",
      "/opt/conda/lib/python3.7/site-packages/sklearn/metrics/_classification.py:1318: UndefinedMetricWarning: Recall is ill-defined and being set to 0.0 in labels with no true samples. Use `zero_division` parameter to control this behavior.\n",
      "  _warn_prf(average, modifier, msg_start, len(result))\n",
      "/opt/conda/lib/python3.7/site-packages/sklearn/metrics/_classification.py:1318: UndefinedMetricWarning: Recall is ill-defined and being set to 0.0 in labels with no true samples. Use `zero_division` parameter to control this behavior.\n",
      "  _warn_prf(average, modifier, msg_start, len(result))\n",
      "/opt/conda/lib/python3.7/site-packages/sklearn/metrics/_classification.py:1318: UndefinedMetricWarning: Recall is ill-defined and being set to 0.0 in labels with no true samples. Use `zero_division` parameter to control this behavior.\n",
      "  _warn_prf(average, modifier, msg_start, len(result))\n",
      "/opt/conda/lib/python3.7/site-packages/sklearn/metrics/_classification.py:1318: UndefinedMetricWarning: Recall is ill-defined and being set to 0.0 in labels with no true samples. Use `zero_division` parameter to control this behavior.\n",
      "  _warn_prf(average, modifier, msg_start, len(result))\n",
      "/opt/conda/lib/python3.7/site-packages/sklearn/metrics/_classification.py:1318: UndefinedMetricWarning: Recall is ill-defined and being set to 0.0 in labels with no true samples. Use `zero_division` parameter to control this behavior.\n",
      "  _warn_prf(average, modifier, msg_start, len(result))\n",
      "/opt/conda/lib/python3.7/site-packages/sklearn/metrics/_classification.py:1318: UndefinedMetricWarning: Precision is ill-defined and being set to 0.0 in labels with no predicted samples. Use `zero_division` parameter to control this behavior.\n",
      "  _warn_prf(average, modifier, msg_start, len(result))\n",
      "/opt/conda/lib/python3.7/site-packages/sklearn/metrics/_classification.py:1318: UndefinedMetricWarning: Recall is ill-defined and being set to 0.0 in labels with no true samples. Use `zero_division` parameter to control this behavior.\n",
      "  _warn_prf(average, modifier, msg_start, len(result))\n",
      "/opt/conda/lib/python3.7/site-packages/sklearn/metrics/_classification.py:1318: UndefinedMetricWarning: Recall is ill-defined and being set to 0.0 in labels with no true samples. Use `zero_division` parameter to control this behavior.\n",
      "  _warn_prf(average, modifier, msg_start, len(result))\n",
      "/opt/conda/lib/python3.7/site-packages/sklearn/metrics/_classification.py:1318: UndefinedMetricWarning: Recall is ill-defined and being set to 0.0 in labels with no true samples. Use `zero_division` parameter to control this behavior.\n",
      "  _warn_prf(average, modifier, msg_start, len(result))\n",
      "/opt/conda/lib/python3.7/site-packages/sklearn/metrics/_classification.py:1318: UndefinedMetricWarning: Precision is ill-defined and being set to 0.0 in labels with no predicted samples. Use `zero_division` parameter to control this behavior.\n",
      "  _warn_prf(average, modifier, msg_start, len(result))\n",
      "/opt/conda/lib/python3.7/site-packages/sklearn/metrics/_classification.py:1318: UndefinedMetricWarning: Recall is ill-defined and being set to 0.0 in labels with no true samples. Use `zero_division` parameter to control this behavior.\n",
      "  _warn_prf(average, modifier, msg_start, len(result))\n",
      "/opt/conda/lib/python3.7/site-packages/sklearn/metrics/_classification.py:1318: UndefinedMetricWarning: Precision is ill-defined and being set to 0.0 in labels with no predicted samples. Use `zero_division` parameter to control this behavior.\n",
      "  _warn_prf(average, modifier, msg_start, len(result))\n",
      "/opt/conda/lib/python3.7/site-packages/sklearn/metrics/_classification.py:1318: UndefinedMetricWarning: Recall is ill-defined and being set to 0.0 in labels with no true samples. Use `zero_division` parameter to control this behavior.\n",
      "  _warn_prf(average, modifier, msg_start, len(result))\n",
      "/opt/conda/lib/python3.7/site-packages/sklearn/metrics/_classification.py:1318: UndefinedMetricWarning: Recall is ill-defined and being set to 0.0 in labels with no true samples. Use `zero_division` parameter to control this behavior.\n",
      "  _warn_prf(average, modifier, msg_start, len(result))\n",
      "/opt/conda/lib/python3.7/site-packages/sklearn/metrics/_classification.py:1318: UndefinedMetricWarning: Precision is ill-defined and being set to 0.0 in labels with no predicted samples. Use `zero_division` parameter to control this behavior.\n",
      "  _warn_prf(average, modifier, msg_start, len(result))\n",
      "/opt/conda/lib/python3.7/site-packages/sklearn/metrics/_classification.py:1318: UndefinedMetricWarning: Recall is ill-defined and being set to 0.0 in labels with no true samples. Use `zero_division` parameter to control this behavior.\n",
      "  _warn_prf(average, modifier, msg_start, len(result))\n",
      "/opt/conda/lib/python3.7/site-packages/sklearn/metrics/_classification.py:1318: UndefinedMetricWarning: Recall is ill-defined and being set to 0.0 in labels with no true samples. Use `zero_division` parameter to control this behavior.\n",
      "  _warn_prf(average, modifier, msg_start, len(result))\n",
      "/opt/conda/lib/python3.7/site-packages/sklearn/metrics/_classification.py:1318: UndefinedMetricWarning: Recall is ill-defined and being set to 0.0 in labels with no true samples. Use `zero_division` parameter to control this behavior.\n",
      "  _warn_prf(average, modifier, msg_start, len(result))\n",
      "/opt/conda/lib/python3.7/site-packages/sklearn/metrics/_classification.py:1318: UndefinedMetricWarning: Recall is ill-defined and being set to 0.0 in labels with no true samples. Use `zero_division` parameter to control this behavior.\n",
      "  _warn_prf(average, modifier, msg_start, len(result))\n",
      "/opt/conda/lib/python3.7/site-packages/sklearn/metrics/_classification.py:1318: UndefinedMetricWarning: Recall is ill-defined and being set to 0.0 in labels with no true samples. Use `zero_division` parameter to control this behavior.\n",
      "  _warn_prf(average, modifier, msg_start, len(result))\n",
      "/opt/conda/lib/python3.7/site-packages/sklearn/metrics/_classification.py:1318: UndefinedMetricWarning: Recall is ill-defined and being set to 0.0 in labels with no true samples. Use `zero_division` parameter to control this behavior.\n",
      "  _warn_prf(average, modifier, msg_start, len(result))\n",
      "/opt/conda/lib/python3.7/site-packages/sklearn/metrics/_classification.py:1318: UndefinedMetricWarning: Recall is ill-defined and being set to 0.0 in labels with no true samples. Use `zero_division` parameter to control this behavior.\n",
      "  _warn_prf(average, modifier, msg_start, len(result))\n",
      "/opt/conda/lib/python3.7/site-packages/sklearn/metrics/_classification.py:1318: UndefinedMetricWarning: Recall is ill-defined and being set to 0.0 in labels with no true samples. Use `zero_division` parameter to control this behavior.\n",
      "  _warn_prf(average, modifier, msg_start, len(result))\n",
      "/opt/conda/lib/python3.7/site-packages/sklearn/metrics/_classification.py:1318: UndefinedMetricWarning: Recall is ill-defined and being set to 0.0 in labels with no true samples. Use `zero_division` parameter to control this behavior.\n",
      "  _warn_prf(average, modifier, msg_start, len(result))\n",
      "/opt/conda/lib/python3.7/site-packages/sklearn/metrics/_classification.py:1318: UndefinedMetricWarning: Recall is ill-defined and being set to 0.0 in labels with no true samples. Use `zero_division` parameter to control this behavior.\n",
      "  _warn_prf(average, modifier, msg_start, len(result))\n",
      "/opt/conda/lib/python3.7/site-packages/sklearn/metrics/_classification.py:1318: UndefinedMetricWarning: Recall is ill-defined and being set to 0.0 in labels with no true samples. Use `zero_division` parameter to control this behavior.\n",
      "  _warn_prf(average, modifier, msg_start, len(result))\n",
      "/opt/conda/lib/python3.7/site-packages/sklearn/metrics/_classification.py:1318: UndefinedMetricWarning: Recall is ill-defined and being set to 0.0 in labels with no true samples. Use `zero_division` parameter to control this behavior.\n",
      "  _warn_prf(average, modifier, msg_start, len(result))\n",
      "/opt/conda/lib/python3.7/site-packages/sklearn/metrics/_classification.py:1318: UndefinedMetricWarning: Recall is ill-defined and being set to 0.0 in labels with no true samples. Use `zero_division` parameter to control this behavior.\n",
      "  _warn_prf(average, modifier, msg_start, len(result))\n",
      "/opt/conda/lib/python3.7/site-packages/sklearn/metrics/_classification.py:1318: UndefinedMetricWarning: Recall is ill-defined and being set to 0.0 in labels with no true samples. Use `zero_division` parameter to control this behavior.\n",
      "  _warn_prf(average, modifier, msg_start, len(result))\n",
      "/opt/conda/lib/python3.7/site-packages/sklearn/metrics/_classification.py:1318: UndefinedMetricWarning: Recall is ill-defined and being set to 0.0 in labels with no true samples. Use `zero_division` parameter to control this behavior.\n",
      "  _warn_prf(average, modifier, msg_start, len(result))\n",
      "/opt/conda/lib/python3.7/site-packages/sklearn/metrics/_classification.py:1318: UndefinedMetricWarning: Recall is ill-defined and being set to 0.0 in labels with no true samples. Use `zero_division` parameter to control this behavior.\n",
      "  _warn_prf(average, modifier, msg_start, len(result))\n",
      "/opt/conda/lib/python3.7/site-packages/sklearn/metrics/_classification.py:1318: UndefinedMetricWarning: Precision is ill-defined and being set to 0.0 in labels with no predicted samples. Use `zero_division` parameter to control this behavior.\n",
      "  _warn_prf(average, modifier, msg_start, len(result))\n",
      "/opt/conda/lib/python3.7/site-packages/sklearn/metrics/_classification.py:1318: UndefinedMetricWarning: Recall is ill-defined and being set to 0.0 in labels with no true samples. Use `zero_division` parameter to control this behavior.\n",
      "  _warn_prf(average, modifier, msg_start, len(result))\n",
      "/opt/conda/lib/python3.7/site-packages/sklearn/metrics/_classification.py:1318: UndefinedMetricWarning: Precision is ill-defined and being set to 0.0 in labels with no predicted samples. Use `zero_division` parameter to control this behavior.\n",
      "  _warn_prf(average, modifier, msg_start, len(result))\n",
      "/opt/conda/lib/python3.7/site-packages/sklearn/metrics/_classification.py:1318: UndefinedMetricWarning: Recall is ill-defined and being set to 0.0 in labels with no true samples. Use `zero_division` parameter to control this behavior.\n",
      "  _warn_prf(average, modifier, msg_start, len(result))\n",
      "/opt/conda/lib/python3.7/site-packages/sklearn/metrics/_classification.py:1318: UndefinedMetricWarning: Recall is ill-defined and being set to 0.0 in labels with no true samples. Use `zero_division` parameter to control this behavior.\n",
      "  _warn_prf(average, modifier, msg_start, len(result))\n",
      "/opt/conda/lib/python3.7/site-packages/sklearn/metrics/_classification.py:1318: UndefinedMetricWarning: Recall is ill-defined and being set to 0.0 in labels with no true samples. Use `zero_division` parameter to control this behavior.\n",
      "  _warn_prf(average, modifier, msg_start, len(result))\n",
      "/opt/conda/lib/python3.7/site-packages/sklearn/metrics/_classification.py:1318: UndefinedMetricWarning: Precision is ill-defined and being set to 0.0 in labels with no predicted samples. Use `zero_division` parameter to control this behavior.\n",
      "  _warn_prf(average, modifier, msg_start, len(result))\n",
      "/opt/conda/lib/python3.7/site-packages/sklearn/metrics/_classification.py:1318: UndefinedMetricWarning: Recall is ill-defined and being set to 0.0 in labels with no true samples. Use `zero_division` parameter to control this behavior.\n",
      "  _warn_prf(average, modifier, msg_start, len(result))\n",
      "/opt/conda/lib/python3.7/site-packages/sklearn/metrics/_classification.py:1318: UndefinedMetricWarning: Recall is ill-defined and being set to 0.0 in labels with no true samples. Use `zero_division` parameter to control this behavior.\n",
      "  _warn_prf(average, modifier, msg_start, len(result))\n",
      "/opt/conda/lib/python3.7/site-packages/sklearn/metrics/_classification.py:1318: UndefinedMetricWarning: Recall is ill-defined and being set to 0.0 in labels with no true samples. Use `zero_division` parameter to control this behavior.\n",
      "  _warn_prf(average, modifier, msg_start, len(result))\n",
      "/opt/conda/lib/python3.7/site-packages/sklearn/metrics/_classification.py:1318: UndefinedMetricWarning: Recall is ill-defined and being set to 0.0 in labels with no true samples. Use `zero_division` parameter to control this behavior.\n",
      "  _warn_prf(average, modifier, msg_start, len(result))\n",
      "/opt/conda/lib/python3.7/site-packages/sklearn/metrics/_classification.py:1318: UndefinedMetricWarning: Precision is ill-defined and being set to 0.0 in labels with no predicted samples. Use `zero_division` parameter to control this behavior.\n",
      "  _warn_prf(average, modifier, msg_start, len(result))\n",
      "/opt/conda/lib/python3.7/site-packages/sklearn/metrics/_classification.py:1318: UndefinedMetricWarning: Recall is ill-defined and being set to 0.0 in labels with no true samples. Use `zero_division` parameter to control this behavior.\n",
      "  _warn_prf(average, modifier, msg_start, len(result))\n",
      "/opt/conda/lib/python3.7/site-packages/sklearn/metrics/_classification.py:1318: UndefinedMetricWarning: Recall is ill-defined and being set to 0.0 in labels with no true samples. Use `zero_division` parameter to control this behavior.\n",
      "  _warn_prf(average, modifier, msg_start, len(result))\n",
      "/opt/conda/lib/python3.7/site-packages/sklearn/metrics/_classification.py:1318: UndefinedMetricWarning: Precision is ill-defined and being set to 0.0 in labels with no predicted samples. Use `zero_division` parameter to control this behavior.\n",
      "  _warn_prf(average, modifier, msg_start, len(result))\n",
      "/opt/conda/lib/python3.7/site-packages/sklearn/metrics/_classification.py:1318: UndefinedMetricWarning: Recall is ill-defined and being set to 0.0 in labels with no true samples. Use `zero_division` parameter to control this behavior.\n",
      "  _warn_prf(average, modifier, msg_start, len(result))\n",
      "/opt/conda/lib/python3.7/site-packages/sklearn/metrics/_classification.py:1318: UndefinedMetricWarning: Precision is ill-defined and being set to 0.0 in labels with no predicted samples. Use `zero_division` parameter to control this behavior.\n",
      "  _warn_prf(average, modifier, msg_start, len(result))\n",
      "/opt/conda/lib/python3.7/site-packages/sklearn/metrics/_classification.py:1318: UndefinedMetricWarning: Recall is ill-defined and being set to 0.0 in labels with no true samples. Use `zero_division` parameter to control this behavior.\n",
      "  _warn_prf(average, modifier, msg_start, len(result))\n",
      "/opt/conda/lib/python3.7/site-packages/sklearn/metrics/_classification.py:1318: UndefinedMetricWarning: Recall is ill-defined and being set to 0.0 in labels with no true samples. Use `zero_division` parameter to control this behavior.\n",
      "  _warn_prf(average, modifier, msg_start, len(result))\n",
      "/opt/conda/lib/python3.7/site-packages/sklearn/metrics/_classification.py:1318: UndefinedMetricWarning: Precision is ill-defined and being set to 0.0 in labels with no predicted samples. Use `zero_division` parameter to control this behavior.\n",
      "  _warn_prf(average, modifier, msg_start, len(result))\n",
      "/opt/conda/lib/python3.7/site-packages/sklearn/metrics/_classification.py:1318: UndefinedMetricWarning: Recall is ill-defined and being set to 0.0 in labels with no true samples. Use `zero_division` parameter to control this behavior.\n",
      "  _warn_prf(average, modifier, msg_start, len(result))\n",
      "/opt/conda/lib/python3.7/site-packages/sklearn/metrics/_classification.py:1318: UndefinedMetricWarning: Precision is ill-defined and being set to 0.0 in labels with no predicted samples. Use `zero_division` parameter to control this behavior.\n",
      "  _warn_prf(average, modifier, msg_start, len(result))\n",
      "/opt/conda/lib/python3.7/site-packages/sklearn/metrics/_classification.py:1318: UndefinedMetricWarning: Recall is ill-defined and being set to 0.0 in labels with no true samples. Use `zero_division` parameter to control this behavior.\n",
      "  _warn_prf(average, modifier, msg_start, len(result))\n",
      "/opt/conda/lib/python3.7/site-packages/sklearn/metrics/_classification.py:1318: UndefinedMetricWarning: Recall is ill-defined and being set to 0.0 in labels with no true samples. Use `zero_division` parameter to control this behavior.\n",
      "  _warn_prf(average, modifier, msg_start, len(result))\n",
      "/opt/conda/lib/python3.7/site-packages/sklearn/metrics/_classification.py:1318: UndefinedMetricWarning: Recall is ill-defined and being set to 0.0 in labels with no true samples. Use `zero_division` parameter to control this behavior.\n",
      "  _warn_prf(average, modifier, msg_start, len(result))\n",
      "/opt/conda/lib/python3.7/site-packages/sklearn/metrics/_classification.py:1318: UndefinedMetricWarning: Recall is ill-defined and being set to 0.0 in labels with no true samples. Use `zero_division` parameter to control this behavior.\n",
      "  _warn_prf(average, modifier, msg_start, len(result))\n",
      "/opt/conda/lib/python3.7/site-packages/sklearn/metrics/_classification.py:1318: UndefinedMetricWarning: Recall is ill-defined and being set to 0.0 in labels with no true samples. Use `zero_division` parameter to control this behavior.\n",
      "  _warn_prf(average, modifier, msg_start, len(result))\n",
      "/opt/conda/lib/python3.7/site-packages/sklearn/metrics/_classification.py:1318: UndefinedMetricWarning: Recall is ill-defined and being set to 0.0 in labels with no true samples. Use `zero_division` parameter to control this behavior.\n",
      "  _warn_prf(average, modifier, msg_start, len(result))\n",
      "/opt/conda/lib/python3.7/site-packages/sklearn/metrics/_classification.py:1318: UndefinedMetricWarning: Precision is ill-defined and being set to 0.0 in labels with no predicted samples. Use `zero_division` parameter to control this behavior.\n",
      "  _warn_prf(average, modifier, msg_start, len(result))\n",
      "/opt/conda/lib/python3.7/site-packages/sklearn/metrics/_classification.py:1318: UndefinedMetricWarning: Recall is ill-defined and being set to 0.0 in labels with no true samples. Use `zero_division` parameter to control this behavior.\n",
      "  _warn_prf(average, modifier, msg_start, len(result))\n",
      "/opt/conda/lib/python3.7/site-packages/sklearn/metrics/_classification.py:1318: UndefinedMetricWarning: Recall is ill-defined and being set to 0.0 in labels with no true samples. Use `zero_division` parameter to control this behavior.\n",
      "  _warn_prf(average, modifier, msg_start, len(result))\n",
      "/opt/conda/lib/python3.7/site-packages/sklearn/metrics/_classification.py:1318: UndefinedMetricWarning: Recall is ill-defined and being set to 0.0 in labels with no true samples. Use `zero_division` parameter to control this behavior.\n",
      "  _warn_prf(average, modifier, msg_start, len(result))\n",
      "/opt/conda/lib/python3.7/site-packages/sklearn/metrics/_classification.py:1318: UndefinedMetricWarning: Recall is ill-defined and being set to 0.0 in labels with no true samples. Use `zero_division` parameter to control this behavior.\n",
      "  _warn_prf(average, modifier, msg_start, len(result))\n",
      "/opt/conda/lib/python3.7/site-packages/sklearn/metrics/_classification.py:1318: UndefinedMetricWarning: Recall is ill-defined and being set to 0.0 in labels with no true samples. Use `zero_division` parameter to control this behavior.\n",
      "  _warn_prf(average, modifier, msg_start, len(result))\n",
      "/opt/conda/lib/python3.7/site-packages/sklearn/metrics/_classification.py:1318: UndefinedMetricWarning: Recall is ill-defined and being set to 0.0 in labels with no true samples. Use `zero_division` parameter to control this behavior.\n",
      "  _warn_prf(average, modifier, msg_start, len(result))\n",
      "/opt/conda/lib/python3.7/site-packages/sklearn/metrics/_classification.py:1318: UndefinedMetricWarning: Recall is ill-defined and being set to 0.0 in labels with no true samples. Use `zero_division` parameter to control this behavior.\n",
      "  _warn_prf(average, modifier, msg_start, len(result))\n",
      "/opt/conda/lib/python3.7/site-packages/sklearn/metrics/_classification.py:1318: UndefinedMetricWarning: Recall is ill-defined and being set to 0.0 in labels with no true samples. Use `zero_division` parameter to control this behavior.\n",
      "  _warn_prf(average, modifier, msg_start, len(result))\n",
      "/opt/conda/lib/python3.7/site-packages/sklearn/metrics/_classification.py:1318: UndefinedMetricWarning: Recall is ill-defined and being set to 0.0 in labels with no true samples. Use `zero_division` parameter to control this behavior.\n",
      "  _warn_prf(average, modifier, msg_start, len(result))\n",
      "/opt/conda/lib/python3.7/site-packages/sklearn/metrics/_classification.py:1318: UndefinedMetricWarning: Recall is ill-defined and being set to 0.0 in labels with no true samples. Use `zero_division` parameter to control this behavior.\n",
      "  _warn_prf(average, modifier, msg_start, len(result))\n",
      "/opt/conda/lib/python3.7/site-packages/sklearn/metrics/_classification.py:1318: UndefinedMetricWarning: Recall is ill-defined and being set to 0.0 in labels with no true samples. Use `zero_division` parameter to control this behavior.\n",
      "  _warn_prf(average, modifier, msg_start, len(result))\n",
      "/opt/conda/lib/python3.7/site-packages/sklearn/metrics/_classification.py:1318: UndefinedMetricWarning: Recall is ill-defined and being set to 0.0 in labels with no true samples. Use `zero_division` parameter to control this behavior.\n",
      "  _warn_prf(average, modifier, msg_start, len(result))\n",
      "/opt/conda/lib/python3.7/site-packages/sklearn/metrics/_classification.py:1318: UndefinedMetricWarning: Recall is ill-defined and being set to 0.0 in labels with no true samples. Use `zero_division` parameter to control this behavior.\n",
      "  _warn_prf(average, modifier, msg_start, len(result))\n",
      "/opt/conda/lib/python3.7/site-packages/sklearn/metrics/_classification.py:1318: UndefinedMetricWarning: Recall is ill-defined and being set to 0.0 in labels with no true samples. Use `zero_division` parameter to control this behavior.\n",
      "  _warn_prf(average, modifier, msg_start, len(result))\n",
      "/opt/conda/lib/python3.7/site-packages/sklearn/metrics/_classification.py:1318: UndefinedMetricWarning: Recall is ill-defined and being set to 0.0 in labels with no true samples. Use `zero_division` parameter to control this behavior.\n",
      "  _warn_prf(average, modifier, msg_start, len(result))\n",
      "/opt/conda/lib/python3.7/site-packages/sklearn/metrics/_classification.py:1318: UndefinedMetricWarning: Recall is ill-defined and being set to 0.0 in labels with no true samples. Use `zero_division` parameter to control this behavior.\n",
      "  _warn_prf(average, modifier, msg_start, len(result))\n",
      "/opt/conda/lib/python3.7/site-packages/sklearn/metrics/_classification.py:1318: UndefinedMetricWarning: Recall is ill-defined and being set to 0.0 in labels with no true samples. Use `zero_division` parameter to control this behavior.\n",
      "  _warn_prf(average, modifier, msg_start, len(result))\n",
      "/opt/conda/lib/python3.7/site-packages/sklearn/metrics/_classification.py:1318: UndefinedMetricWarning: Recall is ill-defined and being set to 0.0 in labels with no true samples. Use `zero_division` parameter to control this behavior.\n",
      "  _warn_prf(average, modifier, msg_start, len(result))\n",
      "/opt/conda/lib/python3.7/site-packages/sklearn/metrics/_classification.py:1318: UndefinedMetricWarning: Recall is ill-defined and being set to 0.0 in labels with no true samples. Use `zero_division` parameter to control this behavior.\n",
      "  _warn_prf(average, modifier, msg_start, len(result))\n",
      "/opt/conda/lib/python3.7/site-packages/sklearn/metrics/_classification.py:1318: UndefinedMetricWarning: Recall is ill-defined and being set to 0.0 in labels with no true samples. Use `zero_division` parameter to control this behavior.\n",
      "  _warn_prf(average, modifier, msg_start, len(result))\n",
      "/opt/conda/lib/python3.7/site-packages/sklearn/metrics/_classification.py:1318: UndefinedMetricWarning: Recall is ill-defined and being set to 0.0 in labels with no true samples. Use `zero_division` parameter to control this behavior.\n",
      "  _warn_prf(average, modifier, msg_start, len(result))\n",
      "/opt/conda/lib/python3.7/site-packages/sklearn/metrics/_classification.py:1318: UndefinedMetricWarning: Precision is ill-defined and being set to 0.0 in labels with no predicted samples. Use `zero_division` parameter to control this behavior.\n",
      "  _warn_prf(average, modifier, msg_start, len(result))\n",
      "/opt/conda/lib/python3.7/site-packages/sklearn/metrics/_classification.py:1318: UndefinedMetricWarning: Recall is ill-defined and being set to 0.0 in labels with no true samples. Use `zero_division` parameter to control this behavior.\n",
      "  _warn_prf(average, modifier, msg_start, len(result))\n",
      "/opt/conda/lib/python3.7/site-packages/sklearn/metrics/_classification.py:1318: UndefinedMetricWarning: Recall is ill-defined and being set to 0.0 in labels with no true samples. Use `zero_division` parameter to control this behavior.\n",
      "  _warn_prf(average, modifier, msg_start, len(result))\n",
      "/opt/conda/lib/python3.7/site-packages/sklearn/metrics/_classification.py:1318: UndefinedMetricWarning: Precision is ill-defined and being set to 0.0 in labels with no predicted samples. Use `zero_division` parameter to control this behavior.\n",
      "  _warn_prf(average, modifier, msg_start, len(result))\n",
      "/opt/conda/lib/python3.7/site-packages/sklearn/metrics/_classification.py:1318: UndefinedMetricWarning: Recall is ill-defined and being set to 0.0 in labels with no true samples. Use `zero_division` parameter to control this behavior.\n",
      "  _warn_prf(average, modifier, msg_start, len(result))\n",
      "/opt/conda/lib/python3.7/site-packages/sklearn/metrics/_classification.py:1318: UndefinedMetricWarning: Recall is ill-defined and being set to 0.0 in labels with no true samples. Use `zero_division` parameter to control this behavior.\n",
      "  _warn_prf(average, modifier, msg_start, len(result))\n",
      "/opt/conda/lib/python3.7/site-packages/sklearn/metrics/_classification.py:1318: UndefinedMetricWarning: Recall is ill-defined and being set to 0.0 in labels with no true samples. Use `zero_division` parameter to control this behavior.\n",
      "  _warn_prf(average, modifier, msg_start, len(result))\n",
      "/opt/conda/lib/python3.7/site-packages/sklearn/metrics/_classification.py:1318: UndefinedMetricWarning: Recall is ill-defined and being set to 0.0 in labels with no true samples. Use `zero_division` parameter to control this behavior.\n",
      "  _warn_prf(average, modifier, msg_start, len(result))\n",
      "/opt/conda/lib/python3.7/site-packages/sklearn/metrics/_classification.py:1318: UndefinedMetricWarning: Recall is ill-defined and being set to 0.0 in labels with no true samples. Use `zero_division` parameter to control this behavior.\n",
      "  _warn_prf(average, modifier, msg_start, len(result))\n",
      "/opt/conda/lib/python3.7/site-packages/sklearn/metrics/_classification.py:1318: UndefinedMetricWarning: Precision is ill-defined and being set to 0.0 in labels with no predicted samples. Use `zero_division` parameter to control this behavior.\n",
      "  _warn_prf(average, modifier, msg_start, len(result))\n",
      "/opt/conda/lib/python3.7/site-packages/sklearn/metrics/_classification.py:1318: UndefinedMetricWarning: Recall is ill-defined and being set to 0.0 in labels with no true samples. Use `zero_division` parameter to control this behavior.\n",
      "  _warn_prf(average, modifier, msg_start, len(result))\n",
      "/opt/conda/lib/python3.7/site-packages/sklearn/metrics/_classification.py:1318: UndefinedMetricWarning: Precision is ill-defined and being set to 0.0 in labels with no predicted samples. Use `zero_division` parameter to control this behavior.\n",
      "  _warn_prf(average, modifier, msg_start, len(result))\n",
      "/opt/conda/lib/python3.7/site-packages/sklearn/metrics/_classification.py:1318: UndefinedMetricWarning: Recall is ill-defined and being set to 0.0 in labels with no true samples. Use `zero_division` parameter to control this behavior.\n",
      "  _warn_prf(average, modifier, msg_start, len(result))\n",
      "/opt/conda/lib/python3.7/site-packages/sklearn/metrics/_classification.py:1318: UndefinedMetricWarning: Recall is ill-defined and being set to 0.0 in labels with no true samples. Use `zero_division` parameter to control this behavior.\n",
      "  _warn_prf(average, modifier, msg_start, len(result))\n",
      "/opt/conda/lib/python3.7/site-packages/sklearn/metrics/_classification.py:1318: UndefinedMetricWarning: Precision is ill-defined and being set to 0.0 in labels with no predicted samples. Use `zero_division` parameter to control this behavior.\n",
      "  _warn_prf(average, modifier, msg_start, len(result))\n",
      "/opt/conda/lib/python3.7/site-packages/sklearn/metrics/_classification.py:1318: UndefinedMetricWarning: Recall is ill-defined and being set to 0.0 in labels with no true samples. Use `zero_division` parameter to control this behavior.\n",
      "  _warn_prf(average, modifier, msg_start, len(result))\n",
      "/opt/conda/lib/python3.7/site-packages/sklearn/metrics/_classification.py:1318: UndefinedMetricWarning: Recall is ill-defined and being set to 0.0 in labels with no true samples. Use `zero_division` parameter to control this behavior.\n",
      "  _warn_prf(average, modifier, msg_start, len(result))\n",
      "/opt/conda/lib/python3.7/site-packages/sklearn/metrics/_classification.py:1318: UndefinedMetricWarning: Recall is ill-defined and being set to 0.0 in labels with no true samples. Use `zero_division` parameter to control this behavior.\n",
      "  _warn_prf(average, modifier, msg_start, len(result))\n",
      "/opt/conda/lib/python3.7/site-packages/sklearn/metrics/_classification.py:1318: UndefinedMetricWarning: Recall is ill-defined and being set to 0.0 in labels with no true samples. Use `zero_division` parameter to control this behavior.\n",
      "  _warn_prf(average, modifier, msg_start, len(result))\n",
      "/opt/conda/lib/python3.7/site-packages/sklearn/metrics/_classification.py:1318: UndefinedMetricWarning: Precision is ill-defined and being set to 0.0 in labels with no predicted samples. Use `zero_division` parameter to control this behavior.\n",
      "  _warn_prf(average, modifier, msg_start, len(result))\n",
      "/opt/conda/lib/python3.7/site-packages/sklearn/metrics/_classification.py:1318: UndefinedMetricWarning: Recall is ill-defined and being set to 0.0 in labels with no true samples. Use `zero_division` parameter to control this behavior.\n",
      "  _warn_prf(average, modifier, msg_start, len(result))\n",
      "/opt/conda/lib/python3.7/site-packages/sklearn/metrics/_classification.py:1318: UndefinedMetricWarning: Precision is ill-defined and being set to 0.0 in labels with no predicted samples. Use `zero_division` parameter to control this behavior.\n",
      "  _warn_prf(average, modifier, msg_start, len(result))\n",
      "/opt/conda/lib/python3.7/site-packages/sklearn/metrics/_classification.py:1318: UndefinedMetricWarning: Recall is ill-defined and being set to 0.0 in labels with no true samples. Use `zero_division` parameter to control this behavior.\n",
      "  _warn_prf(average, modifier, msg_start, len(result))\n",
      "/opt/conda/lib/python3.7/site-packages/sklearn/metrics/_classification.py:1318: UndefinedMetricWarning: Recall is ill-defined and being set to 0.0 in labels with no true samples. Use `zero_division` parameter to control this behavior.\n",
      "  _warn_prf(average, modifier, msg_start, len(result))\n",
      "/opt/conda/lib/python3.7/site-packages/sklearn/metrics/_classification.py:1318: UndefinedMetricWarning: Precision is ill-defined and being set to 0.0 in labels with no predicted samples. Use `zero_division` parameter to control this behavior.\n",
      "  _warn_prf(average, modifier, msg_start, len(result))\n",
      "/opt/conda/lib/python3.7/site-packages/sklearn/metrics/_classification.py:1318: UndefinedMetricWarning: Recall is ill-defined and being set to 0.0 in labels with no true samples. Use `zero_division` parameter to control this behavior.\n",
      "  _warn_prf(average, modifier, msg_start, len(result))\n",
      "/opt/conda/lib/python3.7/site-packages/sklearn/metrics/_classification.py:1318: UndefinedMetricWarning: Recall is ill-defined and being set to 0.0 in labels with no true samples. Use `zero_division` parameter to control this behavior.\n",
      "  _warn_prf(average, modifier, msg_start, len(result))\n",
      "/opt/conda/lib/python3.7/site-packages/sklearn/metrics/_classification.py:1318: UndefinedMetricWarning: Recall is ill-defined and being set to 0.0 in labels with no true samples. Use `zero_division` parameter to control this behavior.\n",
      "  _warn_prf(average, modifier, msg_start, len(result))\n",
      "/opt/conda/lib/python3.7/site-packages/sklearn/metrics/_classification.py:1318: UndefinedMetricWarning: Recall is ill-defined and being set to 0.0 in labels with no true samples. Use `zero_division` parameter to control this behavior.\n",
      "  _warn_prf(average, modifier, msg_start, len(result))\n",
      "/opt/conda/lib/python3.7/site-packages/sklearn/metrics/_classification.py:1318: UndefinedMetricWarning: Recall is ill-defined and being set to 0.0 in labels with no true samples. Use `zero_division` parameter to control this behavior.\n",
      "  _warn_prf(average, modifier, msg_start, len(result))\n",
      "/opt/conda/lib/python3.7/site-packages/sklearn/metrics/_classification.py:1318: UndefinedMetricWarning: Recall is ill-defined and being set to 0.0 in labels with no true samples. Use `zero_division` parameter to control this behavior.\n",
      "  _warn_prf(average, modifier, msg_start, len(result))\n",
      "/opt/conda/lib/python3.7/site-packages/sklearn/metrics/_classification.py:1318: UndefinedMetricWarning: Recall is ill-defined and being set to 0.0 in labels with no true samples. Use `zero_division` parameter to control this behavior.\n",
      "  _warn_prf(average, modifier, msg_start, len(result))\n",
      "/opt/conda/lib/python3.7/site-packages/sklearn/metrics/_classification.py:1318: UndefinedMetricWarning: Recall is ill-defined and being set to 0.0 in labels with no true samples. Use `zero_division` parameter to control this behavior.\n",
      "  _warn_prf(average, modifier, msg_start, len(result))\n",
      "/opt/conda/lib/python3.7/site-packages/sklearn/metrics/_classification.py:1318: UndefinedMetricWarning: Recall is ill-defined and being set to 0.0 in labels with no true samples. Use `zero_division` parameter to control this behavior.\n",
      "  _warn_prf(average, modifier, msg_start, len(result))\n",
      "/opt/conda/lib/python3.7/site-packages/sklearn/metrics/_classification.py:1318: UndefinedMetricWarning: Recall is ill-defined and being set to 0.0 in labels with no true samples. Use `zero_division` parameter to control this behavior.\n",
      "  _warn_prf(average, modifier, msg_start, len(result))\n",
      "/opt/conda/lib/python3.7/site-packages/sklearn/metrics/_classification.py:1318: UndefinedMetricWarning: Recall is ill-defined and being set to 0.0 in labels with no true samples. Use `zero_division` parameter to control this behavior.\n",
      "  _warn_prf(average, modifier, msg_start, len(result))\n",
      "/opt/conda/lib/python3.7/site-packages/sklearn/metrics/_classification.py:1318: UndefinedMetricWarning: Recall is ill-defined and being set to 0.0 in labels with no true samples. Use `zero_division` parameter to control this behavior.\n",
      "  _warn_prf(average, modifier, msg_start, len(result))\n",
      "/opt/conda/lib/python3.7/site-packages/sklearn/metrics/_classification.py:1318: UndefinedMetricWarning: Recall is ill-defined and being set to 0.0 in labels with no true samples. Use `zero_division` parameter to control this behavior.\n",
      "  _warn_prf(average, modifier, msg_start, len(result))\n",
      "/opt/conda/lib/python3.7/site-packages/sklearn/metrics/_classification.py:1318: UndefinedMetricWarning: Recall is ill-defined and being set to 0.0 in labels with no true samples. Use `zero_division` parameter to control this behavior.\n",
      "  _warn_prf(average, modifier, msg_start, len(result))\n",
      "/opt/conda/lib/python3.7/site-packages/sklearn/metrics/_classification.py:1318: UndefinedMetricWarning: Precision is ill-defined and being set to 0.0 in labels with no predicted samples. Use `zero_division` parameter to control this behavior.\n",
      "  _warn_prf(average, modifier, msg_start, len(result))\n",
      "/opt/conda/lib/python3.7/site-packages/sklearn/metrics/_classification.py:1318: UndefinedMetricWarning: Recall is ill-defined and being set to 0.0 in labels with no true samples. Use `zero_division` parameter to control this behavior.\n",
      "  _warn_prf(average, modifier, msg_start, len(result))\n",
      "/opt/conda/lib/python3.7/site-packages/sklearn/metrics/_classification.py:1318: UndefinedMetricWarning: Recall is ill-defined and being set to 0.0 in labels with no true samples. Use `zero_division` parameter to control this behavior.\n",
      "  _warn_prf(average, modifier, msg_start, len(result))\n",
      "/opt/conda/lib/python3.7/site-packages/sklearn/metrics/_classification.py:1318: UndefinedMetricWarning: Recall is ill-defined and being set to 0.0 in labels with no true samples. Use `zero_division` parameter to control this behavior.\n",
      "  _warn_prf(average, modifier, msg_start, len(result))\n",
      "/opt/conda/lib/python3.7/site-packages/sklearn/metrics/_classification.py:1318: UndefinedMetricWarning: Recall is ill-defined and being set to 0.0 in labels with no true samples. Use `zero_division` parameter to control this behavior.\n",
      "  _warn_prf(average, modifier, msg_start, len(result))\n",
      "/opt/conda/lib/python3.7/site-packages/sklearn/metrics/_classification.py:1318: UndefinedMetricWarning: Recall is ill-defined and being set to 0.0 in labels with no true samples. Use `zero_division` parameter to control this behavior.\n",
      "  _warn_prf(average, modifier, msg_start, len(result))\n",
      "/opt/conda/lib/python3.7/site-packages/sklearn/metrics/_classification.py:1318: UndefinedMetricWarning: Precision is ill-defined and being set to 0.0 in labels with no predicted samples. Use `zero_division` parameter to control this behavior.\n",
      "  _warn_prf(average, modifier, msg_start, len(result))\n",
      "/opt/conda/lib/python3.7/site-packages/sklearn/metrics/_classification.py:1318: UndefinedMetricWarning: Recall is ill-defined and being set to 0.0 in labels with no true samples. Use `zero_division` parameter to control this behavior.\n",
      "  _warn_prf(average, modifier, msg_start, len(result))\n",
      "/opt/conda/lib/python3.7/site-packages/sklearn/metrics/_classification.py:1318: UndefinedMetricWarning: Recall is ill-defined and being set to 0.0 in labels with no true samples. Use `zero_division` parameter to control this behavior.\n",
      "  _warn_prf(average, modifier, msg_start, len(result))\n",
      "/opt/conda/lib/python3.7/site-packages/sklearn/metrics/_classification.py:1318: UndefinedMetricWarning: Recall is ill-defined and being set to 0.0 in labels with no true samples. Use `zero_division` parameter to control this behavior.\n",
      "  _warn_prf(average, modifier, msg_start, len(result))\n",
      "/opt/conda/lib/python3.7/site-packages/sklearn/metrics/_classification.py:1318: UndefinedMetricWarning: Recall is ill-defined and being set to 0.0 in labels with no true samples. Use `zero_division` parameter to control this behavior.\n",
      "  _warn_prf(average, modifier, msg_start, len(result))\n",
      "/opt/conda/lib/python3.7/site-packages/sklearn/metrics/_classification.py:1318: UndefinedMetricWarning: Recall is ill-defined and being set to 0.0 in labels with no true samples. Use `zero_division` parameter to control this behavior.\n",
      "  _warn_prf(average, modifier, msg_start, len(result))\n",
      "/opt/conda/lib/python3.7/site-packages/sklearn/metrics/_classification.py:1318: UndefinedMetricWarning: Recall is ill-defined and being set to 0.0 in labels with no true samples. Use `zero_division` parameter to control this behavior.\n",
      "  _warn_prf(average, modifier, msg_start, len(result))\n",
      "/opt/conda/lib/python3.7/site-packages/sklearn/metrics/_classification.py:1318: UndefinedMetricWarning: Recall is ill-defined and being set to 0.0 in labels with no true samples. Use `zero_division` parameter to control this behavior.\n",
      "  _warn_prf(average, modifier, msg_start, len(result))\n",
      "/opt/conda/lib/python3.7/site-packages/sklearn/metrics/_classification.py:1318: UndefinedMetricWarning: Recall is ill-defined and being set to 0.0 in labels with no true samples. Use `zero_division` parameter to control this behavior.\n",
      "  _warn_prf(average, modifier, msg_start, len(result))\n",
      "/opt/conda/lib/python3.7/site-packages/sklearn/metrics/_classification.py:1318: UndefinedMetricWarning: Precision is ill-defined and being set to 0.0 in labels with no predicted samples. Use `zero_division` parameter to control this behavior.\n",
      "  _warn_prf(average, modifier, msg_start, len(result))\n",
      "/opt/conda/lib/python3.7/site-packages/sklearn/metrics/_classification.py:1318: UndefinedMetricWarning: Recall is ill-defined and being set to 0.0 in labels with no true samples. Use `zero_division` parameter to control this behavior.\n",
      "  _warn_prf(average, modifier, msg_start, len(result))\n",
      "/opt/conda/lib/python3.7/site-packages/sklearn/metrics/_classification.py:1318: UndefinedMetricWarning: Recall is ill-defined and being set to 0.0 in labels with no true samples. Use `zero_division` parameter to control this behavior.\n",
      "  _warn_prf(average, modifier, msg_start, len(result))\n",
      "/opt/conda/lib/python3.7/site-packages/sklearn/metrics/_classification.py:1318: UndefinedMetricWarning: Recall is ill-defined and being set to 0.0 in labels with no true samples. Use `zero_division` parameter to control this behavior.\n",
      "  _warn_prf(average, modifier, msg_start, len(result))\n",
      "/opt/conda/lib/python3.7/site-packages/sklearn/metrics/_classification.py:1318: UndefinedMetricWarning: Recall is ill-defined and being set to 0.0 in labels with no true samples. Use `zero_division` parameter to control this behavior.\n",
      "  _warn_prf(average, modifier, msg_start, len(result))\n",
      "/opt/conda/lib/python3.7/site-packages/sklearn/metrics/_classification.py:1318: UndefinedMetricWarning: Recall is ill-defined and being set to 0.0 in labels with no true samples. Use `zero_division` parameter to control this behavior.\n",
      "  _warn_prf(average, modifier, msg_start, len(result))\n",
      "/opt/conda/lib/python3.7/site-packages/sklearn/metrics/_classification.py:1318: UndefinedMetricWarning: Recall is ill-defined and being set to 0.0 in labels with no true samples. Use `zero_division` parameter to control this behavior.\n",
      "  _warn_prf(average, modifier, msg_start, len(result))\n",
      "/opt/conda/lib/python3.7/site-packages/sklearn/metrics/_classification.py:1318: UndefinedMetricWarning: Precision is ill-defined and being set to 0.0 in labels with no predicted samples. Use `zero_division` parameter to control this behavior.\n",
      "  _warn_prf(average, modifier, msg_start, len(result))\n",
      "/opt/conda/lib/python3.7/site-packages/sklearn/metrics/_classification.py:1318: UndefinedMetricWarning: Recall is ill-defined and being set to 0.0 in labels with no true samples. Use `zero_division` parameter to control this behavior.\n",
      "  _warn_prf(average, modifier, msg_start, len(result))\n",
      "/opt/conda/lib/python3.7/site-packages/sklearn/metrics/_classification.py:1318: UndefinedMetricWarning: Recall is ill-defined and being set to 0.0 in labels with no true samples. Use `zero_division` parameter to control this behavior.\n",
      "  _warn_prf(average, modifier, msg_start, len(result))\n",
      "/opt/conda/lib/python3.7/site-packages/sklearn/metrics/_classification.py:1318: UndefinedMetricWarning: Recall is ill-defined and being set to 0.0 in labels with no true samples. Use `zero_division` parameter to control this behavior.\n",
      "  _warn_prf(average, modifier, msg_start, len(result))\n",
      "/opt/conda/lib/python3.7/site-packages/sklearn/metrics/_classification.py:1318: UndefinedMetricWarning: Recall is ill-defined and being set to 0.0 in labels with no true samples. Use `zero_division` parameter to control this behavior.\n",
      "  _warn_prf(average, modifier, msg_start, len(result))\n",
      "/opt/conda/lib/python3.7/site-packages/sklearn/metrics/_classification.py:1318: UndefinedMetricWarning: Recall is ill-defined and being set to 0.0 in labels with no true samples. Use `zero_division` parameter to control this behavior.\n",
      "  _warn_prf(average, modifier, msg_start, len(result))\n",
      "/opt/conda/lib/python3.7/site-packages/sklearn/metrics/_classification.py:1318: UndefinedMetricWarning: Recall is ill-defined and being set to 0.0 in labels with no true samples. Use `zero_division` parameter to control this behavior.\n",
      "  _warn_prf(average, modifier, msg_start, len(result))\n",
      "/opt/conda/lib/python3.7/site-packages/sklearn/metrics/_classification.py:1318: UndefinedMetricWarning: Precision is ill-defined and being set to 0.0 in labels with no predicted samples. Use `zero_division` parameter to control this behavior.\n",
      "  _warn_prf(average, modifier, msg_start, len(result))\n",
      "/opt/conda/lib/python3.7/site-packages/sklearn/metrics/_classification.py:1318: UndefinedMetricWarning: Recall is ill-defined and being set to 0.0 in labels with no true samples. Use `zero_division` parameter to control this behavior.\n",
      "  _warn_prf(average, modifier, msg_start, len(result))\n",
      "/opt/conda/lib/python3.7/site-packages/sklearn/metrics/_classification.py:1318: UndefinedMetricWarning: Recall is ill-defined and being set to 0.0 in labels with no true samples. Use `zero_division` parameter to control this behavior.\n",
      "  _warn_prf(average, modifier, msg_start, len(result))\n",
      "/opt/conda/lib/python3.7/site-packages/sklearn/metrics/_classification.py:1318: UndefinedMetricWarning: Recall is ill-defined and being set to 0.0 in labels with no true samples. Use `zero_division` parameter to control this behavior.\n",
      "  _warn_prf(average, modifier, msg_start, len(result))\n",
      "/opt/conda/lib/python3.7/site-packages/sklearn/metrics/_classification.py:1318: UndefinedMetricWarning: Recall is ill-defined and being set to 0.0 in labels with no true samples. Use `zero_division` parameter to control this behavior.\n",
      "  _warn_prf(average, modifier, msg_start, len(result))\n",
      "/opt/conda/lib/python3.7/site-packages/sklearn/metrics/_classification.py:1318: UndefinedMetricWarning: Precision is ill-defined and being set to 0.0 in labels with no predicted samples. Use `zero_division` parameter to control this behavior.\n",
      "  _warn_prf(average, modifier, msg_start, len(result))\n",
      "/opt/conda/lib/python3.7/site-packages/sklearn/metrics/_classification.py:1318: UndefinedMetricWarning: Recall is ill-defined and being set to 0.0 in labels with no true samples. Use `zero_division` parameter to control this behavior.\n",
      "  _warn_prf(average, modifier, msg_start, len(result))\n",
      "/opt/conda/lib/python3.7/site-packages/sklearn/metrics/_classification.py:1318: UndefinedMetricWarning: Recall is ill-defined and being set to 0.0 in labels with no true samples. Use `zero_division` parameter to control this behavior.\n",
      "  _warn_prf(average, modifier, msg_start, len(result))\n",
      "/opt/conda/lib/python3.7/site-packages/sklearn/metrics/_classification.py:1318: UndefinedMetricWarning: Recall is ill-defined and being set to 0.0 in labels with no true samples. Use `zero_division` parameter to control this behavior.\n",
      "  _warn_prf(average, modifier, msg_start, len(result))\n",
      "/opt/conda/lib/python3.7/site-packages/sklearn/metrics/_classification.py:1318: UndefinedMetricWarning: Recall is ill-defined and being set to 0.0 in labels with no true samples. Use `zero_division` parameter to control this behavior.\n",
      "  _warn_prf(average, modifier, msg_start, len(result))\n",
      "/opt/conda/lib/python3.7/site-packages/sklearn/metrics/_classification.py:1318: UndefinedMetricWarning: Precision is ill-defined and being set to 0.0 in labels with no predicted samples. Use `zero_division` parameter to control this behavior.\n",
      "  _warn_prf(average, modifier, msg_start, len(result))\n"
     ]
    }
   ],
   "source": [
    "query_indexes = list(range(0, test_images.shape[0]))\n",
    "class_builder = {label_unique:[] for label_unique in labels}\n",
    "recalls = copy.deepcopy(class_builder)\n",
    "precisions = copy.deepcopy(class_builder)\n",
    "# loop over the testing indexes\n",
    "for i in query_indexes:\n",
    "    queryFeatures = features_retrieved[i]\n",
    "    results = perform_search(queryFeatures, training_indexed, max_results=5)\n",
    "    labels_ret = [training_indexed[\"labels\"][r[1]] for r in results]\n",
    "    label_true = test_labels[i]\n",
    "    label_trues = [label_true for _ in labels_ret]\n",
    "    recall = metric.recall_score(label_trues, labels_ret, average='weighted')\n",
    "    precision = metric.precision_score(label_trues, labels_ret, average='weighted')\n",
    "    recalls[label_true].append(recall)\n",
    "    precisions[label_true].append(precision)"
   ]
  },
  {
   "cell_type": "markdown",
   "id": "ff1ea824",
   "metadata": {
    "id": "UA6W88ki8SLP",
    "papermill": {
     "duration": 0.223958,
     "end_time": "2023-04-09T14:37:18.769301",
     "exception": false,
     "start_time": "2023-04-09T14:37:18.545343",
     "status": "completed"
    },
    "tags": []
   },
   "source": [
    "## Print the recall and precision values"
   ]
  },
  {
   "cell_type": "code",
   "execution_count": 22,
   "id": "b06be0a7",
   "metadata": {
    "execution": {
     "iopub.execute_input": "2023-04-09T14:37:19.213433Z",
     "iopub.status.busy": "2023-04-09T14:37:19.212836Z",
     "iopub.status.idle": "2023-04-09T14:37:19.220894Z",
     "shell.execute_reply": "2023-04-09T14:37:19.219828Z"
    },
    "executionInfo": {
     "elapsed": 14,
     "status": "ok",
     "timestamp": 1634460101651,
     "user": {
      "displayName": "Kharisma Muzaki Ghufron",
      "photoUrl": "https://lh3.googleusercontent.com/a/default-user=s64",
      "userId": "14730718725881384856"
     },
     "user_tz": -420
    },
    "id": "1ViD6suW8WnW",
    "outputId": "46c8b7ff-e926-43eb-f7a3-77752c4dedbb",
    "papermill": {
     "duration": 0.234722,
     "end_time": "2023-04-09T14:37:19.223828",
     "exception": false,
     "start_time": "2023-04-09T14:37:18.989106",
     "status": "completed"
    },
    "tags": []
   },
   "outputs": [
    {
     "name": "stdout",
     "output_type": "stream",
     "text": [
      "recall values:\n",
      "tubular_adenoma 0.3384615384615385\n",
      "phyllodes_tumor 0.3\n",
      "papillary_carcinoma 0.18571428571428575\n",
      "mucinous_carcinoma 0.3764705882352941\n",
      "lobular_carcinoma 0.38461538461538464\n",
      "fibroadenoma 0.4\n",
      "ductal_carcinoma 0.6531645569620252\n",
      "adenosis 0.07272727272727274\n",
      "combined recall 0.3388942033394751\n",
      "\n",
      "precision values:\n",
      "tubular_adenoma 0.7692307692307693\n",
      "phyllodes_tumor 0.75\n",
      "papillary_carcinoma 0.5714285714285714\n",
      "mucinous_carcinoma 1.0\n",
      "lobular_carcinoma 0.7692307692307693\n",
      "fibroadenoma 0.782608695652174\n",
      "ductal_carcinoma 0.9620253164556962\n",
      "adenosis 0.18181818181818182\n",
      "combined precision 0.7232927879770202\n"
     ]
    }
   ],
   "source": [
    "print(\"recall values:\")\n",
    "comb_recall, comb_precision = [], []\n",
    "for key in recalls.keys():\n",
    "    average_val = np.average(recalls[key])\n",
    "    print(key, average_val)\n",
    "    comb_recall.append(average_val)\n",
    "print(\"combined recall\", np.average(comb_recall))\n",
    "\n",
    "print(\"\\nprecision values:\")\n",
    "for key in precisions.keys():\n",
    "    average_val = np.average(precisions[key])\n",
    "    print(key, average_val)\n",
    "    comb_precision.append(average_val)\n",
    "print(\"combined precision\", np.average(comb_precision))"
   ]
  },
  {
   "cell_type": "code",
   "execution_count": null,
   "id": "070dc4f9",
   "metadata": {
    "executionInfo": {
     "elapsed": 25,
     "status": "ok",
     "timestamp": 1634460101665,
     "user": {
      "displayName": "Kharisma Muzaki Ghufron",
      "photoUrl": "https://lh3.googleusercontent.com/a/default-user=s64",
      "userId": "14730718725881384856"
     },
     "user_tz": -420
    },
    "id": "sCxOAAUTwG7D",
    "papermill": {
     "duration": 0.263642,
     "end_time": "2023-04-09T14:37:19.735577",
     "exception": false,
     "start_time": "2023-04-09T14:37:19.471935",
     "status": "completed"
    },
    "tags": []
   },
   "outputs": [],
   "source": []
  }
 ],
 "metadata": {
  "kernelspec": {
   "display_name": "Python 3",
   "language": "python",
   "name": "python3"
  },
  "language_info": {
   "codemirror_mode": {
    "name": "ipython",
    "version": 3
   },
   "file_extension": ".py",
   "mimetype": "text/x-python",
   "name": "python",
   "nbconvert_exporter": "python",
   "pygments_lexer": "ipython3",
   "version": "3.7.12"
  },
  "papermill": {
   "default_parameters": {},
   "duration": 453.287179,
   "end_time": "2023-04-09T14:37:23.777542",
   "environment_variables": {},
   "exception": null,
   "input_path": "__notebook__.ipynb",
   "output_path": "__notebook__.ipynb",
   "parameters": {},
   "start_time": "2023-04-09T14:29:50.490363",
   "version": "2.4.0"
  }
 },
 "nbformat": 4,
 "nbformat_minor": 5
}
