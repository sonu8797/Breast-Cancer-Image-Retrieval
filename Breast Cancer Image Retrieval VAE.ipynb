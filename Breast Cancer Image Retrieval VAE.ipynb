{
 "cells": [
  {
   "cell_type": "markdown",
   "id": "26dd9792",
   "metadata": {
    "id": "-fJ7pPoz2opO",
    "papermill": {
     "duration": 0.009777,
     "end_time": "2023-04-09T14:07:58.852340",
     "exception": false,
     "start_time": "2023-04-09T14:07:58.842563",
     "status": "completed"
    },
    "tags": []
   },
   "source": [
    "## Depedency Library"
   ]
  },
  {
   "cell_type": "code",
   "execution_count": 1,
   "id": "fc3b6ca7",
   "metadata": {
    "execution": {
     "iopub.execute_input": "2023-04-09T14:07:58.871920Z",
     "iopub.status.busy": "2023-04-09T14:07:58.871099Z",
     "iopub.status.idle": "2023-04-09T14:08:14.400382Z",
     "shell.execute_reply": "2023-04-09T14:08:14.399070Z"
    },
    "executionInfo": {
     "elapsed": 4794,
     "status": "ok",
     "timestamp": 1634454562134,
     "user": {
      "displayName": "Kharisma Muzaki Ghufron",
      "photoUrl": "https://lh3.googleusercontent.com/a/default-user=s64",
      "userId": "14730718725881384856"
     },
     "user_tz": -420
    },
    "id": "SowRlZK22ryn",
    "papermill": {
     "duration": 15.542498,
     "end_time": "2023-04-09T14:08:14.403443",
     "exception": false,
     "start_time": "2023-04-09T14:07:58.860945",
     "status": "completed"
    },
    "tags": []
   },
   "outputs": [],
   "source": [
    "import numpy as np\n",
    "import json\n",
    "import os\n",
    "import glob\n",
    "import cv2\n",
    "import copy\n",
    "import sklearn.metrics as metric\n",
    "from sklearn.model_selection import train_test_split\n",
    "import pandas as pd\n",
    "\n",
    "import tensorflow as tf\n",
    "tf.compat.v1.disable_eager_execution()\n",
    "from tensorflow.keras import layers\n",
    "from tensorflow.keras.models import Model\n",
    "from tensorflow.keras import backend as K\n",
    "from tensorflow.keras.optimizers import Adam\n",
    "from tensorflow.keras.callbacks import ModelCheckpoint \n",
    "\n",
    "import matplotlib.pyplot as plt\n",
    "import matplotlib"
   ]
  },
  {
   "cell_type": "markdown",
   "id": "26372054",
   "metadata": {
    "id": "iOFbuzHJ0mf2",
    "papermill": {
     "duration": 0.008547,
     "end_time": "2023-04-09T14:08:14.421153",
     "exception": false,
     "start_time": "2023-04-09T14:08:14.412606",
     "status": "completed"
    },
    "tags": []
   },
   "source": [
    "## Definition of hyperparameter\n"
   ]
  },
  {
   "cell_type": "code",
   "execution_count": 2,
   "id": "f441c42c",
   "metadata": {
    "execution": {
     "iopub.execute_input": "2023-04-09T14:08:14.440318Z",
     "iopub.status.busy": "2023-04-09T14:08:14.439666Z",
     "iopub.status.idle": "2023-04-09T14:08:14.446792Z",
     "shell.execute_reply": "2023-04-09T14:08:14.445557Z"
    },
    "executionInfo": {
     "elapsed": 3,
     "status": "ok",
     "timestamp": 1634454562135,
     "user": {
      "displayName": "Kharisma Muzaki Ghufron",
      "photoUrl": "https://lh3.googleusercontent.com/a/default-user=s64",
      "userId": "14730718725881384856"
     },
     "user_tz": -420
    },
    "id": "C8IXMoVG0xB9",
    "papermill": {
     "duration": 0.019404,
     "end_time": "2023-04-09T14:08:14.449351",
     "exception": false,
     "start_time": "2023-04-09T14:08:14.429947",
     "status": "completed"
    },
    "tags": []
   },
   "outputs": [],
   "source": [
    "EPOCHS = 20\n",
    "INIT_LR = 1e-3\n",
    "BS = 8\n",
    "IMAGE_SIZE = (256, 256)\n",
    "\n",
    "magnification = \"400X\" #40, 100, 200, 400\n",
    "class_type = \"multiclass\" #multiclass binary\n",
    "if class_type == \"binary\":\n",
    "    class_dir = ['benign', 'malignant']\n",
    "else:\n",
    "    class_dir = ['tubular_adenoma', 'phyllodes_tumor', 'papillary_carcinoma',\n",
    "              'mucinous_carcinoma', 'lobular_carcinoma', 'fibroadenoma',\n",
    "              'ductal_carcinoma', 'adenosis']\n",
    "    \n",
    "checkpoint_path = \"training_1_40_binary_cp/cp.ckpt\"\n",
    "feature_path = \"training_1_40_binary_feature.json\"\n",
    "model_path = \"training_1_40_binary_model.h5\"\n",
    "history_path = \"training_1_40_binary_history.json\""
   ]
  },
  {
   "cell_type": "code",
   "execution_count": 3,
   "id": "f6ae1b99",
   "metadata": {
    "execution": {
     "iopub.execute_input": "2023-04-09T14:08:14.468606Z",
     "iopub.status.busy": "2023-04-09T14:08:14.468306Z",
     "iopub.status.idle": "2023-04-09T14:08:15.567136Z",
     "shell.execute_reply": "2023-04-09T14:08:15.565907Z"
    },
    "papermill": {
     "duration": 1.111728,
     "end_time": "2023-04-09T14:08:15.570497",
     "exception": false,
     "start_time": "2023-04-09T14:08:14.458769",
     "status": "completed"
    },
    "tags": []
   },
   "outputs": [],
   "source": [
    "paths, labels = [], []\n",
    "\n",
    "# /kaggle/input/breakhis/BreaKHis_v1/BreaKHis_v1/histology_slides/breast/benign/SOB/adenosis/SOB_B_A_14-22549AB/100X/SOB_B_A-14-22549AB-100-001.png\n",
    "\n",
    "if class_type == \"binary\":\n",
    "    for class_ in class_dir:\n",
    "        ls = glob.glob(f\"/kaggle/input/breakhis/BreaKHis_v1/BreaKHis_v1/histology_slides/breast/{class_}/SOB/*/*/{magnification}/*\")\n",
    "        paths.extend(ls)\n",
    "        labels.extend([class_]*len(ls))\n",
    "else:\n",
    "    for class_ in class_dir:\n",
    "        ls = glob.glob(f\"/kaggle/input/breakhis/BreaKHis_v1/BreaKHis_v1/histology_slides/breast/*/SOB/{class_}/*/{magnification}/*\")\n",
    "        paths.extend(ls)\n",
    "        labels.extend([class_]*len(ls))"
   ]
  },
  {
   "cell_type": "markdown",
   "id": "c8e6504f",
   "metadata": {
    "id": "uT5Eja5J0_uW",
    "papermill": {
     "duration": 0.012054,
     "end_time": "2023-04-09T14:08:15.595041",
     "exception": false,
     "start_time": "2023-04-09T14:08:15.582987",
     "status": "completed"
    },
    "tags": []
   },
   "source": [
    "## Data Split"
   ]
  },
  {
   "cell_type": "code",
   "execution_count": 4,
   "id": "4955d320",
   "metadata": {
    "execution": {
     "iopub.execute_input": "2023-04-09T14:08:15.621560Z",
     "iopub.status.busy": "2023-04-09T14:08:15.620507Z",
     "iopub.status.idle": "2023-04-09T14:08:15.629687Z",
     "shell.execute_reply": "2023-04-09T14:08:15.628655Z"
    },
    "papermill": {
     "duration": 0.025372,
     "end_time": "2023-04-09T14:08:15.632585",
     "exception": false,
     "start_time": "2023-04-09T14:08:15.607213",
     "status": "completed"
    },
    "tags": []
   },
   "outputs": [],
   "source": [
    "def get_array(paths):\n",
    "    images = []\n",
    "    for path in paths:\n",
    "        image = cv2.imread(path)\n",
    "        image = cv2.resize(image, IMAGE_SIZE)\n",
    "        images.append(image)\n",
    "    images = np.array(images).astype(\"float32\") / 255.0\n",
    "    return images"
   ]
  },
  {
   "cell_type": "code",
   "execution_count": 5,
   "id": "76e9b509",
   "metadata": {
    "execution": {
     "iopub.execute_input": "2023-04-09T14:08:15.659624Z",
     "iopub.status.busy": "2023-04-09T14:08:15.659253Z",
     "iopub.status.idle": "2023-04-09T14:08:55.455360Z",
     "shell.execute_reply": "2023-04-09T14:08:55.454145Z"
    },
    "papermill": {
     "duration": 39.81284,
     "end_time": "2023-04-09T14:08:55.458306",
     "exception": false,
     "start_time": "2023-04-09T14:08:15.645466",
     "status": "completed"
    },
    "tags": []
   },
   "outputs": [],
   "source": [
    "train_paths, val_paths, train_labels, val_labels = train_test_split(paths, labels, test_size=0.2, stratify=labels)\n",
    "val_paths, test_paths, val_labels, test_labels = train_test_split(val_paths, val_labels, test_size=0.5, stratify=val_labels)\n",
    "\n",
    "train_images = get_array(train_paths)\n",
    "val_images = get_array(val_paths)\n",
    "test_images = get_array(test_paths)"
   ]
  },
  {
   "cell_type": "markdown",
   "id": "af5e87ab",
   "metadata": {
    "papermill": {
     "duration": 0.009006,
     "end_time": "2023-04-09T14:08:55.477234",
     "exception": false,
     "start_time": "2023-04-09T14:08:55.468228",
     "status": "completed"
    },
    "tags": []
   },
   "source": [
    "## Model"
   ]
  },
  {
   "cell_type": "code",
   "execution_count": 6,
   "id": "d5637f6e",
   "metadata": {
    "execution": {
     "iopub.execute_input": "2023-04-09T14:08:55.497689Z",
     "iopub.status.busy": "2023-04-09T14:08:55.497286Z",
     "iopub.status.idle": "2023-04-09T14:08:55.503725Z",
     "shell.execute_reply": "2023-04-09T14:08:55.502501Z"
    },
    "papermill": {
     "duration": 0.019631,
     "end_time": "2023-04-09T14:08:55.506157",
     "exception": false,
     "start_time": "2023-04-09T14:08:55.486526",
     "status": "completed"
    },
    "tags": []
   },
   "outputs": [],
   "source": [
    "######################\n",
    "## Latent Distribution\n",
    "######################\n",
    "\n",
    "def sample_latent_features(distribution):\n",
    "    distribution_mean, distribution_variance = distribution\n",
    "    batch_size = tf.shape(distribution_variance)[0]\n",
    "    random = tf.keras.backend.random_normal(shape=(batch_size, tf.shape(distribution_variance)[1]))\n",
    "    return distribution_mean + tf.exp(0.5 * distribution_variance) * random"
   ]
  },
  {
   "cell_type": "code",
   "execution_count": 7,
   "id": "cd6bddbb",
   "metadata": {
    "execution": {
     "iopub.execute_input": "2023-04-09T14:08:55.526760Z",
     "iopub.status.busy": "2023-04-09T14:08:55.526395Z",
     "iopub.status.idle": "2023-04-09T14:08:55.725180Z",
     "shell.execute_reply": "2023-04-09T14:08:55.724048Z"
    },
    "papermill": {
     "duration": 0.212365,
     "end_time": "2023-04-09T14:08:55.727990",
     "exception": false,
     "start_time": "2023-04-09T14:08:55.515625",
     "status": "completed"
    },
    "tags": []
   },
   "outputs": [],
   "source": [
    "##########\n",
    "## Encoder\n",
    "##########\n",
    "\n",
    "input_data = tf.keras.layers.Input(shape=(IMAGE_SIZE[0], IMAGE_SIZE[1], 3))\n",
    "\n",
    "encoder = tf.keras.layers.Conv2D(64, (5,5), activation='relu')(input_data)\n",
    "encoder = tf.keras.layers.MaxPooling2D((2,2))(encoder)\n",
    "\n",
    "encoder = tf.keras.layers.Conv2D(64, (3,3), activation='relu')(encoder)\n",
    "encoder = tf.keras.layers.MaxPooling2D((2,2))(encoder)\n",
    "\n",
    "encoder = tf.keras.layers.Conv2D(32, (3,3), activation='relu')(encoder)\n",
    "encoder = tf.keras.layers.MaxPooling2D((2,2))(encoder)\n",
    "\n",
    "encoder = tf.keras.layers.Flatten()(encoder)\n",
    "encoder = tf.keras.layers.Dense(48, name=\"encoded\")(encoder)\n",
    "\n",
    "distribution_mean = tf.keras.layers.Dense(2, name='mean')(encoder)\n",
    "distribution_variance = tf.keras.layers.Dense(2, name='log_variance')(encoder)\n",
    "latent_encoding = tf.keras.layers.Lambda(sample_latent_features)([distribution_mean, distribution_variance])\n",
    "\n",
    "encoder_model = tf.keras.Model(input_data, latent_encoding, name=\"encoder_model\")"
   ]
  },
  {
   "cell_type": "code",
   "execution_count": 8,
   "id": "ce0168f5",
   "metadata": {
    "execution": {
     "iopub.execute_input": "2023-04-09T14:08:55.746771Z",
     "iopub.status.busy": "2023-04-09T14:08:55.745917Z",
     "iopub.status.idle": "2023-04-09T14:08:56.112672Z",
     "shell.execute_reply": "2023-04-09T14:08:56.111505Z"
    },
    "papermill": {
     "duration": 0.37914,
     "end_time": "2023-04-09T14:08:56.115508",
     "exception": false,
     "start_time": "2023-04-09T14:08:55.736368",
     "status": "completed"
    },
    "tags": []
   },
   "outputs": [],
   "source": [
    "decoder_input = tf.keras.layers.Input(shape=(2))\n",
    "decoder = tf.keras.layers.Dense(64*16*16)(decoder_input)\n",
    "decoder = tf.keras.layers.Reshape((16, 16, 64))(decoder)\n",
    "\n",
    "decoder = tf.keras.layers.Conv2DTranspose(64, (3,3), activation='relu', padding=\"same\")(decoder)\n",
    "decoder = tf.keras.layers.UpSampling2D((2,2))(decoder)\n",
    "\n",
    "decoder = tf.keras.layers.Conv2DTranspose(64, (3,3), activation='relu', padding=\"same\")(decoder)\n",
    "decoder = tf.keras.layers.UpSampling2D((2,2))(decoder)\n",
    "\n",
    "decoder = tf.keras.layers.Conv2DTranspose(64, (3,3), activation='relu', padding=\"same\")(decoder)\n",
    "decoder = tf.keras.layers.UpSampling2D((2,2))(decoder)\n",
    "\n",
    "decoder = tf.keras.layers.Conv2DTranspose(3, (3,3), activation='relu', padding=\"same\")(decoder)\n",
    "decoder_output = tf.keras.layers.UpSampling2D((2,2))(decoder)\n",
    "\n",
    "decoder_model = tf.keras.Model(decoder_input, decoder_output, name=\"decoder_model\")"
   ]
  },
  {
   "cell_type": "code",
   "execution_count": 9,
   "id": "1ffe9404",
   "metadata": {
    "execution": {
     "iopub.execute_input": "2023-04-09T14:08:56.133744Z",
     "iopub.status.busy": "2023-04-09T14:08:56.133414Z",
     "iopub.status.idle": "2023-04-09T14:08:56.228294Z",
     "shell.execute_reply": "2023-04-09T14:08:56.227363Z"
    },
    "papermill": {
     "duration": 0.106468,
     "end_time": "2023-04-09T14:08:56.230496",
     "exception": false,
     "start_time": "2023-04-09T14:08:56.124028",
     "status": "completed"
    },
    "tags": []
   },
   "outputs": [],
   "source": [
    "encoded = encoder_model(input_data)\n",
    "decoded = decoder_model(encoded)\n",
    "\n",
    "vae = tf.keras.models.Model(input_data, decoded)"
   ]
  },
  {
   "cell_type": "code",
   "execution_count": 10,
   "id": "9e4cfd1c",
   "metadata": {
    "execution": {
     "iopub.execute_input": "2023-04-09T14:08:56.250009Z",
     "iopub.status.busy": "2023-04-09T14:08:56.248120Z",
     "iopub.status.idle": "2023-04-09T14:08:56.269735Z",
     "shell.execute_reply": "2023-04-09T14:08:56.268849Z"
    },
    "papermill": {
     "duration": 0.040988,
     "end_time": "2023-04-09T14:08:56.279775",
     "exception": false,
     "start_time": "2023-04-09T14:08:56.238787",
     "status": "completed"
    },
    "tags": []
   },
   "outputs": [
    {
     "name": "stdout",
     "output_type": "stream",
     "text": [
      "Model: \"model\"\n",
      "_________________________________________________________________\n",
      " Layer (type)                Output Shape              Param #   \n",
      "=================================================================\n",
      " input_1 (InputLayer)        [(None, 256, 256, 3)]     0         \n",
      "                                                                 \n",
      " encoder_model (Functional)  (None, 2)                 1442900   \n",
      "                                                                 \n",
      " decoder_model (Functional)  (None, 256, 256, 3)       161667    \n",
      "                                                                 \n",
      "=================================================================\n",
      "Total params: 1,604,567\n",
      "Trainable params: 1,604,567\n",
      "Non-trainable params: 0\n",
      "_________________________________________________________________\n"
     ]
    }
   ],
   "source": [
    "vae.summary()"
   ]
  },
  {
   "cell_type": "markdown",
   "id": "a8bd4c9a",
   "metadata": {
    "id": "ahHRLqBo11pO",
    "papermill": {
     "duration": 0.008982,
     "end_time": "2023-04-09T14:08:56.297417",
     "exception": false,
     "start_time": "2023-04-09T14:08:56.288435",
     "status": "completed"
    },
    "tags": []
   },
   "source": [
    "## Buiding Model based ConvAutoEncoder Class"
   ]
  },
  {
   "cell_type": "code",
   "execution_count": 11,
   "id": "086f177f",
   "metadata": {
    "execution": {
     "iopub.execute_input": "2023-04-09T14:08:56.316921Z",
     "iopub.status.busy": "2023-04-09T14:08:56.316621Z",
     "iopub.status.idle": "2023-04-09T14:08:56.325283Z",
     "shell.execute_reply": "2023-04-09T14:08:56.324333Z"
    },
    "papermill": {
     "duration": 0.020966,
     "end_time": "2023-04-09T14:08:56.327428",
     "exception": false,
     "start_time": "2023-04-09T14:08:56.306462",
     "status": "completed"
    },
    "tags": []
   },
   "outputs": [],
   "source": [
    "################\n",
    "## Loss Function\n",
    "################\n",
    "\n",
    "def get_loss(distribution_mean, distribution_variance):\n",
    "    \n",
    "    def get_reconstruction_loss(y_true, y_pred):\n",
    "        reconstruction_loss = tf.keras.losses.mse(y_true, y_pred)\n",
    "        reconstruction_loss_batch = tf.reduce_mean(reconstruction_loss)\n",
    "        return reconstruction_loss_batch*IMAGE_SIZE[0]*IMAGE_SIZE[1]*3\n",
    "    \n",
    "    def get_kl_loss(distribution_mean, distribution_variance):\n",
    "        kl_loss = 1 + distribution_variance - tf.square(distribution_mean) - tf.exp(distribution_variance)\n",
    "        kl_loss_batch = tf.reduce_mean(kl_loss)\n",
    "        return kl_loss_batch*(-0.5)\n",
    "    \n",
    "    def total_loss(y_true, y_pred):\n",
    "        reconstruction_loss_batch = get_reconstruction_loss(y_true, y_pred)\n",
    "        kl_loss_batch = get_kl_loss(distribution_mean, distribution_variance)\n",
    "        return reconstruction_loss_batch + kl_loss_batch\n",
    "    \n",
    "    return total_loss"
   ]
  },
  {
   "cell_type": "code",
   "execution_count": 12,
   "id": "458481d8",
   "metadata": {
    "execution": {
     "iopub.execute_input": "2023-04-09T14:08:56.346355Z",
     "iopub.status.busy": "2023-04-09T14:08:56.346069Z",
     "iopub.status.idle": "2023-04-09T14:08:56.494376Z",
     "shell.execute_reply": "2023-04-09T14:08:56.493444Z"
    },
    "executionInfo": {
     "elapsed": 5625,
     "status": "ok",
     "timestamp": 1634455930569,
     "user": {
      "displayName": "Kharisma Muzaki Ghufron",
      "photoUrl": "https://lh3.googleusercontent.com/a/default-user=s64",
      "userId": "14730718725881384856"
     },
     "user_tz": -420
    },
    "id": "aFgpsuG814_2",
    "outputId": "bbe01b32-a8b0-4013-85d9-12a2c2fafbc9",
    "papermill": {
     "duration": 0.160417,
     "end_time": "2023-04-09T14:08:56.496768",
     "exception": false,
     "start_time": "2023-04-09T14:08:56.336351",
     "status": "completed"
    },
    "tags": []
   },
   "outputs": [],
   "source": [
    "opt = tf.keras.optimizers.legacy.Adam(learning_rate=INIT_LR)\n",
    "checkpoint_callback = ModelCheckpoint(\n",
    "    filepath=checkpoint_path,\n",
    "    save_weights_only=True,\n",
    "    monitor=\"val_loss\",\n",
    "    verbose = 1,\n",
    "    mode='min',\n",
    "    save_best_only=True)\n",
    "vae.compile(loss=get_loss(distribution_mean, distribution_variance), optimizer=opt)"
   ]
  },
  {
   "cell_type": "markdown",
   "id": "3a1de444",
   "metadata": {
    "id": "AHk07pZL2DdQ",
    "papermill": {
     "duration": 0.008489,
     "end_time": "2023-04-09T14:08:56.514271",
     "exception": false,
     "start_time": "2023-04-09T14:08:56.505782",
     "status": "completed"
    },
    "tags": []
   },
   "source": [
    "## Training The Model"
   ]
  },
  {
   "cell_type": "code",
   "execution_count": 13,
   "id": "54ada71b",
   "metadata": {
    "execution": {
     "iopub.execute_input": "2023-04-09T14:08:56.533472Z",
     "iopub.status.busy": "2023-04-09T14:08:56.533193Z",
     "iopub.status.idle": "2023-04-09T14:12:10.510991Z",
     "shell.execute_reply": "2023-04-09T14:12:10.509753Z"
    },
    "executionInfo": {
     "elapsed": 3926380,
     "status": "ok",
     "timestamp": 1634459856945,
     "user": {
      "displayName": "Kharisma Muzaki Ghufron",
      "photoUrl": "https://lh3.googleusercontent.com/a/default-user=s64",
      "userId": "14730718725881384856"
     },
     "user_tz": -420
    },
    "id": "iR1qEEyX2J8-",
    "outputId": "e21d3490-9768-4944-e2a5-ddbe49f975c7",
    "papermill": {
     "duration": 193.990013,
     "end_time": "2023-04-09T14:12:10.513489",
     "exception": false,
     "start_time": "2023-04-09T14:08:56.523476",
     "status": "completed"
    },
    "tags": []
   },
   "outputs": [
    {
     "name": "stdout",
     "output_type": "stream",
     "text": [
      "Train on 1456 samples, validate on 182 samples\n",
      "Epoch 1/20\n",
      "1456/1456 [==============================] - ETA: 0s - loss: 33881852718.3598"
     ]
    },
    {
     "name": "stderr",
     "output_type": "stream",
     "text": [
      "/opt/conda/lib/python3.7/site-packages/keras/engine/training_v1.py:2333: UserWarning: `Model.state_updates` will be removed in a future version. This property should not be used in TensorFlow 2.0, as `updates` are applied automatically.\n",
      "  updates = self.state_updates\n"
     ]
    },
    {
     "name": "stdout",
     "output_type": "stream",
     "text": [
      "\n",
      "Epoch 1: val_loss improved from inf to 99656.54507, saving model to training_1_40_binary_cp/cp.ckpt\n",
      "1456/1456 [==============================] - 26s 18ms/sample - loss: 33881852718.3598 - val_loss: 99656.5451\n",
      "Epoch 2/20\n",
      "1456/1456 [==============================] - ETA: 0s - loss: 101489.7225\n",
      "Epoch 2: val_loss improved from 99656.54507 to 99656.50429, saving model to training_1_40_binary_cp/cp.ckpt\n",
      "1456/1456 [==============================] - 9s 6ms/sample - loss: 101489.7225 - val_loss: 99656.5043\n",
      "Epoch 3/20\n",
      "1456/1456 [==============================] - ETA: 0s - loss: 101489.6987\n",
      "Epoch 3: val_loss improved from 99656.50429 to 99656.49957, saving model to training_1_40_binary_cp/cp.ckpt\n",
      "1456/1456 [==============================] - 9s 6ms/sample - loss: 101489.6987 - val_loss: 99656.4996\n",
      "Epoch 4/20\n",
      "1448/1456 [============================>.] - ETA: 0s - loss: 101452.3818\n",
      "Epoch 4: val_loss improved from 99656.49957 to 99656.49768, saving model to training_1_40_binary_cp/cp.ckpt\n",
      "1456/1456 [==============================] - 9s 6ms/sample - loss: 101489.6951 - val_loss: 99656.4977\n",
      "Epoch 5/20\n",
      "1448/1456 [============================>.] - ETA: 0s - loss: 101515.8201\n",
      "Epoch 5: val_loss did not improve from 99656.49768\n",
      "1456/1456 [==============================] - 9s 6ms/sample - loss: 101489.6924 - val_loss: 99656.5010\n",
      "Epoch 6/20\n",
      "1448/1456 [============================>.] - ETA: 0s - loss: 101457.3773\n",
      "Epoch 6: val_loss did not improve from 99656.49768\n",
      "1456/1456 [==============================] - 9s 6ms/sample - loss: 101489.6930 - val_loss: 99656.4986\n",
      "Epoch 7/20\n",
      "1448/1456 [============================>.] - ETA: 0s - loss: 101520.4647\n",
      "Epoch 7: val_loss improved from 99656.49768 to 99656.49622, saving model to training_1_40_binary_cp/cp.ckpt\n",
      "1456/1456 [==============================] - 9s 6ms/sample - loss: 101489.6927 - val_loss: 99656.4962\n",
      "Epoch 8/20\n",
      "1448/1456 [============================>.] - ETA: 0s - loss: 101463.2470\n",
      "Epoch 8: val_loss did not improve from 99656.49622\n",
      "1456/1456 [==============================] - 9s 6ms/sample - loss: 101489.6931 - val_loss: 99656.4969\n",
      "Epoch 9/20\n",
      "1448/1456 [============================>.] - ETA: 0s - loss: 101498.6342\n",
      "Epoch 9: val_loss did not improve from 99656.49622\n",
      "1456/1456 [==============================] - 9s 6ms/sample - loss: 101489.6944 - val_loss: 99656.4985\n",
      "Epoch 10/20\n",
      "1456/1456 [==============================] - ETA: 0s - loss: 101489.6926\n",
      "Epoch 10: val_loss did not improve from 99656.49622\n",
      "1456/1456 [==============================] - 9s 6ms/sample - loss: 101489.6926 - val_loss: 99656.4995\n",
      "Epoch 11/20\n",
      "1448/1456 [============================>.] - ETA: 0s - loss: 101492.0303\n",
      "Epoch 11: val_loss did not improve from 99656.49622\n",
      "1456/1456 [==============================] - 9s 6ms/sample - loss: 101489.6932 - val_loss: 99656.4964\n",
      "Epoch 12/20\n",
      "1448/1456 [============================>.] - ETA: 0s - loss: 101518.5971\n",
      "Epoch 12: val_loss improved from 99656.49622 to 99656.49571, saving model to training_1_40_binary_cp/cp.ckpt\n",
      "1456/1456 [==============================] - 9s 6ms/sample - loss: 101489.6933 - val_loss: 99656.4957\n",
      "Epoch 13/20\n",
      "1448/1456 [============================>.] - ETA: 0s - loss: 101479.0937\n",
      "Epoch 13: val_loss did not improve from 99656.49571\n",
      "1456/1456 [==============================] - 9s 6ms/sample - loss: 101489.6948 - val_loss: 99656.5032\n",
      "Epoch 14/20\n",
      "1456/1456 [==============================] - ETA: 0s - loss: 101489.6922\n",
      "Epoch 14: val_loss did not improve from 99656.49571\n",
      "1456/1456 [==============================] - 9s 6ms/sample - loss: 101489.6922 - val_loss: 99656.4966\n",
      "Epoch 15/20\n",
      "1448/1456 [============================>.] - ETA: 0s - loss: 101459.7925\n",
      "Epoch 15: val_loss did not improve from 99656.49571\n",
      "1456/1456 [==============================] - 9s 6ms/sample - loss: 101489.6933 - val_loss: 99656.4971\n",
      "Epoch 16/20\n",
      "1448/1456 [============================>.] - ETA: 0s - loss: 101520.4689\n",
      "Epoch 16: val_loss did not improve from 99656.49571\n",
      "1456/1456 [==============================] - 9s 6ms/sample - loss: 101489.6910 - val_loss: 99656.4976\n",
      "Epoch 17/20\n",
      "1456/1456 [==============================] - ETA: 0s - loss: 101489.6918\n",
      "Epoch 17: val_loss improved from 99656.49571 to 99656.49485, saving model to training_1_40_binary_cp/cp.ckpt\n",
      "1456/1456 [==============================] - 9s 6ms/sample - loss: 101489.6918 - val_loss: 99656.4948\n",
      "Epoch 18/20\n",
      "1448/1456 [============================>.] - ETA: 0s - loss: 101454.5167\n",
      "Epoch 18: val_loss did not improve from 99656.49485\n",
      "1456/1456 [==============================] - 9s 6ms/sample - loss: 101489.6922 - val_loss: 99656.4959\n",
      "Epoch 19/20\n",
      "1448/1456 [============================>.] - ETA: 0s - loss: 101424.7764\n",
      "Epoch 19: val_loss did not improve from 99656.49485\n",
      "1456/1456 [==============================] - 9s 6ms/sample - loss: 101489.6941 - val_loss: 99656.4973\n",
      "Epoch 20/20\n",
      "1448/1456 [============================>.] - ETA: 0s - loss: 101499.5677\n",
      "Epoch 20: val_loss did not improve from 99656.49485\n",
      "1456/1456 [==============================] - 9s 6ms/sample - loss: 101489.6924 - val_loss: 99656.4978\n"
     ]
    }
   ],
   "source": [
    "with tf.device(\"/GPU:0\"):\n",
    "    H = vae.fit(\n",
    "        train_images, train_images,\n",
    "        shuffle=True,\n",
    "        validation_data=(val_images, val_images),\n",
    "        epochs=EPOCHS,\n",
    "        callbacks = [checkpoint_callback], batch_size=BS) "
   ]
  },
  {
   "cell_type": "markdown",
   "id": "9b7f5eeb",
   "metadata": {
    "id": "NGP0dXvg2Lze",
    "papermill": {
     "duration": 0.115946,
     "end_time": "2023-04-09T14:12:10.749312",
     "exception": false,
     "start_time": "2023-04-09T14:12:10.633366",
     "status": "completed"
    },
    "tags": []
   },
   "source": [
    "## Saved Result Graphic (.json) and Model Trained (h5)"
   ]
  },
  {
   "cell_type": "code",
   "execution_count": 14,
   "id": "ca0137e7",
   "metadata": {
    "execution": {
     "iopub.execute_input": "2023-04-09T14:12:10.975421Z",
     "iopub.status.busy": "2023-04-09T14:12:10.974795Z",
     "iopub.status.idle": "2023-04-09T14:12:11.156158Z",
     "shell.execute_reply": "2023-04-09T14:12:11.155159Z"
    },
    "executionInfo": {
     "elapsed": 29984,
     "status": "ok",
     "timestamp": 1634459886922,
     "user": {
      "displayName": "Kharisma Muzaki Ghufron",
      "photoUrl": "https://lh3.googleusercontent.com/a/default-user=s64",
      "userId": "14730718725881384856"
     },
     "user_tz": -420
    },
    "id": "4W49P0jq2Zt-",
    "papermill": {
     "duration": 0.297781,
     "end_time": "2023-04-09T14:12:11.158796",
     "exception": false,
     "start_time": "2023-04-09T14:12:10.861015",
     "status": "completed"
    },
    "tags": []
   },
   "outputs": [],
   "source": [
    "with open(history_path, 'w') as f:\n",
    "    json.dump(H.history, f)\n",
    "vae.save(model_path)"
   ]
  },
  {
   "cell_type": "markdown",
   "id": "e76ed66b",
   "metadata": {
    "id": "YiaL-r9o3wMW",
    "papermill": {
     "duration": 0.108681,
     "end_time": "2023-04-09T14:12:11.378116",
     "exception": false,
     "start_time": "2023-04-09T14:12:11.269435",
     "status": "completed"
    },
    "tags": []
   },
   "source": [
    "# Extract Feature Stage"
   ]
  },
  {
   "cell_type": "markdown",
   "id": "b9ffeceb",
   "metadata": {
    "id": "WDJy4NT43-tO",
    "papermill": {
     "duration": 0.168879,
     "end_time": "2023-04-09T14:12:11.659577",
     "exception": false,
     "start_time": "2023-04-09T14:12:11.490698",
     "status": "completed"
    },
    "tags": []
   },
   "source": [
    "## Load already trained model and extracting feature\n"
   ]
  },
  {
   "cell_type": "code",
   "execution_count": 15,
   "id": "bfacfd1a",
   "metadata": {
    "execution": {
     "iopub.execute_input": "2023-04-09T14:12:11.882585Z",
     "iopub.status.busy": "2023-04-09T14:12:11.882205Z",
     "iopub.status.idle": "2023-04-09T14:12:14.438112Z",
     "shell.execute_reply": "2023-04-09T14:12:14.436952Z"
    },
    "executionInfo": {
     "elapsed": 30833,
     "status": "ok",
     "timestamp": 1634459917745,
     "user": {
      "displayName": "Kharisma Muzaki Ghufron",
      "photoUrl": "https://lh3.googleusercontent.com/a/default-user=s64",
      "userId": "14730718725881384856"
     },
     "user_tz": -420
    },
    "id": "eN11l1iF4DUW",
    "outputId": "c1b5cd23-5746-4e86-b1c5-5e1abc415979",
    "papermill": {
     "duration": 2.672326,
     "end_time": "2023-04-09T14:12:14.441375",
     "exception": false,
     "start_time": "2023-04-09T14:12:11.769049",
     "status": "completed"
    },
    "tags": []
   },
   "outputs": [
    {
     "name": "stdout",
     "output_type": "stream",
     "text": [
      "[INFO] loading auto encoder model...\n",
      "[INFO] encoding images...\n"
     ]
    },
    {
     "name": "stderr",
     "output_type": "stream",
     "text": [
      "/opt/conda/lib/python3.7/site-packages/keras/engine/training_v1.py:2357: UserWarning: `Model.state_updates` will be removed in a future version. This property should not be used in TensorFlow 2.0, as `updates` are applied automatically.\n",
      "  updates=self.state_updates,\n"
     ]
    }
   ],
   "source": [
    "# auto_encoder = ConvAutoEncoder.build(IMAGE_SIZE[0], IMAGE_SIZE[1], 3)\n",
    "# load our auto_encoder from disk\n",
    "print(\"[INFO] loading auto encoder model...\")\n",
    "vae.load_weights(checkpoint_path)\n",
    "\n",
    "encoder = Model(inputs=vae.input, outputs=vae.get_layer(\"encoder_model\").get_layer(\"encoded\").output)\n",
    "\n",
    "# quantify the contents of our input images using the encoder\n",
    "print(\"[INFO] encoding images...\")\n",
    "features = encoder.predict(train_images)"
   ]
  },
  {
   "cell_type": "markdown",
   "id": "43f25af5",
   "metadata": {
    "id": "RwRiJP-84VaP",
    "papermill": {
     "duration": 0.113047,
     "end_time": "2023-04-09T14:12:14.674951",
     "exception": false,
     "start_time": "2023-04-09T14:12:14.561904",
     "status": "completed"
    },
    "tags": []
   },
   "source": [
    "## Create mapping feature included location images, label, feature and indexing number"
   ]
  },
  {
   "cell_type": "code",
   "execution_count": 16,
   "id": "d518323f",
   "metadata": {
    "execution": {
     "iopub.execute_input": "2023-04-09T14:12:14.905784Z",
     "iopub.status.busy": "2023-04-09T14:12:14.905069Z",
     "iopub.status.idle": "2023-04-09T14:12:14.927371Z",
     "shell.execute_reply": "2023-04-09T14:12:14.926281Z"
    },
    "executionInfo": {
     "elapsed": 8,
     "status": "ok",
     "timestamp": 1634459917745,
     "user": {
      "displayName": "Kharisma Muzaki Ghufron",
      "photoUrl": "https://lh3.googleusercontent.com/a/default-user=s64",
      "userId": "14730718725881384856"
     },
     "user_tz": -420
    },
    "id": "ItHAs9Aj4fm_",
    "papermill": {
     "duration": 0.141526,
     "end_time": "2023-04-09T14:12:14.929525",
     "exception": false,
     "start_time": "2023-04-09T14:12:14.787999",
     "status": "completed"
    },
    "tags": []
   },
   "outputs": [],
   "source": [
    "train_indexes = list(range(0, train_images.shape[0]))\n",
    "train_features_array = [[float(x) for x in y] for y in features]\n",
    "data = {\"indexes\": train_indexes, \"features\": train_features_array, \"locations\": train_paths, \"labels\":train_labels}"
   ]
  },
  {
   "cell_type": "markdown",
   "id": "359622a7",
   "metadata": {
    "id": "-Hb3KBS-4hS3",
    "papermill": {
     "duration": 0.118182,
     "end_time": "2023-04-09T14:12:15.160680",
     "exception": false,
     "start_time": "2023-04-09T14:12:15.042498",
     "status": "completed"
    },
    "tags": []
   },
   "source": [
    "## Saved model feature (already mapped) as json"
   ]
  },
  {
   "cell_type": "code",
   "execution_count": 17,
   "id": "8afa5232",
   "metadata": {
    "execution": {
     "iopub.execute_input": "2023-04-09T14:12:15.387290Z",
     "iopub.status.busy": "2023-04-09T14:12:15.386893Z",
     "iopub.status.idle": "2023-04-09T14:12:15.524857Z",
     "shell.execute_reply": "2023-04-09T14:12:15.523868Z"
    },
    "executionInfo": {
     "elapsed": 446,
     "status": "ok",
     "timestamp": 1634459918184,
     "user": {
      "displayName": "Kharisma Muzaki Ghufron",
      "photoUrl": "https://lh3.googleusercontent.com/a/default-user=s64",
      "userId": "14730718725881384856"
     },
     "user_tz": -420
    },
    "id": "gHqqNqSV4mun",
    "papermill": {
     "duration": 0.253685,
     "end_time": "2023-04-09T14:12:15.527248",
     "exception": false,
     "start_time": "2023-04-09T14:12:15.273563",
     "status": "completed"
    },
    "tags": []
   },
   "outputs": [],
   "source": [
    "with open(feature_path, 'w') as f:\n",
    "    json.dump(data, f)"
   ]
  },
  {
   "cell_type": "markdown",
   "id": "38d10c11",
   "metadata": {
    "id": "mEKpKr-G6VAO",
    "papermill": {
     "duration": 0.120461,
     "end_time": "2023-04-09T14:12:15.759689",
     "exception": false,
     "start_time": "2023-04-09T14:12:15.639228",
     "status": "completed"
    },
    "tags": []
   },
   "source": [
    "# Retrieval Test Stage"
   ]
  },
  {
   "cell_type": "markdown",
   "id": "b50cdec0",
   "metadata": {
    "id": "JtD8TrpR7cVe",
    "papermill": {
     "duration": 0.11704,
     "end_time": "2023-04-09T14:12:15.991720",
     "exception": false,
     "start_time": "2023-04-09T14:12:15.874680",
     "status": "completed"
    },
    "tags": []
   },
   "source": [
    "## Euclidean function"
   ]
  },
  {
   "cell_type": "code",
   "execution_count": 18,
   "id": "43961ad7",
   "metadata": {
    "execution": {
     "iopub.execute_input": "2023-04-09T14:12:16.226351Z",
     "iopub.status.busy": "2023-04-09T14:12:16.225976Z",
     "iopub.status.idle": "2023-04-09T14:12:16.231193Z",
     "shell.execute_reply": "2023-04-09T14:12:16.230023Z"
    },
    "executionInfo": {
     "elapsed": 23,
     "status": "ok",
     "timestamp": 1634459918185,
     "user": {
      "displayName": "Kharisma Muzaki Ghufron",
      "photoUrl": "https://lh3.googleusercontent.com/a/default-user=s64",
      "userId": "14730718725881384856"
     },
     "user_tz": -420
    },
    "id": "GZq6CCE77XHA",
    "papermill": {
     "duration": 0.122616,
     "end_time": "2023-04-09T14:12:16.234091",
     "exception": false,
     "start_time": "2023-04-09T14:12:16.111475",
     "status": "completed"
    },
    "tags": []
   },
   "outputs": [],
   "source": [
    "def euclidean(a, b):\n",
    "    # compute and return the euclidean distance between two vectors\n",
    "    return np.linalg.norm(a - b)"
   ]
  },
  {
   "cell_type": "markdown",
   "id": "1f074f25",
   "metadata": {
    "id": "bac1xbma7ew-",
    "papermill": {
     "duration": 0.111953,
     "end_time": "2023-04-09T14:12:16.463338",
     "exception": false,
     "start_time": "2023-04-09T14:12:16.351385",
     "status": "completed"
    },
    "tags": []
   },
   "source": [
    "## Perform search function\n",
    "```\n",
    "Default max result from search is 5\n",
    "```\n",
    "\n",
    "\n"
   ]
  },
  {
   "cell_type": "code",
   "execution_count": 19,
   "id": "23204db1",
   "metadata": {
    "execution": {
     "iopub.execute_input": "2023-04-09T14:12:16.686800Z",
     "iopub.status.busy": "2023-04-09T14:12:16.686436Z",
     "iopub.status.idle": "2023-04-09T14:12:16.692262Z",
     "shell.execute_reply": "2023-04-09T14:12:16.691165Z"
    },
    "executionInfo": {
     "elapsed": 23,
     "status": "ok",
     "timestamp": 1634459918185,
     "user": {
      "displayName": "Kharisma Muzaki Ghufron",
      "photoUrl": "https://lh3.googleusercontent.com/a/default-user=s64",
      "userId": "14730718725881384856"
     },
     "user_tz": -420
    },
    "id": "H_aMevGo7g--",
    "papermill": {
     "duration": 0.119274,
     "end_time": "2023-04-09T14:12:16.694359",
     "exception": false,
     "start_time": "2023-04-09T14:12:16.575085",
     "status": "completed"
    },
    "tags": []
   },
   "outputs": [],
   "source": [
    "def perform_search(query_features, indexed_train, max_results=5):\n",
    "    retrieved = []\n",
    "    for idx in range(0, len(indexed_train[\"features\"])):\n",
    "        distance = euclidean(query_features, indexed_train[\"features\"][idx])\n",
    "        retrieved.append((distance, idx))\n",
    "    retrieved = sorted(retrieved)[:max_results]\n",
    "    return retrieved"
   ]
  },
  {
   "cell_type": "markdown",
   "id": "b34c401d",
   "metadata": {
    "id": "zWU1LO2L725_",
    "papermill": {
     "duration": 0.120827,
     "end_time": "2023-04-09T14:12:16.926489",
     "exception": false,
     "start_time": "2023-04-09T14:12:16.805662",
     "status": "completed"
    },
    "tags": []
   },
   "source": [
    "## Load the model and feature already extracted"
   ]
  },
  {
   "cell_type": "code",
   "execution_count": 20,
   "id": "d9b3b744",
   "metadata": {
    "execution": {
     "iopub.execute_input": "2023-04-09T14:12:17.202743Z",
     "iopub.status.busy": "2023-04-09T14:12:17.201642Z",
     "iopub.status.idle": "2023-04-09T14:12:18.047867Z",
     "shell.execute_reply": "2023-04-09T14:12:18.046621Z"
    },
    "executionInfo": {
     "elapsed": 21348,
     "status": "ok",
     "timestamp": 1634460095599,
     "user": {
      "displayName": "Kharisma Muzaki Ghufron",
      "photoUrl": "https://lh3.googleusercontent.com/a/default-user=s64",
      "userId": "14730718725881384856"
     },
     "user_tz": -420
    },
    "id": "l0yvC_Fm8Bo_",
    "outputId": "046dc82a-7970-4f8f-982c-7f1fe4454023",
    "papermill": {
     "duration": 0.96733,
     "end_time": "2023-04-09T14:12:18.050981",
     "exception": false,
     "start_time": "2023-04-09T14:12:17.083651",
     "status": "completed"
    },
    "tags": []
   },
   "outputs": [
    {
     "name": "stdout",
     "output_type": "stream",
     "text": [
      "[INFO] loading auto encoder model...\n",
      "[INFO] encoding images...\n"
     ]
    }
   ],
   "source": [
    "# auto_encoder = ConvAutoEncoder.build(IMAGE_SIZE[0], IMAGE_SIZE[1], 3)\n",
    "# load our auto_encoder from disk\n",
    "print(\"[INFO] loading auto encoder model...\")\n",
    "vae.load_weights(checkpoint_path)\n",
    "with open(feature_path) as f:\n",
    "    training_indexed = json.load(f)\n",
    "\n",
    "# create the encoder model which consists of *just* the encoder\n",
    "# portion of the auto encoder\n",
    "encoder = Model(inputs=vae.input, outputs=vae.get_layer(\"encoder_model\").get_layer(\"encoded\").output)\n",
    "\n",
    "# quantify the contents of our input images using the encoder\n",
    "print(\"[INFO] encoding images...\")\n",
    "features_retrieved = encoder.predict(test_images)"
   ]
  },
  {
   "cell_type": "markdown",
   "id": "f24836f3",
   "metadata": {
    "id": "VFt2q2eg8KkO",
    "papermill": {
     "duration": 0.109085,
     "end_time": "2023-04-09T14:12:18.276196",
     "exception": false,
     "start_time": "2023-04-09T14:12:18.167111",
     "status": "completed"
    },
    "tags": []
   },
   "source": [
    "## Perform search and retrieval based test images"
   ]
  },
  {
   "cell_type": "code",
   "execution_count": 21,
   "id": "cfac251f",
   "metadata": {
    "_kg_hide-output": true,
    "execution": {
     "iopub.execute_input": "2023-04-09T14:12:18.500906Z",
     "iopub.status.busy": "2023-04-09T14:12:18.500523Z",
     "iopub.status.idle": "2023-04-09T14:12:22.324987Z",
     "shell.execute_reply": "2023-04-09T14:12:22.323872Z"
    },
    "executionInfo": {
     "elapsed": 6060,
     "status": "ok",
     "timestamp": 1634460101650,
     "user": {
      "displayName": "Kharisma Muzaki Ghufron",
      "photoUrl": "https://lh3.googleusercontent.com/a/default-user=s64",
      "userId": "14730718725881384856"
     },
     "user_tz": -420
    },
    "id": "SDoI3M9P8QXu",
    "outputId": "93e9ebef-40f4-4c55-c387-64f557f24995",
    "papermill": {
     "duration": 3.941882,
     "end_time": "2023-04-09T14:12:22.328148",
     "exception": false,
     "start_time": "2023-04-09T14:12:18.386266",
     "status": "completed"
    },
    "scrolled": true,
    "tags": []
   },
   "outputs": [
    {
     "name": "stderr",
     "output_type": "stream",
     "text": [
      "/opt/conda/lib/python3.7/site-packages/sklearn/metrics/_classification.py:1318: UndefinedMetricWarning: Recall is ill-defined and being set to 0.0 in labels with no true samples. Use `zero_division` parameter to control this behavior.\n",
      "  _warn_prf(average, modifier, msg_start, len(result))\n",
      "/opt/conda/lib/python3.7/site-packages/sklearn/metrics/_classification.py:1318: UndefinedMetricWarning: Recall is ill-defined and being set to 0.0 in labels with no true samples. Use `zero_division` parameter to control this behavior.\n",
      "  _warn_prf(average, modifier, msg_start, len(result))\n",
      "/opt/conda/lib/python3.7/site-packages/sklearn/metrics/_classification.py:1318: UndefinedMetricWarning: Recall is ill-defined and being set to 0.0 in labels with no true samples. Use `zero_division` parameter to control this behavior.\n",
      "  _warn_prf(average, modifier, msg_start, len(result))\n",
      "/opt/conda/lib/python3.7/site-packages/sklearn/metrics/_classification.py:1318: UndefinedMetricWarning: Recall is ill-defined and being set to 0.0 in labels with no true samples. Use `zero_division` parameter to control this behavior.\n",
      "  _warn_prf(average, modifier, msg_start, len(result))\n",
      "/opt/conda/lib/python3.7/site-packages/sklearn/metrics/_classification.py:1318: UndefinedMetricWarning: Precision is ill-defined and being set to 0.0 in labels with no predicted samples. Use `zero_division` parameter to control this behavior.\n",
      "  _warn_prf(average, modifier, msg_start, len(result))\n",
      "/opt/conda/lib/python3.7/site-packages/sklearn/metrics/_classification.py:1318: UndefinedMetricWarning: Recall is ill-defined and being set to 0.0 in labels with no true samples. Use `zero_division` parameter to control this behavior.\n",
      "  _warn_prf(average, modifier, msg_start, len(result))\n",
      "/opt/conda/lib/python3.7/site-packages/sklearn/metrics/_classification.py:1318: UndefinedMetricWarning: Recall is ill-defined and being set to 0.0 in labels with no true samples. Use `zero_division` parameter to control this behavior.\n",
      "  _warn_prf(average, modifier, msg_start, len(result))\n",
      "/opt/conda/lib/python3.7/site-packages/sklearn/metrics/_classification.py:1318: UndefinedMetricWarning: Recall is ill-defined and being set to 0.0 in labels with no true samples. Use `zero_division` parameter to control this behavior.\n",
      "  _warn_prf(average, modifier, msg_start, len(result))\n",
      "/opt/conda/lib/python3.7/site-packages/sklearn/metrics/_classification.py:1318: UndefinedMetricWarning: Recall is ill-defined and being set to 0.0 in labels with no true samples. Use `zero_division` parameter to control this behavior.\n",
      "  _warn_prf(average, modifier, msg_start, len(result))\n",
      "/opt/conda/lib/python3.7/site-packages/sklearn/metrics/_classification.py:1318: UndefinedMetricWarning: Precision is ill-defined and being set to 0.0 in labels with no predicted samples. Use `zero_division` parameter to control this behavior.\n",
      "  _warn_prf(average, modifier, msg_start, len(result))\n",
      "/opt/conda/lib/python3.7/site-packages/sklearn/metrics/_classification.py:1318: UndefinedMetricWarning: Recall is ill-defined and being set to 0.0 in labels with no true samples. Use `zero_division` parameter to control this behavior.\n",
      "  _warn_prf(average, modifier, msg_start, len(result))\n",
      "/opt/conda/lib/python3.7/site-packages/sklearn/metrics/_classification.py:1318: UndefinedMetricWarning: Recall is ill-defined and being set to 0.0 in labels with no true samples. Use `zero_division` parameter to control this behavior.\n",
      "  _warn_prf(average, modifier, msg_start, len(result))\n",
      "/opt/conda/lib/python3.7/site-packages/sklearn/metrics/_classification.py:1318: UndefinedMetricWarning: Recall is ill-defined and being set to 0.0 in labels with no true samples. Use `zero_division` parameter to control this behavior.\n",
      "  _warn_prf(average, modifier, msg_start, len(result))\n",
      "/opt/conda/lib/python3.7/site-packages/sklearn/metrics/_classification.py:1318: UndefinedMetricWarning: Recall is ill-defined and being set to 0.0 in labels with no true samples. Use `zero_division` parameter to control this behavior.\n",
      "  _warn_prf(average, modifier, msg_start, len(result))\n",
      "/opt/conda/lib/python3.7/site-packages/sklearn/metrics/_classification.py:1318: UndefinedMetricWarning: Recall is ill-defined and being set to 0.0 in labels with no true samples. Use `zero_division` parameter to control this behavior.\n",
      "  _warn_prf(average, modifier, msg_start, len(result))\n",
      "/opt/conda/lib/python3.7/site-packages/sklearn/metrics/_classification.py:1318: UndefinedMetricWarning: Recall is ill-defined and being set to 0.0 in labels with no true samples. Use `zero_division` parameter to control this behavior.\n",
      "  _warn_prf(average, modifier, msg_start, len(result))\n",
      "/opt/conda/lib/python3.7/site-packages/sklearn/metrics/_classification.py:1318: UndefinedMetricWarning: Recall is ill-defined and being set to 0.0 in labels with no true samples. Use `zero_division` parameter to control this behavior.\n",
      "  _warn_prf(average, modifier, msg_start, len(result))\n",
      "/opt/conda/lib/python3.7/site-packages/sklearn/metrics/_classification.py:1318: UndefinedMetricWarning: Precision is ill-defined and being set to 0.0 in labels with no predicted samples. Use `zero_division` parameter to control this behavior.\n",
      "  _warn_prf(average, modifier, msg_start, len(result))\n",
      "/opt/conda/lib/python3.7/site-packages/sklearn/metrics/_classification.py:1318: UndefinedMetricWarning: Recall is ill-defined and being set to 0.0 in labels with no true samples. Use `zero_division` parameter to control this behavior.\n",
      "  _warn_prf(average, modifier, msg_start, len(result))\n",
      "/opt/conda/lib/python3.7/site-packages/sklearn/metrics/_classification.py:1318: UndefinedMetricWarning: Precision is ill-defined and being set to 0.0 in labels with no predicted samples. Use `zero_division` parameter to control this behavior.\n",
      "  _warn_prf(average, modifier, msg_start, len(result))\n",
      "/opt/conda/lib/python3.7/site-packages/sklearn/metrics/_classification.py:1318: UndefinedMetricWarning: Recall is ill-defined and being set to 0.0 in labels with no true samples. Use `zero_division` parameter to control this behavior.\n",
      "  _warn_prf(average, modifier, msg_start, len(result))\n",
      "/opt/conda/lib/python3.7/site-packages/sklearn/metrics/_classification.py:1318: UndefinedMetricWarning: Recall is ill-defined and being set to 0.0 in labels with no true samples. Use `zero_division` parameter to control this behavior.\n",
      "  _warn_prf(average, modifier, msg_start, len(result))\n",
      "/opt/conda/lib/python3.7/site-packages/sklearn/metrics/_classification.py:1318: UndefinedMetricWarning: Precision is ill-defined and being set to 0.0 in labels with no predicted samples. Use `zero_division` parameter to control this behavior.\n",
      "  _warn_prf(average, modifier, msg_start, len(result))\n",
      "/opt/conda/lib/python3.7/site-packages/sklearn/metrics/_classification.py:1318: UndefinedMetricWarning: Recall is ill-defined and being set to 0.0 in labels with no true samples. Use `zero_division` parameter to control this behavior.\n",
      "  _warn_prf(average, modifier, msg_start, len(result))\n",
      "/opt/conda/lib/python3.7/site-packages/sklearn/metrics/_classification.py:1318: UndefinedMetricWarning: Recall is ill-defined and being set to 0.0 in labels with no true samples. Use `zero_division` parameter to control this behavior.\n",
      "  _warn_prf(average, modifier, msg_start, len(result))\n",
      "/opt/conda/lib/python3.7/site-packages/sklearn/metrics/_classification.py:1318: UndefinedMetricWarning: Recall is ill-defined and being set to 0.0 in labels with no true samples. Use `zero_division` parameter to control this behavior.\n",
      "  _warn_prf(average, modifier, msg_start, len(result))\n",
      "/opt/conda/lib/python3.7/site-packages/sklearn/metrics/_classification.py:1318: UndefinedMetricWarning: Recall is ill-defined and being set to 0.0 in labels with no true samples. Use `zero_division` parameter to control this behavior.\n",
      "  _warn_prf(average, modifier, msg_start, len(result))\n",
      "/opt/conda/lib/python3.7/site-packages/sklearn/metrics/_classification.py:1318: UndefinedMetricWarning: Recall is ill-defined and being set to 0.0 in labels with no true samples. Use `zero_division` parameter to control this behavior.\n",
      "  _warn_prf(average, modifier, msg_start, len(result))\n",
      "/opt/conda/lib/python3.7/site-packages/sklearn/metrics/_classification.py:1318: UndefinedMetricWarning: Precision is ill-defined and being set to 0.0 in labels with no predicted samples. Use `zero_division` parameter to control this behavior.\n",
      "  _warn_prf(average, modifier, msg_start, len(result))\n",
      "/opt/conda/lib/python3.7/site-packages/sklearn/metrics/_classification.py:1318: UndefinedMetricWarning: Recall is ill-defined and being set to 0.0 in labels with no true samples. Use `zero_division` parameter to control this behavior.\n",
      "  _warn_prf(average, modifier, msg_start, len(result))\n",
      "/opt/conda/lib/python3.7/site-packages/sklearn/metrics/_classification.py:1318: UndefinedMetricWarning: Recall is ill-defined and being set to 0.0 in labels with no true samples. Use `zero_division` parameter to control this behavior.\n",
      "  _warn_prf(average, modifier, msg_start, len(result))\n",
      "/opt/conda/lib/python3.7/site-packages/sklearn/metrics/_classification.py:1318: UndefinedMetricWarning: Recall is ill-defined and being set to 0.0 in labels with no true samples. Use `zero_division` parameter to control this behavior.\n",
      "  _warn_prf(average, modifier, msg_start, len(result))\n",
      "/opt/conda/lib/python3.7/site-packages/sklearn/metrics/_classification.py:1318: UndefinedMetricWarning: Recall is ill-defined and being set to 0.0 in labels with no true samples. Use `zero_division` parameter to control this behavior.\n",
      "  _warn_prf(average, modifier, msg_start, len(result))\n",
      "/opt/conda/lib/python3.7/site-packages/sklearn/metrics/_classification.py:1318: UndefinedMetricWarning: Recall is ill-defined and being set to 0.0 in labels with no true samples. Use `zero_division` parameter to control this behavior.\n",
      "  _warn_prf(average, modifier, msg_start, len(result))\n",
      "/opt/conda/lib/python3.7/site-packages/sklearn/metrics/_classification.py:1318: UndefinedMetricWarning: Recall is ill-defined and being set to 0.0 in labels with no true samples. Use `zero_division` parameter to control this behavior.\n",
      "  _warn_prf(average, modifier, msg_start, len(result))\n",
      "/opt/conda/lib/python3.7/site-packages/sklearn/metrics/_classification.py:1318: UndefinedMetricWarning: Recall is ill-defined and being set to 0.0 in labels with no true samples. Use `zero_division` parameter to control this behavior.\n",
      "  _warn_prf(average, modifier, msg_start, len(result))\n",
      "/opt/conda/lib/python3.7/site-packages/sklearn/metrics/_classification.py:1318: UndefinedMetricWarning: Recall is ill-defined and being set to 0.0 in labels with no true samples. Use `zero_division` parameter to control this behavior.\n",
      "  _warn_prf(average, modifier, msg_start, len(result))\n",
      "/opt/conda/lib/python3.7/site-packages/sklearn/metrics/_classification.py:1318: UndefinedMetricWarning: Precision is ill-defined and being set to 0.0 in labels with no predicted samples. Use `zero_division` parameter to control this behavior.\n",
      "  _warn_prf(average, modifier, msg_start, len(result))\n",
      "/opt/conda/lib/python3.7/site-packages/sklearn/metrics/_classification.py:1318: UndefinedMetricWarning: Recall is ill-defined and being set to 0.0 in labels with no true samples. Use `zero_division` parameter to control this behavior.\n",
      "  _warn_prf(average, modifier, msg_start, len(result))\n",
      "/opt/conda/lib/python3.7/site-packages/sklearn/metrics/_classification.py:1318: UndefinedMetricWarning: Recall is ill-defined and being set to 0.0 in labels with no true samples. Use `zero_division` parameter to control this behavior.\n",
      "  _warn_prf(average, modifier, msg_start, len(result))\n",
      "/opt/conda/lib/python3.7/site-packages/sklearn/metrics/_classification.py:1318: UndefinedMetricWarning: Recall is ill-defined and being set to 0.0 in labels with no true samples. Use `zero_division` parameter to control this behavior.\n",
      "  _warn_prf(average, modifier, msg_start, len(result))\n",
      "/opt/conda/lib/python3.7/site-packages/sklearn/metrics/_classification.py:1318: UndefinedMetricWarning: Precision is ill-defined and being set to 0.0 in labels with no predicted samples. Use `zero_division` parameter to control this behavior.\n",
      "  _warn_prf(average, modifier, msg_start, len(result))\n",
      "/opt/conda/lib/python3.7/site-packages/sklearn/metrics/_classification.py:1318: UndefinedMetricWarning: Recall is ill-defined and being set to 0.0 in labels with no true samples. Use `zero_division` parameter to control this behavior.\n",
      "  _warn_prf(average, modifier, msg_start, len(result))\n",
      "/opt/conda/lib/python3.7/site-packages/sklearn/metrics/_classification.py:1318: UndefinedMetricWarning: Recall is ill-defined and being set to 0.0 in labels with no true samples. Use `zero_division` parameter to control this behavior.\n",
      "  _warn_prf(average, modifier, msg_start, len(result))\n",
      "/opt/conda/lib/python3.7/site-packages/sklearn/metrics/_classification.py:1318: UndefinedMetricWarning: Precision is ill-defined and being set to 0.0 in labels with no predicted samples. Use `zero_division` parameter to control this behavior.\n",
      "  _warn_prf(average, modifier, msg_start, len(result))\n",
      "/opt/conda/lib/python3.7/site-packages/sklearn/metrics/_classification.py:1318: UndefinedMetricWarning: Recall is ill-defined and being set to 0.0 in labels with no true samples. Use `zero_division` parameter to control this behavior.\n",
      "  _warn_prf(average, modifier, msg_start, len(result))\n",
      "/opt/conda/lib/python3.7/site-packages/sklearn/metrics/_classification.py:1318: UndefinedMetricWarning: Precision is ill-defined and being set to 0.0 in labels with no predicted samples. Use `zero_division` parameter to control this behavior.\n",
      "  _warn_prf(average, modifier, msg_start, len(result))\n",
      "/opt/conda/lib/python3.7/site-packages/sklearn/metrics/_classification.py:1318: UndefinedMetricWarning: Recall is ill-defined and being set to 0.0 in labels with no true samples. Use `zero_division` parameter to control this behavior.\n",
      "  _warn_prf(average, modifier, msg_start, len(result))\n",
      "/opt/conda/lib/python3.7/site-packages/sklearn/metrics/_classification.py:1318: UndefinedMetricWarning: Recall is ill-defined and being set to 0.0 in labels with no true samples. Use `zero_division` parameter to control this behavior.\n",
      "  _warn_prf(average, modifier, msg_start, len(result))\n",
      "/opt/conda/lib/python3.7/site-packages/sklearn/metrics/_classification.py:1318: UndefinedMetricWarning: Recall is ill-defined and being set to 0.0 in labels with no true samples. Use `zero_division` parameter to control this behavior.\n",
      "  _warn_prf(average, modifier, msg_start, len(result))\n",
      "/opt/conda/lib/python3.7/site-packages/sklearn/metrics/_classification.py:1318: UndefinedMetricWarning: Recall is ill-defined and being set to 0.0 in labels with no true samples. Use `zero_division` parameter to control this behavior.\n",
      "  _warn_prf(average, modifier, msg_start, len(result))\n",
      "/opt/conda/lib/python3.7/site-packages/sklearn/metrics/_classification.py:1318: UndefinedMetricWarning: Recall is ill-defined and being set to 0.0 in labels with no true samples. Use `zero_division` parameter to control this behavior.\n",
      "  _warn_prf(average, modifier, msg_start, len(result))\n",
      "/opt/conda/lib/python3.7/site-packages/sklearn/metrics/_classification.py:1318: UndefinedMetricWarning: Recall is ill-defined and being set to 0.0 in labels with no true samples. Use `zero_division` parameter to control this behavior.\n",
      "  _warn_prf(average, modifier, msg_start, len(result))\n",
      "/opt/conda/lib/python3.7/site-packages/sklearn/metrics/_classification.py:1318: UndefinedMetricWarning: Precision is ill-defined and being set to 0.0 in labels with no predicted samples. Use `zero_division` parameter to control this behavior.\n",
      "  _warn_prf(average, modifier, msg_start, len(result))\n",
      "/opt/conda/lib/python3.7/site-packages/sklearn/metrics/_classification.py:1318: UndefinedMetricWarning: Recall is ill-defined and being set to 0.0 in labels with no true samples. Use `zero_division` parameter to control this behavior.\n",
      "  _warn_prf(average, modifier, msg_start, len(result))\n",
      "/opt/conda/lib/python3.7/site-packages/sklearn/metrics/_classification.py:1318: UndefinedMetricWarning: Recall is ill-defined and being set to 0.0 in labels with no true samples. Use `zero_division` parameter to control this behavior.\n",
      "  _warn_prf(average, modifier, msg_start, len(result))\n",
      "/opt/conda/lib/python3.7/site-packages/sklearn/metrics/_classification.py:1318: UndefinedMetricWarning: Precision is ill-defined and being set to 0.0 in labels with no predicted samples. Use `zero_division` parameter to control this behavior.\n",
      "  _warn_prf(average, modifier, msg_start, len(result))\n",
      "/opt/conda/lib/python3.7/site-packages/sklearn/metrics/_classification.py:1318: UndefinedMetricWarning: Recall is ill-defined and being set to 0.0 in labels with no true samples. Use `zero_division` parameter to control this behavior.\n",
      "  _warn_prf(average, modifier, msg_start, len(result))\n",
      "/opt/conda/lib/python3.7/site-packages/sklearn/metrics/_classification.py:1318: UndefinedMetricWarning: Precision is ill-defined and being set to 0.0 in labels with no predicted samples. Use `zero_division` parameter to control this behavior.\n",
      "  _warn_prf(average, modifier, msg_start, len(result))\n",
      "/opt/conda/lib/python3.7/site-packages/sklearn/metrics/_classification.py:1318: UndefinedMetricWarning: Recall is ill-defined and being set to 0.0 in labels with no true samples. Use `zero_division` parameter to control this behavior.\n",
      "  _warn_prf(average, modifier, msg_start, len(result))\n",
      "/opt/conda/lib/python3.7/site-packages/sklearn/metrics/_classification.py:1318: UndefinedMetricWarning: Precision is ill-defined and being set to 0.0 in labels with no predicted samples. Use `zero_division` parameter to control this behavior.\n",
      "  _warn_prf(average, modifier, msg_start, len(result))\n",
      "/opt/conda/lib/python3.7/site-packages/sklearn/metrics/_classification.py:1318: UndefinedMetricWarning: Recall is ill-defined and being set to 0.0 in labels with no true samples. Use `zero_division` parameter to control this behavior.\n",
      "  _warn_prf(average, modifier, msg_start, len(result))\n",
      "/opt/conda/lib/python3.7/site-packages/sklearn/metrics/_classification.py:1318: UndefinedMetricWarning: Precision is ill-defined and being set to 0.0 in labels with no predicted samples. Use `zero_division` parameter to control this behavior.\n",
      "  _warn_prf(average, modifier, msg_start, len(result))\n",
      "/opt/conda/lib/python3.7/site-packages/sklearn/metrics/_classification.py:1318: UndefinedMetricWarning: Recall is ill-defined and being set to 0.0 in labels with no true samples. Use `zero_division` parameter to control this behavior.\n",
      "  _warn_prf(average, modifier, msg_start, len(result))\n",
      "/opt/conda/lib/python3.7/site-packages/sklearn/metrics/_classification.py:1318: UndefinedMetricWarning: Recall is ill-defined and being set to 0.0 in labels with no true samples. Use `zero_division` parameter to control this behavior.\n",
      "  _warn_prf(average, modifier, msg_start, len(result))\n",
      "/opt/conda/lib/python3.7/site-packages/sklearn/metrics/_classification.py:1318: UndefinedMetricWarning: Recall is ill-defined and being set to 0.0 in labels with no true samples. Use `zero_division` parameter to control this behavior.\n",
      "  _warn_prf(average, modifier, msg_start, len(result))\n",
      "/opt/conda/lib/python3.7/site-packages/sklearn/metrics/_classification.py:1318: UndefinedMetricWarning: Recall is ill-defined and being set to 0.0 in labels with no true samples. Use `zero_division` parameter to control this behavior.\n",
      "  _warn_prf(average, modifier, msg_start, len(result))\n",
      "/opt/conda/lib/python3.7/site-packages/sklearn/metrics/_classification.py:1318: UndefinedMetricWarning: Recall is ill-defined and being set to 0.0 in labels with no true samples. Use `zero_division` parameter to control this behavior.\n",
      "  _warn_prf(average, modifier, msg_start, len(result))\n",
      "/opt/conda/lib/python3.7/site-packages/sklearn/metrics/_classification.py:1318: UndefinedMetricWarning: Precision is ill-defined and being set to 0.0 in labels with no predicted samples. Use `zero_division` parameter to control this behavior.\n",
      "  _warn_prf(average, modifier, msg_start, len(result))\n",
      "/opt/conda/lib/python3.7/site-packages/sklearn/metrics/_classification.py:1318: UndefinedMetricWarning: Recall is ill-defined and being set to 0.0 in labels with no true samples. Use `zero_division` parameter to control this behavior.\n",
      "  _warn_prf(average, modifier, msg_start, len(result))\n",
      "/opt/conda/lib/python3.7/site-packages/sklearn/metrics/_classification.py:1318: UndefinedMetricWarning: Recall is ill-defined and being set to 0.0 in labels with no true samples. Use `zero_division` parameter to control this behavior.\n",
      "  _warn_prf(average, modifier, msg_start, len(result))\n",
      "/opt/conda/lib/python3.7/site-packages/sklearn/metrics/_classification.py:1318: UndefinedMetricWarning: Recall is ill-defined and being set to 0.0 in labels with no true samples. Use `zero_division` parameter to control this behavior.\n",
      "  _warn_prf(average, modifier, msg_start, len(result))\n",
      "/opt/conda/lib/python3.7/site-packages/sklearn/metrics/_classification.py:1318: UndefinedMetricWarning: Recall is ill-defined and being set to 0.0 in labels with no true samples. Use `zero_division` parameter to control this behavior.\n",
      "  _warn_prf(average, modifier, msg_start, len(result))\n",
      "/opt/conda/lib/python3.7/site-packages/sklearn/metrics/_classification.py:1318: UndefinedMetricWarning: Recall is ill-defined and being set to 0.0 in labels with no true samples. Use `zero_division` parameter to control this behavior.\n",
      "  _warn_prf(average, modifier, msg_start, len(result))\n",
      "/opt/conda/lib/python3.7/site-packages/sklearn/metrics/_classification.py:1318: UndefinedMetricWarning: Recall is ill-defined and being set to 0.0 in labels with no true samples. Use `zero_division` parameter to control this behavior.\n",
      "  _warn_prf(average, modifier, msg_start, len(result))\n",
      "/opt/conda/lib/python3.7/site-packages/sklearn/metrics/_classification.py:1318: UndefinedMetricWarning: Precision is ill-defined and being set to 0.0 in labels with no predicted samples. Use `zero_division` parameter to control this behavior.\n",
      "  _warn_prf(average, modifier, msg_start, len(result))\n",
      "/opt/conda/lib/python3.7/site-packages/sklearn/metrics/_classification.py:1318: UndefinedMetricWarning: Recall is ill-defined and being set to 0.0 in labels with no true samples. Use `zero_division` parameter to control this behavior.\n",
      "  _warn_prf(average, modifier, msg_start, len(result))\n",
      "/opt/conda/lib/python3.7/site-packages/sklearn/metrics/_classification.py:1318: UndefinedMetricWarning: Precision is ill-defined and being set to 0.0 in labels with no predicted samples. Use `zero_division` parameter to control this behavior.\n",
      "  _warn_prf(average, modifier, msg_start, len(result))\n",
      "/opt/conda/lib/python3.7/site-packages/sklearn/metrics/_classification.py:1318: UndefinedMetricWarning: Recall is ill-defined and being set to 0.0 in labels with no true samples. Use `zero_division` parameter to control this behavior.\n",
      "  _warn_prf(average, modifier, msg_start, len(result))\n",
      "/opt/conda/lib/python3.7/site-packages/sklearn/metrics/_classification.py:1318: UndefinedMetricWarning: Recall is ill-defined and being set to 0.0 in labels with no true samples. Use `zero_division` parameter to control this behavior.\n",
      "  _warn_prf(average, modifier, msg_start, len(result))\n",
      "/opt/conda/lib/python3.7/site-packages/sklearn/metrics/_classification.py:1318: UndefinedMetricWarning: Recall is ill-defined and being set to 0.0 in labels with no true samples. Use `zero_division` parameter to control this behavior.\n",
      "  _warn_prf(average, modifier, msg_start, len(result))\n",
      "/opt/conda/lib/python3.7/site-packages/sklearn/metrics/_classification.py:1318: UndefinedMetricWarning: Precision is ill-defined and being set to 0.0 in labels with no predicted samples. Use `zero_division` parameter to control this behavior.\n",
      "  _warn_prf(average, modifier, msg_start, len(result))\n",
      "/opt/conda/lib/python3.7/site-packages/sklearn/metrics/_classification.py:1318: UndefinedMetricWarning: Recall is ill-defined and being set to 0.0 in labels with no true samples. Use `zero_division` parameter to control this behavior.\n",
      "  _warn_prf(average, modifier, msg_start, len(result))\n",
      "/opt/conda/lib/python3.7/site-packages/sklearn/metrics/_classification.py:1318: UndefinedMetricWarning: Recall is ill-defined and being set to 0.0 in labels with no true samples. Use `zero_division` parameter to control this behavior.\n",
      "  _warn_prf(average, modifier, msg_start, len(result))\n",
      "/opt/conda/lib/python3.7/site-packages/sklearn/metrics/_classification.py:1318: UndefinedMetricWarning: Precision is ill-defined and being set to 0.0 in labels with no predicted samples. Use `zero_division` parameter to control this behavior.\n",
      "  _warn_prf(average, modifier, msg_start, len(result))\n",
      "/opt/conda/lib/python3.7/site-packages/sklearn/metrics/_classification.py:1318: UndefinedMetricWarning: Recall is ill-defined and being set to 0.0 in labels with no true samples. Use `zero_division` parameter to control this behavior.\n",
      "  _warn_prf(average, modifier, msg_start, len(result))\n",
      "/opt/conda/lib/python3.7/site-packages/sklearn/metrics/_classification.py:1318: UndefinedMetricWarning: Recall is ill-defined and being set to 0.0 in labels with no true samples. Use `zero_division` parameter to control this behavior.\n",
      "  _warn_prf(average, modifier, msg_start, len(result))\n",
      "/opt/conda/lib/python3.7/site-packages/sklearn/metrics/_classification.py:1318: UndefinedMetricWarning: Recall is ill-defined and being set to 0.0 in labels with no true samples. Use `zero_division` parameter to control this behavior.\n",
      "  _warn_prf(average, modifier, msg_start, len(result))\n",
      "/opt/conda/lib/python3.7/site-packages/sklearn/metrics/_classification.py:1318: UndefinedMetricWarning: Recall is ill-defined and being set to 0.0 in labels with no true samples. Use `zero_division` parameter to control this behavior.\n",
      "  _warn_prf(average, modifier, msg_start, len(result))\n",
      "/opt/conda/lib/python3.7/site-packages/sklearn/metrics/_classification.py:1318: UndefinedMetricWarning: Recall is ill-defined and being set to 0.0 in labels with no true samples. Use `zero_division` parameter to control this behavior.\n",
      "  _warn_prf(average, modifier, msg_start, len(result))\n",
      "/opt/conda/lib/python3.7/site-packages/sklearn/metrics/_classification.py:1318: UndefinedMetricWarning: Recall is ill-defined and being set to 0.0 in labels with no true samples. Use `zero_division` parameter to control this behavior.\n",
      "  _warn_prf(average, modifier, msg_start, len(result))\n",
      "/opt/conda/lib/python3.7/site-packages/sklearn/metrics/_classification.py:1318: UndefinedMetricWarning: Recall is ill-defined and being set to 0.0 in labels with no true samples. Use `zero_division` parameter to control this behavior.\n",
      "  _warn_prf(average, modifier, msg_start, len(result))\n",
      "/opt/conda/lib/python3.7/site-packages/sklearn/metrics/_classification.py:1318: UndefinedMetricWarning: Recall is ill-defined and being set to 0.0 in labels with no true samples. Use `zero_division` parameter to control this behavior.\n",
      "  _warn_prf(average, modifier, msg_start, len(result))\n",
      "/opt/conda/lib/python3.7/site-packages/sklearn/metrics/_classification.py:1318: UndefinedMetricWarning: Recall is ill-defined and being set to 0.0 in labels with no true samples. Use `zero_division` parameter to control this behavior.\n",
      "  _warn_prf(average, modifier, msg_start, len(result))\n",
      "/opt/conda/lib/python3.7/site-packages/sklearn/metrics/_classification.py:1318: UndefinedMetricWarning: Recall is ill-defined and being set to 0.0 in labels with no true samples. Use `zero_division` parameter to control this behavior.\n",
      "  _warn_prf(average, modifier, msg_start, len(result))\n",
      "/opt/conda/lib/python3.7/site-packages/sklearn/metrics/_classification.py:1318: UndefinedMetricWarning: Recall is ill-defined and being set to 0.0 in labels with no true samples. Use `zero_division` parameter to control this behavior.\n",
      "  _warn_prf(average, modifier, msg_start, len(result))\n",
      "/opt/conda/lib/python3.7/site-packages/sklearn/metrics/_classification.py:1318: UndefinedMetricWarning: Recall is ill-defined and being set to 0.0 in labels with no true samples. Use `zero_division` parameter to control this behavior.\n",
      "  _warn_prf(average, modifier, msg_start, len(result))\n",
      "/opt/conda/lib/python3.7/site-packages/sklearn/metrics/_classification.py:1318: UndefinedMetricWarning: Precision is ill-defined and being set to 0.0 in labels with no predicted samples. Use `zero_division` parameter to control this behavior.\n",
      "  _warn_prf(average, modifier, msg_start, len(result))\n",
      "/opt/conda/lib/python3.7/site-packages/sklearn/metrics/_classification.py:1318: UndefinedMetricWarning: Recall is ill-defined and being set to 0.0 in labels with no true samples. Use `zero_division` parameter to control this behavior.\n",
      "  _warn_prf(average, modifier, msg_start, len(result))\n",
      "/opt/conda/lib/python3.7/site-packages/sklearn/metrics/_classification.py:1318: UndefinedMetricWarning: Recall is ill-defined and being set to 0.0 in labels with no true samples. Use `zero_division` parameter to control this behavior.\n",
      "  _warn_prf(average, modifier, msg_start, len(result))\n",
      "/opt/conda/lib/python3.7/site-packages/sklearn/metrics/_classification.py:1318: UndefinedMetricWarning: Recall is ill-defined and being set to 0.0 in labels with no true samples. Use `zero_division` parameter to control this behavior.\n",
      "  _warn_prf(average, modifier, msg_start, len(result))\n",
      "/opt/conda/lib/python3.7/site-packages/sklearn/metrics/_classification.py:1318: UndefinedMetricWarning: Recall is ill-defined and being set to 0.0 in labels with no true samples. Use `zero_division` parameter to control this behavior.\n",
      "  _warn_prf(average, modifier, msg_start, len(result))\n",
      "/opt/conda/lib/python3.7/site-packages/sklearn/metrics/_classification.py:1318: UndefinedMetricWarning: Precision is ill-defined and being set to 0.0 in labels with no predicted samples. Use `zero_division` parameter to control this behavior.\n",
      "  _warn_prf(average, modifier, msg_start, len(result))\n",
      "/opt/conda/lib/python3.7/site-packages/sklearn/metrics/_classification.py:1318: UndefinedMetricWarning: Recall is ill-defined and being set to 0.0 in labels with no true samples. Use `zero_division` parameter to control this behavior.\n",
      "  _warn_prf(average, modifier, msg_start, len(result))\n",
      "/opt/conda/lib/python3.7/site-packages/sklearn/metrics/_classification.py:1318: UndefinedMetricWarning: Recall is ill-defined and being set to 0.0 in labels with no true samples. Use `zero_division` parameter to control this behavior.\n",
      "  _warn_prf(average, modifier, msg_start, len(result))\n",
      "/opt/conda/lib/python3.7/site-packages/sklearn/metrics/_classification.py:1318: UndefinedMetricWarning: Recall is ill-defined and being set to 0.0 in labels with no true samples. Use `zero_division` parameter to control this behavior.\n",
      "  _warn_prf(average, modifier, msg_start, len(result))\n",
      "/opt/conda/lib/python3.7/site-packages/sklearn/metrics/_classification.py:1318: UndefinedMetricWarning: Precision is ill-defined and being set to 0.0 in labels with no predicted samples. Use `zero_division` parameter to control this behavior.\n",
      "  _warn_prf(average, modifier, msg_start, len(result))\n",
      "/opt/conda/lib/python3.7/site-packages/sklearn/metrics/_classification.py:1318: UndefinedMetricWarning: Recall is ill-defined and being set to 0.0 in labels with no true samples. Use `zero_division` parameter to control this behavior.\n",
      "  _warn_prf(average, modifier, msg_start, len(result))\n",
      "/opt/conda/lib/python3.7/site-packages/sklearn/metrics/_classification.py:1318: UndefinedMetricWarning: Recall is ill-defined and being set to 0.0 in labels with no true samples. Use `zero_division` parameter to control this behavior.\n",
      "  _warn_prf(average, modifier, msg_start, len(result))\n",
      "/opt/conda/lib/python3.7/site-packages/sklearn/metrics/_classification.py:1318: UndefinedMetricWarning: Recall is ill-defined and being set to 0.0 in labels with no true samples. Use `zero_division` parameter to control this behavior.\n",
      "  _warn_prf(average, modifier, msg_start, len(result))\n",
      "/opt/conda/lib/python3.7/site-packages/sklearn/metrics/_classification.py:1318: UndefinedMetricWarning: Recall is ill-defined and being set to 0.0 in labels with no true samples. Use `zero_division` parameter to control this behavior.\n",
      "  _warn_prf(average, modifier, msg_start, len(result))\n",
      "/opt/conda/lib/python3.7/site-packages/sklearn/metrics/_classification.py:1318: UndefinedMetricWarning: Recall is ill-defined and being set to 0.0 in labels with no true samples. Use `zero_division` parameter to control this behavior.\n",
      "  _warn_prf(average, modifier, msg_start, len(result))\n",
      "/opt/conda/lib/python3.7/site-packages/sklearn/metrics/_classification.py:1318: UndefinedMetricWarning: Recall is ill-defined and being set to 0.0 in labels with no true samples. Use `zero_division` parameter to control this behavior.\n",
      "  _warn_prf(average, modifier, msg_start, len(result))\n",
      "/opt/conda/lib/python3.7/site-packages/sklearn/metrics/_classification.py:1318: UndefinedMetricWarning: Recall is ill-defined and being set to 0.0 in labels with no true samples. Use `zero_division` parameter to control this behavior.\n",
      "  _warn_prf(average, modifier, msg_start, len(result))\n",
      "/opt/conda/lib/python3.7/site-packages/sklearn/metrics/_classification.py:1318: UndefinedMetricWarning: Recall is ill-defined and being set to 0.0 in labels with no true samples. Use `zero_division` parameter to control this behavior.\n",
      "  _warn_prf(average, modifier, msg_start, len(result))\n",
      "/opt/conda/lib/python3.7/site-packages/sklearn/metrics/_classification.py:1318: UndefinedMetricWarning: Recall is ill-defined and being set to 0.0 in labels with no true samples. Use `zero_division` parameter to control this behavior.\n",
      "  _warn_prf(average, modifier, msg_start, len(result))\n",
      "/opt/conda/lib/python3.7/site-packages/sklearn/metrics/_classification.py:1318: UndefinedMetricWarning: Precision is ill-defined and being set to 0.0 in labels with no predicted samples. Use `zero_division` parameter to control this behavior.\n",
      "  _warn_prf(average, modifier, msg_start, len(result))\n",
      "/opt/conda/lib/python3.7/site-packages/sklearn/metrics/_classification.py:1318: UndefinedMetricWarning: Recall is ill-defined and being set to 0.0 in labels with no true samples. Use `zero_division` parameter to control this behavior.\n",
      "  _warn_prf(average, modifier, msg_start, len(result))\n",
      "/opt/conda/lib/python3.7/site-packages/sklearn/metrics/_classification.py:1318: UndefinedMetricWarning: Recall is ill-defined and being set to 0.0 in labels with no true samples. Use `zero_division` parameter to control this behavior.\n",
      "  _warn_prf(average, modifier, msg_start, len(result))\n",
      "/opt/conda/lib/python3.7/site-packages/sklearn/metrics/_classification.py:1318: UndefinedMetricWarning: Precision is ill-defined and being set to 0.0 in labels with no predicted samples. Use `zero_division` parameter to control this behavior.\n",
      "  _warn_prf(average, modifier, msg_start, len(result))\n",
      "/opt/conda/lib/python3.7/site-packages/sklearn/metrics/_classification.py:1318: UndefinedMetricWarning: Recall is ill-defined and being set to 0.0 in labels with no true samples. Use `zero_division` parameter to control this behavior.\n",
      "  _warn_prf(average, modifier, msg_start, len(result))\n",
      "/opt/conda/lib/python3.7/site-packages/sklearn/metrics/_classification.py:1318: UndefinedMetricWarning: Recall is ill-defined and being set to 0.0 in labels with no true samples. Use `zero_division` parameter to control this behavior.\n",
      "  _warn_prf(average, modifier, msg_start, len(result))\n",
      "/opt/conda/lib/python3.7/site-packages/sklearn/metrics/_classification.py:1318: UndefinedMetricWarning: Precision is ill-defined and being set to 0.0 in labels with no predicted samples. Use `zero_division` parameter to control this behavior.\n",
      "  _warn_prf(average, modifier, msg_start, len(result))\n",
      "/opt/conda/lib/python3.7/site-packages/sklearn/metrics/_classification.py:1318: UndefinedMetricWarning: Recall is ill-defined and being set to 0.0 in labels with no true samples. Use `zero_division` parameter to control this behavior.\n",
      "  _warn_prf(average, modifier, msg_start, len(result))\n",
      "/opt/conda/lib/python3.7/site-packages/sklearn/metrics/_classification.py:1318: UndefinedMetricWarning: Precision is ill-defined and being set to 0.0 in labels with no predicted samples. Use `zero_division` parameter to control this behavior.\n",
      "  _warn_prf(average, modifier, msg_start, len(result))\n",
      "/opt/conda/lib/python3.7/site-packages/sklearn/metrics/_classification.py:1318: UndefinedMetricWarning: Recall is ill-defined and being set to 0.0 in labels with no true samples. Use `zero_division` parameter to control this behavior.\n",
      "  _warn_prf(average, modifier, msg_start, len(result))\n",
      "/opt/conda/lib/python3.7/site-packages/sklearn/metrics/_classification.py:1318: UndefinedMetricWarning: Recall is ill-defined and being set to 0.0 in labels with no true samples. Use `zero_division` parameter to control this behavior.\n",
      "  _warn_prf(average, modifier, msg_start, len(result))\n",
      "/opt/conda/lib/python3.7/site-packages/sklearn/metrics/_classification.py:1318: UndefinedMetricWarning: Recall is ill-defined and being set to 0.0 in labels with no true samples. Use `zero_division` parameter to control this behavior.\n",
      "  _warn_prf(average, modifier, msg_start, len(result))\n",
      "/opt/conda/lib/python3.7/site-packages/sklearn/metrics/_classification.py:1318: UndefinedMetricWarning: Recall is ill-defined and being set to 0.0 in labels with no true samples. Use `zero_division` parameter to control this behavior.\n",
      "  _warn_prf(average, modifier, msg_start, len(result))\n",
      "/opt/conda/lib/python3.7/site-packages/sklearn/metrics/_classification.py:1318: UndefinedMetricWarning: Recall is ill-defined and being set to 0.0 in labels with no true samples. Use `zero_division` parameter to control this behavior.\n",
      "  _warn_prf(average, modifier, msg_start, len(result))\n",
      "/opt/conda/lib/python3.7/site-packages/sklearn/metrics/_classification.py:1318: UndefinedMetricWarning: Recall is ill-defined and being set to 0.0 in labels with no true samples. Use `zero_division` parameter to control this behavior.\n",
      "  _warn_prf(average, modifier, msg_start, len(result))\n",
      "/opt/conda/lib/python3.7/site-packages/sklearn/metrics/_classification.py:1318: UndefinedMetricWarning: Recall is ill-defined and being set to 0.0 in labels with no true samples. Use `zero_division` parameter to control this behavior.\n",
      "  _warn_prf(average, modifier, msg_start, len(result))\n",
      "/opt/conda/lib/python3.7/site-packages/sklearn/metrics/_classification.py:1318: UndefinedMetricWarning: Recall is ill-defined and being set to 0.0 in labels with no true samples. Use `zero_division` parameter to control this behavior.\n",
      "  _warn_prf(average, modifier, msg_start, len(result))\n",
      "/opt/conda/lib/python3.7/site-packages/sklearn/metrics/_classification.py:1318: UndefinedMetricWarning: Recall is ill-defined and being set to 0.0 in labels with no true samples. Use `zero_division` parameter to control this behavior.\n",
      "  _warn_prf(average, modifier, msg_start, len(result))\n",
      "/opt/conda/lib/python3.7/site-packages/sklearn/metrics/_classification.py:1318: UndefinedMetricWarning: Recall is ill-defined and being set to 0.0 in labels with no true samples. Use `zero_division` parameter to control this behavior.\n",
      "  _warn_prf(average, modifier, msg_start, len(result))\n",
      "/opt/conda/lib/python3.7/site-packages/sklearn/metrics/_classification.py:1318: UndefinedMetricWarning: Recall is ill-defined and being set to 0.0 in labels with no true samples. Use `zero_division` parameter to control this behavior.\n",
      "  _warn_prf(average, modifier, msg_start, len(result))\n",
      "/opt/conda/lib/python3.7/site-packages/sklearn/metrics/_classification.py:1318: UndefinedMetricWarning: Recall is ill-defined and being set to 0.0 in labels with no true samples. Use `zero_division` parameter to control this behavior.\n",
      "  _warn_prf(average, modifier, msg_start, len(result))\n",
      "/opt/conda/lib/python3.7/site-packages/sklearn/metrics/_classification.py:1318: UndefinedMetricWarning: Recall is ill-defined and being set to 0.0 in labels with no true samples. Use `zero_division` parameter to control this behavior.\n",
      "  _warn_prf(average, modifier, msg_start, len(result))\n",
      "/opt/conda/lib/python3.7/site-packages/sklearn/metrics/_classification.py:1318: UndefinedMetricWarning: Recall is ill-defined and being set to 0.0 in labels with no true samples. Use `zero_division` parameter to control this behavior.\n",
      "  _warn_prf(average, modifier, msg_start, len(result))\n",
      "/opt/conda/lib/python3.7/site-packages/sklearn/metrics/_classification.py:1318: UndefinedMetricWarning: Recall is ill-defined and being set to 0.0 in labels with no true samples. Use `zero_division` parameter to control this behavior.\n",
      "  _warn_prf(average, modifier, msg_start, len(result))\n",
      "/opt/conda/lib/python3.7/site-packages/sklearn/metrics/_classification.py:1318: UndefinedMetricWarning: Recall is ill-defined and being set to 0.0 in labels with no true samples. Use `zero_division` parameter to control this behavior.\n",
      "  _warn_prf(average, modifier, msg_start, len(result))\n",
      "/opt/conda/lib/python3.7/site-packages/sklearn/metrics/_classification.py:1318: UndefinedMetricWarning: Recall is ill-defined and being set to 0.0 in labels with no true samples. Use `zero_division` parameter to control this behavior.\n",
      "  _warn_prf(average, modifier, msg_start, len(result))\n",
      "/opt/conda/lib/python3.7/site-packages/sklearn/metrics/_classification.py:1318: UndefinedMetricWarning: Recall is ill-defined and being set to 0.0 in labels with no true samples. Use `zero_division` parameter to control this behavior.\n",
      "  _warn_prf(average, modifier, msg_start, len(result))\n",
      "/opt/conda/lib/python3.7/site-packages/sklearn/metrics/_classification.py:1318: UndefinedMetricWarning: Recall is ill-defined and being set to 0.0 in labels with no true samples. Use `zero_division` parameter to control this behavior.\n",
      "  _warn_prf(average, modifier, msg_start, len(result))\n",
      "/opt/conda/lib/python3.7/site-packages/sklearn/metrics/_classification.py:1318: UndefinedMetricWarning: Precision is ill-defined and being set to 0.0 in labels with no predicted samples. Use `zero_division` parameter to control this behavior.\n",
      "  _warn_prf(average, modifier, msg_start, len(result))\n",
      "/opt/conda/lib/python3.7/site-packages/sklearn/metrics/_classification.py:1318: UndefinedMetricWarning: Recall is ill-defined and being set to 0.0 in labels with no true samples. Use `zero_division` parameter to control this behavior.\n",
      "  _warn_prf(average, modifier, msg_start, len(result))\n",
      "/opt/conda/lib/python3.7/site-packages/sklearn/metrics/_classification.py:1318: UndefinedMetricWarning: Precision is ill-defined and being set to 0.0 in labels with no predicted samples. Use `zero_division` parameter to control this behavior.\n",
      "  _warn_prf(average, modifier, msg_start, len(result))\n",
      "/opt/conda/lib/python3.7/site-packages/sklearn/metrics/_classification.py:1318: UndefinedMetricWarning: Recall is ill-defined and being set to 0.0 in labels with no true samples. Use `zero_division` parameter to control this behavior.\n",
      "  _warn_prf(average, modifier, msg_start, len(result))\n",
      "/opt/conda/lib/python3.7/site-packages/sklearn/metrics/_classification.py:1318: UndefinedMetricWarning: Recall is ill-defined and being set to 0.0 in labels with no true samples. Use `zero_division` parameter to control this behavior.\n",
      "  _warn_prf(average, modifier, msg_start, len(result))\n",
      "/opt/conda/lib/python3.7/site-packages/sklearn/metrics/_classification.py:1318: UndefinedMetricWarning: Recall is ill-defined and being set to 0.0 in labels with no true samples. Use `zero_division` parameter to control this behavior.\n",
      "  _warn_prf(average, modifier, msg_start, len(result))\n",
      "/opt/conda/lib/python3.7/site-packages/sklearn/metrics/_classification.py:1318: UndefinedMetricWarning: Recall is ill-defined and being set to 0.0 in labels with no true samples. Use `zero_division` parameter to control this behavior.\n",
      "  _warn_prf(average, modifier, msg_start, len(result))\n",
      "/opt/conda/lib/python3.7/site-packages/sklearn/metrics/_classification.py:1318: UndefinedMetricWarning: Recall is ill-defined and being set to 0.0 in labels with no true samples. Use `zero_division` parameter to control this behavior.\n",
      "  _warn_prf(average, modifier, msg_start, len(result))\n",
      "/opt/conda/lib/python3.7/site-packages/sklearn/metrics/_classification.py:1318: UndefinedMetricWarning: Recall is ill-defined and being set to 0.0 in labels with no true samples. Use `zero_division` parameter to control this behavior.\n",
      "  _warn_prf(average, modifier, msg_start, len(result))\n",
      "/opt/conda/lib/python3.7/site-packages/sklearn/metrics/_classification.py:1318: UndefinedMetricWarning: Recall is ill-defined and being set to 0.0 in labels with no true samples. Use `zero_division` parameter to control this behavior.\n",
      "  _warn_prf(average, modifier, msg_start, len(result))\n",
      "/opt/conda/lib/python3.7/site-packages/sklearn/metrics/_classification.py:1318: UndefinedMetricWarning: Recall is ill-defined and being set to 0.0 in labels with no true samples. Use `zero_division` parameter to control this behavior.\n",
      "  _warn_prf(average, modifier, msg_start, len(result))\n",
      "/opt/conda/lib/python3.7/site-packages/sklearn/metrics/_classification.py:1318: UndefinedMetricWarning: Precision is ill-defined and being set to 0.0 in labels with no predicted samples. Use `zero_division` parameter to control this behavior.\n",
      "  _warn_prf(average, modifier, msg_start, len(result))\n",
      "/opt/conda/lib/python3.7/site-packages/sklearn/metrics/_classification.py:1318: UndefinedMetricWarning: Recall is ill-defined and being set to 0.0 in labels with no true samples. Use `zero_division` parameter to control this behavior.\n",
      "  _warn_prf(average, modifier, msg_start, len(result))\n",
      "/opt/conda/lib/python3.7/site-packages/sklearn/metrics/_classification.py:1318: UndefinedMetricWarning: Recall is ill-defined and being set to 0.0 in labels with no true samples. Use `zero_division` parameter to control this behavior.\n",
      "  _warn_prf(average, modifier, msg_start, len(result))\n",
      "/opt/conda/lib/python3.7/site-packages/sklearn/metrics/_classification.py:1318: UndefinedMetricWarning: Recall is ill-defined and being set to 0.0 in labels with no true samples. Use `zero_division` parameter to control this behavior.\n",
      "  _warn_prf(average, modifier, msg_start, len(result))\n",
      "/opt/conda/lib/python3.7/site-packages/sklearn/metrics/_classification.py:1318: UndefinedMetricWarning: Recall is ill-defined and being set to 0.0 in labels with no true samples. Use `zero_division` parameter to control this behavior.\n",
      "  _warn_prf(average, modifier, msg_start, len(result))\n",
      "/opt/conda/lib/python3.7/site-packages/sklearn/metrics/_classification.py:1318: UndefinedMetricWarning: Recall is ill-defined and being set to 0.0 in labels with no true samples. Use `zero_division` parameter to control this behavior.\n",
      "  _warn_prf(average, modifier, msg_start, len(result))\n",
      "/opt/conda/lib/python3.7/site-packages/sklearn/metrics/_classification.py:1318: UndefinedMetricWarning: Recall is ill-defined and being set to 0.0 in labels with no true samples. Use `zero_division` parameter to control this behavior.\n",
      "  _warn_prf(average, modifier, msg_start, len(result))\n",
      "/opt/conda/lib/python3.7/site-packages/sklearn/metrics/_classification.py:1318: UndefinedMetricWarning: Recall is ill-defined and being set to 0.0 in labels with no true samples. Use `zero_division` parameter to control this behavior.\n",
      "  _warn_prf(average, modifier, msg_start, len(result))\n",
      "/opt/conda/lib/python3.7/site-packages/sklearn/metrics/_classification.py:1318: UndefinedMetricWarning: Recall is ill-defined and being set to 0.0 in labels with no true samples. Use `zero_division` parameter to control this behavior.\n",
      "  _warn_prf(average, modifier, msg_start, len(result))\n",
      "/opt/conda/lib/python3.7/site-packages/sklearn/metrics/_classification.py:1318: UndefinedMetricWarning: Recall is ill-defined and being set to 0.0 in labels with no true samples. Use `zero_division` parameter to control this behavior.\n",
      "  _warn_prf(average, modifier, msg_start, len(result))\n",
      "/opt/conda/lib/python3.7/site-packages/sklearn/metrics/_classification.py:1318: UndefinedMetricWarning: Recall is ill-defined and being set to 0.0 in labels with no true samples. Use `zero_division` parameter to control this behavior.\n",
      "  _warn_prf(average, modifier, msg_start, len(result))\n",
      "/opt/conda/lib/python3.7/site-packages/sklearn/metrics/_classification.py:1318: UndefinedMetricWarning: Precision is ill-defined and being set to 0.0 in labels with no predicted samples. Use `zero_division` parameter to control this behavior.\n",
      "  _warn_prf(average, modifier, msg_start, len(result))\n",
      "/opt/conda/lib/python3.7/site-packages/sklearn/metrics/_classification.py:1318: UndefinedMetricWarning: Recall is ill-defined and being set to 0.0 in labels with no true samples. Use `zero_division` parameter to control this behavior.\n",
      "  _warn_prf(average, modifier, msg_start, len(result))\n",
      "/opt/conda/lib/python3.7/site-packages/sklearn/metrics/_classification.py:1318: UndefinedMetricWarning: Recall is ill-defined and being set to 0.0 in labels with no true samples. Use `zero_division` parameter to control this behavior.\n",
      "  _warn_prf(average, modifier, msg_start, len(result))\n",
      "/opt/conda/lib/python3.7/site-packages/sklearn/metrics/_classification.py:1318: UndefinedMetricWarning: Recall is ill-defined and being set to 0.0 in labels with no true samples. Use `zero_division` parameter to control this behavior.\n",
      "  _warn_prf(average, modifier, msg_start, len(result))\n",
      "/opt/conda/lib/python3.7/site-packages/sklearn/metrics/_classification.py:1318: UndefinedMetricWarning: Recall is ill-defined and being set to 0.0 in labels with no true samples. Use `zero_division` parameter to control this behavior.\n",
      "  _warn_prf(average, modifier, msg_start, len(result))\n",
      "/opt/conda/lib/python3.7/site-packages/sklearn/metrics/_classification.py:1318: UndefinedMetricWarning: Recall is ill-defined and being set to 0.0 in labels with no true samples. Use `zero_division` parameter to control this behavior.\n",
      "  _warn_prf(average, modifier, msg_start, len(result))\n",
      "/opt/conda/lib/python3.7/site-packages/sklearn/metrics/_classification.py:1318: UndefinedMetricWarning: Precision is ill-defined and being set to 0.0 in labels with no predicted samples. Use `zero_division` parameter to control this behavior.\n",
      "  _warn_prf(average, modifier, msg_start, len(result))\n",
      "/opt/conda/lib/python3.7/site-packages/sklearn/metrics/_classification.py:1318: UndefinedMetricWarning: Recall is ill-defined and being set to 0.0 in labels with no true samples. Use `zero_division` parameter to control this behavior.\n",
      "  _warn_prf(average, modifier, msg_start, len(result))\n",
      "/opt/conda/lib/python3.7/site-packages/sklearn/metrics/_classification.py:1318: UndefinedMetricWarning: Recall is ill-defined and being set to 0.0 in labels with no true samples. Use `zero_division` parameter to control this behavior.\n",
      "  _warn_prf(average, modifier, msg_start, len(result))\n",
      "/opt/conda/lib/python3.7/site-packages/sklearn/metrics/_classification.py:1318: UndefinedMetricWarning: Recall is ill-defined and being set to 0.0 in labels with no true samples. Use `zero_division` parameter to control this behavior.\n",
      "  _warn_prf(average, modifier, msg_start, len(result))\n",
      "/opt/conda/lib/python3.7/site-packages/sklearn/metrics/_classification.py:1318: UndefinedMetricWarning: Precision is ill-defined and being set to 0.0 in labels with no predicted samples. Use `zero_division` parameter to control this behavior.\n",
      "  _warn_prf(average, modifier, msg_start, len(result))\n",
      "/opt/conda/lib/python3.7/site-packages/sklearn/metrics/_classification.py:1318: UndefinedMetricWarning: Recall is ill-defined and being set to 0.0 in labels with no true samples. Use `zero_division` parameter to control this behavior.\n",
      "  _warn_prf(average, modifier, msg_start, len(result))\n",
      "/opt/conda/lib/python3.7/site-packages/sklearn/metrics/_classification.py:1318: UndefinedMetricWarning: Recall is ill-defined and being set to 0.0 in labels with no true samples. Use `zero_division` parameter to control this behavior.\n",
      "  _warn_prf(average, modifier, msg_start, len(result))\n",
      "/opt/conda/lib/python3.7/site-packages/sklearn/metrics/_classification.py:1318: UndefinedMetricWarning: Precision is ill-defined and being set to 0.0 in labels with no predicted samples. Use `zero_division` parameter to control this behavior.\n",
      "  _warn_prf(average, modifier, msg_start, len(result))\n",
      "/opt/conda/lib/python3.7/site-packages/sklearn/metrics/_classification.py:1318: UndefinedMetricWarning: Recall is ill-defined and being set to 0.0 in labels with no true samples. Use `zero_division` parameter to control this behavior.\n",
      "  _warn_prf(average, modifier, msg_start, len(result))\n",
      "/opt/conda/lib/python3.7/site-packages/sklearn/metrics/_classification.py:1318: UndefinedMetricWarning: Recall is ill-defined and being set to 0.0 in labels with no true samples. Use `zero_division` parameter to control this behavior.\n",
      "  _warn_prf(average, modifier, msg_start, len(result))\n",
      "/opt/conda/lib/python3.7/site-packages/sklearn/metrics/_classification.py:1318: UndefinedMetricWarning: Precision is ill-defined and being set to 0.0 in labels with no predicted samples. Use `zero_division` parameter to control this behavior.\n",
      "  _warn_prf(average, modifier, msg_start, len(result))\n",
      "/opt/conda/lib/python3.7/site-packages/sklearn/metrics/_classification.py:1318: UndefinedMetricWarning: Recall is ill-defined and being set to 0.0 in labels with no true samples. Use `zero_division` parameter to control this behavior.\n",
      "  _warn_prf(average, modifier, msg_start, len(result))\n",
      "/opt/conda/lib/python3.7/site-packages/sklearn/metrics/_classification.py:1318: UndefinedMetricWarning: Recall is ill-defined and being set to 0.0 in labels with no true samples. Use `zero_division` parameter to control this behavior.\n",
      "  _warn_prf(average, modifier, msg_start, len(result))\n",
      "/opt/conda/lib/python3.7/site-packages/sklearn/metrics/_classification.py:1318: UndefinedMetricWarning: Precision is ill-defined and being set to 0.0 in labels with no predicted samples. Use `zero_division` parameter to control this behavior.\n",
      "  _warn_prf(average, modifier, msg_start, len(result))\n",
      "/opt/conda/lib/python3.7/site-packages/sklearn/metrics/_classification.py:1318: UndefinedMetricWarning: Recall is ill-defined and being set to 0.0 in labels with no true samples. Use `zero_division` parameter to control this behavior.\n",
      "  _warn_prf(average, modifier, msg_start, len(result))\n",
      "/opt/conda/lib/python3.7/site-packages/sklearn/metrics/_classification.py:1318: UndefinedMetricWarning: Recall is ill-defined and being set to 0.0 in labels with no true samples. Use `zero_division` parameter to control this behavior.\n",
      "  _warn_prf(average, modifier, msg_start, len(result))\n",
      "/opt/conda/lib/python3.7/site-packages/sklearn/metrics/_classification.py:1318: UndefinedMetricWarning: Precision is ill-defined and being set to 0.0 in labels with no predicted samples. Use `zero_division` parameter to control this behavior.\n",
      "  _warn_prf(average, modifier, msg_start, len(result))\n",
      "/opt/conda/lib/python3.7/site-packages/sklearn/metrics/_classification.py:1318: UndefinedMetricWarning: Recall is ill-defined and being set to 0.0 in labels with no true samples. Use `zero_division` parameter to control this behavior.\n",
      "  _warn_prf(average, modifier, msg_start, len(result))\n",
      "/opt/conda/lib/python3.7/site-packages/sklearn/metrics/_classification.py:1318: UndefinedMetricWarning: Recall is ill-defined and being set to 0.0 in labels with no true samples. Use `zero_division` parameter to control this behavior.\n",
      "  _warn_prf(average, modifier, msg_start, len(result))\n",
      "/opt/conda/lib/python3.7/site-packages/sklearn/metrics/_classification.py:1318: UndefinedMetricWarning: Recall is ill-defined and being set to 0.0 in labels with no true samples. Use `zero_division` parameter to control this behavior.\n",
      "  _warn_prf(average, modifier, msg_start, len(result))\n",
      "/opt/conda/lib/python3.7/site-packages/sklearn/metrics/_classification.py:1318: UndefinedMetricWarning: Recall is ill-defined and being set to 0.0 in labels with no true samples. Use `zero_division` parameter to control this behavior.\n",
      "  _warn_prf(average, modifier, msg_start, len(result))\n",
      "/opt/conda/lib/python3.7/site-packages/sklearn/metrics/_classification.py:1318: UndefinedMetricWarning: Precision is ill-defined and being set to 0.0 in labels with no predicted samples. Use `zero_division` parameter to control this behavior.\n",
      "  _warn_prf(average, modifier, msg_start, len(result))\n"
     ]
    }
   ],
   "source": [
    "query_indexes = list(range(0, test_images.shape[0]))\n",
    "class_builder = {label_unique:[] for label_unique in labels}\n",
    "recalls = copy.deepcopy(class_builder)\n",
    "precisions = copy.deepcopy(class_builder)\n",
    "# loop over the testing indexes\n",
    "for i in query_indexes:\n",
    "    queryFeatures = features_retrieved[i]\n",
    "    results = perform_search(queryFeatures, training_indexed, max_results=5)\n",
    "    labels_ret = [training_indexed[\"labels\"][r[1]] for r in results]\n",
    "    label_true = test_labels[i]\n",
    "    label_trues = [label_true for _ in labels_ret]\n",
    "    recall = metric.recall_score(label_trues, labels_ret, average='weighted')\n",
    "    precision = metric.precision_score(label_trues, labels_ret, average='weighted')\n",
    "    recalls[label_true].append(recall)\n",
    "    precisions[label_true].append(precision)"
   ]
  },
  {
   "cell_type": "markdown",
   "id": "bc880124",
   "metadata": {
    "id": "UA6W88ki8SLP",
    "papermill": {
     "duration": 0.116968,
     "end_time": "2023-04-09T14:12:22.561199",
     "exception": false,
     "start_time": "2023-04-09T14:12:22.444231",
     "status": "completed"
    },
    "tags": []
   },
   "source": [
    "## Print the recall and precision values"
   ]
  },
  {
   "cell_type": "code",
   "execution_count": 22,
   "id": "87df89b3",
   "metadata": {
    "execution": {
     "iopub.execute_input": "2023-04-09T14:12:22.795921Z",
     "iopub.status.busy": "2023-04-09T14:12:22.795273Z",
     "iopub.status.idle": "2023-04-09T14:12:22.806706Z",
     "shell.execute_reply": "2023-04-09T14:12:22.805712Z"
    },
    "executionInfo": {
     "elapsed": 14,
     "status": "ok",
     "timestamp": 1634460101651,
     "user": {
      "displayName": "Kharisma Muzaki Ghufron",
      "photoUrl": "https://lh3.googleusercontent.com/a/default-user=s64",
      "userId": "14730718725881384856"
     },
     "user_tz": -420
    },
    "id": "1ViD6suW8WnW",
    "outputId": "46c8b7ff-e926-43eb-f7a3-77752c4dedbb",
    "papermill": {
     "duration": 0.131492,
     "end_time": "2023-04-09T14:12:22.809270",
     "exception": false,
     "start_time": "2023-04-09T14:12:22.677778",
     "status": "completed"
    },
    "tags": []
   },
   "outputs": [
    {
     "name": "stdout",
     "output_type": "stream",
     "text": [
      "recall values:\n",
      "tubular_adenoma 0.4153846153846154\n",
      "phyllodes_tumor 0.23636363636363636\n",
      "papillary_carcinoma 0.15714285714285717\n",
      "mucinous_carcinoma 0.3411764705882353\n",
      "lobular_carcinoma 0.39999999999999997\n",
      "fibroadenoma 0.4956521739130434\n",
      "ductal_carcinoma 0.6405063291139241\n",
      "adenosis 0.4\n",
      "combined recall 0.385778260313289\n",
      "\n",
      "precision values:\n",
      "tubular_adenoma 0.6923076923076923\n",
      "phyllodes_tumor 0.5454545454545454\n",
      "papillary_carcinoma 0.7142857142857143\n",
      "mucinous_carcinoma 0.6470588235294118\n",
      "lobular_carcinoma 0.5\n",
      "fibroadenoma 0.8260869565217391\n",
      "ductal_carcinoma 0.9367088607594937\n",
      "adenosis 0.7272727272727273\n",
      "combined precision 0.6986469150164155\n"
     ]
    }
   ],
   "source": [
    "print(\"recall values:\")\n",
    "comb_recall, comb_precision = [], []\n",
    "for key in recalls.keys():\n",
    "    average_val = np.average(recalls[key])\n",
    "    print(key, average_val)\n",
    "    comb_recall.append(average_val)\n",
    "print(\"combined recall\", np.average(comb_recall))\n",
    "\n",
    "print(\"\\nprecision values:\")\n",
    "for key in precisions.keys():\n",
    "    average_val = np.average(precisions[key])\n",
    "    print(key, average_val)\n",
    "    comb_precision.append(average_val)\n",
    "print(\"combined precision\", np.average(comb_precision))"
   ]
  },
  {
   "cell_type": "code",
   "execution_count": null,
   "id": "e561a537",
   "metadata": {
    "executionInfo": {
     "elapsed": 25,
     "status": "ok",
     "timestamp": 1634460101665,
     "user": {
      "displayName": "Kharisma Muzaki Ghufron",
      "photoUrl": "https://lh3.googleusercontent.com/a/default-user=s64",
      "userId": "14730718725881384856"
     },
     "user_tz": -420
    },
    "id": "sCxOAAUTwG7D",
    "papermill": {
     "duration": 0.114946,
     "end_time": "2023-04-09T14:12:23.047979",
     "exception": false,
     "start_time": "2023-04-09T14:12:22.933033",
     "status": "completed"
    },
    "tags": []
   },
   "outputs": [],
   "source": []
  }
 ],
 "metadata": {
  "kernelspec": {
   "display_name": "Python 3",
   "language": "python",
   "name": "python3"
  },
  "language_info": {
   "codemirror_mode": {
    "name": "ipython",
    "version": 3
   },
   "file_extension": ".py",
   "mimetype": "text/x-python",
   "name": "python",
   "nbconvert_exporter": "python",
   "pygments_lexer": "ipython3",
   "version": "3.7.12"
  },
  "papermill": {
   "default_parameters": {},
   "duration": 281.040504,
   "end_time": "2023-04-09T14:12:26.935238",
   "environment_variables": {},
   "exception": null,
   "input_path": "__notebook__.ipynb",
   "output_path": "__notebook__.ipynb",
   "parameters": {},
   "start_time": "2023-04-09T14:07:45.894734",
   "version": "2.4.0"
  }
 },
 "nbformat": 4,
 "nbformat_minor": 5
}
